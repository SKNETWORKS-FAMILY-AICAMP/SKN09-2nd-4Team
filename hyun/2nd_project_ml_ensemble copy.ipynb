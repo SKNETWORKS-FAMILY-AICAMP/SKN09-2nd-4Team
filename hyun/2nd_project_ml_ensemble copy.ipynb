{
 "cells": [
  {
   "cell_type": "markdown",
   "metadata": {},
   "source": [
    "# 주제선정: ABC 다국적 은행의 가입고객 이탈예측"
   ]
  },
  {
   "cell_type": "code",
   "execution_count": 27,
   "metadata": {},
   "outputs": [
    {
     "data": {
      "text/html": [
       "<div>\n",
       "<style scoped>\n",
       "    .dataframe tbody tr th:only-of-type {\n",
       "        vertical-align: middle;\n",
       "    }\n",
       "\n",
       "    .dataframe tbody tr th {\n",
       "        vertical-align: top;\n",
       "    }\n",
       "\n",
       "    .dataframe thead th {\n",
       "        text-align: right;\n",
       "    }\n",
       "</style>\n",
       "<table border=\"1\" class=\"dataframe\">\n",
       "  <thead>\n",
       "    <tr style=\"text-align: right;\">\n",
       "      <th></th>\n",
       "      <th>credit_score</th>\n",
       "      <th>country</th>\n",
       "      <th>gender</th>\n",
       "      <th>age</th>\n",
       "      <th>tenure</th>\n",
       "      <th>balance</th>\n",
       "      <th>products_number</th>\n",
       "      <th>credit_card</th>\n",
       "      <th>active_member</th>\n",
       "      <th>estimated_salary</th>\n",
       "      <th>churn</th>\n",
       "    </tr>\n",
       "  </thead>\n",
       "  <tbody>\n",
       "    <tr>\n",
       "      <th>0</th>\n",
       "      <td>619</td>\n",
       "      <td>0</td>\n",
       "      <td>1</td>\n",
       "      <td>42</td>\n",
       "      <td>2</td>\n",
       "      <td>0.00</td>\n",
       "      <td>1</td>\n",
       "      <td>1</td>\n",
       "      <td>1</td>\n",
       "      <td>101348.88</td>\n",
       "      <td>1</td>\n",
       "    </tr>\n",
       "    <tr>\n",
       "      <th>1</th>\n",
       "      <td>608</td>\n",
       "      <td>2</td>\n",
       "      <td>1</td>\n",
       "      <td>41</td>\n",
       "      <td>1</td>\n",
       "      <td>83807.86</td>\n",
       "      <td>1</td>\n",
       "      <td>0</td>\n",
       "      <td>1</td>\n",
       "      <td>112542.58</td>\n",
       "      <td>0</td>\n",
       "    </tr>\n",
       "    <tr>\n",
       "      <th>2</th>\n",
       "      <td>502</td>\n",
       "      <td>0</td>\n",
       "      <td>1</td>\n",
       "      <td>42</td>\n",
       "      <td>8</td>\n",
       "      <td>159660.80</td>\n",
       "      <td>3</td>\n",
       "      <td>1</td>\n",
       "      <td>0</td>\n",
       "      <td>113931.57</td>\n",
       "      <td>1</td>\n",
       "    </tr>\n",
       "    <tr>\n",
       "      <th>3</th>\n",
       "      <td>699</td>\n",
       "      <td>0</td>\n",
       "      <td>1</td>\n",
       "      <td>39</td>\n",
       "      <td>1</td>\n",
       "      <td>0.00</td>\n",
       "      <td>2</td>\n",
       "      <td>0</td>\n",
       "      <td>0</td>\n",
       "      <td>93826.63</td>\n",
       "      <td>0</td>\n",
       "    </tr>\n",
       "    <tr>\n",
       "      <th>4</th>\n",
       "      <td>850</td>\n",
       "      <td>2</td>\n",
       "      <td>1</td>\n",
       "      <td>43</td>\n",
       "      <td>2</td>\n",
       "      <td>125510.82</td>\n",
       "      <td>1</td>\n",
       "      <td>1</td>\n",
       "      <td>1</td>\n",
       "      <td>79084.10</td>\n",
       "      <td>0</td>\n",
       "    </tr>\n",
       "    <tr>\n",
       "      <th>...</th>\n",
       "      <td>...</td>\n",
       "      <td>...</td>\n",
       "      <td>...</td>\n",
       "      <td>...</td>\n",
       "      <td>...</td>\n",
       "      <td>...</td>\n",
       "      <td>...</td>\n",
       "      <td>...</td>\n",
       "      <td>...</td>\n",
       "      <td>...</td>\n",
       "      <td>...</td>\n",
       "    </tr>\n",
       "    <tr>\n",
       "      <th>9995</th>\n",
       "      <td>771</td>\n",
       "      <td>0</td>\n",
       "      <td>0</td>\n",
       "      <td>39</td>\n",
       "      <td>5</td>\n",
       "      <td>0.00</td>\n",
       "      <td>2</td>\n",
       "      <td>1</td>\n",
       "      <td>0</td>\n",
       "      <td>96270.64</td>\n",
       "      <td>0</td>\n",
       "    </tr>\n",
       "    <tr>\n",
       "      <th>9996</th>\n",
       "      <td>516</td>\n",
       "      <td>0</td>\n",
       "      <td>0</td>\n",
       "      <td>35</td>\n",
       "      <td>10</td>\n",
       "      <td>57369.61</td>\n",
       "      <td>1</td>\n",
       "      <td>1</td>\n",
       "      <td>1</td>\n",
       "      <td>101699.77</td>\n",
       "      <td>0</td>\n",
       "    </tr>\n",
       "    <tr>\n",
       "      <th>9997</th>\n",
       "      <td>709</td>\n",
       "      <td>0</td>\n",
       "      <td>1</td>\n",
       "      <td>36</td>\n",
       "      <td>7</td>\n",
       "      <td>0.00</td>\n",
       "      <td>1</td>\n",
       "      <td>0</td>\n",
       "      <td>1</td>\n",
       "      <td>42085.58</td>\n",
       "      <td>1</td>\n",
       "    </tr>\n",
       "    <tr>\n",
       "      <th>9998</th>\n",
       "      <td>772</td>\n",
       "      <td>1</td>\n",
       "      <td>0</td>\n",
       "      <td>42</td>\n",
       "      <td>3</td>\n",
       "      <td>75075.31</td>\n",
       "      <td>2</td>\n",
       "      <td>1</td>\n",
       "      <td>0</td>\n",
       "      <td>92888.52</td>\n",
       "      <td>1</td>\n",
       "    </tr>\n",
       "    <tr>\n",
       "      <th>9999</th>\n",
       "      <td>792</td>\n",
       "      <td>0</td>\n",
       "      <td>1</td>\n",
       "      <td>28</td>\n",
       "      <td>4</td>\n",
       "      <td>130142.79</td>\n",
       "      <td>1</td>\n",
       "      <td>1</td>\n",
       "      <td>0</td>\n",
       "      <td>38190.78</td>\n",
       "      <td>0</td>\n",
       "    </tr>\n",
       "  </tbody>\n",
       "</table>\n",
       "<p>10000 rows × 11 columns</p>\n",
       "</div>"
      ],
      "text/plain": [
       "      credit_score  country  gender  age  tenure    balance  products_number  \\\n",
       "0              619        0       1   42       2       0.00                1   \n",
       "1              608        2       1   41       1   83807.86                1   \n",
       "2              502        0       1   42       8  159660.80                3   \n",
       "3              699        0       1   39       1       0.00                2   \n",
       "4              850        2       1   43       2  125510.82                1   \n",
       "...            ...      ...     ...  ...     ...        ...              ...   \n",
       "9995           771        0       0   39       5       0.00                2   \n",
       "9996           516        0       0   35      10   57369.61                1   \n",
       "9997           709        0       1   36       7       0.00                1   \n",
       "9998           772        1       0   42       3   75075.31                2   \n",
       "9999           792        0       1   28       4  130142.79                1   \n",
       "\n",
       "      credit_card  active_member  estimated_salary  churn  \n",
       "0               1              1         101348.88      1  \n",
       "1               0              1         112542.58      0  \n",
       "2               1              0         113931.57      1  \n",
       "3               0              0          93826.63      0  \n",
       "4               1              1          79084.10      0  \n",
       "...           ...            ...               ...    ...  \n",
       "9995            1              0          96270.64      0  \n",
       "9996            1              1         101699.77      0  \n",
       "9997            0              1          42085.58      1  \n",
       "9998            1              0          92888.52      1  \n",
       "9999            1              0          38190.78      0  \n",
       "\n",
       "[10000 rows x 11 columns]"
      ]
     },
     "execution_count": 27,
     "metadata": {},
     "output_type": "execute_result"
    }
   ],
   "source": [
    "import numpy as np\n",
    "import pandas as pd\n",
    "import matplotlib.pyplot as plt\n",
    "import matplotlib\n",
    "import matplotlib.font_manager as fm\n",
    "import seaborn as sns\n",
    "from sklearn.preprocessing import StandardScaler\n",
    "from sklearn.model_selection import train_test_split\n",
    "from sklearn.metrics import accuracy_score, classification_report, confusion_matrix, precision_score, recall_score, f1_score, roc_curve, auc\n",
    "\n",
    "font_path = '/Library/Fonts/Arial Unicode.ttf'      # mac 폰트 추가\n",
    "# font_path = 'C:\\\\Windows\\\\Fonts\\\\malgun.TTF'          # 한글 폰트를 적용하여 시각화\n",
    "font = fm.FontProperties(fname=font_path).get_name()\n",
    "matplotlib.rc('font', family=font)\n",
    "\n",
    "# warnings 무시하기\n",
    "import warnings\n",
    "warnings.filterwarnings('ignore')\n",
    "\n",
    "# 새 csv 파일을 호출\n",
    "df = pd.read_csv(\"./data/Transformed_Bank_Customer_Churn_Prediction.csv\")\n",
    "df"
   ]
  },
  {
   "cell_type": "code",
   "execution_count": 28,
   "metadata": {},
   "outputs": [
    {
     "data": {
      "image/png": "[encoded data removed]",
      "text/plain": [
       "<Figure size 640x480 with 1 Axes>"
      ]
     },
     "metadata": {},
     "output_type": "display_data"
    },
    {
     "name": "stdout",
     "output_type": "stream",
     "text": [
      "   credit_score  country  gender  age  tenure    balance  products_number  \\\n",
      "0           619        0       1   42       2       0.00                1   \n",
      "1           608        2       1   41       1   83807.86                1   \n",
      "2           502        0       1   42       8  159660.80                3   \n",
      "3           699        0       1   39       1       0.00                2   \n",
      "4           850        2       1   43       2  125510.82                1   \n",
      "\n",
      "   credit_card  active_member  estimated_salary  churn  log1p_age  \n",
      "0            1              1         101348.88      1   3.761200  \n",
      "1            0              1         112542.58      0   3.737670  \n",
      "2            1              0         113931.57      1   3.761200  \n",
      "3            0              0          93826.63      0   3.688879  \n",
      "4            1              1          79084.10      0   3.784190  \n",
      "   credit_score  country  gender       age  tenure    balance  \\\n",
      "0           619        0       1  3.761200       2       0.00   \n",
      "1           608        2       1  3.737670       1   83807.86   \n",
      "2           502        0       1  3.761200       8  159660.80   \n",
      "3           699        0       1  3.688879       1       0.00   \n",
      "4           850        2       1  3.784190       2  125510.82   \n",
      "\n",
      "   products_number  credit_card  active_member  estimated_salary  churn  \n",
      "0                1            1              1         101348.88      1  \n",
      "1                1            0              1         112542.58      0  \n",
      "2                3            1              0         113931.57      1  \n",
      "3                2            0              0          93826.63      0  \n",
      "4                1            1              1          79084.10      0  \n"
     ]
    }
   ],
   "source": [
    "# 'balance'와 'estimated_salary' 컬럼을 skewed_columns 리스트에 추가\n",
    "skewed_columns = ['age']                        # 양의 값을 가지는 컬럼 중, 왜도가 높은 'age'만 log 변환 추가\n",
    "\n",
    "# log1p 변환 함수\n",
    "def log1p_transform_columns(df, columns):\n",
    "    for column in columns:\n",
    "        df[f'log1p_{column}'] = np.log1p(df[column])  # np.log1p는 log(x+1)\n",
    "    return df\n",
    "\n",
    "# log1p 변환 수행\n",
    "df = log1p_transform_columns(df, skewed_columns)\n",
    "\n",
    "# log1p 변환 후 데이터 분포 시각화\n",
    "for column in skewed_columns:\n",
    "    sns.histplot(df[f'log1p_{column}'], kde=True)\n",
    "    plt.title(f'Log1p Transformed Data Distribution for {column}')\n",
    "    plt.show()\n",
    "\n",
    "# 결과 출력\n",
    "print(df.head())\n",
    "\n",
    "# 변환된 'log1p_' 컬럼을 원래 컬럼에 대체하고, 불필요한 컬럼 제거\n",
    "for column in skewed_columns:\n",
    "    df[column] = df[f'log1p_{column}']\n",
    "    df.drop([f'log1p_{column}'], axis=1, inplace=True)\n",
    "\n",
    "# 최종 데이터 확인\n",
    "print(df.head())"
   ]
  },
  {
   "cell_type": "markdown",
   "metadata": {},
   "source": [
    "### 평가 함수"
   ]
  },
  {
   "cell_type": "code",
   "execution_count": 29,
   "metadata": {},
   "outputs": [],
   "source": [
    "def evaluation(model, X_test, y_test, threshold=0.4933):      # 최적 임계값 설정 (Recall 중심)\n",
    "\n",
    "    # 예측 확률 구하기\n",
    "    y_prob = model.predict_proba(X_test)[:, 1]\n",
    "    \n",
    "    # 임계값을 기준으로 예측 결과 도출\n",
    "    y_pred = (y_prob >= threshold).astype(int)\n",
    "\n",
    "    # 정확도\n",
    "    accuracy = accuracy_score(y_test, y_pred)\n",
    "    print(f\"정확도: {accuracy * 100:.4f}%\")\n",
    "    print()\n",
    "\n",
    "    # 정밀도: 정밀도는 예측한 클래스 1 중에서 실제로 클래스 1인 비율\n",
    "    precision = precision_score(y_test, y_pred)\n",
    "    print(f\"정밀도: {precision:.4f}\")\n",
    "    print()\n",
    "\n",
    "    # 재현율: 재현율은 실제 클래스 1 중에서 모델이 클래스 1로 예측한 비율\n",
    "    recall = recall_score(y_test, y_pred)\n",
    "    print(f\"재현율: {recall:.4f}\")\n",
    "    print()\n",
    "\n",
    "    # F1 점수: F1 점수는 정밀도와 재현율의 조화 평균, 두 지표의 균형을 맞추기 위한 지표\n",
    "    f1 = f1_score(y_test, y_pred)\n",
    "    print(f\"F1 점수: {f1:.4f}\")\n",
    "    print()\n",
    "\n",
    "    # 혼동 행렬\n",
    "    cm = confusion_matrix(y_test, y_pred)\n",
    "    print(\"혼동 행렬:\\n\", cm)\n",
    "    print()\n",
    "\n",
    "    # 종합 지표\n",
    "    report = classification_report(y_test, y_pred)\n",
    "    print(\"분류 결과:\\n\", report)\n",
    "    print()\n",
    "\n",
    "    # ROC AUC\n",
    "    fpr, tpr, _ = roc_curve(y_test, y_prob)\n",
    "    roc_auc = auc(fpr, tpr)\n",
    "    print(f\"AUC: {roc_auc:.4f}\")\n",
    "\n",
    "    # ROC 곡선 그리기\n",
    "    plt.figure()\n",
    "    plt.plot(fpr, tpr, color='darkorange', lw=2, label=f'ROC curve (AUC = {roc_auc:.4f})')\n",
    "    plt.plot([0, 1], [0, 1], color='navy', lw=2, linestyle='--')\n",
    "    plt.xlim([0.0, 1.0])\n",
    "    plt.ylim([0.0, 1.05])\n",
    "    plt.xlabel('False Positive Rate')\n",
    "    plt.ylabel('True Positive Rate')\n",
    "    plt.title('Receiver Operating Characteristic')\n",
    "    plt.legend(loc=\"lower right\")\n",
    "    plt.show()"
   ]
  },
  {
   "cell_type": "markdown",
   "metadata": {},
   "source": [
    "---"
   ]
  },
  {
   "cell_type": "markdown",
   "metadata": {},
   "source": [
    "- AdaBoost"
   ]
  },
  {
   "cell_type": "code",
   "execution_count": 30,
   "metadata": {},
   "outputs": [],
   "source": [
    "# 데이터 준비\n",
    "X = df.drop('churn', axis=1)\n",
    "y = df['churn']\n",
    "\n",
    "# 데이터 분할 (학습: 70%, 테스트: 30%)\n",
    "X_train, X_test, y_train, y_test = train_test_split(X, y, test_size=0.3, random_state=42)\n",
    "\n",
    "# Standard 정규화\n",
    "standard_x = StandardScaler()\n",
    "X_train_standard = standard_x.fit_transform(X_train)\n",
    "X_test_standard = standard_x.transform(X_test)"
   ]
  },
  {
   "cell_type": "code",
   "execution_count": 31,
   "metadata": {},
   "outputs": [],
   "source": [
    "from sklearn.ensemble import AdaBoostClassifier\n",
    "\n",
    "# AdaBoost 모델 생성\n",
    "abc = AdaBoostClassifier()"
   ]
  },
  {
   "cell_type": "code",
   "execution_count": 32,
   "metadata": {},
   "outputs": [],
   "source": [
    "# from sklearn.model_selection import GridSearchCV\n",
    "\n",
    "# # 하이퍼파라미터 그리드 생성\n",
    "# param_grid = {\n",
    "#     'n_estimators': [50, 100, 150, 200, 250, 300, 350, 400, 450, 500],\n",
    "#     'learning_rate': [0.1, 0.2, 0.3, 0.4, 0.5, 0.6, 0.7, 0.8, 0.9, 1]\n",
    "# }\n",
    "\n",
    "# # GridSearchCV 수행\n",
    "# grid_search = GridSearchCV(AdaBoostClassifier(random_state=42), param_grid, cv=3, n_jobs=-1)\n",
    "# grid_search.fit(X_train, y_train)\n",
    "\n",
    "# # 최적의 하이퍼파라미터 출력: {'learning_rate': 1, 'n_estimators': 450}\n",
    "# print(grid_search.best_params_)"
   ]
  },
  {
   "cell_type": "code",
   "execution_count": 33,
   "metadata": {},
   "outputs": [],
   "source": [
    "# 최적의 하이퍼 파라미터: {'learning_rate': 1, 'n_estimators': 450}\n",
    "\n",
    "# 최적의 하이퍼 파라미터를 기반으로 정의\n",
    "abc = AdaBoostClassifier(random_state=42, learning_rate=1, n_estimators=450)\n",
    "\n",
    "# AdaBoost 모델 학습\n",
    "# abc.fit(X_train, y_train)\n",
    "\n",
    "# 정확도 평가: Standard 정규화\n",
    "# evaluation(abc, X_test_standard, y_test)"
   ]
  },
  {
   "cell_type": "markdown",
   "metadata": {},
   "source": [
    "---"
   ]
  },
  {
   "cell_type": "markdown",
   "metadata": {},
   "source": [
    "- XGBoost"
   ]
  },
  {
   "cell_type": "code",
   "execution_count": 34,
   "metadata": {},
   "outputs": [],
   "source": [
    "# !pip install --upgrade scikit-learn"
   ]
  },
  {
   "cell_type": "code",
   "execution_count": 35,
   "metadata": {},
   "outputs": [],
   "source": [
    "# !pip install --upgrade xgboost"
   ]
  },
  {
   "cell_type": "code",
   "execution_count": 36,
   "metadata": {},
   "outputs": [],
   "source": [
    "from xgboost import XGBClassifier\n",
    "\n",
    "# XGBoost 모델 생성\n",
    "xgb = XGBClassifier()"
   ]
  },
  {
   "cell_type": "code",
   "execution_count": 37,
   "metadata": {},
   "outputs": [],
   "source": [
    "# 최적의 하이퍼 파라미터를 기반으로 정의\n",
    "xgb = XGBClassifier(\n",
    "    colsample_bytree=0.9988,\n",
    "    learning_rate=0.0591,\n",
    "    max_depth=4,\n",
    "    min_child_weight=4,\n",
    "    n_estimators=152,\n",
    "    subsample=0.7172,\n",
    "    scale_pos_weight=1.9,\n",
    "    objective='binary:logistic',\n",
    "    eval_metric='logloss',\n",
    "    random_state=42,\n",
    "    use_label_encoder=False\n",
    "    )\n",
    "\n",
    "# XGBoost 모델 학습\n",
    "# xgb.fit(X_train, y_train)\n",
    "\n",
    "# 정확도 평가: Standard 정규화\n",
    "# evaluation(xgb, X_test_standard, y_test)"
   ]
  },
  {
   "cell_type": "markdown",
   "metadata": {},
   "source": [
    "---"
   ]
  },
  {
   "cell_type": "markdown",
   "metadata": {},
   "source": [
    "- CatBoost"
   ]
  },
  {
   "cell_type": "code",
   "execution_count": 38,
   "metadata": {},
   "outputs": [],
   "source": [
    "from catboost import CatBoostClassifier\n",
    "\n",
    "# CatBoost 모델 생성\n",
    "cat = CatBoostClassifier()"
   ]
  },
  {
   "cell_type": "code",
   "execution_count": 39,
   "metadata": {},
   "outputs": [],
   "source": [
    "# 최적의 하이퍼 파라미터를 기반으로 정의\n",
    "cat = CatBoostClassifier(allow_writing_files=False, random_state=42, depth=4, iterations=100, learning_rate=0.1, verbose=0)\n",
    "\n",
    "# CatBoost 모델 학습\n",
    "# cat.fit(X_train, y_train)\n",
    "\n",
    "# 정확도 평가: Standard 정규화\n",
    "# evaluation(cat, X_test_standard, y_test)\n",
    "\n"
   ]
  },
  {
   "cell_type": "markdown",
   "metadata": {},
   "source": [
    "---"
   ]
  },
  {
   "cell_type": "markdown",
   "metadata": {},
   "source": [
    "- RandomForest"
   ]
  },
  {
   "cell_type": "code",
   "execution_count": 40,
   "metadata": {},
   "outputs": [],
   "source": [
    "from sklearn.ensemble import RandomForestClassifier\n",
    "\n",
    "# RandomForest 모델 생성\n",
    "rf = RandomForestClassifier()"
   ]
  },
  {
   "cell_type": "code",
   "execution_count": 41,
   "metadata": {},
   "outputs": [],
   "source": [
    "# 최적의 하이퍼 파라미터를 기반으로 정의\n",
    "rf = RandomForestClassifier(random_state=42, max_depth=15, min_samples_leaf=2, min_samples_split=5, n_estimators=200)\n",
    "\n",
    "# RandomForest 모델 학습\n",
    "# rf.fit(X_train, y_train)\n",
    "\n",
    "# 정확도 평가: Standard 정규화\n",
    "# evaluation(rf, X_test_standard, y_test)"
   ]
  },
  {
   "cell_type": "markdown",
   "metadata": {},
   "source": [
    "---"
   ]
  },
  {
   "cell_type": "markdown",
   "metadata": {},
   "source": [
    "- Ensemble (Stacking)"
   ]
  },
  {
   "cell_type": "code",
   "execution_count": 42,
   "metadata": {},
   "outputs": [],
   "source": [
    "from sklearn.ensemble import StackingClassifier"
   ]
  },
  {
   "cell_type": "code",
   "execution_count": 44,
   "metadata": {},
   "outputs": [
    {
     "ename": "NameError",
     "evalue": "name 'ada' is not defined",
     "output_type": "error",
     "traceback": [
      "\u001b[0;31m---------------------------------------------------------------------------\u001b[0m",
      "\u001b[0;31mNameError\u001b[0m                                 Traceback (most recent call last)",
      "Cell \u001b[0;32mIn[44], line 11\u001b[0m\n\u001b[1;32m      1\u001b[0m \u001b[38;5;28;01mfrom\u001b[39;00m \u001b[38;5;21;01msklearn\u001b[39;00m\u001b[38;5;21;01m.\u001b[39;00m\u001b[38;5;21;01mensemble\u001b[39;00m \u001b[38;5;28;01mimport\u001b[39;00m StackingClassifier\n\u001b[1;32m      3\u001b[0m \u001b[38;5;66;03m# 스태킹 모델 정의 (메타 모델: XGBoost)\u001b[39;00m\n\u001b[1;32m      4\u001b[0m stacking_model \u001b[38;5;241m=\u001b[39m StackingClassifier(\n\u001b[1;32m      5\u001b[0m     estimators\u001b[38;5;241m=\u001b[39m[\n\u001b[1;32m      6\u001b[0m         (\u001b[38;5;124m'\u001b[39m\u001b[38;5;124mxgb\u001b[39m\u001b[38;5;124m'\u001b[39m, xgb),\n\u001b[1;32m      7\u001b[0m         (\u001b[38;5;124m'\u001b[39m\u001b[38;5;124mrf\u001b[39m\u001b[38;5;124m'\u001b[39m, rf),\n\u001b[1;32m      8\u001b[0m         (\u001b[38;5;124m'\u001b[39m\u001b[38;5;124mcat\u001b[39m\u001b[38;5;124m'\u001b[39m, cat),\n\u001b[1;32m      9\u001b[0m         (\u001b[38;5;124m'\u001b[39m\u001b[38;5;124mada\u001b[39m\u001b[38;5;124m'\u001b[39m, abc)\n\u001b[1;32m     10\u001b[0m     ],\n\u001b[0;32m---> 11\u001b[0m     final_estimator\u001b[38;5;241m=\u001b[39m\u001b[43mada\u001b[49m\n\u001b[1;32m     12\u001b[0m )\n\u001b[1;32m     14\u001b[0m \u001b[38;5;66;03m# RandomForest 모델 학습\u001b[39;00m\n\u001b[1;32m     15\u001b[0m stacking_model\u001b[38;5;241m.\u001b[39mfit(X_train_standard, y_train)\n",
      "\u001b[0;31mNameError\u001b[0m: name 'ada' is not defined"
     ]
    }
   ],
   "source": [
    "from sklearn.ensemble import StackingClassifier\n",
    "\n",
    "# 스태킹 모델 정의 (메타 모델: XGBoost)\n",
    "stacking_model = StackingClassifier(\n",
    "    estimators=[\n",
    "        ('xgb', xgb),\n",
    "        ('rf', rf),\n",
    "        ('cat', cat),\n",
    "        ('ada', abc)\n",
    "    ],\n",
    "    final_estimator=abc\n",
    ")\n",
    "\n",
    "# RandomForest 모델 학습\n",
    "stacking_model.fit(X_train_standard, y_train)\n",
    "\n",
    "# 정확도 평가: Standard 정규화\n",
    "evaluation(stacking_model, X_test_standard, y_test)"
   ]
  }
 ],
 "metadata": {
  "kernelspec": {
   "display_name": "pystudy_env",
   "language": "python",
   "name": "python3"
  },
  "language_info": {
   "codemirror_mode": {
    "name": "ipython",
    "version": 3
   },
   "file_extension": ".py",
   "mimetype": "text/x-python",
   "name": "python",
   "nbconvert_exporter": "python",
   "pygments_lexer": "ipython3",
   "version": "3.12.8"
  }
 },
 "nbformat": 4,
 "nbformat_minor": 2
}
