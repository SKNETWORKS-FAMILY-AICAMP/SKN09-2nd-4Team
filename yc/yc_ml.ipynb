{
 "cells": [
  {
   "cell_type": "code",
   "execution_count": 1,
   "metadata": {},
   "outputs": [],
   "source": [
    "import numpy as np\n",
    "import pandas as pd"
   ]
  },
  {
   "cell_type": "code",
   "execution_count": 2,
   "metadata": {},
   "outputs": [],
   "source": [
    "df=pd.read_csv('./data/preprocessed_Bank_Customer_Churn_Prediction.csv')"
   ]
  },
  {
   "cell_type": "code",
   "execution_count": 3,
   "metadata": {},
   "outputs": [
    {
     "data": {
      "text/html": [
       "<div>\n",
       "<style scoped>\n",
       "    .dataframe tbody tr th:only-of-type {\n",
       "        vertical-align: middle;\n",
       "    }\n",
       "\n",
       "    .dataframe tbody tr th {\n",
       "        vertical-align: top;\n",
       "    }\n",
       "\n",
       "    .dataframe thead th {\n",
       "        text-align: right;\n",
       "    }\n",
       "</style>\n",
       "<table border=\"1\" class=\"dataframe\">\n",
       "  <thead>\n",
       "    <tr style=\"text-align: right;\">\n",
       "      <th></th>\n",
       "      <th>credit_score</th>\n",
       "      <th>country</th>\n",
       "      <th>gender</th>\n",
       "      <th>age</th>\n",
       "      <th>tenure</th>\n",
       "      <th>balance</th>\n",
       "      <th>products_number</th>\n",
       "      <th>credit_card</th>\n",
       "      <th>active_member</th>\n",
       "      <th>estimated_salary</th>\n",
       "      <th>churn</th>\n",
       "    </tr>\n",
       "  </thead>\n",
       "  <tbody>\n",
       "    <tr>\n",
       "      <th>0</th>\n",
       "      <td>619</td>\n",
       "      <td>0</td>\n",
       "      <td>1</td>\n",
       "      <td>42</td>\n",
       "      <td>2</td>\n",
       "      <td>0.00</td>\n",
       "      <td>1</td>\n",
       "      <td>1</td>\n",
       "      <td>1</td>\n",
       "      <td>101348.88</td>\n",
       "      <td>1</td>\n",
       "    </tr>\n",
       "    <tr>\n",
       "      <th>1</th>\n",
       "      <td>608</td>\n",
       "      <td>2</td>\n",
       "      <td>1</td>\n",
       "      <td>41</td>\n",
       "      <td>1</td>\n",
       "      <td>83807.86</td>\n",
       "      <td>1</td>\n",
       "      <td>0</td>\n",
       "      <td>1</td>\n",
       "      <td>112542.58</td>\n",
       "      <td>0</td>\n",
       "    </tr>\n",
       "    <tr>\n",
       "      <th>2</th>\n",
       "      <td>502</td>\n",
       "      <td>0</td>\n",
       "      <td>1</td>\n",
       "      <td>42</td>\n",
       "      <td>8</td>\n",
       "      <td>159660.80</td>\n",
       "      <td>3</td>\n",
       "      <td>1</td>\n",
       "      <td>0</td>\n",
       "      <td>113931.57</td>\n",
       "      <td>1</td>\n",
       "    </tr>\n",
       "    <tr>\n",
       "      <th>3</th>\n",
       "      <td>699</td>\n",
       "      <td>0</td>\n",
       "      <td>1</td>\n",
       "      <td>39</td>\n",
       "      <td>1</td>\n",
       "      <td>0.00</td>\n",
       "      <td>2</td>\n",
       "      <td>0</td>\n",
       "      <td>0</td>\n",
       "      <td>93826.63</td>\n",
       "      <td>0</td>\n",
       "    </tr>\n",
       "    <tr>\n",
       "      <th>4</th>\n",
       "      <td>850</td>\n",
       "      <td>2</td>\n",
       "      <td>1</td>\n",
       "      <td>43</td>\n",
       "      <td>2</td>\n",
       "      <td>125510.82</td>\n",
       "      <td>1</td>\n",
       "      <td>1</td>\n",
       "      <td>1</td>\n",
       "      <td>79084.10</td>\n",
       "      <td>0</td>\n",
       "    </tr>\n",
       "    <tr>\n",
       "      <th>...</th>\n",
       "      <td>...</td>\n",
       "      <td>...</td>\n",
       "      <td>...</td>\n",
       "      <td>...</td>\n",
       "      <td>...</td>\n",
       "      <td>...</td>\n",
       "      <td>...</td>\n",
       "      <td>...</td>\n",
       "      <td>...</td>\n",
       "      <td>...</td>\n",
       "      <td>...</td>\n",
       "    </tr>\n",
       "    <tr>\n",
       "      <th>9995</th>\n",
       "      <td>771</td>\n",
       "      <td>0</td>\n",
       "      <td>0</td>\n",
       "      <td>39</td>\n",
       "      <td>5</td>\n",
       "      <td>0.00</td>\n",
       "      <td>2</td>\n",
       "      <td>1</td>\n",
       "      <td>0</td>\n",
       "      <td>96270.64</td>\n",
       "      <td>0</td>\n",
       "    </tr>\n",
       "    <tr>\n",
       "      <th>9996</th>\n",
       "      <td>516</td>\n",
       "      <td>0</td>\n",
       "      <td>0</td>\n",
       "      <td>35</td>\n",
       "      <td>10</td>\n",
       "      <td>57369.61</td>\n",
       "      <td>1</td>\n",
       "      <td>1</td>\n",
       "      <td>1</td>\n",
       "      <td>101699.77</td>\n",
       "      <td>0</td>\n",
       "    </tr>\n",
       "    <tr>\n",
       "      <th>9997</th>\n",
       "      <td>709</td>\n",
       "      <td>0</td>\n",
       "      <td>1</td>\n",
       "      <td>36</td>\n",
       "      <td>7</td>\n",
       "      <td>0.00</td>\n",
       "      <td>1</td>\n",
       "      <td>0</td>\n",
       "      <td>1</td>\n",
       "      <td>42085.58</td>\n",
       "      <td>1</td>\n",
       "    </tr>\n",
       "    <tr>\n",
       "      <th>9998</th>\n",
       "      <td>772</td>\n",
       "      <td>1</td>\n",
       "      <td>0</td>\n",
       "      <td>42</td>\n",
       "      <td>3</td>\n",
       "      <td>75075.31</td>\n",
       "      <td>2</td>\n",
       "      <td>1</td>\n",
       "      <td>0</td>\n",
       "      <td>92888.52</td>\n",
       "      <td>1</td>\n",
       "    </tr>\n",
       "    <tr>\n",
       "      <th>9999</th>\n",
       "      <td>792</td>\n",
       "      <td>0</td>\n",
       "      <td>1</td>\n",
       "      <td>28</td>\n",
       "      <td>4</td>\n",
       "      <td>130142.79</td>\n",
       "      <td>1</td>\n",
       "      <td>1</td>\n",
       "      <td>0</td>\n",
       "      <td>38190.78</td>\n",
       "      <td>0</td>\n",
       "    </tr>\n",
       "  </tbody>\n",
       "</table>\n",
       "<p>10000 rows × 11 columns</p>\n",
       "</div>"
      ],
      "text/plain": [
       "      credit_score  country  gender  age  tenure    balance  products_number  \\\n",
       "0              619        0       1   42       2       0.00                1   \n",
       "1              608        2       1   41       1   83807.86                1   \n",
       "2              502        0       1   42       8  159660.80                3   \n",
       "3              699        0       1   39       1       0.00                2   \n",
       "4              850        2       1   43       2  125510.82                1   \n",
       "...            ...      ...     ...  ...     ...        ...              ...   \n",
       "9995           771        0       0   39       5       0.00                2   \n",
       "9996           516        0       0   35      10   57369.61                1   \n",
       "9997           709        0       1   36       7       0.00                1   \n",
       "9998           772        1       0   42       3   75075.31                2   \n",
       "9999           792        0       1   28       4  130142.79                1   \n",
       "\n",
       "      credit_card  active_member  estimated_salary  churn  \n",
       "0               1              1         101348.88      1  \n",
       "1               0              1         112542.58      0  \n",
       "2               1              0         113931.57      1  \n",
       "3               0              0          93826.63      0  \n",
       "4               1              1          79084.10      0  \n",
       "...           ...            ...               ...    ...  \n",
       "9995            1              0          96270.64      0  \n",
       "9996            1              1         101699.77      0  \n",
       "9997            0              1          42085.58      1  \n",
       "9998            1              0          92888.52      1  \n",
       "9999            1              0          38190.78      0  \n",
       "\n",
       "[10000 rows x 11 columns]"
      ]
     },
     "execution_count": 3,
     "metadata": {},
     "output_type": "execute_result"
    }
   ],
   "source": [
    "df\n"
   ]
  },
  {
   "cell_type": "markdown",
   "metadata": {},
   "source": [
    "### XGBOOST 사용"
   ]
  },
  {
   "cell_type": "code",
   "execution_count": 4,
   "metadata": {},
   "outputs": [
    {
     "name": "stdout",
     "output_type": "stream",
     "text": [
      "Accuracy: 0.8470\n",
      "Classification Report:\n",
      "               precision    recall  f1-score   support\n",
      "\n",
      "           0     0.8730    0.9454    0.9078      1593\n",
      "           1     0.6836    0.4619    0.5513       407\n",
      "\n",
      "    accuracy                         0.8470      2000\n",
      "   macro avg     0.7783    0.7037    0.7295      2000\n",
      "weighted avg     0.8345    0.8470    0.8352      2000\n",
      "\n"
     ]
    },
    {
     "name": "stderr",
     "output_type": "stream",
     "text": [
      "c:\\Users\\Playdata\\AppData\\Local\\anaconda3\\envs\\psystudy_env\\Lib\\site-packages\\xgboost\\core.py:158: UserWarning: [18:46:23] WARNING: C:\\buildkite-agent\\builds\\buildkite-windows-cpu-autoscaling-group-i-08cbc0333d8d4aae1-1\\xgboost\\xgboost-ci-windows\\src\\learner.cc:740: \n",
      "Parameters: { \"use_label_encoder\" } are not used.\n",
      "\n",
      "  warnings.warn(smsg, UserWarning)\n"
     ]
    }
   ],
   "source": [
    "import pandas as pd\n",
    "import xgboost as xgb\n",
    "from sklearn.model_selection import train_test_split\n",
    "from sklearn.metrics import accuracy_score, classification_report\n",
    "\n",
    "\n",
    "# X, y 분리\n",
    "y = df['churn']  # 목표 변수\n",
    "X = df.drop(columns=['churn'])  # 특징 변수\n",
    "\n",
    "# 학습 및 테스트 데이터 분할\n",
    "X_train, X_test, y_train, y_test = train_test_split(X, y, test_size=0.2, random_state=42, stratify=y)\n",
    "\n",
    "# XGBoost 모델 생성 및 학습\n",
    "model = xgb.XGBClassifier(\n",
    "    objective='binary:logistic', \n",
    "    eval_metric='logloss', \n",
    "    use_label_encoder=False, \n",
    "    random_state=42\n",
    ")\n",
    "model.fit(X_train, y_train)\n",
    "\n",
    "# 예측\n",
    "y_pred = model.predict(X_test)\n",
    "\n",
    "# 평가\n",
    "accuracy = accuracy_score(y_test, y_pred)\n",
    "report = classification_report(y_test, y_pred, digits=4)\n",
    "\n",
    "print(f'Accuracy: {accuracy:.4f}')\n",
    "print('Classification Report:\\n', report)\n"
   ]
  },
  {
   "cell_type": "code",
   "execution_count": 10,
   "metadata": {},
   "outputs": [
    {
     "name": "stderr",
     "output_type": "stream",
     "text": [
      "c:\\Users\\Playdata\\AppData\\Local\\anaconda3\\envs\\psystudy_env\\Lib\\site-packages\\xgboost\\core.py:158: UserWarning: [18:50:28] WARNING: C:\\buildkite-agent\\builds\\buildkite-windows-cpu-autoscaling-group-i-08cbc0333d8d4aae1-1\\xgboost\\xgboost-ci-windows\\src\\learner.cc:740: \n",
      "Parameters: { \"n_estimators\" } are not used.\n",
      "\n",
      "  warnings.warn(smsg, UserWarning)\n"
     ]
    },
    {
     "name": "stdout",
     "output_type": "stream",
     "text": [
      "Best n_estimators: 79\n",
      "Accuracy: 0.8740\n",
      "Classification Report:\n",
      "               precision    recall  f1-score   support\n",
      "\n",
      "           0     0.8834    0.9699    0.9246      1593\n",
      "           1     0.8088    0.4988    0.6170       407\n",
      "\n",
      "    accuracy                         0.8740      2000\n",
      "   macro avg     0.8461    0.7343    0.7708      2000\n",
      "weighted avg     0.8682    0.8740    0.8620      2000\n",
      "\n"
     ]
    }
   ],
   "source": [
    "import pandas as pd\n",
    "import xgboost as xgb\n",
    "from sklearn.model_selection import train_test_split, StratifiedKFold\n",
    "from sklearn.metrics import accuracy_score, classification_report\n",
    "\n",
    "# 데이터 준비\n",
    "y = df['churn']\n",
    "X = df.drop(columns=['churn'])\n",
    "\n",
    "# 학습 및 테스트 데이터 분할\n",
    "X_train, X_test, y_train, y_test = train_test_split(X, y, test_size=0.2, random_state=42, stratify=y)\n",
    "\n",
    "# 하이퍼파라미터 설정\n",
    "params = {\n",
    "    'objective': 'binary:logistic',\n",
    "    'eval_metric': 'logloss',\n",
    "    'random_state': 42,\n",
    "    'learning_rate': 0.1,\n",
    "    'max_depth': 5,\n",
    "    'subsample': 0.8,\n",
    "    'colsample_bytree': 0.8,\n",
    "    'n_estimators': 100\n",
    "}\n",
    "\n",
    "# ✅ XGBoost의 cv 기능 사용\n",
    "cv_results = xgb.cv(\n",
    "    params=params,\n",
    "    dtrain=xgb.DMatrix(X_train, label=y_train),\n",
    "    num_boost_round=100,\n",
    "    nfold=5,\n",
    "    stratified=True,\n",
    "    metrics='logloss',\n",
    "    early_stopping_rounds=10\n",
    ")\n",
    "\n",
    "# 최적 n_estimators 설정\n",
    "best_n_estimators = len(cv_results)\n",
    "params['n_estimators'] = best_n_estimators\n",
    "\n",
    "# 최적 모델 학습\n",
    "model = xgb.XGBClassifier(**params)\n",
    "model.fit(X_train, y_train)\n",
    "\n",
    "# 예측\n",
    "y_pred = model.predict(X_test)\n",
    "\n",
    "# 평가\n",
    "accuracy = accuracy_score(y_test, y_pred)\n",
    "report = classification_report(y_test, y_pred, digits=4)\n",
    "\n",
    "print(f'Best n_estimators: {best_n_estimators}')\n",
    "print(f'Accuracy: {accuracy:.4f}')\n",
    "print('Classification Report:\\n', report)\n"
   ]
  },
  {
   "cell_type": "markdown",
   "metadata": {},
   "source": [
    "### LGB사용"
   ]
  },
  {
   "cell_type": "code",
   "execution_count": 6,
   "metadata": {},
   "outputs": [
    {
     "name": "stdout",
     "output_type": "stream",
     "text": [
      "Training until validation scores don't improve for 10 rounds\n",
      "[10]\tvalid's binary_logloss: 0.370556\n",
      "[20]\tvalid's binary_logloss: 0.344806\n",
      "[30]\tvalid's binary_logloss: 0.338654\n",
      "[40]\tvalid's binary_logloss: 0.335742\n",
      "[50]\tvalid's binary_logloss: 0.335947\n",
      "Early stopping, best iteration is:\n",
      "[45]\tvalid's binary_logloss: 0.335173\n",
      "Accuracy: 0.8645\n",
      "Classification Report:\n",
      "               precision    recall  f1-score   support\n",
      "\n",
      "           0     0.8781    0.9636    0.9189      1593\n",
      "           1     0.7698    0.4767    0.5888       407\n",
      "\n",
      "    accuracy                         0.8645      2000\n",
      "   macro avg     0.8240    0.7201    0.7538      2000\n",
      "weighted avg     0.8561    0.8645    0.8517      2000\n",
      "\n"
     ]
    }
   ],
   "source": [
    "import pandas as pd\n",
    "import lightgbm as lgb\n",
    "from sklearn.model_selection import train_test_split\n",
    "from sklearn.metrics import accuracy_score, classification_report\n",
    "\n",
    "\n",
    "# X, y 분리\n",
    "y = df['churn']  # 목표 변수\n",
    "X = df.drop(columns=['churn'])  # 특징 변수\n",
    "\n",
    "# 학습 및 테스트 데이터 분할\n",
    "X_train, X_test, y_train, y_test = train_test_split(X, y, test_size=0.2, random_state=42, stratify=y)\n",
    "\n",
    "# LightGBM 데이터셋 생성\n",
    "train_data = lgb.Dataset(X_train, label=y_train)\n",
    "valid_data = lgb.Dataset(X_test, label=y_test, reference=train_data)  # 검증 데이터 설정\n",
    "\n",
    "# LightGBM 모델 학습\n",
    "params = {\n",
    "    'objective': 'binary',\n",
    "    'metric': 'binary_logloss',\n",
    "    'verbosity': -1\n",
    "}\n",
    "\n",
    "# callbacks을 사용하여 early stopping 적용\n",
    "model = lgb.train(params, train_data, num_boost_round=100,\n",
    "                  valid_sets=[valid_data], valid_names=['valid'],\n",
    "                  callbacks=[lgb.early_stopping(10), lgb.log_evaluation(10)])\n",
    "\n",
    "# 예측\n",
    "y_pred = model.predict(X_test)\n",
    "y_pred = [1 if x > 0.5 else 0 for x in y_pred]\n",
    "\n",
    "# 평가\n",
    "accuracy = accuracy_score(y_test, y_pred)\n",
    "report = classification_report(y_test, y_pred, digits=4)\n",
    "\n",
    "\n",
    "print(f'Accuracy: {accuracy:.4f}')\n",
    "print('Classification Report:\\n', report)\n"
   ]
  },
  {
   "cell_type": "markdown",
   "metadata": {},
   "source": [
    "### LGB gridsearch사용"
   ]
  },
  {
   "cell_type": "code",
   "execution_count": 7,
   "metadata": {},
   "outputs": [
    {
     "name": "stdout",
     "output_type": "stream",
     "text": [
      "Fitting 3 folds for each of 729 candidates, totalling 2187 fits\n",
      "Best parameters found: {'colsample_bytree': 0.8, 'learning_rate': 0.05, 'max_depth': 7, 'min_child_samples': 50, 'num_leaves': 50, 'subsample': 0.7}\n",
      "Accuracy: 0.8640\n",
      "Classification Report:\n",
      "               precision    recall  f1-score   support\n",
      "\n",
      "           0     0.8746    0.9680    0.9190      1593\n",
      "           1     0.7848    0.4570    0.5776       407\n",
      "\n",
      "    accuracy                         0.8640      2000\n",
      "   macro avg     0.8297    0.7125    0.7483      2000\n",
      "weighted avg     0.8564    0.8640    0.8495      2000\n",
      "\n"
     ]
    }
   ],
   "source": [
    "import pandas as pd\n",
    "import lightgbm as lgb\n",
    "from sklearn.model_selection import train_test_split, GridSearchCV\n",
    "from sklearn.metrics import accuracy_score, classification_report\n",
    "\n",
    "\n",
    "# X, y 분리\n",
    "y = df['churn']  # 목표 변수\n",
    "X = df.drop(columns=['churn'])  # 특징 변수\n",
    "\n",
    "# 학습 및 테스트 데이터 분할\n",
    "X_train, X_test, y_train, y_test = train_test_split(X, y, test_size=0.2, random_state=42, stratify=y)\n",
    "\n",
    "# LightGBM 모델 객체 생성\n",
    "model = lgb.LGBMClassifier(objective='binary', metric='binary_logloss', verbosity=-1)\n",
    "\n",
    "# 하이퍼파라미터 검색 공간 정의\n",
    "param_grid = {\n",
    "    'num_leaves': [20, 31, 50],\n",
    "    'max_depth': [3, 5, 7],\n",
    "    'learning_rate': [0.01, 0.05, 0.1],\n",
    "    'min_child_samples': [10, 20, 50],\n",
    "    'subsample': [0.7, 0.8, 0.9],\n",
    "    'colsample_bytree': [0.7, 0.8, 0.9]\n",
    "}\n",
    "\n",
    "# Grid Search 수행\n",
    "grid_search = GridSearchCV(\n",
    "    estimator=model,\n",
    "    param_grid=param_grid,\n",
    "    scoring='accuracy',\n",
    "    cv=3,  # 3-폴드 교차검증\n",
    "    verbose=1,\n",
    "    n_jobs=-1\n",
    ")\n",
    "\n",
    "grid_search.fit(X_train, y_train)\n",
    "\n",
    "# 최적 하이퍼파라미터 출력\n",
    "print(\"Best parameters found:\", grid_search.best_params_)\n",
    "\n",
    "# 최적 하이퍼파라미터 적용하여 모델 재학습\n",
    "best_model = grid_search.best_estimator_\n",
    "\n",
    "# 예측\n",
    "y_pred = best_model.predict(X_test)\n",
    "\n",
    "# 평가\n",
    "accuracy = accuracy_score(y_test, y_pred)\n",
    "report = classification_report(y_test, y_pred,digits=4)\n",
    "\n",
    "print(f'Accuracy: {accuracy:.4f}')\n",
    "print('Classification Report:\\n', report)\n"
   ]
  },
  {
   "cell_type": "markdown",
   "metadata": {},
   "source": [
    "---"
   ]
  },
  {
   "cell_type": "markdown",
   "metadata": {},
   "source": [
    "# optuna 사용\n"
   ]
  },
  {
   "cell_type": "code",
   "execution_count": 8,
   "metadata": {},
   "outputs": [
    {
     "name": "stderr",
     "output_type": "stream",
     "text": [
      "[I 2025-02-08 18:50:19,607] A new study created in memory with name: no-name-6bd9a99b-e3d9-4c90-b21b-5ef0ac5ab335\n",
      "C:\\Users\\Playdata\\AppData\\Local\\Temp\\ipykernel_16476\\2289443087.py:24: FutureWarning: suggest_loguniform has been deprecated in v3.0.0. This feature will be removed in v6.0.0. See https://github.com/optuna/optuna/releases/tag/v3.0.0. Use suggest_float(..., log=True) instead.\n",
      "  'learning_rate': trial.suggest_loguniform('learning_rate', 0.01, 0.3),\n",
      "C:\\Users\\Playdata\\AppData\\Local\\Temp\\ipykernel_16476\\2289443087.py:26: FutureWarning: suggest_uniform has been deprecated in v3.0.0. This feature will be removed in v6.0.0. See https://github.com/optuna/optuna/releases/tag/v3.0.0. Use suggest_float instead.\n",
      "  'subsample': trial.suggest_uniform('subsample', 0.5, 1.0),\n",
      "C:\\Users\\Playdata\\AppData\\Local\\Temp\\ipykernel_16476\\2289443087.py:27: FutureWarning: suggest_uniform has been deprecated in v3.0.0. This feature will be removed in v6.0.0. See https://github.com/optuna/optuna/releases/tag/v3.0.0. Use suggest_float instead.\n",
      "  'colsample_bytree': trial.suggest_uniform('colsample_bytree', 0.5, 1.0)\n",
      "[I 2025-02-08 18:50:19,741] Trial 0 finished with value: 0.868 and parameters: {'num_leaves': 74, 'max_depth': 5, 'learning_rate': 0.07206128341273402, 'min_child_samples': 100, 'subsample': 0.5283064317051264, 'colsample_bytree': 0.754675838391475}. Best is trial 0 with value: 0.868.\n",
      "C:\\Users\\Playdata\\AppData\\Local\\Temp\\ipykernel_16476\\2289443087.py:24: FutureWarning: suggest_loguniform has been deprecated in v3.0.0. This feature will be removed in v6.0.0. See https://github.com/optuna/optuna/releases/tag/v3.0.0. Use suggest_float(..., log=True) instead.\n",
      "  'learning_rate': trial.suggest_loguniform('learning_rate', 0.01, 0.3),\n",
      "C:\\Users\\Playdata\\AppData\\Local\\Temp\\ipykernel_16476\\2289443087.py:26: FutureWarning: suggest_uniform has been deprecated in v3.0.0. This feature will be removed in v6.0.0. See https://github.com/optuna/optuna/releases/tag/v3.0.0. Use suggest_float instead.\n",
      "  'subsample': trial.suggest_uniform('subsample', 0.5, 1.0),\n",
      "C:\\Users\\Playdata\\AppData\\Local\\Temp\\ipykernel_16476\\2289443087.py:27: FutureWarning: suggest_uniform has been deprecated in v3.0.0. This feature will be removed in v6.0.0. See https://github.com/optuna/optuna/releases/tag/v3.0.0. Use suggest_float instead.\n",
      "  'colsample_bytree': trial.suggest_uniform('colsample_bytree', 0.5, 1.0)\n"
     ]
    },
    {
     "name": "stdout",
     "output_type": "stream",
     "text": [
      "Training until validation scores don't improve for 10 rounds\n",
      "[10]\tvalid_0's binary_logloss: 0.404552\n",
      "[20]\tvalid_0's binary_logloss: 0.366253\n",
      "[30]\tvalid_0's binary_logloss: 0.350865\n",
      "[40]\tvalid_0's binary_logloss: 0.342715\n",
      "[50]\tvalid_0's binary_logloss: 0.340199\n",
      "[60]\tvalid_0's binary_logloss: 0.338635\n",
      "[70]\tvalid_0's binary_logloss: 0.337512\n",
      "[80]\tvalid_0's binary_logloss: 0.33622\n",
      "[90]\tvalid_0's binary_logloss: 0.336577\n",
      "Early stopping, best iteration is:\n",
      "[83]\tvalid_0's binary_logloss: 0.33605\n",
      "Training until validation scores don't improve for 10 rounds\n",
      "[10]\tvalid_0's binary_logloss: 0.402387\n",
      "[20]\tvalid_0's binary_logloss: 0.363613\n",
      "[30]\tvalid_0's binary_logloss: 0.34958\n",
      "[40]\tvalid_0's binary_logloss: 0.342296\n"
     ]
    },
    {
     "name": "stderr",
     "output_type": "stream",
     "text": [
      "[I 2025-02-08 18:50:19,927] Trial 1 finished with value: 0.869 and parameters: {'num_leaves': 89, 'max_depth': 7, 'learning_rate': 0.08473123855018388, 'min_child_samples': 64, 'subsample': 0.84723845068526, 'colsample_bytree': 0.5892572070783184}. Best is trial 1 with value: 0.869.\n"
     ]
    },
    {
     "name": "stdout",
     "output_type": "stream",
     "text": [
      "[50]\tvalid_0's binary_logloss: 0.339905\n",
      "[60]\tvalid_0's binary_logloss: 0.339954\n",
      "[70]\tvalid_0's binary_logloss: 0.339122\n",
      "[80]\tvalid_0's binary_logloss: 0.33879\n",
      "Early stopping, best iteration is:\n",
      "[78]\tvalid_0's binary_logloss: 0.338658\n",
      "Training until validation scores don't improve for 10 rounds\n",
      "[10]\tvalid_0's binary_logloss: 0.457561\n",
      "[20]\tvalid_0's binary_logloss: 0.424294\n",
      "[30]\tvalid_0's binary_logloss: 0.405224\n",
      "[40]\tvalid_0's binary_logloss: 0.388149\n",
      "[50]\tvalid_0's binary_logloss: 0.377791\n",
      "[60]\tvalid_0's binary_logloss: 0.367672\n",
      "[70]\tvalid_0's binary_logloss: 0.362334\n",
      "[80]\tvalid_0's binary_logloss: 0.356074\n"
     ]
    },
    {
     "name": "stderr",
     "output_type": "stream",
     "text": [
      "C:\\Users\\Playdata\\AppData\\Local\\Temp\\ipykernel_16476\\2289443087.py:24: FutureWarning: suggest_loguniform has been deprecated in v3.0.0. This feature will be removed in v6.0.0. See https://github.com/optuna/optuna/releases/tag/v3.0.0. Use suggest_float(..., log=True) instead.\n",
      "  'learning_rate': trial.suggest_loguniform('learning_rate', 0.01, 0.3),\n",
      "C:\\Users\\Playdata\\AppData\\Local\\Temp\\ipykernel_16476\\2289443087.py:26: FutureWarning: suggest_uniform has been deprecated in v3.0.0. This feature will be removed in v6.0.0. See https://github.com/optuna/optuna/releases/tag/v3.0.0. Use suggest_float instead.\n",
      "  'subsample': trial.suggest_uniform('subsample', 0.5, 1.0),\n",
      "C:\\Users\\Playdata\\AppData\\Local\\Temp\\ipykernel_16476\\2289443087.py:27: FutureWarning: suggest_uniform has been deprecated in v3.0.0. This feature will be removed in v6.0.0. See https://github.com/optuna/optuna/releases/tag/v3.0.0. Use suggest_float instead.\n",
      "  'colsample_bytree': trial.suggest_uniform('colsample_bytree', 0.5, 1.0)\n",
      "[I 2025-02-08 18:50:20,095] Trial 2 finished with value: 0.8655 and parameters: {'num_leaves': 49, 'max_depth': 5, 'learning_rate': 0.030890226758426263, 'min_child_samples': 47, 'subsample': 0.8136566500386291, 'colsample_bytree': 0.5023314727055617}. Best is trial 1 with value: 0.869.\n",
      "C:\\Users\\Playdata\\AppData\\Local\\Temp\\ipykernel_16476\\2289443087.py:24: FutureWarning: suggest_loguniform has been deprecated in v3.0.0. This feature will be removed in v6.0.0. See https://github.com/optuna/optuna/releases/tag/v3.0.0. Use suggest_float(..., log=True) instead.\n",
      "  'learning_rate': trial.suggest_loguniform('learning_rate', 0.01, 0.3),\n",
      "C:\\Users\\Playdata\\AppData\\Local\\Temp\\ipykernel_16476\\2289443087.py:26: FutureWarning: suggest_uniform has been deprecated in v3.0.0. This feature will be removed in v6.0.0. See https://github.com/optuna/optuna/releases/tag/v3.0.0. Use suggest_float instead.\n",
      "  'subsample': trial.suggest_uniform('subsample', 0.5, 1.0),\n",
      "C:\\Users\\Playdata\\AppData\\Local\\Temp\\ipykernel_16476\\2289443087.py:27: FutureWarning: suggest_uniform has been deprecated in v3.0.0. This feature will be removed in v6.0.0. See https://github.com/optuna/optuna/releases/tag/v3.0.0. Use suggest_float instead.\n",
      "  'colsample_bytree': trial.suggest_uniform('colsample_bytree', 0.5, 1.0)\n",
      "[I 2025-02-08 18:50:20,209] Trial 3 finished with value: 0.866 and parameters: {'num_leaves': 104, 'max_depth': 8, 'learning_rate': 0.13520813470300508, 'min_child_samples': 91, 'subsample': 0.5791415406680646, 'colsample_bytree': 0.5283983834418519}. Best is trial 1 with value: 0.869.\n"
     ]
    },
    {
     "name": "stdout",
     "output_type": "stream",
     "text": [
      "[90]\tvalid_0's binary_logloss: 0.351739\n",
      "[100]\tvalid_0's binary_logloss: 0.34866\n",
      "Did not meet early stopping. Best iteration is:\n",
      "[100]\tvalid_0's binary_logloss: 0.34866\n",
      "Training until validation scores don't improve for 10 rounds\n",
      "[10]\tvalid_0's binary_logloss: 0.382611\n",
      "[20]\tvalid_0's binary_logloss: 0.349751\n",
      "[30]\tvalid_0's binary_logloss: 0.342894\n",
      "[40]\tvalid_0's binary_logloss: 0.340541\n",
      "Early stopping, best iteration is:\n",
      "[37]\tvalid_0's binary_logloss: 0.339962\n",
      "Training until validation scores don't improve for 10 rounds\n"
     ]
    },
    {
     "name": "stderr",
     "output_type": "stream",
     "text": [
      "C:\\Users\\Playdata\\AppData\\Local\\Temp\\ipykernel_16476\\2289443087.py:24: FutureWarning: suggest_loguniform has been deprecated in v3.0.0. This feature will be removed in v6.0.0. See https://github.com/optuna/optuna/releases/tag/v3.0.0. Use suggest_float(..., log=True) instead.\n",
      "  'learning_rate': trial.suggest_loguniform('learning_rate', 0.01, 0.3),\n",
      "C:\\Users\\Playdata\\AppData\\Local\\Temp\\ipykernel_16476\\2289443087.py:26: FutureWarning: suggest_uniform has been deprecated in v3.0.0. This feature will be removed in v6.0.0. See https://github.com/optuna/optuna/releases/tag/v3.0.0. Use suggest_float instead.\n",
      "  'subsample': trial.suggest_uniform('subsample', 0.5, 1.0),\n",
      "C:\\Users\\Playdata\\AppData\\Local\\Temp\\ipykernel_16476\\2289443087.py:27: FutureWarning: suggest_uniform has been deprecated in v3.0.0. This feature will be removed in v6.0.0. See https://github.com/optuna/optuna/releases/tag/v3.0.0. Use suggest_float instead.\n",
      "  'colsample_bytree': trial.suggest_uniform('colsample_bytree', 0.5, 1.0)\n"
     ]
    },
    {
     "name": "stdout",
     "output_type": "stream",
     "text": [
      "[10]\tvalid_0's binary_logloss: 0.463817\n",
      "[20]\tvalid_0's binary_logloss: 0.43609\n",
      "[30]\tvalid_0's binary_logloss: 0.416088\n",
      "[40]\tvalid_0's binary_logloss: 0.400521\n",
      "[50]\tvalid_0's binary_logloss: 0.388666\n",
      "[60]\tvalid_0's binary_logloss: 0.379466\n",
      "[70]\tvalid_0's binary_logloss: 0.372117\n",
      "[80]\tvalid_0's binary_logloss: 0.366667\n",
      "[90]\tvalid_0's binary_logloss: 0.362114\n",
      "[100]\tvalid_0's binary_logloss: 0.358709\n",
      "Did not meet early stopping. Best iteration is:\n",
      "[100]\tvalid_0's binary_logloss: 0.358709\n"
     ]
    },
    {
     "name": "stderr",
     "output_type": "stream",
     "text": [
      "[I 2025-02-08 18:50:20,771] Trial 4 finished with value: 0.8555 and parameters: {'num_leaves': 131, 'max_depth': 13, 'learning_rate': 0.013912886106560952, 'min_child_samples': 37, 'subsample': 0.7469180851646247, 'colsample_bytree': 0.9675843472605881}. Best is trial 1 with value: 0.869.\n",
      "C:\\Users\\Playdata\\AppData\\Local\\Temp\\ipykernel_16476\\2289443087.py:24: FutureWarning: suggest_loguniform has been deprecated in v3.0.0. This feature will be removed in v6.0.0. See https://github.com/optuna/optuna/releases/tag/v3.0.0. Use suggest_float(..., log=True) instead.\n",
      "  'learning_rate': trial.suggest_loguniform('learning_rate', 0.01, 0.3),\n",
      "C:\\Users\\Playdata\\AppData\\Local\\Temp\\ipykernel_16476\\2289443087.py:26: FutureWarning: suggest_uniform has been deprecated in v3.0.0. This feature will be removed in v6.0.0. See https://github.com/optuna/optuna/releases/tag/v3.0.0. Use suggest_float instead.\n",
      "  'subsample': trial.suggest_uniform('subsample', 0.5, 1.0),\n",
      "C:\\Users\\Playdata\\AppData\\Local\\Temp\\ipykernel_16476\\2289443087.py:27: FutureWarning: suggest_uniform has been deprecated in v3.0.0. This feature will be removed in v6.0.0. See https://github.com/optuna/optuna/releases/tag/v3.0.0. Use suggest_float instead.\n",
      "  'colsample_bytree': trial.suggest_uniform('colsample_bytree', 0.5, 1.0)\n",
      "[I 2025-02-08 18:50:20,832] Trial 5 finished with value: 0.866 and parameters: {'num_leaves': 113, 'max_depth': 5, 'learning_rate': 0.27243074459665184, 'min_child_samples': 66, 'subsample': 0.6469611727458529, 'colsample_bytree': 0.881435304314591}. Best is trial 1 with value: 0.869.\n",
      "C:\\Users\\Playdata\\AppData\\Local\\Temp\\ipykernel_16476\\2289443087.py:24: FutureWarning: suggest_loguniform has been deprecated in v3.0.0. This feature will be removed in v6.0.0. See https://github.com/optuna/optuna/releases/tag/v3.0.0. Use suggest_float(..., log=True) instead.\n",
      "  'learning_rate': trial.suggest_loguniform('learning_rate', 0.01, 0.3),\n",
      "C:\\Users\\Playdata\\AppData\\Local\\Temp\\ipykernel_16476\\2289443087.py:26: FutureWarning: suggest_uniform has been deprecated in v3.0.0. This feature will be removed in v6.0.0. See https://github.com/optuna/optuna/releases/tag/v3.0.0. Use suggest_float instead.\n",
      "  'subsample': trial.suggest_uniform('subsample', 0.5, 1.0),\n",
      "C:\\Users\\Playdata\\AppData\\Local\\Temp\\ipykernel_16476\\2289443087.py:27: FutureWarning: suggest_uniform has been deprecated in v3.0.0. This feature will be removed in v6.0.0. See https://github.com/optuna/optuna/releases/tag/v3.0.0. Use suggest_float instead.\n",
      "  'colsample_bytree': trial.suggest_uniform('colsample_bytree', 0.5, 1.0)\n"
     ]
    },
    {
     "name": "stdout",
     "output_type": "stream",
     "text": [
      "Training until validation scores don't improve for 10 rounds\n",
      "[10]\tvalid_0's binary_logloss: 0.343414\n",
      "[20]\tvalid_0's binary_logloss: 0.336475\n",
      "[30]\tvalid_0's binary_logloss: 0.336603\n",
      "Early stopping, best iteration is:\n",
      "[26]\tvalid_0's binary_logloss: 0.335666\n",
      "Training until validation scores don't improve for 10 rounds\n",
      "[10]\tvalid_0's binary_logloss: 0.375892\n",
      "[20]\tvalid_0's binary_logloss: 0.349182\n",
      "[30]\tvalid_0's binary_logloss: 0.346249\n"
     ]
    },
    {
     "name": "stderr",
     "output_type": "stream",
     "text": [
      "[I 2025-02-08 18:50:21,070] Trial 6 finished with value: 0.862 and parameters: {'num_leaves': 74, 'max_depth': 13, 'learning_rate': 0.096691477596462, 'min_child_samples': 65, 'subsample': 0.8850655571173567, 'colsample_bytree': 0.9314151291085653}. Best is trial 1 with value: 0.869.\n"
     ]
    },
    {
     "name": "stdout",
     "output_type": "stream",
     "text": [
      "[40]\tvalid_0's binary_logloss: 0.343883\n",
      "[50]\tvalid_0's binary_logloss: 0.346151\n",
      "Early stopping, best iteration is:\n",
      "[43]\tvalid_0's binary_logloss: 0.343403\n",
      "Training until validation scores don't improve for 10 rounds\n",
      "[10]\tvalid_0's binary_logloss: 0.4573\n",
      "[20]\tvalid_0's binary_logloss: 0.427085\n",
      "[30]\tvalid_0's binary_logloss: 0.405553\n",
      "[40]\tvalid_0's binary_logloss: 0.389478\n",
      "[50]\tvalid_0's binary_logloss: 0.377623\n",
      "[60]\tvalid_0's binary_logloss: 0.368771\n",
      "[70]\tvalid_0's binary_logloss: 0.362001\n"
     ]
    },
    {
     "name": "stderr",
     "output_type": "stream",
     "text": [
      "C:\\Users\\Playdata\\AppData\\Local\\Temp\\ipykernel_16476\\2289443087.py:24: FutureWarning: suggest_loguniform has been deprecated in v3.0.0. This feature will be removed in v6.0.0. See https://github.com/optuna/optuna/releases/tag/v3.0.0. Use suggest_float(..., log=True) instead.\n",
      "  'learning_rate': trial.suggest_loguniform('learning_rate', 0.01, 0.3),\n",
      "C:\\Users\\Playdata\\AppData\\Local\\Temp\\ipykernel_16476\\2289443087.py:26: FutureWarning: suggest_uniform has been deprecated in v3.0.0. This feature will be removed in v6.0.0. See https://github.com/optuna/optuna/releases/tag/v3.0.0. Use suggest_float instead.\n",
      "  'subsample': trial.suggest_uniform('subsample', 0.5, 1.0),\n",
      "C:\\Users\\Playdata\\AppData\\Local\\Temp\\ipykernel_16476\\2289443087.py:27: FutureWarning: suggest_uniform has been deprecated in v3.0.0. This feature will be removed in v6.0.0. See https://github.com/optuna/optuna/releases/tag/v3.0.0. Use suggest_float instead.\n",
      "  'colsample_bytree': trial.suggest_uniform('colsample_bytree', 0.5, 1.0)\n",
      "[I 2025-02-08 18:50:21,277] Trial 7 finished with value: 0.859 and parameters: {'num_leaves': 32, 'max_depth': 9, 'learning_rate': 0.017529313053912924, 'min_child_samples': 32, 'subsample': 0.9486294351889135, 'colsample_bytree': 0.9500165437074235}. Best is trial 1 with value: 0.869.\n",
      "C:\\Users\\Playdata\\AppData\\Local\\Temp\\ipykernel_16476\\2289443087.py:24: FutureWarning: suggest_loguniform has been deprecated in v3.0.0. This feature will be removed in v6.0.0. See https://github.com/optuna/optuna/releases/tag/v3.0.0. Use suggest_float(..., log=True) instead.\n",
      "  'learning_rate': trial.suggest_loguniform('learning_rate', 0.01, 0.3),\n",
      "C:\\Users\\Playdata\\AppData\\Local\\Temp\\ipykernel_16476\\2289443087.py:26: FutureWarning: suggest_uniform has been deprecated in v3.0.0. This feature will be removed in v6.0.0. See https://github.com/optuna/optuna/releases/tag/v3.0.0. Use suggest_float instead.\n",
      "  'subsample': trial.suggest_uniform('subsample', 0.5, 1.0),\n",
      "C:\\Users\\Playdata\\AppData\\Local\\Temp\\ipykernel_16476\\2289443087.py:27: FutureWarning: suggest_uniform has been deprecated in v3.0.0. This feature will be removed in v6.0.0. See https://github.com/optuna/optuna/releases/tag/v3.0.0. Use suggest_float instead.\n",
      "  'colsample_bytree': trial.suggest_uniform('colsample_bytree', 0.5, 1.0)\n",
      "[I 2025-02-08 18:50:21,370] Trial 8 finished with value: 0.858 and parameters: {'num_leaves': 77, 'max_depth': 10, 'learning_rate': 0.18039094168926864, 'min_child_samples': 17, 'subsample': 0.5958664686621729, 'colsample_bytree': 0.5971397518142743}. Best is trial 1 with value: 0.869.\n"
     ]
    },
    {
     "name": "stdout",
     "output_type": "stream",
     "text": [
      "[80]\tvalid_0's binary_logloss: 0.356539\n",
      "[90]\tvalid_0's binary_logloss: 0.351914\n",
      "[100]\tvalid_0's binary_logloss: 0.348281\n",
      "Did not meet early stopping. Best iteration is:\n",
      "[100]\tvalid_0's binary_logloss: 0.348281\n",
      "Training until validation scores don't improve for 10 rounds\n",
      "[10]\tvalid_0's binary_logloss: 0.366825\n",
      "[20]\tvalid_0's binary_logloss: 0.34441\n",
      "[30]\tvalid_0's binary_logloss: 0.34795\n",
      "Early stopping, best iteration is:\n",
      "[21]\tvalid_0's binary_logloss: 0.343705\n",
      "Training until validation scores don't improve for 10 rounds\n",
      "[10]\tvalid_0's binary_logloss: 0.391166\n"
     ]
    },
    {
     "name": "stderr",
     "output_type": "stream",
     "text": [
      "C:\\Users\\Playdata\\AppData\\Local\\Temp\\ipykernel_16476\\2289443087.py:24: FutureWarning: suggest_loguniform has been deprecated in v3.0.0. This feature will be removed in v6.0.0. See https://github.com/optuna/optuna/releases/tag/v3.0.0. Use suggest_float(..., log=True) instead.\n",
      "  'learning_rate': trial.suggest_loguniform('learning_rate', 0.01, 0.3),\n",
      "C:\\Users\\Playdata\\AppData\\Local\\Temp\\ipykernel_16476\\2289443087.py:26: FutureWarning: suggest_uniform has been deprecated in v3.0.0. This feature will be removed in v6.0.0. See https://github.com/optuna/optuna/releases/tag/v3.0.0. Use suggest_float instead.\n",
      "  'subsample': trial.suggest_uniform('subsample', 0.5, 1.0),\n",
      "C:\\Users\\Playdata\\AppData\\Local\\Temp\\ipykernel_16476\\2289443087.py:27: FutureWarning: suggest_uniform has been deprecated in v3.0.0. This feature will be removed in v6.0.0. See https://github.com/optuna/optuna/releases/tag/v3.0.0. Use suggest_float instead.\n",
      "  'colsample_bytree': trial.suggest_uniform('colsample_bytree', 0.5, 1.0)\n",
      "[I 2025-02-08 18:50:21,503] Trial 9 finished with value: 0.8645 and parameters: {'num_leaves': 82, 'max_depth': 10, 'learning_rate': 0.09547305107030692, 'min_child_samples': 88, 'subsample': 0.9512724878024948, 'colsample_bytree': 0.6998774559186168}. Best is trial 1 with value: 0.869.\n",
      "C:\\Users\\Playdata\\AppData\\Local\\Temp\\ipykernel_16476\\2289443087.py:24: FutureWarning: suggest_loguniform has been deprecated in v3.0.0. This feature will be removed in v6.0.0. See https://github.com/optuna/optuna/releases/tag/v3.0.0. Use suggest_float(..., log=True) instead.\n",
      "  'learning_rate': trial.suggest_loguniform('learning_rate', 0.01, 0.3),\n",
      "C:\\Users\\Playdata\\AppData\\Local\\Temp\\ipykernel_16476\\2289443087.py:26: FutureWarning: suggest_uniform has been deprecated in v3.0.0. This feature will be removed in v6.0.0. See https://github.com/optuna/optuna/releases/tag/v3.0.0. Use suggest_float instead.\n",
      "  'subsample': trial.suggest_uniform('subsample', 0.5, 1.0),\n",
      "C:\\Users\\Playdata\\AppData\\Local\\Temp\\ipykernel_16476\\2289443087.py:27: FutureWarning: suggest_uniform has been deprecated in v3.0.0. This feature will be removed in v6.0.0. See https://github.com/optuna/optuna/releases/tag/v3.0.0. Use suggest_float instead.\n",
      "  'colsample_bytree': trial.suggest_uniform('colsample_bytree', 0.5, 1.0)\n",
      "[I 2025-02-08 18:50:21,603] Trial 10 finished with value: 0.8635 and parameters: {'num_leaves': 149, 'max_depth': 3, 'learning_rate': 0.03597391489797162, 'min_child_samples': 5, 'subsample': 0.73368854197138, 'colsample_bytree': 0.6679410873036021}. Best is trial 1 with value: 0.869.\n"
     ]
    },
    {
     "name": "stdout",
     "output_type": "stream",
     "text": [
      "[20]\tvalid_0's binary_logloss: 0.353525\n",
      "[30]\tvalid_0's binary_logloss: 0.343602\n",
      "[40]\tvalid_0's binary_logloss: 0.342559\n",
      "Early stopping, best iteration is:\n",
      "[36]\tvalid_0's binary_logloss: 0.34141\n",
      "Training until validation scores don't improve for 10 rounds\n",
      "[10]\tvalid_0's binary_logloss: 0.450121\n",
      "[20]\tvalid_0's binary_logloss: 0.417858\n",
      "[30]\tvalid_0's binary_logloss: 0.396634\n",
      "[40]\tvalid_0's binary_logloss: 0.382657\n",
      "[50]\tvalid_0's binary_logloss: 0.372758\n",
      "[60]\tvalid_0's binary_logloss: 0.365286\n",
      "[70]\tvalid_0's binary_logloss: 0.35909\n",
      "[80]\tvalid_0's binary_logloss: 0.354616\n",
      "[90]\tvalid_0's binary_logloss: 0.35121\n",
      "[100]\tvalid_0's binary_logloss: 0.348192\n",
      "Did not meet early stopping. Best iteration is:\n",
      "[100]\tvalid_0's binary_logloss: 0.348192\n"
     ]
    },
    {
     "name": "stderr",
     "output_type": "stream",
     "text": [
      "C:\\Users\\Playdata\\AppData\\Local\\Temp\\ipykernel_16476\\2289443087.py:24: FutureWarning: suggest_loguniform has been deprecated in v3.0.0. This feature will be removed in v6.0.0. See https://github.com/optuna/optuna/releases/tag/v3.0.0. Use suggest_float(..., log=True) instead.\n",
      "  'learning_rate': trial.suggest_loguniform('learning_rate', 0.01, 0.3),\n",
      "C:\\Users\\Playdata\\AppData\\Local\\Temp\\ipykernel_16476\\2289443087.py:26: FutureWarning: suggest_uniform has been deprecated in v3.0.0. This feature will be removed in v6.0.0. See https://github.com/optuna/optuna/releases/tag/v3.0.0. Use suggest_float instead.\n",
      "  'subsample': trial.suggest_uniform('subsample', 0.5, 1.0),\n",
      "C:\\Users\\Playdata\\AppData\\Local\\Temp\\ipykernel_16476\\2289443087.py:27: FutureWarning: suggest_uniform has been deprecated in v3.0.0. This feature will be removed in v6.0.0. See https://github.com/optuna/optuna/releases/tag/v3.0.0. Use suggest_float instead.\n",
      "  'colsample_bytree': trial.suggest_uniform('colsample_bytree', 0.5, 1.0)\n",
      "[I 2025-02-08 18:50:21,798] Trial 11 finished with value: 0.863 and parameters: {'num_leaves': 56, 'max_depth': 6, 'learning_rate': 0.06203208666046088, 'min_child_samples': 99, 'subsample': 0.8101746681711226, 'colsample_bytree': 0.8125477453178402}. Best is trial 1 with value: 0.869.\n"
     ]
    },
    {
     "name": "stdout",
     "output_type": "stream",
     "text": [
      "Training until validation scores don't improve for 10 rounds\n",
      "[10]\tvalid_0's binary_logloss: 0.409486\n",
      "[20]\tvalid_0's binary_logloss: 0.369716\n",
      "[30]\tvalid_0's binary_logloss: 0.3534\n",
      "[40]\tvalid_0's binary_logloss: 0.345538\n",
      "[50]\tvalid_0's binary_logloss: 0.341059\n",
      "[60]\tvalid_0's binary_logloss: 0.338853\n",
      "[70]\tvalid_0's binary_logloss: 0.33782\n",
      "[80]\tvalid_0's binary_logloss: 0.337051\n",
      "[90]\tvalid_0's binary_logloss: 0.337236\n",
      "Early stopping, best iteration is:\n",
      "[84]\tvalid_0's binary_logloss: 0.336439\n"
     ]
    },
    {
     "name": "stderr",
     "output_type": "stream",
     "text": [
      "C:\\Users\\Playdata\\AppData\\Local\\Temp\\ipykernel_16476\\2289443087.py:24: FutureWarning: suggest_loguniform has been deprecated in v3.0.0. This feature will be removed in v6.0.0. See https://github.com/optuna/optuna/releases/tag/v3.0.0. Use suggest_float(..., log=True) instead.\n",
      "  'learning_rate': trial.suggest_loguniform('learning_rate', 0.01, 0.3),\n",
      "C:\\Users\\Playdata\\AppData\\Local\\Temp\\ipykernel_16476\\2289443087.py:26: FutureWarning: suggest_uniform has been deprecated in v3.0.0. This feature will be removed in v6.0.0. See https://github.com/optuna/optuna/releases/tag/v3.0.0. Use suggest_float instead.\n",
      "  'subsample': trial.suggest_uniform('subsample', 0.5, 1.0),\n",
      "C:\\Users\\Playdata\\AppData\\Local\\Temp\\ipykernel_16476\\2289443087.py:27: FutureWarning: suggest_uniform has been deprecated in v3.0.0. This feature will be removed in v6.0.0. See https://github.com/optuna/optuna/releases/tag/v3.0.0. Use suggest_float instead.\n",
      "  'colsample_bytree': trial.suggest_uniform('colsample_bytree', 0.5, 1.0)\n"
     ]
    },
    {
     "name": "stdout",
     "output_type": "stream",
     "text": [
      "Training until validation scores don't improve for 10 rounds\n",
      "[10]\tvalid_0's binary_logloss: 0.414605\n",
      "[20]\tvalid_0's binary_logloss: 0.374272\n",
      "[30]\tvalid_0's binary_logloss: 0.356314\n",
      "[40]\tvalid_0's binary_logloss: 0.347324\n",
      "[50]\tvalid_0's binary_logloss: 0.342017\n",
      "[60]\tvalid_0's binary_logloss: 0.339082\n",
      "[70]\tvalid_0's binary_logloss: 0.337389\n",
      "[80]\tvalid_0's binary_logloss: 0.336574\n",
      "[90]\tvalid_0's binary_logloss: 0.336972\n",
      "Early stopping, best iteration is:\n",
      "[80]\tvalid_0's binary_logloss: 0.336574\n"
     ]
    },
    {
     "name": "stderr",
     "output_type": "stream",
     "text": [
      "[I 2025-02-08 18:50:22,035] Trial 12 finished with value: 0.8605 and parameters: {'num_leaves': 100, 'max_depth': 7, 'learning_rate': 0.05500645979835031, 'min_child_samples': 74, 'subsample': 0.5319397577549959, 'colsample_bytree': 0.7843920603209218}. Best is trial 1 with value: 0.869.\n",
      "C:\\Users\\Playdata\\AppData\\Local\\Temp\\ipykernel_16476\\2289443087.py:24: FutureWarning: suggest_loguniform has been deprecated in v3.0.0. This feature will be removed in v6.0.0. See https://github.com/optuna/optuna/releases/tag/v3.0.0. Use suggest_float(..., log=True) instead.\n",
      "  'learning_rate': trial.suggest_loguniform('learning_rate', 0.01, 0.3),\n",
      "C:\\Users\\Playdata\\AppData\\Local\\Temp\\ipykernel_16476\\2289443087.py:26: FutureWarning: suggest_uniform has been deprecated in v3.0.0. This feature will be removed in v6.0.0. See https://github.com/optuna/optuna/releases/tag/v3.0.0. Use suggest_float instead.\n",
      "  'subsample': trial.suggest_uniform('subsample', 0.5, 1.0),\n",
      "C:\\Users\\Playdata\\AppData\\Local\\Temp\\ipykernel_16476\\2289443087.py:27: FutureWarning: suggest_uniform has been deprecated in v3.0.0. This feature will be removed in v6.0.0. See https://github.com/optuna/optuna/releases/tag/v3.0.0. Use suggest_float instead.\n",
      "  'colsample_bytree': trial.suggest_uniform('colsample_bytree', 0.5, 1.0)\n",
      "[I 2025-02-08 18:50:22,136] Trial 13 finished with value: 0.863 and parameters: {'num_leaves': 59, 'max_depth': 3, 'learning_rate': 0.030716617291922807, 'min_child_samples': 79, 'subsample': 0.6744136562236809, 'colsample_bytree': 0.6358340173075195}. Best is trial 1 with value: 0.869.\n",
      "C:\\Users\\Playdata\\AppData\\Local\\Temp\\ipykernel_16476\\2289443087.py:24: FutureWarning: suggest_loguniform has been deprecated in v3.0.0. This feature will be removed in v6.0.0. See https://github.com/optuna/optuna/releases/tag/v3.0.0. Use suggest_float(..., log=True) instead.\n",
      "  'learning_rate': trial.suggest_loguniform('learning_rate', 0.01, 0.3),\n",
      "C:\\Users\\Playdata\\AppData\\Local\\Temp\\ipykernel_16476\\2289443087.py:26: FutureWarning: suggest_uniform has been deprecated in v3.0.0. This feature will be removed in v6.0.0. See https://github.com/optuna/optuna/releases/tag/v3.0.0. Use suggest_float instead.\n",
      "  'subsample': trial.suggest_uniform('subsample', 0.5, 1.0),\n",
      "C:\\Users\\Playdata\\AppData\\Local\\Temp\\ipykernel_16476\\2289443087.py:27: FutureWarning: suggest_uniform has been deprecated in v3.0.0. This feature will be removed in v6.0.0. See https://github.com/optuna/optuna/releases/tag/v3.0.0. Use suggest_float instead.\n",
      "  'colsample_bytree': trial.suggest_uniform('colsample_bytree', 0.5, 1.0)\n",
      "[I 2025-02-08 18:50:22,253] Trial 14 finished with value: 0.867 and parameters: {'num_leaves': 25, 'max_depth': 5, 'learning_rate': 0.08376647252649236, 'min_child_samples': 59, 'subsample': 0.5000284778091326, 'colsample_bytree': 0.7350033354583804}. Best is trial 1 with value: 0.869.\n"
     ]
    },
    {
     "name": "stdout",
     "output_type": "stream",
     "text": [
      "Training until validation scores don't improve for 10 rounds\n",
      "[10]\tvalid_0's binary_logloss: 0.459337\n",
      "[20]\tvalid_0's binary_logloss: 0.431745\n",
      "[30]\tvalid_0's binary_logloss: 0.412622\n",
      "[40]\tvalid_0's binary_logloss: 0.395464\n",
      "[50]\tvalid_0's binary_logloss: 0.384562\n",
      "[60]\tvalid_0's binary_logloss: 0.375764\n",
      "[70]\tvalid_0's binary_logloss: 0.368748\n",
      "[80]\tvalid_0's binary_logloss: 0.363066\n",
      "[90]\tvalid_0's binary_logloss: 0.358858\n",
      "[100]\tvalid_0's binary_logloss: 0.355274\n",
      "Did not meet early stopping. Best iteration is:\n",
      "[100]\tvalid_0's binary_logloss: 0.355274\n",
      "Training until validation scores don't improve for 10 rounds\n",
      "[10]\tvalid_0's binary_logloss: 0.399493\n",
      "[20]\tvalid_0's binary_logloss: 0.3618\n",
      "[30]\tvalid_0's binary_logloss: 0.347147\n",
      "[40]\tvalid_0's binary_logloss: 0.34143\n",
      "[50]\tvalid_0's binary_logloss: 0.33834\n",
      "[60]\tvalid_0's binary_logloss: 0.337098\n",
      "[70]\tvalid_0's binary_logloss: 0.336238\n",
      "[80]\tvalid_0's binary_logloss: 0.334886\n",
      "[90]\tvalid_0's binary_logloss: 0.335402\n",
      "Early stopping, best iteration is:\n",
      "[82]\tvalid_0's binary_logloss: 0.334585\n"
     ]
    },
    {
     "name": "stderr",
     "output_type": "stream",
     "text": [
      "C:\\Users\\Playdata\\AppData\\Local\\Temp\\ipykernel_16476\\2289443087.py:24: FutureWarning: suggest_loguniform has been deprecated in v3.0.0. This feature will be removed in v6.0.0. See https://github.com/optuna/optuna/releases/tag/v3.0.0. Use suggest_float(..., log=True) instead.\n",
      "  'learning_rate': trial.suggest_loguniform('learning_rate', 0.01, 0.3),\n",
      "C:\\Users\\Playdata\\AppData\\Local\\Temp\\ipykernel_16476\\2289443087.py:26: FutureWarning: suggest_uniform has been deprecated in v3.0.0. This feature will be removed in v6.0.0. See https://github.com/optuna/optuna/releases/tag/v3.0.0. Use suggest_float instead.\n",
      "  'subsample': trial.suggest_uniform('subsample', 0.5, 1.0),\n",
      "C:\\Users\\Playdata\\AppData\\Local\\Temp\\ipykernel_16476\\2289443087.py:27: FutureWarning: suggest_uniform has been deprecated in v3.0.0. This feature will be removed in v6.0.0. See https://github.com/optuna/optuna/releases/tag/v3.0.0. Use suggest_float instead.\n",
      "  'colsample_bytree': trial.suggest_uniform('colsample_bytree', 0.5, 1.0)\n",
      "[I 2025-02-08 18:50:22,400] Trial 15 finished with value: 0.8615 and parameters: {'num_leaves': 93, 'max_depth': 7, 'learning_rate': 0.15301411519008562, 'min_child_samples': 49, 'subsample': 0.8290649763576309, 'colsample_bytree': 0.581743817464555}. Best is trial 1 with value: 0.869.\n",
      "C:\\Users\\Playdata\\AppData\\Local\\Temp\\ipykernel_16476\\2289443087.py:24: FutureWarning: suggest_loguniform has been deprecated in v3.0.0. This feature will be removed in v6.0.0. See https://github.com/optuna/optuna/releases/tag/v3.0.0. Use suggest_float(..., log=True) instead.\n",
      "  'learning_rate': trial.suggest_loguniform('learning_rate', 0.01, 0.3),\n",
      "C:\\Users\\Playdata\\AppData\\Local\\Temp\\ipykernel_16476\\2289443087.py:26: FutureWarning: suggest_uniform has been deprecated in v3.0.0. This feature will be removed in v6.0.0. See https://github.com/optuna/optuna/releases/tag/v3.0.0. Use suggest_float instead.\n",
      "  'subsample': trial.suggest_uniform('subsample', 0.5, 1.0),\n",
      "C:\\Users\\Playdata\\AppData\\Local\\Temp\\ipykernel_16476\\2289443087.py:27: FutureWarning: suggest_uniform has been deprecated in v3.0.0. This feature will be removed in v6.0.0. See https://github.com/optuna/optuna/releases/tag/v3.0.0. Use suggest_float instead.\n",
      "  'colsample_bytree': trial.suggest_uniform('colsample_bytree', 0.5, 1.0)\n"
     ]
    },
    {
     "name": "stdout",
     "output_type": "stream",
     "text": [
      "Training until validation scores don't improve for 10 rounds\n",
      "[10]\tvalid_0's binary_logloss: 0.371523\n",
      "[20]\tvalid_0's binary_logloss: 0.34648\n",
      "[30]\tvalid_0's binary_logloss: 0.339869\n",
      "[40]\tvalid_0's binary_logloss: 0.341821\n",
      "Early stopping, best iteration is:\n",
      "[33]\tvalid_0's binary_logloss: 0.339672\n",
      "Training until validation scores don't improve for 10 rounds\n",
      "[10]\tvalid_0's binary_logloss: 0.425276\n",
      "[20]\tvalid_0's binary_logloss: 0.386841\n"
     ]
    },
    {
     "name": "stderr",
     "output_type": "stream",
     "text": [
      "[I 2025-02-08 18:50:22,689] Trial 16 finished with value: 0.8625 and parameters: {'num_leaves': 119, 'max_depth': 11, 'learning_rate': 0.04219529179506529, 'min_child_samples': 99, 'subsample': 0.8813131183675735, 'colsample_bytree': 0.8591390075276115}. Best is trial 1 with value: 0.869.\n"
     ]
    },
    {
     "name": "stdout",
     "output_type": "stream",
     "text": [
      "[30]\tvalid_0's binary_logloss: 0.366129\n",
      "[40]\tvalid_0's binary_logloss: 0.354019\n",
      "[50]\tvalid_0's binary_logloss: 0.348012\n",
      "[60]\tvalid_0's binary_logloss: 0.344564\n",
      "[70]\tvalid_0's binary_logloss: 0.343226\n",
      "[80]\tvalid_0's binary_logloss: 0.341855\n",
      "[90]\tvalid_0's binary_logloss: 0.34144\n",
      "Early stopping, best iteration is:\n",
      "[88]\tvalid_0's binary_logloss: 0.341266\n"
     ]
    },
    {
     "name": "stderr",
     "output_type": "stream",
     "text": [
      "C:\\Users\\Playdata\\AppData\\Local\\Temp\\ipykernel_16476\\2289443087.py:24: FutureWarning: suggest_loguniform has been deprecated in v3.0.0. This feature will be removed in v6.0.0. See https://github.com/optuna/optuna/releases/tag/v3.0.0. Use suggest_float(..., log=True) instead.\n",
      "  'learning_rate': trial.suggest_loguniform('learning_rate', 0.01, 0.3),\n",
      "C:\\Users\\Playdata\\AppData\\Local\\Temp\\ipykernel_16476\\2289443087.py:26: FutureWarning: suggest_uniform has been deprecated in v3.0.0. This feature will be removed in v6.0.0. See https://github.com/optuna/optuna/releases/tag/v3.0.0. Use suggest_float instead.\n",
      "  'subsample': trial.suggest_uniform('subsample', 0.5, 1.0),\n",
      "C:\\Users\\Playdata\\AppData\\Local\\Temp\\ipykernel_16476\\2289443087.py:27: FutureWarning: suggest_uniform has been deprecated in v3.0.0. This feature will be removed in v6.0.0. See https://github.com/optuna/optuna/releases/tag/v3.0.0. Use suggest_float instead.\n",
      "  'colsample_bytree': trial.suggest_uniform('colsample_bytree', 0.5, 1.0)\n"
     ]
    },
    {
     "name": "stdout",
     "output_type": "stream",
     "text": [
      "Training until validation scores don't improve for 10 rounds\n",
      "[10]\tvalid_0's binary_logloss: 0.464274\n",
      "[20]\tvalid_0's binary_logloss: 0.435549\n",
      "[30]\tvalid_0's binary_logloss: 0.412493\n",
      "[40]\tvalid_0's binary_logloss: 0.396317\n",
      "[50]\tvalid_0's binary_logloss: 0.384429\n",
      "[60]\tvalid_0's binary_logloss: 0.374446\n",
      "[70]\tvalid_0's binary_logloss: 0.36617\n",
      "[80]\tvalid_0's binary_logloss: 0.358985\n",
      "[90]\tvalid_0's binary_logloss: 0.354029\n"
     ]
    },
    {
     "name": "stderr",
     "output_type": "stream",
     "text": [
      "[I 2025-02-08 18:50:22,971] Trial 17 finished with value: 0.865 and parameters: {'num_leaves': 67, 'max_depth': 15, 'learning_rate': 0.021004553971927006, 'min_child_samples': 76, 'subsample': 0.6860540972425077, 'colsample_bytree': 0.7413587566128186}. Best is trial 1 with value: 0.869.\n",
      "C:\\Users\\Playdata\\AppData\\Local\\Temp\\ipykernel_16476\\2289443087.py:24: FutureWarning: suggest_loguniform has been deprecated in v3.0.0. This feature will be removed in v6.0.0. See https://github.com/optuna/optuna/releases/tag/v3.0.0. Use suggest_float(..., log=True) instead.\n",
      "  'learning_rate': trial.suggest_loguniform('learning_rate', 0.01, 0.3),\n",
      "C:\\Users\\Playdata\\AppData\\Local\\Temp\\ipykernel_16476\\2289443087.py:26: FutureWarning: suggest_uniform has been deprecated in v3.0.0. This feature will be removed in v6.0.0. See https://github.com/optuna/optuna/releases/tag/v3.0.0. Use suggest_float instead.\n",
      "  'subsample': trial.suggest_uniform('subsample', 0.5, 1.0),\n",
      "C:\\Users\\Playdata\\AppData\\Local\\Temp\\ipykernel_16476\\2289443087.py:27: FutureWarning: suggest_uniform has been deprecated in v3.0.0. This feature will be removed in v6.0.0. See https://github.com/optuna/optuna/releases/tag/v3.0.0. Use suggest_float instead.\n",
      "  'colsample_bytree': trial.suggest_uniform('colsample_bytree', 0.5, 1.0)\n",
      "[I 2025-02-08 18:50:23,097] Trial 18 finished with value: 0.864 and parameters: {'num_leaves': 39, 'max_depth': 4, 'learning_rate': 0.06447523821043005, 'min_child_samples': 84, 'subsample': 0.9998055443452211, 'colsample_bytree': 0.565737347441347}. Best is trial 1 with value: 0.869.\n"
     ]
    },
    {
     "name": "stdout",
     "output_type": "stream",
     "text": [
      "[100]\tvalid_0's binary_logloss: 0.350324\n",
      "Did not meet early stopping. Best iteration is:\n",
      "[100]\tvalid_0's binary_logloss: 0.350324\n",
      "Training until validation scores don't improve for 10 rounds\n",
      "[10]\tvalid_0's binary_logloss: 0.422459\n",
      "[20]\tvalid_0's binary_logloss: 0.384523\n",
      "[30]\tvalid_0's binary_logloss: 0.36583\n",
      "[40]\tvalid_0's binary_logloss: 0.353242\n",
      "[50]\tvalid_0's binary_logloss: 0.347351\n",
      "[60]\tvalid_0's binary_logloss: 0.342938\n",
      "[70]\tvalid_0's binary_logloss: 0.34003\n",
      "[80]\tvalid_0's binary_logloss: 0.337816\n",
      "[90]\tvalid_0's binary_logloss: 0.336825\n",
      "[100]\tvalid_0's binary_logloss: 0.336293\n",
      "Did not meet early stopping. Best iteration is:\n",
      "[100]\tvalid_0's binary_logloss: 0.336293\n",
      "Training until validation scores don't improve for 10 rounds\n",
      "[10]\tvalid_0's binary_logloss: 0.353066\n"
     ]
    },
    {
     "name": "stderr",
     "output_type": "stream",
     "text": [
      "C:\\Users\\Playdata\\AppData\\Local\\Temp\\ipykernel_16476\\2289443087.py:24: FutureWarning: suggest_loguniform has been deprecated in v3.0.0. This feature will be removed in v6.0.0. See https://github.com/optuna/optuna/releases/tag/v3.0.0. Use suggest_float(..., log=True) instead.\n",
      "  'learning_rate': trial.suggest_loguniform('learning_rate', 0.01, 0.3),\n",
      "C:\\Users\\Playdata\\AppData\\Local\\Temp\\ipykernel_16476\\2289443087.py:26: FutureWarning: suggest_uniform has been deprecated in v3.0.0. This feature will be removed in v6.0.0. See https://github.com/optuna/optuna/releases/tag/v3.0.0. Use suggest_float instead.\n",
      "  'subsample': trial.suggest_uniform('subsample', 0.5, 1.0),\n",
      "C:\\Users\\Playdata\\AppData\\Local\\Temp\\ipykernel_16476\\2289443087.py:27: FutureWarning: suggest_uniform has been deprecated in v3.0.0. This feature will be removed in v6.0.0. See https://github.com/optuna/optuna/releases/tag/v3.0.0. Use suggest_float instead.\n",
      "  'colsample_bytree': trial.suggest_uniform('colsample_bytree', 0.5, 1.0)\n",
      "[I 2025-02-08 18:50:23,192] Trial 19 finished with value: 0.8625 and parameters: {'num_leaves': 89, 'max_depth': 7, 'learning_rate': 0.2629546475315007, 'min_child_samples': 37, 'subsample': 0.7814507646704135, 'colsample_bytree': 0.6813262251724573}. Best is trial 1 with value: 0.869.\n",
      "C:\\Users\\Playdata\\AppData\\Local\\Temp\\ipykernel_16476\\2289443087.py:24: FutureWarning: suggest_loguniform has been deprecated in v3.0.0. This feature will be removed in v6.0.0. See https://github.com/optuna/optuna/releases/tag/v3.0.0. Use suggest_float(..., log=True) instead.\n",
      "  'learning_rate': trial.suggest_loguniform('learning_rate', 0.01, 0.3),\n",
      "C:\\Users\\Playdata\\AppData\\Local\\Temp\\ipykernel_16476\\2289443087.py:26: FutureWarning: suggest_uniform has been deprecated in v3.0.0. This feature will be removed in v6.0.0. See https://github.com/optuna/optuna/releases/tag/v3.0.0. Use suggest_float instead.\n",
      "  'subsample': trial.suggest_uniform('subsample', 0.5, 1.0),\n",
      "C:\\Users\\Playdata\\AppData\\Local\\Temp\\ipykernel_16476\\2289443087.py:27: FutureWarning: suggest_uniform has been deprecated in v3.0.0. This feature will be removed in v6.0.0. See https://github.com/optuna/optuna/releases/tag/v3.0.0. Use suggest_float instead.\n",
      "  'colsample_bytree': trial.suggest_uniform('colsample_bytree', 0.5, 1.0)\n",
      "[I 2025-02-08 18:50:23,346] Trial 20 finished with value: 0.8565 and parameters: {'num_leaves': 124, 'max_depth': 8, 'learning_rate': 0.12284147360531311, 'min_child_samples': 24, 'subsample': 0.8855466295063605, 'colsample_bytree': 0.8051850068740402}. Best is trial 1 with value: 0.869.\n"
     ]
    },
    {
     "name": "stdout",
     "output_type": "stream",
     "text": [
      "[20]\tvalid_0's binary_logloss: 0.343717\n",
      "Early stopping, best iteration is:\n",
      "[18]\tvalid_0's binary_logloss: 0.341629\n",
      "Training until validation scores don't improve for 10 rounds\n",
      "[10]\tvalid_0's binary_logloss: 0.365886\n",
      "[20]\tvalid_0's binary_logloss: 0.346251\n",
      "[30]\tvalid_0's binary_logloss: 0.345724\n",
      "Early stopping, best iteration is:\n",
      "[28]\tvalid_0's binary_logloss: 0.345499\n"
     ]
    },
    {
     "name": "stderr",
     "output_type": "stream",
     "text": [
      "C:\\Users\\Playdata\\AppData\\Local\\Temp\\ipykernel_16476\\2289443087.py:24: FutureWarning: suggest_loguniform has been deprecated in v3.0.0. This feature will be removed in v6.0.0. See https://github.com/optuna/optuna/releases/tag/v3.0.0. Use suggest_float(..., log=True) instead.\n",
      "  'learning_rate': trial.suggest_loguniform('learning_rate', 0.01, 0.3),\n",
      "C:\\Users\\Playdata\\AppData\\Local\\Temp\\ipykernel_16476\\2289443087.py:26: FutureWarning: suggest_uniform has been deprecated in v3.0.0. This feature will be removed in v6.0.0. See https://github.com/optuna/optuna/releases/tag/v3.0.0. Use suggest_float instead.\n",
      "  'subsample': trial.suggest_uniform('subsample', 0.5, 1.0),\n",
      "C:\\Users\\Playdata\\AppData\\Local\\Temp\\ipykernel_16476\\2289443087.py:27: FutureWarning: suggest_uniform has been deprecated in v3.0.0. This feature will be removed in v6.0.0. See https://github.com/optuna/optuna/releases/tag/v3.0.0. Use suggest_float instead.\n",
      "  'colsample_bytree': trial.suggest_uniform('colsample_bytree', 0.5, 1.0)\n",
      "[I 2025-02-08 18:50:23,490] Trial 21 finished with value: 0.865 and parameters: {'num_leaves': 25, 'max_depth': 5, 'learning_rate': 0.0850862699736666, 'min_child_samples': 60, 'subsample': 0.5024111889620556, 'colsample_bytree': 0.7418217183761967}. Best is trial 1 with value: 0.869.\n",
      "C:\\Users\\Playdata\\AppData\\Local\\Temp\\ipykernel_16476\\2289443087.py:24: FutureWarning: suggest_loguniform has been deprecated in v3.0.0. This feature will be removed in v6.0.0. See https://github.com/optuna/optuna/releases/tag/v3.0.0. Use suggest_float(..., log=True) instead.\n",
      "  'learning_rate': trial.suggest_loguniform('learning_rate', 0.01, 0.3),\n",
      "C:\\Users\\Playdata\\AppData\\Local\\Temp\\ipykernel_16476\\2289443087.py:26: FutureWarning: suggest_uniform has been deprecated in v3.0.0. This feature will be removed in v6.0.0. See https://github.com/optuna/optuna/releases/tag/v3.0.0. Use suggest_float instead.\n",
      "  'subsample': trial.suggest_uniform('subsample', 0.5, 1.0),\n",
      "C:\\Users\\Playdata\\AppData\\Local\\Temp\\ipykernel_16476\\2289443087.py:27: FutureWarning: suggest_uniform has been deprecated in v3.0.0. This feature will be removed in v6.0.0. See https://github.com/optuna/optuna/releases/tag/v3.0.0. Use suggest_float instead.\n",
      "  'colsample_bytree': trial.suggest_uniform('colsample_bytree', 0.5, 1.0)\n"
     ]
    },
    {
     "name": "stdout",
     "output_type": "stream",
     "text": [
      "Training until validation scores don't improve for 10 rounds\n",
      "[10]\tvalid_0's binary_logloss: 0.398632\n",
      "[20]\tvalid_0's binary_logloss: 0.360868\n",
      "[30]\tvalid_0's binary_logloss: 0.345894\n",
      "[40]\tvalid_0's binary_logloss: 0.340678\n",
      "[50]\tvalid_0's binary_logloss: 0.338247\n",
      "[60]\tvalid_0's binary_logloss: 0.336664\n",
      "[70]\tvalid_0's binary_logloss: 0.335741\n",
      "[80]\tvalid_0's binary_logloss: 0.334643\n",
      "[90]\tvalid_0's binary_logloss: 0.334389\n",
      "Early stopping, best iteration is:\n",
      "[81]\tvalid_0's binary_logloss: 0.334304\n",
      "Training until validation scores don't improve for 10 rounds\n",
      "[10]\tvalid_0's binary_logloss: 0.409801\n",
      "[20]\tvalid_0's binary_logloss: 0.369726\n",
      "[30]\tvalid_0's binary_logloss: 0.353441\n",
      "[40]\tvalid_0's binary_logloss: 0.342735\n",
      "[50]\tvalid_0's binary_logloss: 0.339224\n",
      "[60]\tvalid_0's binary_logloss: 0.336563\n",
      "[70]\tvalid_0's binary_logloss: 0.33491\n",
      "[80]\tvalid_0's binary_logloss: 0.333937\n",
      "[90]\tvalid_0's binary_logloss: 0.333958\n",
      "Early stopping, best iteration is:\n",
      "[85]\tvalid_0's binary_logloss: 0.333799\n"
     ]
    },
    {
     "name": "stderr",
     "output_type": "stream",
     "text": [
      "[I 2025-02-08 18:50:23,618] Trial 22 finished with value: 0.8675 and parameters: {'num_leaves': 20, 'max_depth': 6, 'learning_rate': 0.07490988784405991, 'min_child_samples': 58, 'subsample': 0.5679433322457893, 'colsample_bytree': 0.6442909757094852}. Best is trial 1 with value: 0.869.\n",
      "C:\\Users\\Playdata\\AppData\\Local\\Temp\\ipykernel_16476\\2289443087.py:24: FutureWarning: suggest_loguniform has been deprecated in v3.0.0. This feature will be removed in v6.0.0. See https://github.com/optuna/optuna/releases/tag/v3.0.0. Use suggest_float(..., log=True) instead.\n",
      "  'learning_rate': trial.suggest_loguniform('learning_rate', 0.01, 0.3),\n",
      "C:\\Users\\Playdata\\AppData\\Local\\Temp\\ipykernel_16476\\2289443087.py:26: FutureWarning: suggest_uniform has been deprecated in v3.0.0. This feature will be removed in v6.0.0. See https://github.com/optuna/optuna/releases/tag/v3.0.0. Use suggest_float instead.\n",
      "  'subsample': trial.suggest_uniform('subsample', 0.5, 1.0),\n",
      "C:\\Users\\Playdata\\AppData\\Local\\Temp\\ipykernel_16476\\2289443087.py:27: FutureWarning: suggest_uniform has been deprecated in v3.0.0. This feature will be removed in v6.0.0. See https://github.com/optuna/optuna/releases/tag/v3.0.0. Use suggest_float instead.\n",
      "  'colsample_bytree': trial.suggest_uniform('colsample_bytree', 0.5, 1.0)\n",
      "[I 2025-02-08 18:50:23,802] Trial 23 finished with value: 0.867 and parameters: {'num_leaves': 45, 'max_depth': 6, 'learning_rate': 0.04748319216478778, 'min_child_samples': 55, 'subsample': 0.6033595125451763, 'colsample_bytree': 0.6198593681277859}. Best is trial 1 with value: 0.869.\n",
      "C:\\Users\\Playdata\\AppData\\Local\\Temp\\ipykernel_16476\\2289443087.py:24: FutureWarning: suggest_loguniform has been deprecated in v3.0.0. This feature will be removed in v6.0.0. See https://github.com/optuna/optuna/releases/tag/v3.0.0. Use suggest_float(..., log=True) instead.\n",
      "  'learning_rate': trial.suggest_loguniform('learning_rate', 0.01, 0.3),\n"
     ]
    },
    {
     "name": "stdout",
     "output_type": "stream",
     "text": [
      "Training until validation scores don't improve for 10 rounds\n",
      "[10]\tvalid_0's binary_logloss: 0.433674\n",
      "[20]\tvalid_0's binary_logloss: 0.395504\n",
      "[30]\tvalid_0's binary_logloss: 0.375711\n",
      "[40]\tvalid_0's binary_logloss: 0.360137\n",
      "[50]\tvalid_0's binary_logloss: 0.352706\n",
      "[60]\tvalid_0's binary_logloss: 0.347471\n",
      "[70]\tvalid_0's binary_logloss: 0.343426\n",
      "[80]\tvalid_0's binary_logloss: 0.340169\n",
      "[90]\tvalid_0's binary_logloss: 0.338641\n",
      "[100]\tvalid_0's binary_logloss: 0.337962\n",
      "Did not meet early stopping. Best iteration is:\n",
      "[99]\tvalid_0's binary_logloss: 0.337883\n",
      "Training until validation scores don't improve for 10 rounds\n",
      "[10]\tvalid_0's binary_logloss: 0.412047\n",
      "[20]\tvalid_0's binary_logloss: 0.374894\n",
      "[30]\tvalid_0's binary_logloss: 0.357304\n",
      "[40]\tvalid_0's binary_logloss: 0.34818\n"
     ]
    },
    {
     "name": "stderr",
     "output_type": "stream",
     "text": [
      "C:\\Users\\Playdata\\AppData\\Local\\Temp\\ipykernel_16476\\2289443087.py:26: FutureWarning: suggest_uniform has been deprecated in v3.0.0. This feature will be removed in v6.0.0. See https://github.com/optuna/optuna/releases/tag/v3.0.0. Use suggest_float instead.\n",
      "  'subsample': trial.suggest_uniform('subsample', 0.5, 1.0),\n",
      "C:\\Users\\Playdata\\AppData\\Local\\Temp\\ipykernel_16476\\2289443087.py:27: FutureWarning: suggest_uniform has been deprecated in v3.0.0. This feature will be removed in v6.0.0. See https://github.com/optuna/optuna/releases/tag/v3.0.0. Use suggest_float instead.\n",
      "  'colsample_bytree': trial.suggest_uniform('colsample_bytree', 0.5, 1.0)\n",
      "[I 2025-02-08 18:50:23,931] Trial 24 finished with value: 0.866 and parameters: {'num_leaves': 63, 'max_depth': 4, 'learning_rate': 0.07203188399943887, 'min_child_samples': 68, 'subsample': 0.543328213351868, 'colsample_bytree': 0.6556296957355019}. Best is trial 1 with value: 0.869.\n",
      "C:\\Users\\Playdata\\AppData\\Local\\Temp\\ipykernel_16476\\2289443087.py:24: FutureWarning: suggest_loguniform has been deprecated in v3.0.0. This feature will be removed in v6.0.0. See https://github.com/optuna/optuna/releases/tag/v3.0.0. Use suggest_float(..., log=True) instead.\n",
      "  'learning_rate': trial.suggest_loguniform('learning_rate', 0.01, 0.3),\n",
      "C:\\Users\\Playdata\\AppData\\Local\\Temp\\ipykernel_16476\\2289443087.py:26: FutureWarning: suggest_uniform has been deprecated in v3.0.0. This feature will be removed in v6.0.0. See https://github.com/optuna/optuna/releases/tag/v3.0.0. Use suggest_float instead.\n",
      "  'subsample': trial.suggest_uniform('subsample', 0.5, 1.0),\n",
      "C:\\Users\\Playdata\\AppData\\Local\\Temp\\ipykernel_16476\\2289443087.py:27: FutureWarning: suggest_uniform has been deprecated in v3.0.0. This feature will be removed in v6.0.0. See https://github.com/optuna/optuna/releases/tag/v3.0.0. Use suggest_float instead.\n",
      "  'colsample_bytree': trial.suggest_uniform('colsample_bytree', 0.5, 1.0)\n",
      "[I 2025-02-08 18:50:24,049] Trial 25 finished with value: 0.867 and parameters: {'num_leaves': 106, 'max_depth': 6, 'learning_rate': 0.11896860374949947, 'min_child_samples': 49, 'subsample': 0.6337465739285928, 'colsample_bytree': 0.6992357627340358}. Best is trial 1 with value: 0.869.\n"
     ]
    },
    {
     "name": "stdout",
     "output_type": "stream",
     "text": [
      "[50]\tvalid_0's binary_logloss: 0.34254\n",
      "[60]\tvalid_0's binary_logloss: 0.338935\n",
      "[70]\tvalid_0's binary_logloss: 0.337274\n",
      "[80]\tvalid_0's binary_logloss: 0.336028\n",
      "[90]\tvalid_0's binary_logloss: 0.33465\n",
      "[100]\tvalid_0's binary_logloss: 0.333946\n",
      "Did not meet early stopping. Best iteration is:\n",
      "[100]\tvalid_0's binary_logloss: 0.333946\n",
      "Training until validation scores don't improve for 10 rounds\n",
      "[10]\tvalid_0's binary_logloss: 0.379101\n",
      "[20]\tvalid_0's binary_logloss: 0.346726\n",
      "[30]\tvalid_0's binary_logloss: 0.339143\n",
      "[40]\tvalid_0's binary_logloss: 0.337702\n",
      "[50]\tvalid_0's binary_logloss: 0.337818\n",
      "Early stopping, best iteration is:\n",
      "[42]\tvalid_0's binary_logloss: 0.337371\n"
     ]
    },
    {
     "name": "stderr",
     "output_type": "stream",
     "text": [
      "C:\\Users\\Playdata\\AppData\\Local\\Temp\\ipykernel_16476\\2289443087.py:24: FutureWarning: suggest_loguniform has been deprecated in v3.0.0. This feature will be removed in v6.0.0. See https://github.com/optuna/optuna/releases/tag/v3.0.0. Use suggest_float(..., log=True) instead.\n",
      "  'learning_rate': trial.suggest_loguniform('learning_rate', 0.01, 0.3),\n",
      "C:\\Users\\Playdata\\AppData\\Local\\Temp\\ipykernel_16476\\2289443087.py:26: FutureWarning: suggest_uniform has been deprecated in v3.0.0. This feature will be removed in v6.0.0. See https://github.com/optuna/optuna/releases/tag/v3.0.0. Use suggest_float instead.\n",
      "  'subsample': trial.suggest_uniform('subsample', 0.5, 1.0),\n",
      "C:\\Users\\Playdata\\AppData\\Local\\Temp\\ipykernel_16476\\2289443087.py:27: FutureWarning: suggest_uniform has been deprecated in v3.0.0. This feature will be removed in v6.0.0. See https://github.com/optuna/optuna/releases/tag/v3.0.0. Use suggest_float instead.\n",
      "  'colsample_bytree': trial.suggest_uniform('colsample_bytree', 0.5, 1.0)\n",
      "[I 2025-02-08 18:50:24,191] Trial 26 finished with value: 0.8635 and parameters: {'num_leaves': 136, 'max_depth': 8, 'learning_rate': 0.1873213039122994, 'min_child_samples': 43, 'subsample': 0.7067558882364209, 'colsample_bytree': 0.5474675370516986}. Best is trial 1 with value: 0.869.\n",
      "C:\\Users\\Playdata\\AppData\\Local\\Temp\\ipykernel_16476\\2289443087.py:24: FutureWarning: suggest_loguniform has been deprecated in v3.0.0. This feature will be removed in v6.0.0. See https://github.com/optuna/optuna/releases/tag/v3.0.0. Use suggest_float(..., log=True) instead.\n",
      "  'learning_rate': trial.suggest_loguniform('learning_rate', 0.01, 0.3),\n",
      "C:\\Users\\Playdata\\AppData\\Local\\Temp\\ipykernel_16476\\2289443087.py:26: FutureWarning: suggest_uniform has been deprecated in v3.0.0. This feature will be removed in v6.0.0. See https://github.com/optuna/optuna/releases/tag/v3.0.0. Use suggest_float instead.\n",
      "  'subsample': trial.suggest_uniform('subsample', 0.5, 1.0),\n",
      "C:\\Users\\Playdata\\AppData\\Local\\Temp\\ipykernel_16476\\2289443087.py:27: FutureWarning: suggest_uniform has been deprecated in v3.0.0. This feature will be removed in v6.0.0. See https://github.com/optuna/optuna/releases/tag/v3.0.0. Use suggest_float instead.\n",
      "  'colsample_bytree': trial.suggest_uniform('colsample_bytree', 0.5, 1.0)\n"
     ]
    },
    {
     "name": "stdout",
     "output_type": "stream",
     "text": [
      "Training until validation scores don't improve for 10 rounds\n",
      "[10]\tvalid_0's binary_logloss: 0.368994\n",
      "[20]\tvalid_0's binary_logloss: 0.343718\n",
      "[30]\tvalid_0's binary_logloss: 0.341263\n",
      "[40]\tvalid_0's binary_logloss: 0.34258\n",
      "Early stopping, best iteration is:\n",
      "[33]\tvalid_0's binary_logloss: 0.340092\n",
      "Training until validation scores don't improve for 10 rounds\n",
      "[10]\tvalid_0's binary_logloss: 0.437442\n",
      "[20]\tvalid_0's binary_logloss: 0.401263\n",
      "[30]\tvalid_0's binary_logloss: 0.381622\n",
      "[40]\tvalid_0's binary_logloss: 0.365963\n",
      "[50]\tvalid_0's binary_logloss: 0.357502\n",
      "[60]\tvalid_0's binary_logloss: 0.351158\n",
      "[70]\tvalid_0's binary_logloss: 0.346712\n",
      "[80]\tvalid_0's binary_logloss: 0.343185\n"
     ]
    },
    {
     "name": "stderr",
     "output_type": "stream",
     "text": [
      "[I 2025-02-08 18:50:24,337] Trial 27 finished with value: 0.865 and parameters: {'num_leaves': 94, 'max_depth': 4, 'learning_rate': 0.048108854877583596, 'min_child_samples': 73, 'subsample': 0.5591750727139418, 'colsample_bytree': 0.5978180679522447}. Best is trial 1 with value: 0.869.\n",
      "C:\\Users\\Playdata\\AppData\\Local\\Temp\\ipykernel_16476\\2289443087.py:24: FutureWarning: suggest_loguniform has been deprecated in v3.0.0. This feature will be removed in v6.0.0. See https://github.com/optuna/optuna/releases/tag/v3.0.0. Use suggest_float(..., log=True) instead.\n",
      "  'learning_rate': trial.suggest_loguniform('learning_rate', 0.01, 0.3),\n",
      "C:\\Users\\Playdata\\AppData\\Local\\Temp\\ipykernel_16476\\2289443087.py:26: FutureWarning: suggest_uniform has been deprecated in v3.0.0. This feature will be removed in v6.0.0. See https://github.com/optuna/optuna/releases/tag/v3.0.0. Use suggest_float instead.\n",
      "  'subsample': trial.suggest_uniform('subsample', 0.5, 1.0),\n",
      "C:\\Users\\Playdata\\AppData\\Local\\Temp\\ipykernel_16476\\2289443087.py:27: FutureWarning: suggest_uniform has been deprecated in v3.0.0. This feature will be removed in v6.0.0. See https://github.com/optuna/optuna/releases/tag/v3.0.0. Use suggest_float instead.\n",
      "  'colsample_bytree': trial.suggest_uniform('colsample_bytree', 0.5, 1.0)\n",
      "[I 2025-02-08 18:50:24,495] Trial 28 finished with value: 0.8655 and parameters: {'num_leaves': 69, 'max_depth': 9, 'learning_rate': 0.07356154229419133, 'min_child_samples': 94, 'subsample': 0.6140282002198343, 'colsample_bytree': 0.7770103443156802}. Best is trial 1 with value: 0.869.\n"
     ]
    },
    {
     "name": "stdout",
     "output_type": "stream",
     "text": [
      "[90]\tvalid_0's binary_logloss: 0.341405\n",
      "[100]\tvalid_0's binary_logloss: 0.340279\n",
      "Did not meet early stopping. Best iteration is:\n",
      "[100]\tvalid_0's binary_logloss: 0.340279\n",
      "Training until validation scores don't improve for 10 rounds\n",
      "[10]\tvalid_0's binary_logloss: 0.396022\n",
      "[20]\tvalid_0's binary_logloss: 0.358751\n",
      "[30]\tvalid_0's binary_logloss: 0.345571\n",
      "[40]\tvalid_0's binary_logloss: 0.339923\n",
      "[50]\tvalid_0's binary_logloss: 0.338891\n",
      "[60]\tvalid_0's binary_logloss: 0.33844\n",
      "Early stopping, best iteration is:\n",
      "[53]\tvalid_0's binary_logloss: 0.338076\n"
     ]
    },
    {
     "name": "stderr",
     "output_type": "stream",
     "text": [
      "C:\\Users\\Playdata\\AppData\\Local\\Temp\\ipykernel_16476\\2289443087.py:24: FutureWarning: suggest_loguniform has been deprecated in v3.0.0. This feature will be removed in v6.0.0. See https://github.com/optuna/optuna/releases/tag/v3.0.0. Use suggest_float(..., log=True) instead.\n",
      "  'learning_rate': trial.suggest_loguniform('learning_rate', 0.01, 0.3),\n",
      "C:\\Users\\Playdata\\AppData\\Local\\Temp\\ipykernel_16476\\2289443087.py:26: FutureWarning: suggest_uniform has been deprecated in v3.0.0. This feature will be removed in v6.0.0. See https://github.com/optuna/optuna/releases/tag/v3.0.0. Use suggest_float instead.\n",
      "  'subsample': trial.suggest_uniform('subsample', 0.5, 1.0),\n",
      "C:\\Users\\Playdata\\AppData\\Local\\Temp\\ipykernel_16476\\2289443087.py:27: FutureWarning: suggest_uniform has been deprecated in v3.0.0. This feature will be removed in v6.0.0. See https://github.com/optuna/optuna/releases/tag/v3.0.0. Use suggest_float instead.\n",
      "  'colsample_bytree': trial.suggest_uniform('colsample_bytree', 0.5, 1.0)\n",
      "[I 2025-02-08 18:50:24,671] Trial 29 finished with value: 0.866 and parameters: {'num_leaves': 44, 'max_depth': 6, 'learning_rate': 0.028923383099727695, 'min_child_samples': 81, 'subsample': 0.7859789260241935, 'colsample_bytree': 0.5103473549198734}. Best is trial 1 with value: 0.869.\n"
     ]
    },
    {
     "name": "stdout",
     "output_type": "stream",
     "text": [
      "Training until validation scores don't improve for 10 rounds\n",
      "[10]\tvalid_0's binary_logloss: 0.460388\n",
      "[20]\tvalid_0's binary_logloss: 0.428654\n",
      "[30]\tvalid_0's binary_logloss: 0.409458\n",
      "[40]\tvalid_0's binary_logloss: 0.392537\n",
      "[50]\tvalid_0's binary_logloss: 0.381591\n",
      "[60]\tvalid_0's binary_logloss: 0.371906\n",
      "[70]\tvalid_0's binary_logloss: 0.366533\n",
      "[80]\tvalid_0's binary_logloss: 0.35975\n",
      "[90]\tvalid_0's binary_logloss: 0.354762\n",
      "[100]\tvalid_0's binary_logloss: 0.351591\n",
      "Did not meet early stopping. Best iteration is:\n",
      "[100]\tvalid_0's binary_logloss: 0.351591\n",
      "Best parameters found: {'num_leaves': 89, 'max_depth': 7, 'learning_rate': 0.08473123855018388, 'min_child_samples': 64, 'subsample': 0.84723845068526, 'colsample_bytree': 0.5892572070783184}\n",
      "Training until validation scores don't improve for 10 rounds\n",
      "[10]\tvalid_0's binary_logloss: 0.402387\n",
      "[20]\tvalid_0's binary_logloss: 0.363613\n",
      "[30]\tvalid_0's binary_logloss: 0.34958\n",
      "[40]\tvalid_0's binary_logloss: 0.342296\n",
      "[50]\tvalid_0's binary_logloss: 0.339905\n",
      "[60]\tvalid_0's binary_logloss: 0.339954\n",
      "[70]\tvalid_0's binary_logloss: 0.339122\n",
      "[80]\tvalid_0's binary_logloss: 0.33879\n",
      "Early stopping, best iteration is:\n",
      "[78]\tvalid_0's binary_logloss: 0.338658\n",
      "Accuracy: 0.8690\n",
      "Classification Report:\n",
      "               precision    recall  f1-score   support\n",
      "\n",
      "           0       0.88      0.97      0.92      1593\n",
      "           1       0.79      0.49      0.60       407\n",
      "\n",
      "    accuracy                           0.87      2000\n",
      "   macro avg       0.83      0.73      0.76      2000\n",
      "weighted avg       0.86      0.87      0.86      2000\n",
      "\n"
     ]
    }
   ],
   "source": [
    "import pandas as pd\n",
    "import lightgbm as lgb\n",
    "import optuna\n",
    "from sklearn.model_selection import train_test_split\n",
    "from sklearn.metrics import accuracy_score, classification_report\n",
    "\n",
    "\n",
    "\n",
    "# X, y 분리\n",
    "y = df['churn']  # 목표 변수\n",
    "X = df.drop(columns=['churn'])  # 특징 변수\n",
    "\n",
    "# 학습 및 테스트 데이터 분할\n",
    "X_train, X_test, y_train, y_test = train_test_split(X, y, test_size=0.2, random_state=42, stratify=y)\n",
    "\n",
    "# Optuna를 이용한 하이퍼파라미터 튜닝\n",
    "def objective(trial):\n",
    "    params = {\n",
    "        'objective': 'binary',\n",
    "        'metric': 'binary_logloss',\n",
    "        'verbosity': -1,\n",
    "        'num_leaves': trial.suggest_int('num_leaves', 20, 150),\n",
    "        'max_depth': trial.suggest_int('max_depth', 3, 15),\n",
    "        'learning_rate': trial.suggest_loguniform('learning_rate', 0.01, 0.3),\n",
    "        'min_child_samples': trial.suggest_int('min_child_samples', 5, 100),\n",
    "        'subsample': trial.suggest_uniform('subsample', 0.5, 1.0),\n",
    "        'colsample_bytree': trial.suggest_uniform('colsample_bytree', 0.5, 1.0)\n",
    "    }\n",
    "    \n",
    "    train_data = lgb.Dataset(X_train, label=y_train)\n",
    "    valid_data = lgb.Dataset(X_test, label=y_test, reference=train_data)\n",
    "    \n",
    "    model = lgb.train(params, train_data, num_boost_round=100,\n",
    "                      valid_sets=[valid_data], \n",
    "                      callbacks=[lgb.early_stopping(10), lgb.log_evaluation(10)])\n",
    "    \n",
    "    y_pred = model.predict(X_test)\n",
    "    y_pred = [1 if x > 0.5 else 0 for x in y_pred]\n",
    "    accuracy = accuracy_score(y_test, y_pred)\n",
    "    return accuracy\n",
    "\n",
    "# Optuna 실행\n",
    "study = optuna.create_study(direction='maximize')\n",
    "study.optimize(objective, n_trials=30)\n",
    "\n",
    "# 최적 하이퍼파라미터 출력\n",
    "print(\"Best parameters found:\", study.best_params)\n",
    "\n",
    "# 최적 하이퍼파라미터로 모델 학습\n",
    "best_params = study.best_params\n",
    "best_params.update({'objective': 'binary', 'metric': 'binary_logloss', 'verbosity': -1})\n",
    "\n",
    "train_data = lgb.Dataset(X_train, label=y_train)\n",
    "valid_data = lgb.Dataset(X_test, label=y_test, reference=train_data)\n",
    "\n",
    "model = lgb.train(best_params, train_data, num_boost_round=100,\n",
    "                  valid_sets=[valid_data], \n",
    "                  callbacks=[lgb.early_stopping(10), lgb.log_evaluation(10)])\n",
    "\n",
    "# 최적 모델 예측\n",
    "y_pred = model.predict(X_test)\n",
    "y_pred = [1 if x > 0.5 else 0 for x in y_pred]\n",
    "\n",
    "# 평가\n",
    "accuracy = accuracy_score(y_test, y_pred)\n",
    "report = classification_report(y_test, y_pred)\n",
    "\n",
    "print(f'Accuracy: {accuracy:.4f}')\n",
    "print('Classification Report:\\n', report)\n"
   ]
  },
  {
   "cell_type": "code",
   "execution_count": 9,
   "metadata": {},
   "outputs": [
    {
     "name": "stderr",
     "output_type": "stream",
     "text": [
      "[I 2025-02-08 18:50:24,860] A new study created in memory with name: no-name-781d9814-8eaa-4052-89ba-a843e3f69abd\n"
     ]
    },
    {
     "name": "stdout",
     "output_type": "stream",
     "text": [
      "Training until validation scores don't improve for 10 rounds\n",
      "[10]\tvalid_0's binary_logloss: 0.374636\n",
      "[20]\tvalid_0's binary_logloss: 0.345134\n",
      "[30]\tvalid_0's binary_logloss: 0.341209\n"
     ]
    },
    {
     "name": "stderr",
     "output_type": "stream",
     "text": [
      "[I 2025-02-08 18:50:24,987] Trial 0 finished with value: 0.865 and parameters: {'num_leaves': 112, 'max_depth': 14, 'learning_rate': 0.14285428959672658, 'min_child_samples': 98, 'subsample': 0.7676272782375093, 'colsample_bytree': 0.6217725186575114}. Best is trial 0 with value: 0.865.\n"
     ]
    },
    {
     "name": "stdout",
     "output_type": "stream",
     "text": [
      "[40]\tvalid_0's binary_logloss: 0.342151\n",
      "Early stopping, best iteration is:\n",
      "[33]\tvalid_0's binary_logloss: 0.340064\n",
      "Training until validation scores don't improve for 10 rounds\n",
      "[10]\tvalid_0's binary_logloss: 0.368927\n",
      "[20]\tvalid_0's binary_logloss: 0.342516\n",
      "[30]\tvalid_0's binary_logloss: 0.336167\n",
      "[40]\tvalid_0's binary_logloss: 0.332948\n",
      "[50]\tvalid_0's binary_logloss: 0.332025\n",
      "[60]\tvalid_0's binary_logloss: 0.332129\n",
      "Early stopping, best iteration is:\n",
      "[55]\tvalid_0's binary_logloss: 0.33168\n"
     ]
    },
    {
     "name": "stderr",
     "output_type": "stream",
     "text": [
      "[I 2025-02-08 18:50:25,070] Trial 1 finished with value: 0.864 and parameters: {'num_leaves': 141, 'max_depth': 5, 'learning_rate': 0.12503668910271215, 'min_child_samples': 6, 'subsample': 0.8596630273119743, 'colsample_bytree': 0.8467538379348268}. Best is trial 0 with value: 0.865.\n",
      "[I 2025-02-08 18:50:25,131] Trial 2 finished with value: 0.8665 and parameters: {'num_leaves': 53, 'max_depth': 10, 'learning_rate': 0.1478767621133668, 'min_child_samples': 56, 'subsample': 0.6721911360409354, 'colsample_bytree': 0.8610303946510053}. Best is trial 2 with value: 0.8665.\n"
     ]
    },
    {
     "name": "stdout",
     "output_type": "stream",
     "text": [
      "Training until validation scores don't improve for 10 rounds\n",
      "[10]\tvalid_0's binary_logloss: 0.353784\n",
      "[20]\tvalid_0's binary_logloss: 0.34179\n",
      "[30]\tvalid_0's binary_logloss: 0.342996\n",
      "Early stopping, best iteration is:\n",
      "[21]\tvalid_0's binary_logloss: 0.341277\n"
     ]
    },
    {
     "name": "stderr",
     "output_type": "stream",
     "text": [
      "[I 2025-02-08 18:50:25,216] Trial 3 finished with value: 0.8625 and parameters: {'num_leaves': 142, 'max_depth': 11, 'learning_rate': 0.21354393095526844, 'min_child_samples': 77, 'subsample': 0.6874470479748926, 'colsample_bytree': 0.8625505105922242}. Best is trial 2 with value: 0.8665.\n"
     ]
    },
    {
     "name": "stdout",
     "output_type": "stream",
     "text": [
      "Training until validation scores don't improve for 10 rounds\n",
      "[10]\tvalid_0's binary_logloss: 0.349854\n",
      "[20]\tvalid_0's binary_logloss: 0.346632\n",
      "Early stopping, best iteration is:\n",
      "[15]\tvalid_0's binary_logloss: 0.344993\n",
      "Training until validation scores don't improve for 10 rounds\n",
      "[10]\tvalid_0's binary_logloss: 0.37881\n",
      "[20]\tvalid_0's binary_logloss: 0.350767\n"
     ]
    },
    {
     "name": "stderr",
     "output_type": "stream",
     "text": [
      "[I 2025-02-08 18:50:25,325] Trial 4 finished with value: 0.836 and parameters: {'num_leaves': 64, 'max_depth': 9, 'learning_rate': 0.0942530423948135, 'min_child_samples': 84, 'subsample': 0.8259518295098098, 'colsample_bytree': 0.8661128434825578}. Best is trial 2 with value: 0.8665.\n"
     ]
    },
    {
     "name": "stdout",
     "output_type": "stream",
     "text": [
      "[30]\tvalid_0's binary_logloss: 0.342485\n",
      "[40]\tvalid_0's binary_logloss: 0.340449\n",
      "[50]\tvalid_0's binary_logloss: 0.341916\n",
      "Early stopping, best iteration is:\n",
      "[43]\tvalid_0's binary_logloss: 0.340325\n",
      "Training until validation scores don't improve for 10 rounds\n",
      "[10]\tvalid_0's binary_logloss: 0.46622\n",
      "[20]\tvalid_0's binary_logloss: 0.440543\n"
     ]
    },
    {
     "name": "stderr",
     "output_type": "stream",
     "text": [
      "[I 2025-02-08 18:50:25,398] Trial 5 finished with value: 0.8205 and parameters: {'num_leaves': 32, 'max_depth': 3, 'learning_rate': 0.02317613927767659, 'min_child_samples': 47, 'subsample': 0.8262039401523734, 'colsample_bytree': 0.7046850039532115}. Best is trial 2 with value: 0.8665.\n",
      "[I 2025-02-08 18:50:25,446] Trial 6 finished with value: 0.8705 and parameters: {'num_leaves': 137, 'max_depth': 4, 'learning_rate': 0.23980918805110849, 'min_child_samples': 89, 'subsample': 0.5540157845788954, 'colsample_bytree': 0.5181621140857728}. Best is trial 6 with value: 0.8705.\n"
     ]
    },
    {
     "name": "stdout",
     "output_type": "stream",
     "text": [
      "[30]\tvalid_0's binary_logloss: 0.420007\n",
      "[40]\tvalid_0's binary_logloss: 0.405063\n",
      "[50]\tvalid_0's binary_logloss: 0.393895\n",
      "[60]\tvalid_0's binary_logloss: 0.384594\n",
      "[70]\tvalid_0's binary_logloss: 0.377122\n",
      "[80]\tvalid_0's binary_logloss: 0.371228\n",
      "[90]\tvalid_0's binary_logloss: 0.366718\n",
      "[100]\tvalid_0's binary_logloss: 0.363061\n",
      "Did not meet early stopping. Best iteration is:\n",
      "[100]\tvalid_0's binary_logloss: 0.363061\n",
      "Training until validation scores don't improve for 10 rounds\n",
      "[10]\tvalid_0's binary_logloss: 0.358105\n",
      "[20]\tvalid_0's binary_logloss: 0.338639\n",
      "[30]\tvalid_0's binary_logloss: 0.334886\n",
      "[40]\tvalid_0's binary_logloss: 0.333847\n",
      "Early stopping, best iteration is:\n",
      "[36]\tvalid_0's binary_logloss: 0.332717\n",
      "Training until validation scores don't improve for 10 rounds\n",
      "[10]\tvalid_0's binary_logloss: 0.469602\n",
      "[20]\tvalid_0's binary_logloss: 0.441373\n",
      "[30]\tvalid_0's binary_logloss: 0.423579\n",
      "[40]\tvalid_0's binary_logloss: 0.40697\n",
      "[50]\tvalid_0's binary_logloss: 0.396103\n",
      "[60]\tvalid_0's binary_logloss: 0.384944\n",
      "[70]\tvalid_0's binary_logloss: 0.37874\n",
      "[80]\tvalid_0's binary_logloss: 0.370853\n",
      "[90]\tvalid_0's binary_logloss: 0.365101\n",
      "[100]\tvalid_0's binary_logloss: 0.360962\n",
      "Did not meet early stopping. Best iteration is:\n",
      "[100]\tvalid_0's binary_logloss: 0.360962\n"
     ]
    },
    {
     "name": "stderr",
     "output_type": "stream",
     "text": [
      "[I 2025-02-08 18:50:25,753] Trial 7 finished with value: 0.8685 and parameters: {'num_leaves': 107, 'max_depth': 14, 'learning_rate': 0.021440318137483046, 'min_child_samples': 60, 'subsample': 0.7175561964540054, 'colsample_bytree': 0.5488246225511244}. Best is trial 6 with value: 0.8705.\n"
     ]
    },
    {
     "name": "stdout",
     "output_type": "stream",
     "text": [
      "Training until validation scores don't improve for 10 rounds\n",
      "[10]\tvalid_0's binary_logloss: 0.443928\n",
      "[20]\tvalid_0's binary_logloss: 0.408911\n",
      "[30]\tvalid_0's binary_logloss: 0.386475\n",
      "[40]\tvalid_0's binary_logloss: 0.371333\n",
      "[50]\tvalid_0's binary_logloss: 0.362174\n",
      "[60]\tvalid_0's binary_logloss: 0.35555\n",
      "[70]\tvalid_0's binary_logloss: 0.350817\n",
      "[80]\tvalid_0's binary_logloss: 0.347122\n",
      "[90]\tvalid_0's binary_logloss: 0.345124\n",
      "[100]\tvalid_0's binary_logloss: 0.343333\n",
      "Did not meet early stopping. Best iteration is:\n",
      "[100]\tvalid_0's binary_logloss: 0.343333\n"
     ]
    },
    {
     "name": "stderr",
     "output_type": "stream",
     "text": [
      "[I 2025-02-08 18:50:25,964] Trial 8 finished with value: 0.8155 and parameters: {'num_leaves': 57, 'max_depth': 9, 'learning_rate': 0.026184958970334387, 'min_child_samples': 43, 'subsample': 0.8244403585564803, 'colsample_bytree': 0.8786089860634532}. Best is trial 6 with value: 0.8705.\n",
      "[I 2025-02-08 18:50:26,027] Trial 9 finished with value: 0.841 and parameters: {'num_leaves': 51, 'max_depth': 14, 'learning_rate': 0.2144619875254618, 'min_child_samples': 5, 'subsample': 0.9448417256819198, 'colsample_bytree': 0.7406005090785324}. Best is trial 6 with value: 0.8705.\n"
     ]
    },
    {
     "name": "stdout",
     "output_type": "stream",
     "text": [
      "Training until validation scores don't improve for 10 rounds\n",
      "[10]\tvalid_0's binary_logloss: 0.356072\n",
      "[20]\tvalid_0's binary_logloss: 0.342091\n",
      "Early stopping, best iteration is:\n",
      "[19]\tvalid_0's binary_logloss: 0.341238\n",
      "Training until validation scores don't improve for 10 rounds\n",
      "[10]\tvalid_0's binary_logloss: 0.414943\n",
      "[20]\tvalid_0's binary_logloss: 0.377828\n",
      "[30]\tvalid_0's binary_logloss: 0.358776\n",
      "[40]\tvalid_0's binary_logloss: 0.349331\n",
      "[50]\tvalid_0's binary_logloss: 0.343944\n",
      "[60]\tvalid_0's binary_logloss: 0.34132\n",
      "[70]\tvalid_0's binary_logloss: 0.339745\n",
      "[80]\tvalid_0's binary_logloss: 0.339174\n"
     ]
    },
    {
     "name": "stderr",
     "output_type": "stream",
     "text": [
      "[I 2025-02-08 18:50:26,181] Trial 10 finished with value: 0.7905 and parameters: {'num_leaves': 101, 'max_depth': 6, 'learning_rate': 0.05030403534385045, 'min_child_samples': 99, 'subsample': 0.5088467671340533, 'colsample_bytree': 0.9830005286969703}. Best is trial 6 with value: 0.8705.\n"
     ]
    },
    {
     "name": "stdout",
     "output_type": "stream",
     "text": [
      "Early stopping, best iteration is:\n",
      "[79]\tvalid_0's binary_logloss: 0.338986\n",
      "Training until validation scores don't improve for 10 rounds\n",
      "[10]\tvalid_0's binary_logloss: 0.485068\n",
      "[20]\tvalid_0's binary_logloss: 0.467232\n",
      "[30]\tvalid_0's binary_logloss: 0.45401\n",
      "[40]\tvalid_0's binary_logloss: 0.440722\n",
      "[50]\tvalid_0's binary_logloss: 0.431045\n",
      "[60]\tvalid_0's binary_logloss: 0.420498\n",
      "[70]\tvalid_0's binary_logloss: 0.413724\n",
      "[80]\tvalid_0's binary_logloss: 0.40501\n",
      "[90]\tvalid_0's binary_logloss: 0.398326\n",
      "[100]\tvalid_0's binary_logloss: 0.393011\n",
      "Did not meet early stopping. Best iteration is:\n",
      "[100]\tvalid_0's binary_logloss: 0.393011\n"
     ]
    },
    {
     "name": "stderr",
     "output_type": "stream",
     "text": [
      "[I 2025-02-08 18:50:26,506] Trial 11 finished with value: 0.8675 and parameters: {'num_leaves': 120, 'max_depth': 15, 'learning_rate': 0.011307668962471143, 'min_child_samples': 66, 'subsample': 0.52650862908288, 'colsample_bytree': 0.5278304457784355}. Best is trial 6 with value: 0.8705.\n"
     ]
    },
    {
     "name": "stdout",
     "output_type": "stream",
     "text": [
      "Training until validation scores don't improve for 10 rounds\n",
      "[10]\tvalid_0's binary_logloss: 0.424941\n"
     ]
    },
    {
     "name": "stderr",
     "output_type": "stream",
     "text": [
      "[I 2025-02-08 18:50:26,723] Trial 12 finished with value: 0.869 and parameters: {'num_leaves': 92, 'max_depth': 7, 'learning_rate': 0.06152587511329845, 'min_child_samples': 25, 'subsample': 0.6113925201062463, 'colsample_bytree': 0.5279895422075104}. Best is trial 6 with value: 0.8705.\n"
     ]
    },
    {
     "name": "stdout",
     "output_type": "stream",
     "text": [
      "[20]\tvalid_0's binary_logloss: 0.384053\n",
      "[30]\tvalid_0's binary_logloss: 0.367056\n",
      "[40]\tvalid_0's binary_logloss: 0.354877\n",
      "[50]\tvalid_0's binary_logloss: 0.348903\n",
      "[60]\tvalid_0's binary_logloss: 0.345147\n",
      "[70]\tvalid_0's binary_logloss: 0.344424\n",
      "[80]\tvalid_0's binary_logloss: 0.342672\n",
      "[90]\tvalid_0's binary_logloss: 0.341156\n",
      "[100]\tvalid_0's binary_logloss: 0.341411\n",
      "Did not meet early stopping. Best iteration is:\n",
      "[91]\tvalid_0's binary_logloss: 0.341114\n",
      "Training until validation scores don't improve for 10 rounds"
     ]
    },
    {
     "name": "stderr",
     "output_type": "stream",
     "text": [
      "[I 2025-02-08 18:50:26,908] Trial 13 finished with value: 0.8405 and parameters: {'num_leaves': 83, 'max_depth': 6, 'learning_rate': 0.06094829043221203, 'min_child_samples': 28, 'subsample': 0.6007462441869997, 'colsample_bytree': 0.6141475558233177}. Best is trial 6 with value: 0.8705.\n"
     ]
    },
    {
     "name": "stdout",
     "output_type": "stream",
     "text": [
      "\n",
      "[10]\tvalid_0's binary_logloss: 0.421243\n",
      "[20]\tvalid_0's binary_logloss: 0.380698\n",
      "[30]\tvalid_0's binary_logloss: 0.361797\n",
      "[40]\tvalid_0's binary_logloss: 0.348923\n",
      "[50]\tvalid_0's binary_logloss: 0.344343\n",
      "[60]\tvalid_0's binary_logloss: 0.341312\n",
      "[70]\tvalid_0's binary_logloss: 0.338943\n",
      "[80]\tvalid_0's binary_logloss: 0.337213\n",
      "[90]\tvalid_0's binary_logloss: 0.336425\n",
      "Early stopping, best iteration is:\n",
      "[85]\tvalid_0's binary_logloss: 0.336095\n",
      "Training until validation scores don't improve for 10 rounds\n",
      "[10]\tvalid_0's binary_logloss: 0.355258\n",
      "[20]\tvalid_0's binary_logloss: 0.338979\n",
      "[30]\tvalid_0's binary_logloss: 0.33514\n",
      "[40]\tvalid_0's binary_logloss: 0.334719\n",
      "Early stopping, best iteration is:\n",
      "[37]\tvalid_0's binary_logloss: 0.333486\n"
     ]
    },
    {
     "name": "stderr",
     "output_type": "stream",
     "text": [
      "[I 2025-02-08 18:50:26,980] Trial 14 finished with value: 0.8705 and parameters: {'num_leaves': 87, 'max_depth': 3, 'learning_rate': 0.2899353587197576, 'min_child_samples': 27, 'subsample': 0.5988508353889053, 'colsample_bytree': 0.5039582480530922}. Best is trial 6 with value: 0.8705.\n",
      "[I 2025-02-08 18:50:27,059] Trial 15 finished with value: 0.8405 and parameters: {'num_leaves': 80, 'max_depth': 3, 'learning_rate': 0.29570892755569306, 'min_child_samples': 32, 'subsample': 0.5951218187707634, 'colsample_bytree': 0.6258791652747746}. Best is trial 6 with value: 0.8705.\n",
      "[I 2025-02-08 18:50:27,153] Trial 16 finished with value: 0.8345 and parameters: {'num_leaves': 128, 'max_depth': 4, 'learning_rate': 0.25507674285754534, 'min_child_samples': 18, 'subsample': 0.5712809556871967, 'colsample_bytree': 0.5045467443459846}. Best is trial 6 with value: 0.8705.\n"
     ]
    },
    {
     "name": "stdout",
     "output_type": "stream",
     "text": [
      "Training until validation scores don't improve for 10 rounds\n",
      "[10]\tvalid_0's binary_logloss: 0.349158\n",
      "[20]\tvalid_0's binary_logloss: 0.334113\n",
      "[30]\tvalid_0's binary_logloss: 0.331168\n",
      "[40]\tvalid_0's binary_logloss: 0.331424\n",
      "Early stopping, best iteration is:\n",
      "[35]\tvalid_0's binary_logloss: 0.330203\n",
      "Training until validation scores don't improve for 10 rounds\n",
      "[10]\tvalid_0's binary_logloss: 0.354262\n",
      "[20]\tvalid_0's binary_logloss: 0.336293\n",
      "[30]\tvalid_0's binary_logloss: 0.333972\n",
      "[40]\tvalid_0's binary_logloss: 0.335351\n",
      "Early stopping, best iteration is:\n",
      "[35]\tvalid_0's binary_logloss: 0.332871\n",
      "Training until validation scores don't improve for 10 rounds\n",
      "[10]\tvalid_0's binary_logloss: 0.386522\n",
      "[20]\tvalid_0's binary_logloss: 0.349904\n"
     ]
    },
    {
     "name": "stderr",
     "output_type": "stream",
     "text": [
      "[I 2025-02-08 18:50:27,263] Trial 17 finished with value: 0.775 and parameters: {'num_leaves': 37, 'max_depth': 7, 'learning_rate': 0.1048445380658842, 'min_child_samples': 73, 'subsample': 0.6507844971160924, 'colsample_bytree': 0.6760408483885827}. Best is trial 6 with value: 0.8705.\n",
      "[I 2025-02-08 18:50:27,357] Trial 18 finished with value: 0.8635 and parameters: {'num_leaves': 130, 'max_depth': 4, 'learning_rate': 0.19427575655253068, 'min_child_samples': 40, 'subsample': 0.5846874895304734, 'colsample_bytree': 0.5914634780267092}. Best is trial 6 with value: 0.8705.\n"
     ]
    },
    {
     "name": "stdout",
     "output_type": "stream",
     "text": [
      "[30]\tvalid_0's binary_logloss: 0.340628\n",
      "[40]\tvalid_0's binary_logloss: 0.33759\n",
      "[50]\tvalid_0's binary_logloss: 0.338284\n",
      "Early stopping, best iteration is:\n",
      "[48]\tvalid_0's binary_logloss: 0.337439\n",
      "Training until validation scores don't improve for 10 rounds\n",
      "[10]\tvalid_0's binary_logloss: 0.362119\n",
      "[20]\tvalid_0's binary_logloss: 0.337751\n",
      "[30]\tvalid_0's binary_logloss: 0.333385\n",
      "[40]\tvalid_0's binary_logloss: 0.332006\n",
      "[50]\tvalid_0's binary_logloss: 0.333674\n",
      "Early stopping, best iteration is:\n",
      "[43]\tvalid_0's binary_logloss: 0.331715\n",
      "Training until validation scores don't improve for 10 rounds\n",
      "[10]\tvalid_0's binary_logloss: 0.404239\n"
     ]
    },
    {
     "name": "stderr",
     "output_type": "stream",
     "text": [
      "[I 2025-02-08 18:50:27,513] Trial 19 finished with value: 0.867 and parameters: {'num_leaves': 73, 'max_depth': 12, 'learning_rate': 0.08159679221787072, 'min_child_samples': 87, 'subsample': 0.5444058941553562, 'colsample_bytree': 0.5667627772136935}. Best is trial 6 with value: 0.8705.\n"
     ]
    },
    {
     "name": "stdout",
     "output_type": "stream",
     "text": [
      "[20]\tvalid_0's binary_logloss: 0.365595\n",
      "[30]\tvalid_0's binary_logloss: 0.352069\n",
      "[40]\tvalid_0's binary_logloss: 0.344076\n",
      "[50]\tvalid_0's binary_logloss: 0.342931\n",
      "[60]\tvalid_0's binary_logloss: 0.343209\n",
      "Early stopping, best iteration is:\n",
      "[52]\tvalid_0's binary_logloss: 0.342466\n",
      "Training until validation scores don't improve for 10 rounds\n",
      "[10]\tvalid_0's binary_logloss: 0.362773\n",
      "[20]\tvalid_0's binary_logloss: 0.339844\n",
      "[30]\tvalid_0's binary_logloss: 0.337447\n"
     ]
    },
    {
     "name": "stderr",
     "output_type": "stream",
     "text": [
      "[I 2025-02-08 18:50:27,639] Trial 20 finished with value: 0.818 and parameters: {'num_leaves': 148, 'max_depth': 7, 'learning_rate': 0.16658481567942618, 'min_child_samples': 17, 'subsample': 0.6394328792101068, 'colsample_bytree': 0.6699774605755346}. Best is trial 6 with value: 0.8705.\n",
      "[I 2025-02-08 18:50:27,776] Trial 21 finished with value: 0.831 and parameters: {'num_leaves': 94, 'max_depth': 5, 'learning_rate': 0.04936202237747705, 'min_child_samples': 30, 'subsample': 0.6387226782937591, 'colsample_bytree': 0.5061792745091687}. Best is trial 6 with value: 0.8705.\n"
     ]
    },
    {
     "name": "stdout",
     "output_type": "stream",
     "text": [
      "[40]\tvalid_0's binary_logloss: 0.338854\n",
      "Early stopping, best iteration is:\n",
      "[33]\tvalid_0's binary_logloss: 0.33657\n",
      "Training until validation scores don't improve for 10 rounds\n",
      "[10]\tvalid_0's binary_logloss: 0.436899\n",
      "[20]\tvalid_0's binary_logloss: 0.397529\n",
      "[30]\tvalid_0's binary_logloss: 0.378317\n",
      "[40]\tvalid_0's binary_logloss: 0.363884\n",
      "[50]\tvalid_0's binary_logloss: 0.356037\n",
      "[60]\tvalid_0's binary_logloss: 0.349295\n",
      "[70]\tvalid_0's binary_logloss: 0.345861\n",
      "[80]\tvalid_0's binary_logloss: 0.342532\n",
      "[90]\tvalid_0's binary_logloss: 0.340325\n",
      "[100]\tvalid_0's binary_logloss: 0.339172\n",
      "Did not meet early stopping. Best iteration is:\n",
      "[99]\tvalid_0's binary_logloss: 0.339125\n",
      "Training until validation scores don't improve for 10 rounds\n"
     ]
    },
    {
     "name": "stderr",
     "output_type": "stream",
     "text": [
      "[I 2025-02-08 18:50:27,867] Trial 22 finished with value: 0.841 and parameters: {'num_leaves': 97, 'max_depth': 7, 'learning_rate': 0.2894497135450009, 'min_child_samples': 19, 'subsample': 0.5042345407718771, 'colsample_bytree': 0.5563446509041458}. Best is trial 6 with value: 0.8705.\n",
      "[I 2025-02-08 18:50:27,976] Trial 23 finished with value: 0.863 and parameters: {'num_leaves': 90, 'max_depth': 3, 'learning_rate': 0.033561997455435554, 'min_child_samples': 37, 'subsample': 0.7391923898828822, 'colsample_bytree': 0.5815949651834332}. Best is trial 6 with value: 0.8705.\n"
     ]
    },
    {
     "name": "stdout",
     "output_type": "stream",
     "text": [
      "[10]\tvalid_0's binary_logloss: 0.351357\n",
      "[20]\tvalid_0's binary_logloss: 0.344683\n",
      "Early stopping, best iteration is:\n",
      "[17]\tvalid_0's binary_logloss: 0.344401\n",
      "Training until validation scores don't improve for 10 rounds\n",
      "[10]\tvalid_0's binary_logloss: 0.455529\n",
      "[20]\tvalid_0's binary_logloss: 0.425787\n",
      "[30]\tvalid_0's binary_logloss: 0.40622\n",
      "[40]\tvalid_0's binary_logloss: 0.389301\n",
      "[50]\tvalid_0's binary_logloss: 0.378792\n",
      "[60]\tvalid_0's binary_logloss: 0.37059\n",
      "[70]\tvalid_0's binary_logloss: 0.363969\n",
      "[80]\tvalid_0's binary_logloss: 0.358704\n",
      "[90]\tvalid_0's binary_logloss: 0.355032\n",
      "[100]\tvalid_0's binary_logloss: 0.351684\n",
      "Did not meet early stopping. Best iteration is:\n",
      "[100]\tvalid_0's binary_logloss: 0.351684\n",
      "Training until validation scores don't improve for 10 rounds\n"
     ]
    },
    {
     "name": "stderr",
     "output_type": "stream",
     "text": [
      "[I 2025-02-08 18:50:28,129] Trial 24 finished with value: 0.859 and parameters: {'num_leaves': 20, 'max_depth': 8, 'learning_rate': 0.010496595356084035, 'min_child_samples': 50, 'subsample': 0.5511893929150216, 'colsample_bytree': 0.7992312635033978}. Best is trial 6 with value: 0.8705.\n"
     ]
    },
    {
     "name": "stdout",
     "output_type": "stream",
     "text": [
      "[10]\tvalid_0's binary_logloss: 0.47975\n",
      "[20]\tvalid_0's binary_logloss: 0.458722\n",
      "[30]\tvalid_0's binary_logloss: 0.44181\n",
      "[40]\tvalid_0's binary_logloss: 0.428377\n",
      "[50]\tvalid_0's binary_logloss: 0.417144\n",
      "[60]\tvalid_0's binary_logloss: 0.406584\n",
      "[70]\tvalid_0's binary_logloss: 0.397288\n",
      "[80]\tvalid_0's binary_logloss: 0.38928\n",
      "[90]\tvalid_0's binary_logloss: 0.382904\n",
      "[100]\tvalid_0's binary_logloss: 0.377818\n",
      "Did not meet early stopping. Best iteration is:\n",
      "[100]\tvalid_0's binary_logloss: 0.377818\n",
      "Training until validation scores don't improve for 10 rounds\n",
      "[10]\tvalid_0's binary_logloss: 0.421775\n",
      "[20]\tvalid_0's binary_logloss: 0.380351\n",
      "[30]\tvalid_0's binary_logloss: 0.362759\n",
      "[40]\tvalid_0's binary_logloss: 0.350907\n",
      "[50]\tvalid_0's binary_logloss: 0.345187\n"
     ]
    },
    {
     "name": "stderr",
     "output_type": "stream",
     "text": [
      "[I 2025-02-08 18:50:28,281] Trial 25 finished with value: 0.87 and parameters: {'num_leaves': 70, 'max_depth': 5, 'learning_rate': 0.06690857658666739, 'min_child_samples': 26, 'subsample': 0.6126424697763153, 'colsample_bytree': 0.5015633463704584}. Best is trial 6 with value: 0.8705.\n",
      "[I 2025-02-08 18:50:28,407] Trial 26 finished with value: 0.869 and parameters: {'num_leaves': 70, 'max_depth': 4, 'learning_rate': 0.035853204614443475, 'min_child_samples': 11, 'subsample': 0.7020200877103697, 'colsample_bytree': 0.5026733426566372}. Best is trial 6 with value: 0.8705.\n"
     ]
    },
    {
     "name": "stdout",
     "output_type": "stream",
     "text": [
      "[60]\tvalid_0's binary_logloss: 0.340722\n",
      "[70]\tvalid_0's binary_logloss: 0.339278\n",
      "[80]\tvalid_0's binary_logloss: 0.337719\n",
      "[90]\tvalid_0's binary_logloss: 0.336296\n",
      "[100]\tvalid_0's binary_logloss: 0.336159\n",
      "Did not meet early stopping. Best iteration is:\n",
      "[99]\tvalid_0's binary_logloss: 0.336052\n",
      "Training until validation scores don't improve for 10 rounds\n",
      "[10]\tvalid_0's binary_logloss: 0.453253\n",
      "[20]\tvalid_0's binary_logloss: 0.419425\n",
      "[30]\tvalid_0's binary_logloss: 0.399355\n",
      "[40]\tvalid_0's binary_logloss: 0.382902\n",
      "[50]\tvalid_0's binary_logloss: 0.372464\n",
      "[60]\tvalid_0's binary_logloss: 0.363057\n",
      "[70]\tvalid_0's binary_logloss: 0.35777\n",
      "[80]\tvalid_0's binary_logloss: 0.351942\n",
      "[90]\tvalid_0's binary_logloss: 0.347559\n",
      "[100]\tvalid_0's binary_logloss: 0.345099\n",
      "Did not meet early stopping. Best iteration is:\n",
      "[100]\tvalid_0's binary_logloss: 0.345099\n"
     ]
    },
    {
     "name": "stderr",
     "output_type": "stream",
     "text": [
      "[I 2025-02-08 18:50:28,543] Trial 27 finished with value: 0.8195 and parameters: {'num_leaves': 42, 'max_depth': 5, 'learning_rate': 0.0733212669581086, 'min_child_samples': 35, 'subsample': 0.9981095854220816, 'colsample_bytree': 0.6374861212499175}. Best is trial 6 with value: 0.8705.\n"
     ]
    },
    {
     "name": "stdout",
     "output_type": "stream",
     "text": [
      "Training until validation scores don't improve for 10 rounds\n",
      "[10]\tvalid_0's binary_logloss: 0.411642\n",
      "[20]\tvalid_0's binary_logloss: 0.373065\n",
      "[30]\tvalid_0's binary_logloss: 0.356103\n",
      "[40]\tvalid_0's binary_logloss: 0.345166\n",
      "[50]\tvalid_0's binary_logloss: 0.340816\n",
      "[60]\tvalid_0's binary_logloss: 0.337591\n",
      "[70]\tvalid_0's binary_logloss: 0.336328\n",
      "[80]\tvalid_0's binary_logloss: 0.335181\n",
      "[90]\tvalid_0's binary_logloss: 0.334202\n",
      "Early stopping, best iteration is:\n",
      "[89]\tvalid_0's binary_logloss: 0.334098\n",
      "Training until validation scores don't improve for 10 rounds\n",
      "[10]\tvalid_0's binary_logloss: 0.470183\n",
      "[20]\tvalid_0's binary_logloss: 0.446247\n",
      "[30]\tvalid_0's binary_logloss: 0.428242\n",
      "[40]\tvalid_0's binary_logloss: 0.413347\n",
      "[50]\tvalid_0's binary_logloss: 0.401769\n",
      "[60]\tvalid_0's binary_logloss: 0.392368\n",
      "[70]\tvalid_0's binary_logloss: 0.384858\n",
      "[80]\tvalid_0's binary_logloss: 0.378726\n",
      "[90]\tvalid_0's binary_logloss: 0.373686\n",
      "[100]\tvalid_0's binary_logloss: 0.369296\n",
      "Did not meet early stopping. Best iteration is:\n",
      "[100]\tvalid_0's binary_logloss: 0.369296\n"
     ]
    },
    {
     "name": "stderr",
     "output_type": "stream",
     "text": [
      "[I 2025-02-08 18:50:28,664] Trial 28 finished with value: 0.8615 and parameters: {'num_leaves': 115, 'max_depth': 4, 'learning_rate': 0.014335735025662648, 'min_child_samples': 22, 'subsample': 0.5584230818236376, 'colsample_bytree': 0.9744881319439486}. Best is trial 6 with value: 0.8705.\n",
      "[I 2025-02-08 18:50:28,762] Trial 29 finished with value: 0.813 and parameters: {'num_leaves': 76, 'max_depth': 6, 'learning_rate': 0.13536566303400632, 'min_child_samples': 90, 'subsample': 0.7802246671795031, 'colsample_bytree': 0.5954340176720967}. Best is trial 6 with value: 0.8705.\n"
     ]
    },
    {
     "name": "stdout",
     "output_type": "stream",
     "text": [
      "Training until validation scores don't improve for 10 rounds\n",
      "[10]\tvalid_0's binary_logloss: 0.377209\n",
      "[20]\tvalid_0's binary_logloss: 0.347396\n",
      "[30]\tvalid_0's binary_logloss: 0.340755\n",
      "[40]\tvalid_0's binary_logloss: 0.338715\n",
      "Early stopping, best iteration is:\n",
      "[35]\tvalid_0's binary_logloss: 0.338588\n",
      "Best parameters found: {'num_leaves': 137, 'max_depth': 4, 'learning_rate': 0.23980918805110849, 'min_child_samples': 89, 'subsample': 0.5540157845788954, 'colsample_bytree': 0.5181621140857728}\n",
      "Training until validation scores don't improve for 10 rounds\n",
      "[10]\tvalid_0's binary_logloss: 0.358105\n",
      "[20]\tvalid_0's binary_logloss: 0.338639\n",
      "[30]\tvalid_0's binary_logloss: 0.334886\n",
      "[40]\tvalid_0's binary_logloss: 0.333847\n",
      "Early stopping, best iteration is:\n",
      "[36]\tvalid_0's binary_logloss: 0.332717\n",
      "Best Threshold: 0.5387\n",
      "Accuracy: 0.8705\n",
      "Classification Report:\n",
      "               precision    recall  f1-score   support\n",
      "\n",
      "           0       0.88      0.98      0.92      1593\n",
      "           1       0.83      0.45      0.59       407\n",
      "\n",
      "    accuracy                           0.87      2000\n",
      "   macro avg       0.85      0.72      0.76      2000\n",
      "weighted avg       0.87      0.87      0.86      2000\n",
      "\n"
     ]
    }
   ],
   "source": [
    "import pandas as pd\n",
    "import lightgbm as lgb\n",
    "import optuna\n",
    "from sklearn.model_selection import train_test_split\n",
    "from sklearn.metrics import accuracy_score, classification_report, precision_recall_curve\n",
    "\n",
    "\n",
    "# X, y 분리\n",
    "y = df['churn']  # 목표 변수\n",
    "X = df.drop(columns=['churn'])  # 특징 변수\n",
    "\n",
    "# 학습 및 테스트 데이터 분할\n",
    "X_train, X_test, y_train, y_test = train_test_split(X, y, test_size=0.2, random_state=42, stratify=y)\n",
    "\n",
    "# Optuna를 이용한 하이퍼파라미터 튜닝\n",
    "def objective(trial):\n",
    "    params = {\n",
    "        'objective': 'binary',\n",
    "        'metric': 'binary_logloss',\n",
    "        'verbosity': -1,\n",
    "        'num_leaves': trial.suggest_int('num_leaves', 20, 150),\n",
    "        'max_depth': trial.suggest_int('max_depth', 3, 15),\n",
    "        'learning_rate': trial.suggest_float('learning_rate', 0.01, 0.3, log=True),\n",
    "        'min_child_samples': trial.suggest_int('min_child_samples', 5, 100),\n",
    "        'subsample': trial.suggest_float('subsample', 0.5, 1.0),\n",
    "        'colsample_bytree': trial.suggest_float('colsample_bytree', 0.5, 1.0)\n",
    "    }\n",
    "    \n",
    "    train_data = lgb.Dataset(X_train, label=y_train)\n",
    "    valid_data = lgb.Dataset(X_test, label=y_test, reference=train_data)\n",
    "    \n",
    "    model = lgb.train(params, train_data, num_boost_round=100,\n",
    "                      valid_sets=[valid_data], \n",
    "                      callbacks=[lgb.early_stopping(10), lgb.log_evaluation(10)])\n",
    "    \n",
    "    y_pred_proba = model.predict(X_test)\n",
    "    precision, recall, thresholds = precision_recall_curve(y_test, y_pred_proba)\n",
    "    best_threshold = thresholds[(precision + recall).argmax()]  # 최적의 threshold 선택\n",
    "    \n",
    "    y_pred = [1 if x > best_threshold else 0 for x in y_pred_proba]\n",
    "    accuracy = accuracy_score(y_test, y_pred)\n",
    "    return accuracy\n",
    "\n",
    "# Optuna 실행\n",
    "study = optuna.create_study(direction='maximize')\n",
    "study.optimize(objective, n_trials=30)\n",
    "\n",
    "# 최적 하이퍼파라미터 출력\n",
    "print(\"Best parameters found:\", study.best_params)\n",
    "\n",
    "# 최적 하이퍼파라미터로 모델 학습\n",
    "best_params = study.best_params\n",
    "best_params.update({'objective': 'binary', 'metric': 'binary_logloss', 'verbosity': -1})\n",
    "\n",
    "train_data = lgb.Dataset(X_train, label=y_train)\n",
    "valid_data = lgb.Dataset(X_test, label=y_test, reference=train_data)\n",
    "\n",
    "model = lgb.train(best_params, train_data, num_boost_round=100,\n",
    "                  valid_sets=[valid_data], \n",
    "                  callbacks=[lgb.early_stopping(10), lgb.log_evaluation(10)])\n",
    "\n",
    "# 최적 모델 예측\n",
    "y_pred_proba = model.predict(X_test)\n",
    "precision, recall, thresholds = precision_recall_curve(y_test, y_pred_proba)\n",
    "best_threshold = thresholds[(precision + recall).argmax()]  # 최적 threshold 선택\n",
    "\n",
    "print(f'Best Threshold: {best_threshold:.4f}')\n",
    "\n",
    "y_pred = [1 if x > best_threshold else 0 for x in y_pred_proba]\n",
    "\n",
    "# 평가\n",
    "accuracy = accuracy_score(y_test, y_pred)\n",
    "report = classification_report(y_test, y_pred)\n",
    "\n",
    "print(f'Accuracy: {accuracy:.4f}')\n",
    "print('Classification Report:\\n', report)\n"
   ]
  },
  {
   "cell_type": "markdown",
   "metadata": {},
   "source": [
    "Precision과 Recall 균형 조정\n",
    "\n",
    "Precision 증가(0.80 → 0.84)\n",
    "Recall 감소(0.48 → 0.44)\n",
    "이탈 고객을 보다 정확하게 예측하지만, 일부를 놓칠 가능성이 있음\n",
    "비즈니스 목표에 따라 Threshold를 조정할 필요 있음!\n",
    "→ 이탈 고객 Recall을 높이고 싶다면 더 낮은 Threshold를 시도하는 것도 가능"
   ]
  },
  {
   "cell_type": "code",
   "execution_count": null,
   "metadata": {},
   "outputs": [],
   "source": []
  }
 ],
 "metadata": {
  "kernelspec": {
   "display_name": "psystudy_env",
   "language": "python",
   "name": "python3"
  },
  "language_info": {
   "codemirror_mode": {
    "name": "ipython",
    "version": 3
   },
   "file_extension": ".py",
   "mimetype": "text/x-python",
   "name": "python",
   "nbconvert_exporter": "python",
   "pygments_lexer": "ipython3",
   "version": "3.12.8"
  }
 },
 "nbformat": 4,
 "nbformat_minor": 2
}
