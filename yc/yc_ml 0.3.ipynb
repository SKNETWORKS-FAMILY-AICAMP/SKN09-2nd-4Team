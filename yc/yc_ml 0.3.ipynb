{
 "cells": [
  {
   "cell_type": "code",
   "execution_count": 1,
   "metadata": {},
   "outputs": [],
   "source": [
    "import numpy as np\n",
    "import pandas as pd"
   ]
  },
  {
   "cell_type": "code",
   "execution_count": 2,
   "metadata": {},
   "outputs": [],
   "source": [
    "df=pd.read_csv('./data/preprocessed_Bank_Customer_Churn_Prediction.csv')"
   ]
  },
  {
   "cell_type": "code",
   "execution_count": 3,
   "metadata": {},
   "outputs": [
    {
     "data": {
      "text/html": [
       "<div>\n",
       "<style scoped>\n",
       "    .dataframe tbody tr th:only-of-type {\n",
       "        vertical-align: middle;\n",
       "    }\n",
       "\n",
       "    .dataframe tbody tr th {\n",
       "        vertical-align: top;\n",
       "    }\n",
       "\n",
       "    .dataframe thead th {\n",
       "        text-align: right;\n",
       "    }\n",
       "</style>\n",
       "<table border=\"1\" class=\"dataframe\">\n",
       "  <thead>\n",
       "    <tr style=\"text-align: right;\">\n",
       "      <th></th>\n",
       "      <th>credit_score</th>\n",
       "      <th>country</th>\n",
       "      <th>gender</th>\n",
       "      <th>age</th>\n",
       "      <th>tenure</th>\n",
       "      <th>balance</th>\n",
       "      <th>products_number</th>\n",
       "      <th>credit_card</th>\n",
       "      <th>active_member</th>\n",
       "      <th>estimated_salary</th>\n",
       "      <th>churn</th>\n",
       "    </tr>\n",
       "  </thead>\n",
       "  <tbody>\n",
       "    <tr>\n",
       "      <th>0</th>\n",
       "      <td>619</td>\n",
       "      <td>0</td>\n",
       "      <td>1</td>\n",
       "      <td>42</td>\n",
       "      <td>2</td>\n",
       "      <td>0.00</td>\n",
       "      <td>1</td>\n",
       "      <td>1</td>\n",
       "      <td>1</td>\n",
       "      <td>101348.88</td>\n",
       "      <td>1</td>\n",
       "    </tr>\n",
       "    <tr>\n",
       "      <th>1</th>\n",
       "      <td>608</td>\n",
       "      <td>2</td>\n",
       "      <td>1</td>\n",
       "      <td>41</td>\n",
       "      <td>1</td>\n",
       "      <td>83807.86</td>\n",
       "      <td>1</td>\n",
       "      <td>0</td>\n",
       "      <td>1</td>\n",
       "      <td>112542.58</td>\n",
       "      <td>0</td>\n",
       "    </tr>\n",
       "    <tr>\n",
       "      <th>2</th>\n",
       "      <td>502</td>\n",
       "      <td>0</td>\n",
       "      <td>1</td>\n",
       "      <td>42</td>\n",
       "      <td>8</td>\n",
       "      <td>159660.80</td>\n",
       "      <td>3</td>\n",
       "      <td>1</td>\n",
       "      <td>0</td>\n",
       "      <td>113931.57</td>\n",
       "      <td>1</td>\n",
       "    </tr>\n",
       "    <tr>\n",
       "      <th>3</th>\n",
       "      <td>699</td>\n",
       "      <td>0</td>\n",
       "      <td>1</td>\n",
       "      <td>39</td>\n",
       "      <td>1</td>\n",
       "      <td>0.00</td>\n",
       "      <td>2</td>\n",
       "      <td>0</td>\n",
       "      <td>0</td>\n",
       "      <td>93826.63</td>\n",
       "      <td>0</td>\n",
       "    </tr>\n",
       "    <tr>\n",
       "      <th>4</th>\n",
       "      <td>850</td>\n",
       "      <td>2</td>\n",
       "      <td>1</td>\n",
       "      <td>43</td>\n",
       "      <td>2</td>\n",
       "      <td>125510.82</td>\n",
       "      <td>1</td>\n",
       "      <td>1</td>\n",
       "      <td>1</td>\n",
       "      <td>79084.10</td>\n",
       "      <td>0</td>\n",
       "    </tr>\n",
       "    <tr>\n",
       "      <th>...</th>\n",
       "      <td>...</td>\n",
       "      <td>...</td>\n",
       "      <td>...</td>\n",
       "      <td>...</td>\n",
       "      <td>...</td>\n",
       "      <td>...</td>\n",
       "      <td>...</td>\n",
       "      <td>...</td>\n",
       "      <td>...</td>\n",
       "      <td>...</td>\n",
       "      <td>...</td>\n",
       "    </tr>\n",
       "    <tr>\n",
       "      <th>9995</th>\n",
       "      <td>771</td>\n",
       "      <td>0</td>\n",
       "      <td>0</td>\n",
       "      <td>39</td>\n",
       "      <td>5</td>\n",
       "      <td>0.00</td>\n",
       "      <td>2</td>\n",
       "      <td>1</td>\n",
       "      <td>0</td>\n",
       "      <td>96270.64</td>\n",
       "      <td>0</td>\n",
       "    </tr>\n",
       "    <tr>\n",
       "      <th>9996</th>\n",
       "      <td>516</td>\n",
       "      <td>0</td>\n",
       "      <td>0</td>\n",
       "      <td>35</td>\n",
       "      <td>10</td>\n",
       "      <td>57369.61</td>\n",
       "      <td>1</td>\n",
       "      <td>1</td>\n",
       "      <td>1</td>\n",
       "      <td>101699.77</td>\n",
       "      <td>0</td>\n",
       "    </tr>\n",
       "    <tr>\n",
       "      <th>9997</th>\n",
       "      <td>709</td>\n",
       "      <td>0</td>\n",
       "      <td>1</td>\n",
       "      <td>36</td>\n",
       "      <td>7</td>\n",
       "      <td>0.00</td>\n",
       "      <td>1</td>\n",
       "      <td>0</td>\n",
       "      <td>1</td>\n",
       "      <td>42085.58</td>\n",
       "      <td>1</td>\n",
       "    </tr>\n",
       "    <tr>\n",
       "      <th>9998</th>\n",
       "      <td>772</td>\n",
       "      <td>1</td>\n",
       "      <td>0</td>\n",
       "      <td>42</td>\n",
       "      <td>3</td>\n",
       "      <td>75075.31</td>\n",
       "      <td>2</td>\n",
       "      <td>1</td>\n",
       "      <td>0</td>\n",
       "      <td>92888.52</td>\n",
       "      <td>1</td>\n",
       "    </tr>\n",
       "    <tr>\n",
       "      <th>9999</th>\n",
       "      <td>792</td>\n",
       "      <td>0</td>\n",
       "      <td>1</td>\n",
       "      <td>28</td>\n",
       "      <td>4</td>\n",
       "      <td>130142.79</td>\n",
       "      <td>1</td>\n",
       "      <td>1</td>\n",
       "      <td>0</td>\n",
       "      <td>38190.78</td>\n",
       "      <td>0</td>\n",
       "    </tr>\n",
       "  </tbody>\n",
       "</table>\n",
       "<p>10000 rows × 11 columns</p>\n",
       "</div>"
      ],
      "text/plain": [
       "      credit_score  country  gender  age  tenure    balance  products_number  \\\n",
       "0              619        0       1   42       2       0.00                1   \n",
       "1              608        2       1   41       1   83807.86                1   \n",
       "2              502        0       1   42       8  159660.80                3   \n",
       "3              699        0       1   39       1       0.00                2   \n",
       "4              850        2       1   43       2  125510.82                1   \n",
       "...            ...      ...     ...  ...     ...        ...              ...   \n",
       "9995           771        0       0   39       5       0.00                2   \n",
       "9996           516        0       0   35      10   57369.61                1   \n",
       "9997           709        0       1   36       7       0.00                1   \n",
       "9998           772        1       0   42       3   75075.31                2   \n",
       "9999           792        0       1   28       4  130142.79                1   \n",
       "\n",
       "      credit_card  active_member  estimated_salary  churn  \n",
       "0               1              1         101348.88      1  \n",
       "1               0              1         112542.58      0  \n",
       "2               1              0         113931.57      1  \n",
       "3               0              0          93826.63      0  \n",
       "4               1              1          79084.10      0  \n",
       "...           ...            ...               ...    ...  \n",
       "9995            1              0          96270.64      0  \n",
       "9996            1              1         101699.77      0  \n",
       "9997            0              1          42085.58      1  \n",
       "9998            1              0          92888.52      1  \n",
       "9999            1              0          38190.78      0  \n",
       "\n",
       "[10000 rows x 11 columns]"
      ]
     },
     "execution_count": 3,
     "metadata": {},
     "output_type": "execute_result"
    }
   ],
   "source": [
    "df\n"
   ]
  },
  {
   "cell_type": "markdown",
   "metadata": {},
   "source": [
    "### XGBOOST 사용"
   ]
  },
  {
   "cell_type": "code",
   "execution_count": 4,
   "metadata": {},
   "outputs": [
    {
     "name": "stdout",
     "output_type": "stream",
     "text": [
      "Accuracy: 0.8530\n",
      "Classification Report:\n",
      "               precision    recall  f1-score   support\n",
      "\n",
      "           0     0.8802    0.9439    0.9109      2389\n",
      "           1     0.6941    0.4975    0.5796       611\n",
      "\n",
      "    accuracy                         0.8530      3000\n",
      "   macro avg     0.7871    0.7207    0.7453      3000\n",
      "weighted avg     0.8423    0.8530    0.8434      3000\n",
      "\n"
     ]
    },
    {
     "name": "stderr",
     "output_type": "stream",
     "text": [
      "c:\\Users\\Playdata\\AppData\\Local\\anaconda3\\envs\\psystudy_env\\Lib\\site-packages\\xgboost\\core.py:158: UserWarning: [20:25:21] WARNING: C:\\buildkite-agent\\builds\\buildkite-windows-cpu-autoscaling-group-i-08cbc0333d8d4aae1-1\\xgboost\\xgboost-ci-windows\\src\\learner.cc:740: \n",
      "Parameters: { \"use_label_encoder\" } are not used.\n",
      "\n",
      "  warnings.warn(smsg, UserWarning)\n"
     ]
    }
   ],
   "source": [
    "import pandas as pd\n",
    "import xgboost as xgb\n",
    "from sklearn.model_selection import train_test_split\n",
    "from sklearn.metrics import accuracy_score, classification_report\n",
    "\n",
    "\n",
    "# X, y 분리\n",
    "y = df['churn']  # 목표 변수\n",
    "X = df.drop(columns=['churn'])  # 특징 변수\n",
    "\n",
    "# 학습 및 테스트 데이터 분할\n",
    "X_train, X_test, y_train, y_test = train_test_split(X, y, test_size=0.3, random_state=42, stratify=y)\n",
    "\n",
    "# XGBoost 모델 생성 및 학습\n",
    "model = xgb.XGBClassifier(\n",
    "    objective='binary:logistic', \n",
    "    eval_metric='logloss', \n",
    "    use_label_encoder=False, \n",
    "    random_state=42\n",
    ")\n",
    "model.fit(X_train, y_train)\n",
    "\n",
    "# 예측\n",
    "y_pred = model.predict(X_test)\n",
    "\n",
    "# 평가\n",
    "accuracy = accuracy_score(y_test, y_pred)\n",
    "report = classification_report(y_test, y_pred, digits=4)\n",
    "\n",
    "print(f'Accuracy: {accuracy:.4f}')\n",
    "print('Classification Report:\\n', report)\n"
   ]
  },
  {
   "cell_type": "code",
   "execution_count": 5,
   "metadata": {},
   "outputs": [
    {
     "name": "stderr",
     "output_type": "stream",
     "text": [
      "c:\\Users\\Playdata\\AppData\\Local\\anaconda3\\envs\\psystudy_env\\Lib\\site-packages\\xgboost\\core.py:158: UserWarning: [20:25:21] WARNING: C:\\buildkite-agent\\builds\\buildkite-windows-cpu-autoscaling-group-i-08cbc0333d8d4aae1-1\\xgboost\\xgboost-ci-windows\\src\\learner.cc:740: \n",
      "Parameters: { \"n_estimators\" } are not used.\n",
      "\n",
      "  warnings.warn(smsg, UserWarning)\n"
     ]
    },
    {
     "name": "stdout",
     "output_type": "stream",
     "text": [
      "Best n_estimators: 59\n",
      "Accuracy: 0.8673\n",
      "Classification Report:\n",
      "               precision    recall  f1-score   support\n",
      "\n",
      "           0     0.8775    0.9686    0.9208      2389\n",
      "           1     0.7934    0.4714    0.5914       611\n",
      "\n",
      "    accuracy                         0.8673      3000\n",
      "   macro avg     0.8355    0.7200    0.7561      3000\n",
      "weighted avg     0.8604    0.8673    0.8537      3000\n",
      "\n"
     ]
    }
   ],
   "source": [
    "import pandas as pd\n",
    "import xgboost as xgb\n",
    "from sklearn.model_selection import train_test_split, StratifiedKFold\n",
    "from sklearn.metrics import accuracy_score, classification_report\n",
    "\n",
    "# 데이터 준비\n",
    "y = df['churn']\n",
    "X = df.drop(columns=['churn'])\n",
    "\n",
    "# 학습 및 테스트 데이터 분할\n",
    "X_train, X_test, y_train, y_test = train_test_split(X, y, test_size=0.3, random_state=42, stratify=y)\n",
    "\n",
    "# 하이퍼파라미터 설정\n",
    "params = {\n",
    "    'objective': 'binary:logistic',\n",
    "    'eval_metric': 'logloss',\n",
    "    'random_state': 42,\n",
    "    'learning_rate': 0.1,\n",
    "    'max_depth': 5,\n",
    "    'subsample': 0.8,\n",
    "    'colsample_bytree': 0.8,\n",
    "    'n_estimators': 100\n",
    "}\n",
    "\n",
    "# ✅ XGBoost의 cv 기능 사용\n",
    "cv_results = xgb.cv(\n",
    "    params=params,\n",
    "    dtrain=xgb.DMatrix(X_train, label=y_train),\n",
    "    num_boost_round=100,\n",
    "    nfold=5,\n",
    "    stratified=True,\n",
    "    metrics='logloss',\n",
    "    early_stopping_rounds=10\n",
    ")\n",
    "\n",
    "# 최적 n_estimators 설정\n",
    "best_n_estimators = len(cv_results)\n",
    "params['n_estimators'] = best_n_estimators\n",
    "\n",
    "# 최적 모델 학습\n",
    "model = xgb.XGBClassifier(**params)\n",
    "model.fit(X_train, y_train)\n",
    "\n",
    "# 예측\n",
    "y_pred = model.predict(X_test)\n",
    "\n",
    "# 평가\n",
    "accuracy = accuracy_score(y_test, y_pred)\n",
    "report = classification_report(y_test, y_pred, digits=4)\n",
    "\n",
    "print(f'Best n_estimators: {best_n_estimators}')\n",
    "print(f'Accuracy: {accuracy:.4f}')\n",
    "print('Classification Report:\\n', report)\n"
   ]
  },
  {
   "cell_type": "markdown",
   "metadata": {},
   "source": [
    "### LGB사용"
   ]
  },
  {
   "cell_type": "code",
   "execution_count": 6,
   "metadata": {},
   "outputs": [
    {
     "name": "stdout",
     "output_type": "stream",
     "text": [
      "Training until validation scores don't improve for 10 rounds\n",
      "[10]\tvalid's binary_logloss: 0.363612\n",
      "[20]\tvalid's binary_logloss: 0.337697\n",
      "[30]\tvalid's binary_logloss: 0.32777\n",
      "[40]\tvalid's binary_logloss: 0.324757\n",
      "[50]\tvalid's binary_logloss: 0.323227\n",
      "[60]\tvalid's binary_logloss: 0.322389\n",
      "[70]\tvalid's binary_logloss: 0.322251\n",
      "Early stopping, best iteration is:\n",
      "[67]\tvalid's binary_logloss: 0.321905\n",
      "Accuracy: 0.8670\n",
      "Classification Report:\n",
      "               precision    recall  f1-score   support\n",
      "\n",
      "           0     0.8806    0.9636    0.9202      2389\n",
      "           1     0.7746    0.4894    0.5998       611\n",
      "\n",
      "    accuracy                         0.8670      3000\n",
      "   macro avg     0.8276    0.7265    0.7600      3000\n",
      "weighted avg     0.8590    0.8670    0.8550      3000\n",
      "\n"
     ]
    }
   ],
   "source": [
    "import pandas as pd\n",
    "import lightgbm as lgb\n",
    "from sklearn.model_selection import train_test_split\n",
    "from sklearn.metrics import accuracy_score, classification_report\n",
    "\n",
    "\n",
    "# X, y 분리\n",
    "y = df['churn']  # 목표 변수\n",
    "X = df.drop(columns=['churn'])  # 특징 변수\n",
    "\n",
    "# 학습 및 테스트 데이터 분할\n",
    "X_train, X_test, y_train, y_test = train_test_split(X, y, test_size=0.3, random_state=42, stratify=y)\n",
    "\n",
    "# LightGBM 데이터셋 생성\n",
    "train_data = lgb.Dataset(X_train, label=y_train)\n",
    "valid_data = lgb.Dataset(X_test, label=y_test, reference=train_data)  # 검증 데이터 설정\n",
    "\n",
    "# LightGBM 모델 학습\n",
    "params = {\n",
    "    'objective': 'binary',\n",
    "    'metric': 'binary_logloss',\n",
    "    'verbosity': -1\n",
    "}\n",
    "\n",
    "# callbacks을 사용하여 early stopping 적용\n",
    "model = lgb.train(params, train_data, num_boost_round=100,\n",
    "                  valid_sets=[valid_data], valid_names=['valid'],\n",
    "                  callbacks=[lgb.early_stopping(10), lgb.log_evaluation(10)])\n",
    "\n",
    "# 예측\n",
    "y_pred = model.predict(X_test)\n",
    "y_pred = [1 if x > 0.5 else 0 for x in y_pred]\n",
    "\n",
    "# 평가\n",
    "accuracy = accuracy_score(y_test, y_pred)\n",
    "report = classification_report(y_test, y_pred, digits=4)\n",
    "\n",
    "\n",
    "print(f'Accuracy: {accuracy:.4f}')\n",
    "print('Classification Report:\\n', report)\n"
   ]
  },
  {
   "cell_type": "markdown",
   "metadata": {},
   "source": [
    "### LGB gridsearch사용"
   ]
  },
  {
   "cell_type": "code",
   "execution_count": 7,
   "metadata": {},
   "outputs": [
    {
     "name": "stdout",
     "output_type": "stream",
     "text": [
      "Fitting 3 folds for each of 729 candidates, totalling 2187 fits\n",
      "Best parameters found: {'colsample_bytree': 0.7, 'learning_rate': 0.05, 'max_depth': 7, 'min_child_samples': 20, 'num_leaves': 20, 'subsample': 0.7}\n",
      "Accuracy: 0.8693\n",
      "Classification Report:\n",
      "               precision    recall  f1-score   support\n",
      "\n",
      "           0     0.8775    0.9715    0.9221      2389\n",
      "           1     0.8085    0.4697    0.5942       611\n",
      "\n",
      "    accuracy                         0.8693      3000\n",
      "   macro avg     0.8430    0.7206    0.7582      3000\n",
      "weighted avg     0.8634    0.8693    0.8553      3000\n",
      "\n"
     ]
    }
   ],
   "source": [
    "import pandas as pd\n",
    "import lightgbm as lgb\n",
    "from sklearn.model_selection import train_test_split, GridSearchCV\n",
    "from sklearn.metrics import accuracy_score, classification_report\n",
    "\n",
    "\n",
    "# X, y 분리\n",
    "y = df['churn']  # 목표 변수\n",
    "X = df.drop(columns=['churn'])  # 특징 변수\n",
    "\n",
    "# 학습 및 테스트 데이터 분할\n",
    "X_train, X_test, y_train, y_test = train_test_split(X, y, test_size=0.3, random_state=42, stratify=y)\n",
    "\n",
    "# LightGBM 모델 객체 생성\n",
    "model = lgb.LGBMClassifier(objective='binary', metric='binary_logloss', verbosity=-1)\n",
    "\n",
    "# 하이퍼파라미터 검색 공간 정의\n",
    "param_grid = {\n",
    "    'num_leaves': [20, 31, 50],\n",
    "    'max_depth': [3, 5, 7],\n",
    "    'learning_rate': [0.01, 0.05, 0.1],\n",
    "    'min_child_samples': [10, 20, 50],\n",
    "    'subsample': [0.7, 0.8, 0.9],\n",
    "    'colsample_bytree': [0.7, 0.8, 0.9]\n",
    "}\n",
    "\n",
    "# Grid Search 수행\n",
    "grid_search = GridSearchCV(\n",
    "    estimator=model,\n",
    "    param_grid=param_grid,\n",
    "    scoring='accuracy',\n",
    "    cv=3,  # 3-폴드 교차검증\n",
    "    verbose=1,\n",
    "    n_jobs=-1\n",
    ")\n",
    "\n",
    "grid_search.fit(X_train, y_train)\n",
    "\n",
    "# 최적 하이퍼파라미터 출력\n",
    "print(\"Best parameters found:\", grid_search.best_params_)\n",
    "\n",
    "# 최적 하이퍼파라미터 적용하여 모델 재학습\n",
    "best_model = grid_search.best_estimator_\n",
    "\n",
    "# 예측\n",
    "y_pred = best_model.predict(X_test)\n",
    "\n",
    "# 평가\n",
    "accuracy = accuracy_score(y_test, y_pred)\n",
    "report = classification_report(y_test, y_pred,digits=4)\n",
    "\n",
    "print(f'Accuracy: {accuracy:.4f}')\n",
    "print('Classification Report:\\n', report)\n"
   ]
  },
  {
   "cell_type": "markdown",
   "metadata": {},
   "source": [
    "---"
   ]
  },
  {
   "cell_type": "markdown",
   "metadata": {},
   "source": [
    "# optuna 사용\n"
   ]
  },
  {
   "cell_type": "code",
   "execution_count": 8,
   "metadata": {},
   "outputs": [
    {
     "name": "stderr",
     "output_type": "stream",
     "text": [
      "[I 2025-02-08 20:28:34,158] A new study created in memory with name: no-name-aecefbd0-5165-4efd-a226-68d48e291fcd\n",
      "C:\\Users\\Playdata\\AppData\\Local\\Temp\\ipykernel_11100\\965261689.py:24: FutureWarning: suggest_loguniform has been deprecated in v3.0.0. This feature will be removed in v6.0.0. See https://github.com/optuna/optuna/releases/tag/v3.0.0. Use suggest_float(..., log=True) instead.\n",
      "  'learning_rate': trial.suggest_loguniform('learning_rate', 0.01, 0.3),\n",
      "C:\\Users\\Playdata\\AppData\\Local\\Temp\\ipykernel_11100\\965261689.py:26: FutureWarning: suggest_uniform has been deprecated in v3.0.0. This feature will be removed in v6.0.0. See https://github.com/optuna/optuna/releases/tag/v3.0.0. Use suggest_float instead.\n",
      "  'subsample': trial.suggest_uniform('subsample', 0.5, 1.0),\n",
      "C:\\Users\\Playdata\\AppData\\Local\\Temp\\ipykernel_11100\\965261689.py:27: FutureWarning: suggest_uniform has been deprecated in v3.0.0. This feature will be removed in v6.0.0. See https://github.com/optuna/optuna/releases/tag/v3.0.0. Use suggest_float instead.\n",
      "  'colsample_bytree': trial.suggest_uniform('colsample_bytree', 0.5, 1.0)\n"
     ]
    },
    {
     "name": "stdout",
     "output_type": "stream",
     "text": [
      "Training until validation scores don't improve for 10 rounds\n",
      "[10]\tvalid_0's binary_logloss: 0.369068\n",
      "[20]\tvalid_0's binary_logloss: 0.341788\n",
      "[30]\tvalid_0's binary_logloss: 0.332273\n"
     ]
    },
    {
     "name": "stderr",
     "output_type": "stream",
     "text": [
      "[I 2025-02-08 20:28:34,394] Trial 0 finished with value: 0.868 and parameters: {'num_leaves': 102, 'max_depth': 15, 'learning_rate': 0.09392912877877257, 'min_child_samples': 65, 'subsample': 0.9572992481157327, 'colsample_bytree': 0.9674451813971876}. Best is trial 0 with value: 0.868.\n"
     ]
    },
    {
     "name": "stdout",
     "output_type": "stream",
     "text": [
      "[40]\tvalid_0's binary_logloss: 0.332453\n",
      "Early stopping, best iteration is:\n",
      "[30]\tvalid_0's binary_logloss: 0.332273\n",
      "Training until validation scores don't improve for 10 rounds\n",
      "[10]\tvalid_0's binary_logloss: 0.451064\n",
      "[20]\tvalid_0's binary_logloss: 0.416115\n",
      "[30]\tvalid_0's binary_logloss: 0.39456\n"
     ]
    },
    {
     "name": "stderr",
     "output_type": "stream",
     "text": [
      "C:\\Users\\Playdata\\AppData\\Local\\Temp\\ipykernel_11100\\965261689.py:24: FutureWarning: suggest_loguniform has been deprecated in v3.0.0. This feature will be removed in v6.0.0. See https://github.com/optuna/optuna/releases/tag/v3.0.0. Use suggest_float(..., log=True) instead.\n",
      "  'learning_rate': trial.suggest_loguniform('learning_rate', 0.01, 0.3),\n",
      "C:\\Users\\Playdata\\AppData\\Local\\Temp\\ipykernel_11100\\965261689.py:26: FutureWarning: suggest_uniform has been deprecated in v3.0.0. This feature will be removed in v6.0.0. See https://github.com/optuna/optuna/releases/tag/v3.0.0. Use suggest_float instead.\n",
      "  'subsample': trial.suggest_uniform('subsample', 0.5, 1.0),\n",
      "C:\\Users\\Playdata\\AppData\\Local\\Temp\\ipykernel_11100\\965261689.py:27: FutureWarning: suggest_uniform has been deprecated in v3.0.0. This feature will be removed in v6.0.0. See https://github.com/optuna/optuna/releases/tag/v3.0.0. Use suggest_float instead.\n",
      "  'colsample_bytree': trial.suggest_uniform('colsample_bytree', 0.5, 1.0)\n"
     ]
    },
    {
     "name": "stdout",
     "output_type": "stream",
     "text": [
      "[40]\tvalid_0's binary_logloss: 0.37525\n",
      "[50]\tvalid_0's binary_logloss: 0.364003\n",
      "[60]\tvalid_0's binary_logloss: 0.354626\n"
     ]
    },
    {
     "name": "stderr",
     "output_type": "stream",
     "text": [
      "[I 2025-02-08 20:28:35,024] Trial 1 finished with value: 0.8703333333333333 and parameters: {'num_leaves': 141, 'max_depth': 11, 'learning_rate': 0.03059362807672799, 'min_child_samples': 44, 'subsample': 0.9951404646963116, 'colsample_bytree': 0.5962777131433259}. Best is trial 1 with value: 0.8703333333333333.\n"
     ]
    },
    {
     "name": "stdout",
     "output_type": "stream",
     "text": [
      "[70]\tvalid_0's binary_logloss: 0.348139\n",
      "[80]\tvalid_0's binary_logloss: 0.341836\n",
      "[90]\tvalid_0's binary_logloss: 0.337978\n",
      "[100]\tvalid_0's binary_logloss: 0.335031\n",
      "Did not meet early stopping. Best iteration is:\n",
      "[100]\tvalid_0's binary_logloss: 0.335031\n"
     ]
    },
    {
     "name": "stderr",
     "output_type": "stream",
     "text": [
      "C:\\Users\\Playdata\\AppData\\Local\\Temp\\ipykernel_11100\\965261689.py:24: FutureWarning: suggest_loguniform has been deprecated in v3.0.0. This feature will be removed in v6.0.0. See https://github.com/optuna/optuna/releases/tag/v3.0.0. Use suggest_float(..., log=True) instead.\n",
      "  'learning_rate': trial.suggest_loguniform('learning_rate', 0.01, 0.3),\n",
      "C:\\Users\\Playdata\\AppData\\Local\\Temp\\ipykernel_11100\\965261689.py:26: FutureWarning: suggest_uniform has been deprecated in v3.0.0. This feature will be removed in v6.0.0. See https://github.com/optuna/optuna/releases/tag/v3.0.0. Use suggest_float instead.\n",
      "  'subsample': trial.suggest_uniform('subsample', 0.5, 1.0),\n",
      "C:\\Users\\Playdata\\AppData\\Local\\Temp\\ipykernel_11100\\965261689.py:27: FutureWarning: suggest_uniform has been deprecated in v3.0.0. This feature will be removed in v6.0.0. See https://github.com/optuna/optuna/releases/tag/v3.0.0. Use suggest_float instead.\n",
      "  'colsample_bytree': trial.suggest_uniform('colsample_bytree', 0.5, 1.0)\n"
     ]
    },
    {
     "name": "stdout",
     "output_type": "stream",
     "text": [
      "Training until validation scores don't improve for 10 rounds\n",
      "[10]\tvalid_0's binary_logloss: 0.461247\n",
      "[20]\tvalid_0's binary_logloss: 0.431522\n",
      "[30]\tvalid_0's binary_logloss: 0.409214\n",
      "[40]\tvalid_0's binary_logloss: 0.392885\n",
      "[50]\tvalid_0's binary_logloss: 0.380659\n",
      "[60]\tvalid_0's binary_logloss: 0.369902\n",
      "[70]\tvalid_0's binary_logloss: 0.36154\n",
      "[80]\tvalid_0's binary_logloss: 0.355085\n"
     ]
    },
    {
     "name": "stderr",
     "output_type": "stream",
     "text": [
      "[I 2025-02-08 20:28:35,287] Trial 2 finished with value: 0.8626666666666667 and parameters: {'num_leaves': 34, 'max_depth': 6, 'learning_rate': 0.016993299311213607, 'min_child_samples': 7, 'subsample': 0.9636725268244113, 'colsample_bytree': 0.9182427175837214}. Best is trial 1 with value: 0.8703333333333333.\n"
     ]
    },
    {
     "name": "stdout",
     "output_type": "stream",
     "text": [
      "[90]\tvalid_0's binary_logloss: 0.350078\n",
      "[100]\tvalid_0's binary_logloss: 0.345693\n",
      "Did not meet early stopping. Best iteration is:\n",
      "[100]\tvalid_0's binary_logloss: 0.345693\n",
      "Training until validation scores don't improve for 10 rounds\n",
      "[10]\tvalid_0's binary_logloss: 0.373431\n",
      "[20]\tvalid_0's binary_logloss: 0.34477\n"
     ]
    },
    {
     "name": "stderr",
     "output_type": "stream",
     "text": [
      "C:\\Users\\Playdata\\AppData\\Local\\Temp\\ipykernel_11100\\965261689.py:24: FutureWarning: suggest_loguniform has been deprecated in v3.0.0. This feature will be removed in v6.0.0. See https://github.com/optuna/optuna/releases/tag/v3.0.0. Use suggest_float(..., log=True) instead.\n",
      "  'learning_rate': trial.suggest_loguniform('learning_rate', 0.01, 0.3),\n",
      "C:\\Users\\Playdata\\AppData\\Local\\Temp\\ipykernel_11100\\965261689.py:26: FutureWarning: suggest_uniform has been deprecated in v3.0.0. This feature will be removed in v6.0.0. See https://github.com/optuna/optuna/releases/tag/v3.0.0. Use suggest_float instead.\n",
      "  'subsample': trial.suggest_uniform('subsample', 0.5, 1.0),\n",
      "C:\\Users\\Playdata\\AppData\\Local\\Temp\\ipykernel_11100\\965261689.py:27: FutureWarning: suggest_uniform has been deprecated in v3.0.0. This feature will be removed in v6.0.0. See https://github.com/optuna/optuna/releases/tag/v3.0.0. Use suggest_float instead.\n",
      "  'colsample_bytree': trial.suggest_uniform('colsample_bytree', 0.5, 1.0)\n",
      "[I 2025-02-08 20:28:35,511] Trial 3 finished with value: 0.8666666666666667 and parameters: {'num_leaves': 121, 'max_depth': 11, 'learning_rate': 0.16675878914710532, 'min_child_samples': 10, 'subsample': 0.7619517881826199, 'colsample_bytree': 0.5185100769875186}. Best is trial 1 with value: 0.8703333333333333.\n",
      "C:\\Users\\Playdata\\AppData\\Local\\Temp\\ipykernel_11100\\965261689.py:24: FutureWarning: suggest_loguniform has been deprecated in v3.0.0. This feature will be removed in v6.0.0. See https://github.com/optuna/optuna/releases/tag/v3.0.0. Use suggest_float(..., log=True) instead.\n",
      "  'learning_rate': trial.suggest_loguniform('learning_rate', 0.01, 0.3),\n",
      "C:\\Users\\Playdata\\AppData\\Local\\Temp\\ipykernel_11100\\965261689.py:26: FutureWarning: suggest_uniform has been deprecated in v3.0.0. This feature will be removed in v6.0.0. See https://github.com/optuna/optuna/releases/tag/v3.0.0. Use suggest_float instead.\n",
      "  'subsample': trial.suggest_uniform('subsample', 0.5, 1.0),\n",
      "C:\\Users\\Playdata\\AppData\\Local\\Temp\\ipykernel_11100\\965261689.py:27: FutureWarning: suggest_uniform has been deprecated in v3.0.0. This feature will be removed in v6.0.0. See https://github.com/optuna/optuna/releases/tag/v3.0.0. Use suggest_float instead.\n",
      "  'colsample_bytree': trial.suggest_uniform('colsample_bytree', 0.5, 1.0)\n",
      "[I 2025-02-08 20:28:35,625] Trial 4 finished with value: 0.8666666666666667 and parameters: {'num_leaves': 26, 'max_depth': 15, 'learning_rate': 0.21199773406385425, 'min_child_samples': 56, 'subsample': 0.7659472695681386, 'colsample_bytree': 0.5010582219722817}. Best is trial 1 with value: 0.8703333333333333.\n"
     ]
    },
    {
     "name": "stdout",
     "output_type": "stream",
     "text": [
      "[30]\tvalid_0's binary_logloss: 0.344065\n",
      "Early stopping, best iteration is:\n",
      "[21]\tvalid_0's binary_logloss: 0.342327\n",
      "Training until validation scores don't improve for 10 rounds\n",
      "[10]\tvalid_0's binary_logloss: 0.355842\n",
      "[20]\tvalid_0's binary_logloss: 0.330446\n",
      "[30]\tvalid_0's binary_logloss: 0.328438\n",
      "[40]\tvalid_0's binary_logloss: 0.327049\n",
      "Early stopping, best iteration is:\n",
      "[37]\tvalid_0's binary_logloss: 0.326373\n",
      "Training until validation scores don't improve for 10 rounds\n",
      "[10]\tvalid_0's binary_logloss: 0.476439\n",
      "[20]\tvalid_0's binary_logloss: 0.455292\n",
      "[30]\tvalid_0's binary_logloss: 0.439079\n",
      "[40]\tvalid_0's binary_logloss: 0.42291\n",
      "[50]\tvalid_0's binary_logloss: 0.41153\n",
      "[60]\tvalid_0's binary_logloss: 0.401188\n",
      "[70]\tvalid_0's binary_logloss: 0.392872\n"
     ]
    },
    {
     "name": "stderr",
     "output_type": "stream",
     "text": [
      "C:\\Users\\Playdata\\AppData\\Local\\Temp\\ipykernel_11100\\965261689.py:24: FutureWarning: suggest_loguniform has been deprecated in v3.0.0. This feature will be removed in v6.0.0. See https://github.com/optuna/optuna/releases/tag/v3.0.0. Use suggest_float(..., log=True) instead.\n",
      "  'learning_rate': trial.suggest_loguniform('learning_rate', 0.01, 0.3),\n",
      "C:\\Users\\Playdata\\AppData\\Local\\Temp\\ipykernel_11100\\965261689.py:26: FutureWarning: suggest_uniform has been deprecated in v3.0.0. This feature will be removed in v6.0.0. See https://github.com/optuna/optuna/releases/tag/v3.0.0. Use suggest_float instead.\n",
      "  'subsample': trial.suggest_uniform('subsample', 0.5, 1.0),\n",
      "C:\\Users\\Playdata\\AppData\\Local\\Temp\\ipykernel_11100\\965261689.py:27: FutureWarning: suggest_uniform has been deprecated in v3.0.0. This feature will be removed in v6.0.0. See https://github.com/optuna/optuna/releases/tag/v3.0.0. Use suggest_float instead.\n",
      "  'colsample_bytree': trial.suggest_uniform('colsample_bytree', 0.5, 1.0)\n",
      "[I 2025-02-08 20:28:35,723] Trial 5 finished with value: 0.8453333333333334 and parameters: {'num_leaves': 115, 'max_depth': 3, 'learning_rate': 0.016908312840709303, 'min_child_samples': 50, 'subsample': 0.9851075756068717, 'colsample_bytree': 0.6298063099988375}. Best is trial 1 with value: 0.8703333333333333.\n",
      "C:\\Users\\Playdata\\AppData\\Local\\Temp\\ipykernel_11100\\965261689.py:24: FutureWarning: suggest_loguniform has been deprecated in v3.0.0. This feature will be removed in v6.0.0. See https://github.com/optuna/optuna/releases/tag/v3.0.0. Use suggest_float(..., log=True) instead.\n",
      "  'learning_rate': trial.suggest_loguniform('learning_rate', 0.01, 0.3),\n",
      "C:\\Users\\Playdata\\AppData\\Local\\Temp\\ipykernel_11100\\965261689.py:26: FutureWarning: suggest_uniform has been deprecated in v3.0.0. This feature will be removed in v6.0.0. See https://github.com/optuna/optuna/releases/tag/v3.0.0. Use suggest_float instead.\n",
      "  'subsample': trial.suggest_uniform('subsample', 0.5, 1.0),\n",
      "C:\\Users\\Playdata\\AppData\\Local\\Temp\\ipykernel_11100\\965261689.py:27: FutureWarning: suggest_uniform has been deprecated in v3.0.0. This feature will be removed in v6.0.0. See https://github.com/optuna/optuna/releases/tag/v3.0.0. Use suggest_float instead.\n",
      "  'colsample_bytree': trial.suggest_uniform('colsample_bytree', 0.5, 1.0)\n",
      "[I 2025-02-08 20:28:35,829] Trial 6 finished with value: 0.8683333333333333 and parameters: {'num_leaves': 64, 'max_depth': 10, 'learning_rate': 0.25945132349153144, 'min_child_samples': 92, 'subsample': 0.9182744345992034, 'colsample_bytree': 0.7373562887548155}. Best is trial 1 with value: 0.8703333333333333.\n"
     ]
    },
    {
     "name": "stdout",
     "output_type": "stream",
     "text": [
      "[80]\tvalid_0's binary_logloss: 0.38474\n",
      "[90]\tvalid_0's binary_logloss: 0.378147\n",
      "[100]\tvalid_0's binary_logloss: 0.372314\n",
      "Did not meet early stopping. Best iteration is:\n",
      "[100]\tvalid_0's binary_logloss: 0.372314\n",
      "Training until validation scores don't improve for 10 rounds\n",
      "[10]\tvalid_0's binary_logloss: 0.340184\n",
      "[20]\tvalid_0's binary_logloss: 0.325637\n",
      "[30]\tvalid_0's binary_logloss: 0.32846\n",
      "Early stopping, best iteration is:\n",
      "[22]\tvalid_0's binary_logloss: 0.324919\n",
      "Training until validation scores don't improve for 10 rounds\n",
      "[10]\tvalid_0's binary_logloss: 0.467024\n",
      "[20]\tvalid_0's binary_logloss: 0.441006\n",
      "[30]\tvalid_0's binary_logloss: 0.422259\n",
      "[40]\tvalid_0's binary_logloss: 0.404791\n",
      "[50]\tvalid_0's binary_logloss: 0.392858\n",
      "[60]\tvalid_0's binary_logloss: 0.382506\n",
      "[70]\tvalid_0's binary_logloss: 0.374469\n",
      "[80]\tvalid_0's binary_logloss: 0.366862\n",
      "[90]\tvalid_0's binary_logloss: 0.361111\n",
      "[100]\tvalid_0's binary_logloss: 0.356295\n",
      "Did not meet early stopping. Best iteration is:\n",
      "[100]\tvalid_0's binary_logloss: 0.356295\n"
     ]
    },
    {
     "name": "stderr",
     "output_type": "stream",
     "text": [
      "C:\\Users\\Playdata\\AppData\\Local\\Temp\\ipykernel_11100\\965261689.py:24: FutureWarning: suggest_loguniform has been deprecated in v3.0.0. This feature will be removed in v6.0.0. See https://github.com/optuna/optuna/releases/tag/v3.0.0. Use suggest_float(..., log=True) instead.\n",
      "  'learning_rate': trial.suggest_loguniform('learning_rate', 0.01, 0.3),\n",
      "C:\\Users\\Playdata\\AppData\\Local\\Temp\\ipykernel_11100\\965261689.py:26: FutureWarning: suggest_uniform has been deprecated in v3.0.0. This feature will be removed in v6.0.0. See https://github.com/optuna/optuna/releases/tag/v3.0.0. Use suggest_float instead.\n",
      "  'subsample': trial.suggest_uniform('subsample', 0.5, 1.0),\n",
      "C:\\Users\\Playdata\\AppData\\Local\\Temp\\ipykernel_11100\\965261689.py:27: FutureWarning: suggest_uniform has been deprecated in v3.0.0. This feature will be removed in v6.0.0. See https://github.com/optuna/optuna/releases/tag/v3.0.0. Use suggest_float instead.\n",
      "  'colsample_bytree': trial.suggest_uniform('colsample_bytree', 0.5, 1.0)\n",
      "[I 2025-02-08 20:28:35,918] Trial 7 finished with value: 0.861 and parameters: {'num_leaves': 42, 'max_depth': 3, 'learning_rate': 0.023728316499921114, 'min_child_samples': 56, 'subsample': 0.6280302884451805, 'colsample_bytree': 0.6434185928083846}. Best is trial 1 with value: 0.8703333333333333.\n",
      "C:\\Users\\Playdata\\AppData\\Local\\Temp\\ipykernel_11100\\965261689.py:24: FutureWarning: suggest_loguniform has been deprecated in v3.0.0. This feature will be removed in v6.0.0. See https://github.com/optuna/optuna/releases/tag/v3.0.0. Use suggest_float(..., log=True) instead.\n",
      "  'learning_rate': trial.suggest_loguniform('learning_rate', 0.01, 0.3),\n",
      "C:\\Users\\Playdata\\AppData\\Local\\Temp\\ipykernel_11100\\965261689.py:26: FutureWarning: suggest_uniform has been deprecated in v3.0.0. This feature will be removed in v6.0.0. See https://github.com/optuna/optuna/releases/tag/v3.0.0. Use suggest_float instead.\n",
      "  'subsample': trial.suggest_uniform('subsample', 0.5, 1.0),\n",
      "C:\\Users\\Playdata\\AppData\\Local\\Temp\\ipykernel_11100\\965261689.py:27: FutureWarning: suggest_uniform has been deprecated in v3.0.0. This feature will be removed in v6.0.0. See https://github.com/optuna/optuna/releases/tag/v3.0.0. Use suggest_float instead.\n",
      "  'colsample_bytree': trial.suggest_uniform('colsample_bytree', 0.5, 1.0)\n",
      "[I 2025-02-08 20:28:36,055] Trial 8 finished with value: 0.862 and parameters: {'num_leaves': 131, 'max_depth': 9, 'learning_rate': 0.26764898870145715, 'min_child_samples': 38, 'subsample': 0.6068141553924304, 'colsample_bytree': 0.7912528326671284}. Best is trial 1 with value: 0.8703333333333333.\n",
      "C:\\Users\\Playdata\\AppData\\Local\\Temp\\ipykernel_11100\\965261689.py:24: FutureWarning: suggest_loguniform has been deprecated in v3.0.0. This feature will be removed in v6.0.0. See https://github.com/optuna/optuna/releases/tag/v3.0.0. Use suggest_float(..., log=True) instead.\n",
      "  'learning_rate': trial.suggest_loguniform('learning_rate', 0.01, 0.3),\n",
      "C:\\Users\\Playdata\\AppData\\Local\\Temp\\ipykernel_11100\\965261689.py:26: FutureWarning: suggest_uniform has been deprecated in v3.0.0. This feature will be removed in v6.0.0. See https://github.com/optuna/optuna/releases/tag/v3.0.0. Use suggest_float instead.\n",
      "  'subsample': trial.suggest_uniform('subsample', 0.5, 1.0),\n",
      "C:\\Users\\Playdata\\AppData\\Local\\Temp\\ipykernel_11100\\965261689.py:27: FutureWarning: suggest_uniform has been deprecated in v3.0.0. This feature will be removed in v6.0.0. See https://github.com/optuna/optuna/releases/tag/v3.0.0. Use suggest_float instead.\n",
      "  'colsample_bytree': trial.suggest_uniform('colsample_bytree', 0.5, 1.0)\n"
     ]
    },
    {
     "name": "stdout",
     "output_type": "stream",
     "text": [
      "Training until validation scores don't improve for 10 rounds\n",
      "[10]\tvalid_0's binary_logloss: 0.341342\n",
      "[20]\tvalid_0's binary_logloss: 0.339009\n",
      "Early stopping, best iteration is:\n",
      "[14]\tvalid_0's binary_logloss: 0.338508\n",
      "Training until validation scores don't improve for 10 rounds\n",
      "[10]\tvalid_0's binary_logloss: 0.449982\n",
      "[20]\tvalid_0's binary_logloss: 0.414998\n",
      "[30]\tvalid_0's binary_logloss: 0.391552\n",
      "[40]\tvalid_0's binary_logloss: 0.375264\n"
     ]
    },
    {
     "name": "stderr",
     "output_type": "stream",
     "text": [
      "[I 2025-02-08 20:28:36,232] Trial 9 finished with value: 0.8663333333333333 and parameters: {'num_leaves': 101, 'max_depth': 5, 'learning_rate': 0.02592790303007854, 'min_child_samples': 78, 'subsample': 0.8928960037321187, 'colsample_bytree': 0.8992038743357513}. Best is trial 1 with value: 0.8703333333333333.\n",
      "C:\\Users\\Playdata\\AppData\\Local\\Temp\\ipykernel_11100\\965261689.py:24: FutureWarning: suggest_loguniform has been deprecated in v3.0.0. This feature will be removed in v6.0.0. See https://github.com/optuna/optuna/releases/tag/v3.0.0. Use suggest_float(..., log=True) instead.\n",
      "  'learning_rate': trial.suggest_loguniform('learning_rate', 0.01, 0.3),\n"
     ]
    },
    {
     "name": "stdout",
     "output_type": "stream",
     "text": [
      "[50]\tvalid_0's binary_logloss: 0.363861\n",
      "[60]\tvalid_0's binary_logloss: 0.355143\n",
      "[70]\tvalid_0's binary_logloss: 0.348394\n",
      "[80]\tvalid_0's binary_logloss: 0.343508\n",
      "[90]\tvalid_0's binary_logloss: 0.339363\n",
      "[100]\tvalid_0's binary_logloss: 0.335951\n",
      "Did not meet early stopping. Best iteration is:\n",
      "[100]\tvalid_0's binary_logloss: 0.335951\n",
      "Training until validation scores don't improve for 10 rounds\n"
     ]
    },
    {
     "name": "stderr",
     "output_type": "stream",
     "text": [
      "C:\\Users\\Playdata\\AppData\\Local\\Temp\\ipykernel_11100\\965261689.py:26: FutureWarning: suggest_uniform has been deprecated in v3.0.0. This feature will be removed in v6.0.0. See https://github.com/optuna/optuna/releases/tag/v3.0.0. Use suggest_float instead.\n",
      "  'subsample': trial.suggest_uniform('subsample', 0.5, 1.0),\n",
      "C:\\Users\\Playdata\\AppData\\Local\\Temp\\ipykernel_11100\\965261689.py:27: FutureWarning: suggest_uniform has been deprecated in v3.0.0. This feature will be removed in v6.0.0. See https://github.com/optuna/optuna/releases/tag/v3.0.0. Use suggest_float instead.\n",
      "  'colsample_bytree': trial.suggest_uniform('colsample_bytree', 0.5, 1.0)\n"
     ]
    },
    {
     "name": "stdout",
     "output_type": "stream",
     "text": [
      "[10]\tvalid_0's binary_logloss: 0.428711\n",
      "[20]\tvalid_0's binary_logloss: 0.387881\n",
      "[30]\tvalid_0's binary_logloss: 0.367624\n",
      "[40]\tvalid_0's binary_logloss: 0.350638\n",
      "[50]\tvalid_0's binary_logloss: 0.34344\n",
      "[60]\tvalid_0's binary_logloss: 0.338017\n",
      "[70]\tvalid_0's binary_logloss: 0.334622\n",
      "[80]\tvalid_0's binary_logloss: 0.3319\n",
      "[90]\tvalid_0's binary_logloss: 0.331881\n",
      "Early stopping, best iteration is:\n",
      "[86]\tvalid_0's binary_logloss: 0.331346\n"
     ]
    },
    {
     "name": "stderr",
     "output_type": "stream",
     "text": [
      "[I 2025-02-08 20:28:37,129] Trial 10 finished with value: 0.8673333333333333 and parameters: {'num_leaves': 149, 'max_depth': 12, 'learning_rate': 0.04892595813692864, 'min_child_samples': 29, 'subsample': 0.6900970033503924, 'colsample_bytree': 0.6129196179278745}. Best is trial 1 with value: 0.8703333333333333.\n",
      "C:\\Users\\Playdata\\AppData\\Local\\Temp\\ipykernel_11100\\965261689.py:24: FutureWarning: suggest_loguniform has been deprecated in v3.0.0. This feature will be removed in v6.0.0. See https://github.com/optuna/optuna/releases/tag/v3.0.0. Use suggest_float(..., log=True) instead.\n",
      "  'learning_rate': trial.suggest_loguniform('learning_rate', 0.01, 0.3),\n",
      "C:\\Users\\Playdata\\AppData\\Local\\Temp\\ipykernel_11100\\965261689.py:26: FutureWarning: suggest_uniform has been deprecated in v3.0.0. This feature will be removed in v6.0.0. See https://github.com/optuna/optuna/releases/tag/v3.0.0. Use suggest_float instead.\n",
      "  'subsample': trial.suggest_uniform('subsample', 0.5, 1.0),\n",
      "C:\\Users\\Playdata\\AppData\\Local\\Temp\\ipykernel_11100\\965261689.py:27: FutureWarning: suggest_uniform has been deprecated in v3.0.0. This feature will be removed in v6.0.0. See https://github.com/optuna/optuna/releases/tag/v3.0.0. Use suggest_float instead.\n",
      "  'colsample_bytree': trial.suggest_uniform('colsample_bytree', 0.5, 1.0)\n"
     ]
    },
    {
     "name": "stdout",
     "output_type": "stream",
     "text": [
      "Training until validation scores don't improve for 10 rounds\n",
      "[10]\tvalid_0's binary_logloss: 0.421909\n",
      "[20]\tvalid_0's binary_logloss: 0.379734\n",
      "[30]\tvalid_0's binary_logloss: 0.356095\n",
      "[40]\tvalid_0's binary_logloss: 0.343337\n",
      "[50]\tvalid_0's binary_logloss: 0.336348\n",
      "[60]\tvalid_0's binary_logloss: 0.332174\n",
      "[70]\tvalid_0's binary_logloss: 0.328513\n"
     ]
    },
    {
     "name": "stderr",
     "output_type": "stream",
     "text": [
      "[I 2025-02-08 20:28:37,459] Trial 11 finished with value: 0.8673333333333333 and parameters: {'num_leaves': 70, 'max_depth': 9, 'learning_rate': 0.05139652555597693, 'min_child_samples': 100, 'subsample': 0.8610925947506923, 'colsample_bytree': 0.7489771683458024}. Best is trial 1 with value: 0.8703333333333333.\n"
     ]
    },
    {
     "name": "stdout",
     "output_type": "stream",
     "text": [
      "[80]\tvalid_0's binary_logloss: 0.32633\n",
      "[90]\tvalid_0's binary_logloss: 0.325822\n",
      "[100]\tvalid_0's binary_logloss: 0.325509\n",
      "Did not meet early stopping. Best iteration is:\n",
      "[100]\tvalid_0's binary_logloss: 0.325509\n",
      "Training until validation scores don't improve for 10 rounds\n",
      "[10]\tvalid_0's binary_logloss: 0.38743\n",
      "[20]\tvalid_0's binary_logloss: 0.347212\n"
     ]
    },
    {
     "name": "stderr",
     "output_type": "stream",
     "text": [
      "C:\\Users\\Playdata\\AppData\\Local\\Temp\\ipykernel_11100\\965261689.py:24: FutureWarning: suggest_loguniform has been deprecated in v3.0.0. This feature will be removed in v6.0.0. See https://github.com/optuna/optuna/releases/tag/v3.0.0. Use suggest_float(..., log=True) instead.\n",
      "  'learning_rate': trial.suggest_loguniform('learning_rate', 0.01, 0.3),\n",
      "C:\\Users\\Playdata\\AppData\\Local\\Temp\\ipykernel_11100\\965261689.py:26: FutureWarning: suggest_uniform has been deprecated in v3.0.0. This feature will be removed in v6.0.0. See https://github.com/optuna/optuna/releases/tag/v3.0.0. Use suggest_float instead.\n",
      "  'subsample': trial.suggest_uniform('subsample', 0.5, 1.0),\n",
      "C:\\Users\\Playdata\\AppData\\Local\\Temp\\ipykernel_11100\\965261689.py:27: FutureWarning: suggest_uniform has been deprecated in v3.0.0. This feature will be removed in v6.0.0. See https://github.com/optuna/optuna/releases/tag/v3.0.0. Use suggest_float instead.\n",
      "  'colsample_bytree': trial.suggest_uniform('colsample_bytree', 0.5, 1.0)\n",
      "[I 2025-02-08 20:28:37,739] Trial 12 finished with value: 0.8683333333333333 and parameters: {'num_leaves': 65, 'max_depth': 12, 'learning_rate': 0.08941224884484537, 'min_child_samples': 91, 'subsample': 0.8742945589196004, 'colsample_bytree': 0.7468781487632669}. Best is trial 1 with value: 0.8703333333333333.\n"
     ]
    },
    {
     "name": "stdout",
     "output_type": "stream",
     "text": [
      "[30]\tvalid_0's binary_logloss: 0.333147\n",
      "[40]\tvalid_0's binary_logloss: 0.327321\n",
      "[50]\tvalid_0's binary_logloss: 0.325472\n",
      "[60]\tvalid_0's binary_logloss: 0.32497\n",
      "[70]\tvalid_0's binary_logloss: 0.325747\n",
      "Early stopping, best iteration is:\n",
      "[62]\tvalid_0's binary_logloss: 0.324639\n",
      "Training until validation scores don't improve for 10 rounds\n",
      "[10]\tvalid_0's binary_logloss: 0.482848\n"
     ]
    },
    {
     "name": "stderr",
     "output_type": "stream",
     "text": [
      "C:\\Users\\Playdata\\AppData\\Local\\Temp\\ipykernel_11100\\965261689.py:24: FutureWarning: suggest_loguniform has been deprecated in v3.0.0. This feature will be removed in v6.0.0. See https://github.com/optuna/optuna/releases/tag/v3.0.0. Use suggest_float(..., log=True) instead.\n",
      "  'learning_rate': trial.suggest_loguniform('learning_rate', 0.01, 0.3),\n",
      "C:\\Users\\Playdata\\AppData\\Local\\Temp\\ipykernel_11100\\965261689.py:26: FutureWarning: suggest_uniform has been deprecated in v3.0.0. This feature will be removed in v6.0.0. See https://github.com/optuna/optuna/releases/tag/v3.0.0. Use suggest_float instead.\n",
      "  'subsample': trial.suggest_uniform('subsample', 0.5, 1.0),\n",
      "C:\\Users\\Playdata\\AppData\\Local\\Temp\\ipykernel_11100\\965261689.py:27: FutureWarning: suggest_uniform has been deprecated in v3.0.0. This feature will be removed in v6.0.0. See https://github.com/optuna/optuna/releases/tag/v3.0.0. Use suggest_float instead.\n",
      "  'colsample_bytree': trial.suggest_uniform('colsample_bytree', 0.5, 1.0)\n"
     ]
    },
    {
     "name": "stdout",
     "output_type": "stream",
     "text": [
      "[20]\tvalid_0's binary_logloss: 0.464526\n",
      "[30]\tvalid_0's binary_logloss: 0.446928\n",
      "[40]\tvalid_0's binary_logloss: 0.432904\n",
      "[50]\tvalid_0's binary_logloss: 0.421783\n",
      "[60]\tvalid_0's binary_logloss: 0.411131\n",
      "[70]\tvalid_0's binary_logloss: 0.401697\n",
      "[80]\tvalid_0's binary_logloss: 0.39284\n"
     ]
    },
    {
     "name": "stderr",
     "output_type": "stream",
     "text": [
      "[I 2025-02-08 20:28:38,124] Trial 13 finished with value: 0.831 and parameters: {'num_leaves': 58, 'max_depth': 10, 'learning_rate': 0.010151479885093052, 'min_child_samples': 76, 'subsample': 0.50685043002736, 'colsample_bytree': 0.6875545287836768}. Best is trial 1 with value: 0.8703333333333333.\n"
     ]
    },
    {
     "name": "stdout",
     "output_type": "stream",
     "text": [
      "[90]\tvalid_0's binary_logloss: 0.385605\n",
      "[100]\tvalid_0's binary_logloss: 0.379111\n",
      "Did not meet early stopping. Best iteration is:\n",
      "[100]\tvalid_0's binary_logloss: 0.379111\n",
      "Training until validation scores don't improve for 10 rounds\n",
      "[10]\tvalid_0's binary_logloss: 0.372556\n",
      "[20]\tvalid_0's binary_logloss: 0.338584\n",
      "[30]\tvalid_0's binary_logloss: 0.32934\n"
     ]
    },
    {
     "name": "stderr",
     "output_type": "stream",
     "text": [
      "C:\\Users\\Playdata\\AppData\\Local\\Temp\\ipykernel_11100\\965261689.py:24: FutureWarning: suggest_loguniform has been deprecated in v3.0.0. This feature will be removed in v6.0.0. See https://github.com/optuna/optuna/releases/tag/v3.0.0. Use suggest_float(..., log=True) instead.\n",
      "  'learning_rate': trial.suggest_loguniform('learning_rate', 0.01, 0.3),\n",
      "C:\\Users\\Playdata\\AppData\\Local\\Temp\\ipykernel_11100\\965261689.py:26: FutureWarning: suggest_uniform has been deprecated in v3.0.0. This feature will be removed in v6.0.0. See https://github.com/optuna/optuna/releases/tag/v3.0.0. Use suggest_float instead.\n",
      "  'subsample': trial.suggest_uniform('subsample', 0.5, 1.0),\n",
      "C:\\Users\\Playdata\\AppData\\Local\\Temp\\ipykernel_11100\\965261689.py:27: FutureWarning: suggest_uniform has been deprecated in v3.0.0. This feature will be removed in v6.0.0. See https://github.com/optuna/optuna/releases/tag/v3.0.0. Use suggest_float instead.\n",
      "  'colsample_bytree': trial.suggest_uniform('colsample_bytree', 0.5, 1.0)\n",
      "[I 2025-02-08 20:28:38,361] Trial 14 finished with value: 0.8663333333333333 and parameters: {'num_leaves': 85, 'max_depth': 7, 'learning_rate': 0.09835003545612901, 'min_child_samples': 30, 'subsample': 0.8518274622926714, 'colsample_bytree': 0.8295191437595081}. Best is trial 1 with value: 0.8703333333333333.\n"
     ]
    },
    {
     "name": "stdout",
     "output_type": "stream",
     "text": [
      "[40]\tvalid_0's binary_logloss: 0.327438\n",
      "[50]\tvalid_0's binary_logloss: 0.326597\n",
      "Early stopping, best iteration is:\n",
      "[49]\tvalid_0's binary_logloss: 0.326306\n",
      "Training until validation scores don't improve for 10 rounds\n",
      "[10]\tvalid_0's binary_logloss: 0.450488\n"
     ]
    },
    {
     "name": "stderr",
     "output_type": "stream",
     "text": [
      "C:\\Users\\Playdata\\AppData\\Local\\Temp\\ipykernel_11100\\965261689.py:24: FutureWarning: suggest_loguniform has been deprecated in v3.0.0. This feature will be removed in v6.0.0. See https://github.com/optuna/optuna/releases/tag/v3.0.0. Use suggest_float(..., log=True) instead.\n",
      "  'learning_rate': trial.suggest_loguniform('learning_rate', 0.01, 0.3),\n",
      "C:\\Users\\Playdata\\AppData\\Local\\Temp\\ipykernel_11100\\965261689.py:26: FutureWarning: suggest_uniform has been deprecated in v3.0.0. This feature will be removed in v6.0.0. See https://github.com/optuna/optuna/releases/tag/v3.0.0. Use suggest_float instead.\n",
      "  'subsample': trial.suggest_uniform('subsample', 0.5, 1.0),\n",
      "C:\\Users\\Playdata\\AppData\\Local\\Temp\\ipykernel_11100\\965261689.py:27: FutureWarning: suggest_uniform has been deprecated in v3.0.0. This feature will be removed in v6.0.0. See https://github.com/optuna/optuna/releases/tag/v3.0.0. Use suggest_float instead.\n",
      "  'colsample_bytree': trial.suggest_uniform('colsample_bytree', 0.5, 1.0)\n"
     ]
    },
    {
     "name": "stdout",
     "output_type": "stream",
     "text": [
      "[20]\tvalid_0's binary_logloss: 0.415271\n",
      "[30]\tvalid_0's binary_logloss: 0.393722\n",
      "[40]\tvalid_0's binary_logloss: 0.374297\n",
      "[50]\tvalid_0's binary_logloss: 0.363054\n",
      "[60]\tvalid_0's binary_logloss: 0.353751\n"
     ]
    },
    {
     "name": "stderr",
     "output_type": "stream",
     "text": [
      "[I 2025-02-08 20:28:38,900] Trial 15 finished with value: 0.8703333333333333 and parameters: {'num_leaves': 86, 'max_depth': 13, 'learning_rate': 0.03105649071677099, 'min_child_samples': 44, 'subsample': 0.8120781368599115, 'colsample_bytree': 0.5698270248217359}. Best is trial 1 with value: 0.8703333333333333.\n"
     ]
    },
    {
     "name": "stdout",
     "output_type": "stream",
     "text": [
      "[70]\tvalid_0's binary_logloss: 0.347472\n",
      "[80]\tvalid_0's binary_logloss: 0.341259\n",
      "[90]\tvalid_0's binary_logloss: 0.337353\n",
      "[100]\tvalid_0's binary_logloss: 0.334879\n",
      "Did not meet early stopping. Best iteration is:\n",
      "[100]\tvalid_0's binary_logloss: 0.334879\n"
     ]
    },
    {
     "name": "stderr",
     "output_type": "stream",
     "text": [
      "C:\\Users\\Playdata\\AppData\\Local\\Temp\\ipykernel_11100\\965261689.py:24: FutureWarning: suggest_loguniform has been deprecated in v3.0.0. This feature will be removed in v6.0.0. See https://github.com/optuna/optuna/releases/tag/v3.0.0. Use suggest_float(..., log=True) instead.\n",
      "  'learning_rate': trial.suggest_loguniform('learning_rate', 0.01, 0.3),\n",
      "C:\\Users\\Playdata\\AppData\\Local\\Temp\\ipykernel_11100\\965261689.py:26: FutureWarning: suggest_uniform has been deprecated in v3.0.0. This feature will be removed in v6.0.0. See https://github.com/optuna/optuna/releases/tag/v3.0.0. Use suggest_float instead.\n",
      "  'subsample': trial.suggest_uniform('subsample', 0.5, 1.0),\n",
      "C:\\Users\\Playdata\\AppData\\Local\\Temp\\ipykernel_11100\\965261689.py:27: FutureWarning: suggest_uniform has been deprecated in v3.0.0. This feature will be removed in v6.0.0. See https://github.com/optuna/optuna/releases/tag/v3.0.0. Use suggest_float instead.\n",
      "  'colsample_bytree': trial.suggest_uniform('colsample_bytree', 0.5, 1.0)\n"
     ]
    },
    {
     "name": "stdout",
     "output_type": "stream",
     "text": [
      "Training until validation scores don't improve for 10 rounds\n",
      "[10]\tvalid_0's binary_logloss: 0.442873\n",
      "[20]\tvalid_0's binary_logloss: 0.404373\n",
      "[30]\tvalid_0's binary_logloss: 0.382743\n",
      "[40]\tvalid_0's binary_logloss: 0.363901\n",
      "[50]\tvalid_0's binary_logloss: 0.354225\n",
      "[60]\tvalid_0's binary_logloss: 0.346063\n",
      "[70]\tvalid_0's binary_logloss: 0.340691\n",
      "[80]\tvalid_0's binary_logloss: 0.335396\n"
     ]
    },
    {
     "name": "stderr",
     "output_type": "stream",
     "text": [
      "[I 2025-02-08 20:28:39,701] Trial 16 finished with value: 0.8693333333333333 and parameters: {'num_leaves': 150, 'max_depth': 13, 'learning_rate': 0.036601087101028586, 'min_child_samples': 37, 'subsample': 0.8131097595053938, 'colsample_bytree': 0.5642034987246571}. Best is trial 1 with value: 0.8703333333333333.\n"
     ]
    },
    {
     "name": "stdout",
     "output_type": "stream",
     "text": [
      "[90]\tvalid_0's binary_logloss: 0.332384\n",
      "[100]\tvalid_0's binary_logloss: 0.330786\n",
      "Did not meet early stopping. Best iteration is:\n",
      "[99]\tvalid_0's binary_logloss: 0.330754\n",
      "Training until validation scores don't improve for 10 rounds\n",
      "[10]\tvalid_0's binary_logloss: 0.450283\n"
     ]
    },
    {
     "name": "stderr",
     "output_type": "stream",
     "text": [
      "C:\\Users\\Playdata\\AppData\\Local\\Temp\\ipykernel_11100\\965261689.py:24: FutureWarning: suggest_loguniform has been deprecated in v3.0.0. This feature will be removed in v6.0.0. See https://github.com/optuna/optuna/releases/tag/v3.0.0. Use suggest_float(..., log=True) instead.\n",
      "  'learning_rate': trial.suggest_loguniform('learning_rate', 0.01, 0.3),\n",
      "C:\\Users\\Playdata\\AppData\\Local\\Temp\\ipykernel_11100\\965261689.py:26: FutureWarning: suggest_uniform has been deprecated in v3.0.0. This feature will be removed in v6.0.0. See https://github.com/optuna/optuna/releases/tag/v3.0.0. Use suggest_float instead.\n",
      "  'subsample': trial.suggest_uniform('subsample', 0.5, 1.0),\n",
      "C:\\Users\\Playdata\\AppData\\Local\\Temp\\ipykernel_11100\\965261689.py:27: FutureWarning: suggest_uniform has been deprecated in v3.0.0. This feature will be removed in v6.0.0. See https://github.com/optuna/optuna/releases/tag/v3.0.0. Use suggest_float instead.\n",
      "  'colsample_bytree': trial.suggest_uniform('colsample_bytree', 0.5, 1.0)\n"
     ]
    },
    {
     "name": "stdout",
     "output_type": "stream",
     "text": [
      "[20]\tvalid_0's binary_logloss: 0.414302\n",
      "[30]\tvalid_0's binary_logloss: 0.393214\n",
      "[40]\tvalid_0's binary_logloss: 0.37409\n",
      "[50]\tvalid_0's binary_logloss: 0.362974\n",
      "[60]\tvalid_0's binary_logloss: 0.353791\n",
      "[70]\tvalid_0's binary_logloss: 0.347981\n",
      "[80]\tvalid_0's binary_logloss: 0.341956\n",
      "[90]\tvalid_0's binary_logloss: 0.338651\n"
     ]
    },
    {
     "name": "stderr",
     "output_type": "stream",
     "text": [
      "[I 2025-02-08 20:28:40,309] Trial 17 finished with value: 0.8666666666666667 and parameters: {'num_leaves': 87, 'max_depth': 13, 'learning_rate': 0.03131052563620894, 'min_child_samples': 20, 'subsample': 0.7150536696007608, 'colsample_bytree': 0.570046407759173}. Best is trial 1 with value: 0.8703333333333333.\n"
     ]
    },
    {
     "name": "stdout",
     "output_type": "stream",
     "text": [
      "[100]\tvalid_0's binary_logloss: 0.33571\n",
      "Did not meet early stopping. Best iteration is:\n",
      "[100]\tvalid_0's binary_logloss: 0.33571\n",
      "Training until validation scores don't improve for 10 rounds\n",
      "[10]\tvalid_0's binary_logloss: 0.477947\n"
     ]
    },
    {
     "name": "stderr",
     "output_type": "stream",
     "text": [
      "C:\\Users\\Playdata\\AppData\\Local\\Temp\\ipykernel_11100\\965261689.py:24: FutureWarning: suggest_loguniform has been deprecated in v3.0.0. This feature will be removed in v6.0.0. See https://github.com/optuna/optuna/releases/tag/v3.0.0. Use suggest_float(..., log=True) instead.\n",
      "  'learning_rate': trial.suggest_loguniform('learning_rate', 0.01, 0.3),\n",
      "C:\\Users\\Playdata\\AppData\\Local\\Temp\\ipykernel_11100\\965261689.py:26: FutureWarning: suggest_uniform has been deprecated in v3.0.0. This feature will be removed in v6.0.0. See https://github.com/optuna/optuna/releases/tag/v3.0.0. Use suggest_float instead.\n",
      "  'subsample': trial.suggest_uniform('subsample', 0.5, 1.0),\n",
      "C:\\Users\\Playdata\\AppData\\Local\\Temp\\ipykernel_11100\\965261689.py:27: FutureWarning: suggest_uniform has been deprecated in v3.0.0. This feature will be removed in v6.0.0. See https://github.com/optuna/optuna/releases/tag/v3.0.0. Use suggest_float instead.\n",
      "  'colsample_bytree': trial.suggest_uniform('colsample_bytree', 0.5, 1.0)\n"
     ]
    },
    {
     "name": "stdout",
     "output_type": "stream",
     "text": [
      "[20]\tvalid_0's binary_logloss: 0.456091\n",
      "[30]\tvalid_0's binary_logloss: 0.436574\n",
      "[40]\tvalid_0's binary_logloss: 0.421075\n",
      "[50]\tvalid_0's binary_logloss: 0.408812\n",
      "[60]\tvalid_0's binary_logloss: 0.39711\n",
      "[70]\tvalid_0's binary_logloss: 0.387667\n",
      "[80]\tvalid_0's binary_logloss: 0.378472\n"
     ]
    },
    {
     "name": "stderr",
     "output_type": "stream",
     "text": [
      "[I 2025-02-08 20:28:41,018] Trial 18 finished with value: 0.8533333333333334 and parameters: {'num_leaves': 129, 'max_depth': 14, 'learning_rate': 0.011990552904336246, 'min_child_samples': 43, 'subsample': 0.8033689261838585, 'colsample_bytree': 0.6825663404462388}. Best is trial 1 with value: 0.8703333333333333.\n"
     ]
    },
    {
     "name": "stdout",
     "output_type": "stream",
     "text": [
      "[90]\tvalid_0's binary_logloss: 0.371745\n",
      "[100]\tvalid_0's binary_logloss: 0.365693\n",
      "Did not meet early stopping. Best iteration is:\n",
      "[100]\tvalid_0's binary_logloss: 0.365693\n",
      "Training until validation scores don't improve for 10 rounds\n",
      "[10]\tvalid_0's binary_logloss: 0.439467\n",
      "[20]\tvalid_0's binary_logloss: 0.400756\n"
     ]
    },
    {
     "name": "stderr",
     "output_type": "stream",
     "text": [
      "C:\\Users\\Playdata\\AppData\\Local\\Temp\\ipykernel_11100\\965261689.py:24: FutureWarning: suggest_loguniform has been deprecated in v3.0.0. This feature will be removed in v6.0.0. See https://github.com/optuna/optuna/releases/tag/v3.0.0. Use suggest_float(..., log=True) instead.\n",
      "  'learning_rate': trial.suggest_loguniform('learning_rate', 0.01, 0.3),\n",
      "C:\\Users\\Playdata\\AppData\\Local\\Temp\\ipykernel_11100\\965261689.py:26: FutureWarning: suggest_uniform has been deprecated in v3.0.0. This feature will be removed in v6.0.0. See https://github.com/optuna/optuna/releases/tag/v3.0.0. Use suggest_float instead.\n",
      "  'subsample': trial.suggest_uniform('subsample', 0.5, 1.0),\n",
      "C:\\Users\\Playdata\\AppData\\Local\\Temp\\ipykernel_11100\\965261689.py:27: FutureWarning: suggest_uniform has been deprecated in v3.0.0. This feature will be removed in v6.0.0. See https://github.com/optuna/optuna/releases/tag/v3.0.0. Use suggest_float instead.\n",
      "  'colsample_bytree': trial.suggest_uniform('colsample_bytree', 0.5, 1.0)\n"
     ]
    },
    {
     "name": "stdout",
     "output_type": "stream",
     "text": [
      "[30]\tvalid_0's binary_logloss: 0.379223\n",
      "[40]\tvalid_0's binary_logloss: 0.360478\n",
      "[50]\tvalid_0's binary_logloss: 0.350589\n",
      "[60]\tvalid_0's binary_logloss: 0.343101\n",
      "[70]\tvalid_0's binary_logloss: 0.337674\n",
      "[80]\tvalid_0's binary_logloss: 0.333352\n",
      "[90]\tvalid_0's binary_logloss: 0.330736\n"
     ]
    },
    {
     "name": "stderr",
     "output_type": "stream",
     "text": [
      "[I 2025-02-08 20:28:41,395] Trial 19 finished with value: 0.8733333333333333 and parameters: {'num_leaves': 102, 'max_depth': 8, 'learning_rate': 0.04008017886984275, 'min_child_samples': 64, 'subsample': 0.6547337087660698, 'colsample_bytree': 0.5742628765552298}. Best is trial 19 with value: 0.8733333333333333.\n"
     ]
    },
    {
     "name": "stdout",
     "output_type": "stream",
     "text": [
      "[100]\tvalid_0's binary_logloss: 0.329545\n",
      "Did not meet early stopping. Best iteration is:\n",
      "[100]\tvalid_0's binary_logloss: 0.329545\n",
      "Training until validation scores don't improve for 10 rounds\n",
      "[10]\tvalid_0's binary_logloss: 0.402658\n",
      "[20]\tvalid_0's binary_logloss: 0.359705\n",
      "[30]\tvalid_0's binary_logloss: 0.341115\n"
     ]
    },
    {
     "name": "stderr",
     "output_type": "stream",
     "text": [
      "C:\\Users\\Playdata\\AppData\\Local\\Temp\\ipykernel_11100\\965261689.py:24: FutureWarning: suggest_loguniform has been deprecated in v3.0.0. This feature will be removed in v6.0.0. See https://github.com/optuna/optuna/releases/tag/v3.0.0. Use suggest_float(..., log=True) instead.\n",
      "  'learning_rate': trial.suggest_loguniform('learning_rate', 0.01, 0.3),\n",
      "C:\\Users\\Playdata\\AppData\\Local\\Temp\\ipykernel_11100\\965261689.py:26: FutureWarning: suggest_uniform has been deprecated in v3.0.0. This feature will be removed in v6.0.0. See https://github.com/optuna/optuna/releases/tag/v3.0.0. Use suggest_float instead.\n",
      "  'subsample': trial.suggest_uniform('subsample', 0.5, 1.0),\n",
      "C:\\Users\\Playdata\\AppData\\Local\\Temp\\ipykernel_11100\\965261689.py:27: FutureWarning: suggest_uniform has been deprecated in v3.0.0. This feature will be removed in v6.0.0. See https://github.com/optuna/optuna/releases/tag/v3.0.0. Use suggest_float instead.\n",
      "  'colsample_bytree': trial.suggest_uniform('colsample_bytree', 0.5, 1.0)\n",
      "[I 2025-02-08 20:28:41,697] Trial 20 finished with value: 0.8703333333333333 and parameters: {'num_leaves': 138, 'max_depth': 7, 'learning_rate': 0.07149406755562614, 'min_child_samples': 67, 'subsample': 0.5480044243037713, 'colsample_bytree': 0.6897764973766888}. Best is trial 19 with value: 0.8733333333333333.\n"
     ]
    },
    {
     "name": "stdout",
     "output_type": "stream",
     "text": [
      "[40]\tvalid_0's binary_logloss: 0.332329\n",
      "[50]\tvalid_0's binary_logloss: 0.328816\n",
      "[60]\tvalid_0's binary_logloss: 0.326586\n",
      "[70]\tvalid_0's binary_logloss: 0.325495\n",
      "[80]\tvalid_0's binary_logloss: 0.324564\n",
      "[90]\tvalid_0's binary_logloss: 0.324379\n",
      "Early stopping, best iteration is:\n",
      "[82]\tvalid_0's binary_logloss: 0.324319\n",
      "Training until validation scores don't improve for 10 rounds\n"
     ]
    },
    {
     "name": "stderr",
     "output_type": "stream",
     "text": [
      "C:\\Users\\Playdata\\AppData\\Local\\Temp\\ipykernel_11100\\965261689.py:24: FutureWarning: suggest_loguniform has been deprecated in v3.0.0. This feature will be removed in v6.0.0. See https://github.com/optuna/optuna/releases/tag/v3.0.0. Use suggest_float(..., log=True) instead.\n",
      "  'learning_rate': trial.suggest_loguniform('learning_rate', 0.01, 0.3),\n",
      "C:\\Users\\Playdata\\AppData\\Local\\Temp\\ipykernel_11100\\965261689.py:26: FutureWarning: suggest_uniform has been deprecated in v3.0.0. This feature will be removed in v6.0.0. See https://github.com/optuna/optuna/releases/tag/v3.0.0. Use suggest_float instead.\n",
      "  'subsample': trial.suggest_uniform('subsample', 0.5, 1.0),\n",
      "C:\\Users\\Playdata\\AppData\\Local\\Temp\\ipykernel_11100\\965261689.py:27: FutureWarning: suggest_uniform has been deprecated in v3.0.0. This feature will be removed in v6.0.0. See https://github.com/optuna/optuna/releases/tag/v3.0.0. Use suggest_float instead.\n",
      "  'colsample_bytree': trial.suggest_uniform('colsample_bytree', 0.5, 1.0)\n"
     ]
    },
    {
     "name": "stdout",
     "output_type": "stream",
     "text": [
      "[10]\tvalid_0's binary_logloss: 0.440088\n",
      "[20]\tvalid_0's binary_logloss: 0.401191\n",
      "[30]\tvalid_0's binary_logloss: 0.379737\n",
      "[40]\tvalid_0's binary_logloss: 0.36119\n",
      "[50]\tvalid_0's binary_logloss: 0.351507\n",
      "[60]\tvalid_0's binary_logloss: 0.344147\n"
     ]
    },
    {
     "name": "stderr",
     "output_type": "stream",
     "text": [
      "[I 2025-02-08 20:28:42,124] Trial 21 finished with value: 0.869 and parameters: {'num_leaves': 104, 'max_depth': 8, 'learning_rate': 0.038859972991164636, 'min_child_samples': 45, 'subsample': 0.6851074473437014, 'colsample_bytree': 0.569209433317744}. Best is trial 19 with value: 0.8733333333333333.\n"
     ]
    },
    {
     "name": "stdout",
     "output_type": "stream",
     "text": [
      "[70]\tvalid_0's binary_logloss: 0.339068\n",
      "[80]\tvalid_0's binary_logloss: 0.334265\n",
      "[90]\tvalid_0's binary_logloss: 0.331178\n",
      "[100]\tvalid_0's binary_logloss: 0.330138\n",
      "Did not meet early stopping. Best iteration is:\n",
      "[100]\tvalid_0's binary_logloss: 0.330138\n",
      "Training until validation scores don't improve for 10 rounds\n"
     ]
    },
    {
     "name": "stderr",
     "output_type": "stream",
     "text": [
      "C:\\Users\\Playdata\\AppData\\Local\\Temp\\ipykernel_11100\\965261689.py:24: FutureWarning: suggest_loguniform has been deprecated in v3.0.0. This feature will be removed in v6.0.0. See https://github.com/optuna/optuna/releases/tag/v3.0.0. Use suggest_float(..., log=True) instead.\n",
      "  'learning_rate': trial.suggest_loguniform('learning_rate', 0.01, 0.3),\n",
      "C:\\Users\\Playdata\\AppData\\Local\\Temp\\ipykernel_11100\\965261689.py:26: FutureWarning: suggest_uniform has been deprecated in v3.0.0. This feature will be removed in v6.0.0. See https://github.com/optuna/optuna/releases/tag/v3.0.0. Use suggest_float instead.\n",
      "  'subsample': trial.suggest_uniform('subsample', 0.5, 1.0),\n",
      "C:\\Users\\Playdata\\AppData\\Local\\Temp\\ipykernel_11100\\965261689.py:27: FutureWarning: suggest_uniform has been deprecated in v3.0.0. This feature will be removed in v6.0.0. See https://github.com/optuna/optuna/releases/tag/v3.0.0. Use suggest_float instead.\n",
      "  'colsample_bytree': trial.suggest_uniform('colsample_bytree', 0.5, 1.0)\n"
     ]
    },
    {
     "name": "stdout",
     "output_type": "stream",
     "text": [
      "[10]\tvalid_0's binary_logloss: 0.472019\n",
      "[20]\tvalid_0's binary_logloss: 0.445738\n",
      "[30]\tvalid_0's binary_logloss: 0.427672\n",
      "[40]\tvalid_0's binary_logloss: 0.410498\n",
      "[50]\tvalid_0's binary_logloss: 0.399216\n"
     ]
    },
    {
     "name": "stderr",
     "output_type": "stream",
     "text": [
      "[I 2025-02-08 20:28:42,624] Trial 22 finished with value: 0.8566666666666667 and parameters: {'num_leaves': 93, 'max_depth': 11, 'learning_rate': 0.01904974166955663, 'min_child_samples': 63, 'subsample': 0.6188255469544323, 'colsample_bytree': 0.5471038191219741}. Best is trial 19 with value: 0.8733333333333333.\n"
     ]
    },
    {
     "name": "stdout",
     "output_type": "stream",
     "text": [
      "[60]\tvalid_0's binary_logloss: 0.387186\n",
      "[70]\tvalid_0's binary_logloss: 0.379679\n",
      "[80]\tvalid_0's binary_logloss: 0.370416\n",
      "[90]\tvalid_0's binary_logloss: 0.363989\n",
      "[100]\tvalid_0's binary_logloss: 0.359069\n",
      "Did not meet early stopping. Best iteration is:\n",
      "[100]\tvalid_0's binary_logloss: 0.359069\n"
     ]
    },
    {
     "name": "stderr",
     "output_type": "stream",
     "text": [
      "C:\\Users\\Playdata\\AppData\\Local\\Temp\\ipykernel_11100\\965261689.py:24: FutureWarning: suggest_loguniform has been deprecated in v3.0.0. This feature will be removed in v6.0.0. See https://github.com/optuna/optuna/releases/tag/v3.0.0. Use suggest_float(..., log=True) instead.\n",
      "  'learning_rate': trial.suggest_loguniform('learning_rate', 0.01, 0.3),\n",
      "C:\\Users\\Playdata\\AppData\\Local\\Temp\\ipykernel_11100\\965261689.py:26: FutureWarning: suggest_uniform has been deprecated in v3.0.0. This feature will be removed in v6.0.0. See https://github.com/optuna/optuna/releases/tag/v3.0.0. Use suggest_float instead.\n",
      "  'subsample': trial.suggest_uniform('subsample', 0.5, 1.0),\n",
      "C:\\Users\\Playdata\\AppData\\Local\\Temp\\ipykernel_11100\\965261689.py:27: FutureWarning: suggest_uniform has been deprecated in v3.0.0. This feature will be removed in v6.0.0. See https://github.com/optuna/optuna/releases/tag/v3.0.0. Use suggest_float instead.\n",
      "  'colsample_bytree': trial.suggest_uniform('colsample_bytree', 0.5, 1.0)\n"
     ]
    },
    {
     "name": "stdout",
     "output_type": "stream",
     "text": [
      "Training until validation scores don't improve for 10 rounds\n",
      "[10]\tvalid_0's binary_logloss: 0.415914\n",
      "[20]\tvalid_0's binary_logloss: 0.373042\n",
      "[30]\tvalid_0's binary_logloss: 0.353731\n",
      "[40]\tvalid_0's binary_logloss: 0.339866\n",
      "[50]\tvalid_0's binary_logloss: 0.334804\n",
      "[60]\tvalid_0's binary_logloss: 0.331976\n",
      "[70]\tvalid_0's binary_logloss: 0.330365\n",
      "[80]\tvalid_0's binary_logloss: 0.328657\n"
     ]
    },
    {
     "name": "stderr",
     "output_type": "stream",
     "text": [
      "[I 2025-02-08 20:28:43,141] Trial 23 finished with value: 0.873 and parameters: {'num_leaves': 115, 'max_depth': 13, 'learning_rate': 0.061725458632948545, 'min_child_samples': 50, 'subsample': 0.6645209894348445, 'colsample_bytree': 0.5991945857250507}. Best is trial 19 with value: 0.8733333333333333.\n"
     ]
    },
    {
     "name": "stdout",
     "output_type": "stream",
     "text": [
      "[90]\tvalid_0's binary_logloss: 0.3287\n",
      "Early stopping, best iteration is:\n",
      "[86]\tvalid_0's binary_logloss: 0.327977\n",
      "Training until validation scores don't improve for 10 rounds\n",
      "[10]\tvalid_0's binary_logloss: 0.413713\n",
      "[20]\tvalid_0's binary_logloss: 0.371434\n",
      "[30]\tvalid_0's binary_logloss: 0.352244\n"
     ]
    },
    {
     "name": "stderr",
     "output_type": "stream",
     "text": [
      "C:\\Users\\Playdata\\AppData\\Local\\Temp\\ipykernel_11100\\965261689.py:24: FutureWarning: suggest_loguniform has been deprecated in v3.0.0. This feature will be removed in v6.0.0. See https://github.com/optuna/optuna/releases/tag/v3.0.0. Use suggest_float(..., log=True) instead.\n",
      "  'learning_rate': trial.suggest_loguniform('learning_rate', 0.01, 0.3),\n",
      "C:\\Users\\Playdata\\AppData\\Local\\Temp\\ipykernel_11100\\965261689.py:26: FutureWarning: suggest_uniform has been deprecated in v3.0.0. This feature will be removed in v6.0.0. See https://github.com/optuna/optuna/releases/tag/v3.0.0. Use suggest_float instead.\n",
      "  'subsample': trial.suggest_uniform('subsample', 0.5, 1.0),\n",
      "C:\\Users\\Playdata\\AppData\\Local\\Temp\\ipykernel_11100\\965261689.py:27: FutureWarning: suggest_uniform has been deprecated in v3.0.0. This feature will be removed in v6.0.0. See https://github.com/optuna/optuna/releases/tag/v3.0.0. Use suggest_float instead.\n",
      "  'colsample_bytree': trial.suggest_uniform('colsample_bytree', 0.5, 1.0)\n"
     ]
    },
    {
     "name": "stdout",
     "output_type": "stream",
     "text": [
      "[40]\tvalid_0's binary_logloss: 0.338751\n",
      "[50]\tvalid_0's binary_logloss: 0.333477\n",
      "[60]\tvalid_0's binary_logloss: 0.330091\n",
      "[70]\tvalid_0's binary_logloss: 0.328484\n",
      "[80]\tvalid_0's binary_logloss: 0.326624\n",
      "[90]\tvalid_0's binary_logloss: 0.326023\n",
      "Early stopping, best iteration is:\n",
      "[86]\tvalid_0's binary_logloss: 0.325591\n"
     ]
    },
    {
     "name": "stderr",
     "output_type": "stream",
     "text": [
      "[I 2025-02-08 20:28:43,548] Trial 24 finished with value: 0.8713333333333333 and parameters: {'num_leaves': 117, 'max_depth': 11, 'learning_rate': 0.06359303371511489, 'min_child_samples': 70, 'subsample': 0.660962245991575, 'colsample_bytree': 0.6160139381248273}. Best is trial 19 with value: 0.8733333333333333.\n",
      "C:\\Users\\Playdata\\AppData\\Local\\Temp\\ipykernel_11100\\965261689.py:24: FutureWarning: suggest_loguniform has been deprecated in v3.0.0. This feature will be removed in v6.0.0. See https://github.com/optuna/optuna/releases/tag/v3.0.0. Use suggest_float(..., log=True) instead.\n",
      "  'learning_rate': trial.suggest_loguniform('learning_rate', 0.01, 0.3),\n",
      "C:\\Users\\Playdata\\AppData\\Local\\Temp\\ipykernel_11100\\965261689.py:26: FutureWarning: suggest_uniform has been deprecated in v3.0.0. This feature will be removed in v6.0.0. See https://github.com/optuna/optuna/releases/tag/v3.0.0. Use suggest_float instead.\n",
      "  'subsample': trial.suggest_uniform('subsample', 0.5, 1.0),\n",
      "C:\\Users\\Playdata\\AppData\\Local\\Temp\\ipykernel_11100\\965261689.py:27: FutureWarning: suggest_uniform has been deprecated in v3.0.0. This feature will be removed in v6.0.0. See https://github.com/optuna/optuna/releases/tag/v3.0.0. Use suggest_float instead.\n",
      "  'colsample_bytree': trial.suggest_uniform('colsample_bytree', 0.5, 1.0)\n"
     ]
    },
    {
     "name": "stdout",
     "output_type": "stream",
     "text": [
      "Training until validation scores don't improve for 10 rounds\n",
      "[10]\tvalid_0's binary_logloss: 0.405805\n",
      "[20]\tvalid_0's binary_logloss: 0.362882\n",
      "[30]\tvalid_0's binary_logloss: 0.343212\n",
      "[40]\tvalid_0's binary_logloss: 0.333661\n",
      "[50]\tvalid_0's binary_logloss: 0.329846\n"
     ]
    },
    {
     "name": "stderr",
     "output_type": "stream",
     "text": [
      "[I 2025-02-08 20:28:43,873] Trial 25 finished with value: 0.866 and parameters: {'num_leaves': 114, 'max_depth': 9, 'learning_rate': 0.06758751364691684, 'min_child_samples': 77, 'subsample': 0.6545054006461273, 'colsample_bytree': 0.656294668627648}. Best is trial 19 with value: 0.8733333333333333.\n"
     ]
    },
    {
     "name": "stdout",
     "output_type": "stream",
     "text": [
      "[60]\tvalid_0's binary_logloss: 0.327228\n",
      "[70]\tvalid_0's binary_logloss: 0.326143\n",
      "[80]\tvalid_0's binary_logloss: 0.325143\n",
      "[90]\tvalid_0's binary_logloss: 0.325211\n",
      "Early stopping, best iteration is:\n",
      "[87]\tvalid_0's binary_logloss: 0.324904\n",
      "Training until validation scores don't improve for 10 rounds\n",
      "[10]\tvalid_0's binary_logloss: 0.375007\n",
      "[20]\tvalid_0's binary_logloss: 0.340177\n",
      "[30]\tvalid_0's binary_logloss: 0.330293\n",
      "[40]\tvalid_0's binary_logloss: 0.325615\n",
      "[50]\tvalid_0's binary_logloss: 0.325206\n",
      "[60]\tvalid_0's binary_logloss: 0.324563\n",
      "[70]\tvalid_0's binary_logloss: 0.325169\n",
      "Early stopping, best iteration is:\n",
      "[65]\tvalid_0's binary_logloss: 0.324377\n"
     ]
    },
    {
     "name": "stderr",
     "output_type": "stream",
     "text": [
      "C:\\Users\\Playdata\\AppData\\Local\\Temp\\ipykernel_11100\\965261689.py:24: FutureWarning: suggest_loguniform has been deprecated in v3.0.0. This feature will be removed in v6.0.0. See https://github.com/optuna/optuna/releases/tag/v3.0.0. Use suggest_float(..., log=True) instead.\n",
      "  'learning_rate': trial.suggest_loguniform('learning_rate', 0.01, 0.3),\n",
      "C:\\Users\\Playdata\\AppData\\Local\\Temp\\ipykernel_11100\\965261689.py:26: FutureWarning: suggest_uniform has been deprecated in v3.0.0. This feature will be removed in v6.0.0. See https://github.com/optuna/optuna/releases/tag/v3.0.0. Use suggest_float instead.\n",
      "  'subsample': trial.suggest_uniform('subsample', 0.5, 1.0),\n",
      "C:\\Users\\Playdata\\AppData\\Local\\Temp\\ipykernel_11100\\965261689.py:27: FutureWarning: suggest_uniform has been deprecated in v3.0.0. This feature will be removed in v6.0.0. See https://github.com/optuna/optuna/releases/tag/v3.0.0. Use suggest_float instead.\n",
      "  'colsample_bytree': trial.suggest_uniform('colsample_bytree', 0.5, 1.0)\n",
      "[I 2025-02-08 20:28:44,006] Trial 26 finished with value: 0.874 and parameters: {'num_leaves': 111, 'max_depth': 5, 'learning_rate': 0.14212578337462897, 'min_child_samples': 70, 'subsample': 0.572966772315434, 'colsample_bytree': 0.5359158611519707}. Best is trial 26 with value: 0.874.\n",
      "C:\\Users\\Playdata\\AppData\\Local\\Temp\\ipykernel_11100\\965261689.py:24: FutureWarning: suggest_loguniform has been deprecated in v3.0.0. This feature will be removed in v6.0.0. See https://github.com/optuna/optuna/releases/tag/v3.0.0. Use suggest_float(..., log=True) instead.\n",
      "  'learning_rate': trial.suggest_loguniform('learning_rate', 0.01, 0.3),\n",
      "C:\\Users\\Playdata\\AppData\\Local\\Temp\\ipykernel_11100\\965261689.py:26: FutureWarning: suggest_uniform has been deprecated in v3.0.0. This feature will be removed in v6.0.0. See https://github.com/optuna/optuna/releases/tag/v3.0.0. Use suggest_float instead.\n",
      "  'subsample': trial.suggest_uniform('subsample', 0.5, 1.0),\n",
      "C:\\Users\\Playdata\\AppData\\Local\\Temp\\ipykernel_11100\\965261689.py:27: FutureWarning: suggest_uniform has been deprecated in v3.0.0. This feature will be removed in v6.0.0. See https://github.com/optuna/optuna/releases/tag/v3.0.0. Use suggest_float instead.\n",
      "  'colsample_bytree': trial.suggest_uniform('colsample_bytree', 0.5, 1.0)\n",
      "[I 2025-02-08 20:28:44,152] Trial 27 finished with value: 0.8693333333333333 and parameters: {'num_leaves': 77, 'max_depth': 5, 'learning_rate': 0.12297169646174554, 'min_child_samples': 85, 'subsample': 0.5806868973020826, 'colsample_bytree': 0.5298646545466461}. Best is trial 26 with value: 0.874.\n",
      "C:\\Users\\Playdata\\AppData\\Local\\Temp\\ipykernel_11100\\965261689.py:24: FutureWarning: suggest_loguniform has been deprecated in v3.0.0. This feature will be removed in v6.0.0. See https://github.com/optuna/optuna/releases/tag/v3.0.0. Use suggest_float(..., log=True) instead.\n",
      "  'learning_rate': trial.suggest_loguniform('learning_rate', 0.01, 0.3),\n",
      "C:\\Users\\Playdata\\AppData\\Local\\Temp\\ipykernel_11100\\965261689.py:26: FutureWarning: suggest_uniform has been deprecated in v3.0.0. This feature will be removed in v6.0.0. See https://github.com/optuna/optuna/releases/tag/v3.0.0. Use suggest_float instead.\n",
      "  'subsample': trial.suggest_uniform('subsample', 0.5, 1.0),\n",
      "C:\\Users\\Playdata\\AppData\\Local\\Temp\\ipykernel_11100\\965261689.py:27: FutureWarning: suggest_uniform has been deprecated in v3.0.0. This feature will be removed in v6.0.0. See https://github.com/optuna/optuna/releases/tag/v3.0.0. Use suggest_float instead.\n",
      "  'colsample_bytree': trial.suggest_uniform('colsample_bytree', 0.5, 1.0)\n"
     ]
    },
    {
     "name": "stdout",
     "output_type": "stream",
     "text": [
      "Training until validation scores don't improve for 10 rounds\n",
      "[10]\tvalid_0's binary_logloss: 0.38317\n",
      "[20]\tvalid_0's binary_logloss: 0.345634\n",
      "[30]\tvalid_0's binary_logloss: 0.333763\n",
      "[40]\tvalid_0's binary_logloss: 0.327725\n",
      "[50]\tvalid_0's binary_logloss: 0.325608\n",
      "[60]\tvalid_0's binary_logloss: 0.323326\n",
      "[70]\tvalid_0's binary_logloss: 0.322349\n",
      "[80]\tvalid_0's binary_logloss: 0.322504\n",
      "Early stopping, best iteration is:\n",
      "[78]\tvalid_0's binary_logloss: 0.322014\n",
      "Training until validation scores don't improve for 10 rounds\n",
      "[10]\tvalid_0's binary_logloss: 0.366736\n",
      "[20]\tvalid_0's binary_logloss: 0.334499\n",
      "[30]\tvalid_0's binary_logloss: 0.327533\n",
      "[40]\tvalid_0's binary_logloss: 0.32351\n",
      "[50]\tvalid_0's binary_logloss: 0.324398\n",
      "Early stopping, best iteration is:\n",
      "[40]\tvalid_0's binary_logloss: 0.32351\n"
     ]
    },
    {
     "name": "stderr",
     "output_type": "stream",
     "text": [
      "[I 2025-02-08 20:28:44,266] Trial 28 finished with value: 0.8706666666666667 and parameters: {'num_leaves': 110, 'max_depth': 5, 'learning_rate': 0.16441973874173985, 'min_child_samples': 57, 'subsample': 0.5628140741281913, 'colsample_bytree': 0.5298717668378827}. Best is trial 26 with value: 0.874.\n",
      "C:\\Users\\Playdata\\AppData\\Local\\Temp\\ipykernel_11100\\965261689.py:24: FutureWarning: suggest_loguniform has been deprecated in v3.0.0. This feature will be removed in v6.0.0. See https://github.com/optuna/optuna/releases/tag/v3.0.0. Use suggest_float(..., log=True) instead.\n",
      "  'learning_rate': trial.suggest_loguniform('learning_rate', 0.01, 0.3),\n",
      "C:\\Users\\Playdata\\AppData\\Local\\Temp\\ipykernel_11100\\965261689.py:26: FutureWarning: suggest_uniform has been deprecated in v3.0.0. This feature will be removed in v6.0.0. See https://github.com/optuna/optuna/releases/tag/v3.0.0. Use suggest_float instead.\n",
      "  'subsample': trial.suggest_uniform('subsample', 0.5, 1.0),\n",
      "C:\\Users\\Playdata\\AppData\\Local\\Temp\\ipykernel_11100\\965261689.py:27: FutureWarning: suggest_uniform has been deprecated in v3.0.0. This feature will be removed in v6.0.0. See https://github.com/optuna/optuna/releases/tag/v3.0.0. Use suggest_float instead.\n",
      "  'colsample_bytree': trial.suggest_uniform('colsample_bytree', 0.5, 1.0)\n",
      "[I 2025-02-08 20:28:44,483] Trial 29 finished with value: 0.8716666666666667 and parameters: {'num_leaves': 98, 'max_depth': 4, 'learning_rate': 0.09904080102575362, 'min_child_samples': 63, 'subsample': 0.5007715617415099, 'colsample_bytree': 0.602179101730343}. Best is trial 26 with value: 0.874.\n"
     ]
    },
    {
     "name": "stdout",
     "output_type": "stream",
     "text": [
      "Training until validation scores don't improve for 10 rounds\n",
      "[10]\tvalid_0's binary_logloss: 0.392928\n",
      "[20]\tvalid_0's binary_logloss: 0.354851\n",
      "[30]\tvalid_0's binary_logloss: 0.339598\n",
      "[40]\tvalid_0's binary_logloss: 0.330307\n",
      "[50]\tvalid_0's binary_logloss: 0.326968\n",
      "[60]\tvalid_0's binary_logloss: 0.324682\n",
      "[70]\tvalid_0's binary_logloss: 0.323002\n",
      "[80]\tvalid_0's binary_logloss: 0.321737\n",
      "[90]\tvalid_0's binary_logloss: 0.321293\n",
      "[100]\tvalid_0's binary_logloss: 0.320692\n",
      "Did not meet early stopping. Best iteration is:\n",
      "[99]\tvalid_0's binary_logloss: 0.320609\n",
      "Best parameters found: {'num_leaves': 111, 'max_depth': 5, 'learning_rate': 0.14212578337462897, 'min_child_samples': 70, 'subsample': 0.572966772315434, 'colsample_bytree': 0.5359158611519707}\n",
      "Training until validation scores don't improve for 10 rounds\n",
      "[10]\tvalid_0's binary_logloss: 0.375007\n",
      "[20]\tvalid_0's binary_logloss: 0.340177\n",
      "[30]\tvalid_0's binary_logloss: 0.330293\n",
      "[40]\tvalid_0's binary_logloss: 0.325615\n",
      "[50]\tvalid_0's binary_logloss: 0.325206\n",
      "[60]\tvalid_0's binary_logloss: 0.324563\n",
      "[70]\tvalid_0's binary_logloss: 0.325169\n",
      "Early stopping, best iteration is:\n",
      "[65]\tvalid_0's binary_logloss: 0.324377\n",
      "Accuracy: 0.8740\n",
      "Classification Report:\n",
      "               precision    recall  f1-score   support\n",
      "\n",
      "           0       0.88      0.97      0.92      2389\n",
      "           1       0.81      0.50      0.62       611\n",
      "\n",
      "    accuracy                           0.87      3000\n",
      "   macro avg       0.84      0.74      0.77      3000\n",
      "weighted avg       0.87      0.87      0.86      3000\n",
      "\n"
     ]
    }
   ],
   "source": [
    "import pandas as pd\n",
    "import lightgbm as lgb\n",
    "import optuna\n",
    "from sklearn.model_selection import train_test_split\n",
    "from sklearn.metrics import accuracy_score, classification_report\n",
    "\n",
    "\n",
    "\n",
    "# X, y 분리\n",
    "y = df['churn']  # 목표 변수\n",
    "X = df.drop(columns=['churn'])  # 특징 변수\n",
    "\n",
    "# 학습 및 테스트 데이터 분할\n",
    "X_train, X_test, y_train, y_test = train_test_split(X, y, test_size=0.3, random_state=42, stratify=y)\n",
    "\n",
    "# Optuna를 이용한 하이퍼파라미터 튜닝\n",
    "def objective(trial):\n",
    "    params = {\n",
    "        'objective': 'binary',\n",
    "        'metric': 'binary_logloss',\n",
    "        'verbosity': -1,\n",
    "        'num_leaves': trial.suggest_int('num_leaves', 20, 150),\n",
    "        'max_depth': trial.suggest_int('max_depth', 3, 15),\n",
    "        'learning_rate': trial.suggest_loguniform('learning_rate', 0.01, 0.3),\n",
    "        'min_child_samples': trial.suggest_int('min_child_samples', 5, 100),\n",
    "        'subsample': trial.suggest_uniform('subsample', 0.5, 1.0),\n",
    "        'colsample_bytree': trial.suggest_uniform('colsample_bytree', 0.5, 1.0)\n",
    "    }\n",
    "    \n",
    "    train_data = lgb.Dataset(X_train, label=y_train)\n",
    "    valid_data = lgb.Dataset(X_test, label=y_test, reference=train_data)\n",
    "    \n",
    "    model = lgb.train(params, train_data, num_boost_round=100,\n",
    "                      valid_sets=[valid_data], \n",
    "                      callbacks=[lgb.early_stopping(10), lgb.log_evaluation(10)])\n",
    "    \n",
    "    y_pred = model.predict(X_test)\n",
    "    y_pred = [1 if x > 0.5 else 0 for x in y_pred]\n",
    "    accuracy = accuracy_score(y_test, y_pred)\n",
    "    return accuracy\n",
    "\n",
    "# Optuna 실행\n",
    "study = optuna.create_study(direction='maximize')\n",
    "study.optimize(objective, n_trials=30)\n",
    "\n",
    "# 최적 하이퍼파라미터 출력\n",
    "print(\"Best parameters found:\", study.best_params)\n",
    "\n",
    "# 최적 하이퍼파라미터로 모델 학습\n",
    "best_params = study.best_params\n",
    "best_params.update({'objective': 'binary', 'metric': 'binary_logloss', 'verbosity': -1})\n",
    "\n",
    "train_data = lgb.Dataset(X_train, label=y_train)\n",
    "valid_data = lgb.Dataset(X_test, label=y_test, reference=train_data)\n",
    "\n",
    "model = lgb.train(best_params, train_data, num_boost_round=100,\n",
    "                  valid_sets=[valid_data], \n",
    "                  callbacks=[lgb.early_stopping(10), lgb.log_evaluation(10)])\n",
    "\n",
    "# 최적 모델 예측\n",
    "y_pred = model.predict(X_test)\n",
    "y_pred = [1 if x > 0.5 else 0 for x in y_pred]\n",
    "\n",
    "# 평가\n",
    "accuracy = accuracy_score(y_test, y_pred)\n",
    "report = classification_report(y_test, y_pred)\n",
    "\n",
    "print(f'Accuracy: {accuracy:.4f}')\n",
    "print('Classification Report:\\n', report)\n"
   ]
  },
  {
   "cell_type": "code",
   "execution_count": 9,
   "metadata": {},
   "outputs": [
    {
     "name": "stderr",
     "output_type": "stream",
     "text": [
      "[I 2025-02-08 20:28:44,613] A new study created in memory with name: no-name-93807782-b866-4f11-af54-11c58d06e3e5\n",
      "[I 2025-02-08 20:28:44,690] Trial 0 finished with value: 0.803 and parameters: {'num_leaves': 50, 'max_depth': 3, 'learning_rate': 0.12467137122952576, 'min_child_samples': 14, 'subsample': 0.6925485564728842, 'colsample_bytree': 0.8635862555703362}. Best is trial 0 with value: 0.803.\n"
     ]
    },
    {
     "name": "stdout",
     "output_type": "stream",
     "text": [
      "Training until validation scores don't improve for 10 rounds\n",
      "[10]\tvalid_0's binary_logloss: 0.377416\n",
      "[20]\tvalid_0's binary_logloss: 0.348973\n",
      "[30]\tvalid_0's binary_logloss: 0.335884\n",
      "[40]\tvalid_0's binary_logloss: 0.329403\n",
      "[50]\tvalid_0's binary_logloss: 0.325272\n",
      "[60]\tvalid_0's binary_logloss: 0.323029\n",
      "[70]\tvalid_0's binary_logloss: 0.321191\n",
      "[80]\tvalid_0's binary_logloss: 0.320538\n",
      "[90]\tvalid_0's binary_logloss: 0.320628\n",
      "Early stopping, best iteration is:\n",
      "[80]\tvalid_0's binary_logloss: 0.320538\n",
      "Training until validation scores don't improve for 10 rounds\n",
      "[10]\tvalid_0's binary_logloss: 0.38868\n",
      "[20]\tvalid_0's binary_logloss: 0.3493\n",
      "[30]\tvalid_0's binary_logloss: 0.33609\n",
      "[40]\tvalid_0's binary_logloss: 0.329117\n",
      "[50]\tvalid_0's binary_logloss: 0.326996\n",
      "[60]\tvalid_0's binary_logloss: 0.324579\n",
      "[70]\tvalid_0's binary_logloss: 0.323445\n",
      "[80]\tvalid_0's binary_logloss: 0.323076\n",
      "[90]\tvalid_0's binary_logloss: 0.322573\n"
     ]
    },
    {
     "name": "stderr",
     "output_type": "stream",
     "text": [
      "[I 2025-02-08 20:28:44,823] Trial 1 finished with value: 0.792 and parameters: {'num_leaves': 34, 'max_depth': 5, 'learning_rate': 0.11272648215039936, 'min_child_samples': 81, 'subsample': 0.7991249686556032, 'colsample_bytree': 0.5163253187975734}. Best is trial 0 with value: 0.803.\n"
     ]
    },
    {
     "name": "stdout",
     "output_type": "stream",
     "text": [
      "[100]\tvalid_0's binary_logloss: 0.323415\n",
      "Did not meet early stopping. Best iteration is:\n",
      "[91]\tvalid_0's binary_logloss: 0.322444\n",
      "Training until validation scores don't improve for 10 rounds\n",
      "[10]\tvalid_0's binary_logloss: 0.424888\n",
      "[20]\tvalid_0's binary_logloss: 0.385597\n",
      "[30]\tvalid_0's binary_logloss: 0.362932\n",
      "[40]\tvalid_0's binary_logloss: 0.349903\n",
      "[50]\tvalid_0's binary_logloss: 0.34233\n",
      "[60]\tvalid_0's binary_logloss: 0.337259\n",
      "[70]\tvalid_0's binary_logloss: 0.334117\n",
      "[80]\tvalid_0's binary_logloss: 0.331963\n"
     ]
    },
    {
     "name": "stderr",
     "output_type": "stream",
     "text": [
      "[I 2025-02-08 20:28:45,374] Trial 2 finished with value: 0.824 and parameters: {'num_leaves': 74, 'max_depth': 10, 'learning_rate': 0.03589874859797542, 'min_child_samples': 32, 'subsample': 0.8029875250555134, 'colsample_bytree': 0.8740876259703843}. Best is trial 2 with value: 0.824.\n"
     ]
    },
    {
     "name": "stdout",
     "output_type": "stream",
     "text": [
      "[90]\tvalid_0's binary_logloss: 0.331164\n",
      "[100]\tvalid_0's binary_logloss: 0.330493\n",
      "Did not meet early stopping. Best iteration is:\n",
      "[100]\tvalid_0's binary_logloss: 0.330493\n",
      "Training until validation scores don't improve for 10 rounds\n"
     ]
    },
    {
     "name": "stderr",
     "output_type": "stream",
     "text": [
      "[I 2025-02-08 20:28:45,473] Trial 3 finished with value: 0.845 and parameters: {'num_leaves': 105, 'max_depth': 8, 'learning_rate': 0.24945403867645558, 'min_child_samples': 31, 'subsample': 0.6699446621270434, 'colsample_bytree': 0.8523528191841132}. Best is trial 3 with value: 0.845.\n"
     ]
    },
    {
     "name": "stdout",
     "output_type": "stream",
     "text": [
      "[10]\tvalid_0's binary_logloss: 0.339917\n",
      "[20]\tvalid_0's binary_logloss: 0.340139\n",
      "Early stopping, best iteration is:\n",
      "[12]\tvalid_0's binary_logloss: 0.337827\n"
     ]
    },
    {
     "name": "stderr",
     "output_type": "stream",
     "text": [
      "[I 2025-02-08 20:28:45,606] Trial 4 finished with value: 0.8733333333333333 and parameters: {'num_leaves': 119, 'max_depth': 7, 'learning_rate': 0.11666414520116945, 'min_child_samples': 68, 'subsample': 0.6414845616181973, 'colsample_bytree': 0.6967974202980832}. Best is trial 4 with value: 0.8733333333333333.\n"
     ]
    },
    {
     "name": "stdout",
     "output_type": "stream",
     "text": [
      "Training until validation scores don't improve for 10 rounds\n",
      "[10]\tvalid_0's binary_logloss: 0.372706\n",
      "[20]\tvalid_0's binary_logloss: 0.337199\n",
      "[30]\tvalid_0's binary_logloss: 0.328143\n",
      "[40]\tvalid_0's binary_logloss: 0.326986\n",
      "Early stopping, best iteration is:\n",
      "[35]\tvalid_0's binary_logloss: 0.326082\n",
      "Training until validation scores don't improve for 10 rounds\n",
      "[10]\tvalid_0's binary_logloss: 0.352654\n",
      "[20]\tvalid_0's binary_logloss: 0.328142\n"
     ]
    },
    {
     "name": "stderr",
     "output_type": "stream",
     "text": [
      "[I 2025-02-08 20:28:45,724] Trial 5 finished with value: 0.7826666666666666 and parameters: {'num_leaves': 116, 'max_depth': 7, 'learning_rate': 0.17435117427751703, 'min_child_samples': 67, 'subsample': 0.9096285493776015, 'colsample_bytree': 0.6871941380547644}. Best is trial 4 with value: 0.8733333333333333.\n",
      "[I 2025-02-08 20:28:45,774] Trial 6 finished with value: 0.8513333333333334 and parameters: {'num_leaves': 55, 'max_depth': 3, 'learning_rate': 0.2456049230856809, 'min_child_samples': 72, 'subsample': 0.5468107207286408, 'colsample_bytree': 0.5270955754211568}. Best is trial 4 with value: 0.8733333333333333.\n"
     ]
    },
    {
     "name": "stdout",
     "output_type": "stream",
     "text": [
      "[30]\tvalid_0's binary_logloss: 0.323717\n",
      "[40]\tvalid_0's binary_logloss: 0.323838\n",
      "Early stopping, best iteration is:\n",
      "[35]\tvalid_0's binary_logloss: 0.322959\n",
      "Training until validation scores don't improve for 10 rounds\n",
      "[10]\tvalid_0's binary_logloss: 0.35412\n",
      "[20]\tvalid_0's binary_logloss: 0.332456\n",
      "[30]\tvalid_0's binary_logloss: 0.327166\n",
      "[40]\tvalid_0's binary_logloss: 0.325046\n",
      "Early stopping, best iteration is:\n",
      "[37]\tvalid_0's binary_logloss: 0.324771\n",
      "Training until validation scores don't improve for 10 rounds\n",
      "[10]\tvalid_0's binary_logloss: 0.473659\n",
      "[20]\tvalid_0's binary_logloss: 0.44808\n",
      "[30]\tvalid_0's binary_logloss: 0.428105\n",
      "[40]\tvalid_0's binary_logloss: 0.412905\n",
      "[50]\tvalid_0's binary_logloss: 0.400369\n",
      "[60]\tvalid_0's binary_logloss: 0.388854\n",
      "[70]\tvalid_0's binary_logloss: 0.379111\n",
      "[80]\tvalid_0's binary_logloss: 0.370763\n",
      "[90]\tvalid_0's binary_logloss: 0.364682\n",
      "[100]\tvalid_0's binary_logloss: 0.359747\n",
      "Did not meet early stopping. Best iteration is:\n",
      "[100]\tvalid_0's binary_logloss: 0.359747\n"
     ]
    },
    {
     "name": "stderr",
     "output_type": "stream",
     "text": [
      "[I 2025-02-08 20:28:46,159] Trial 7 finished with value: 0.802 and parameters: {'num_leaves': 61, 'max_depth': 12, 'learning_rate': 0.012549104025910673, 'min_child_samples': 48, 'subsample': 0.7876526494984664, 'colsample_bytree': 0.7813383201953483}. Best is trial 4 with value: 0.8733333333333333.\n"
     ]
    },
    {
     "name": "stdout",
     "output_type": "stream",
     "text": [
      "Training until validation scores don't improve for 10 rounds\n",
      "[10]\tvalid_0's binary_logloss: 0.426117\n",
      "[20]\tvalid_0's binary_logloss: 0.383806\n",
      "[30]\tvalid_0's binary_logloss: 0.359904\n",
      "[40]\tvalid_0's binary_logloss: 0.347117\n",
      "[50]\tvalid_0's binary_logloss: 0.339699\n"
     ]
    },
    {
     "name": "stderr",
     "output_type": "stream",
     "text": [
      "[I 2025-02-08 20:28:46,476] Trial 8 finished with value: 0.8203333333333334 and parameters: {'num_leaves': 105, 'max_depth': 12, 'learning_rate': 0.046841560008807785, 'min_child_samples': 53, 'subsample': 0.663691145473424, 'colsample_bytree': 0.7009736935929904}. Best is trial 4 with value: 0.8733333333333333.\n"
     ]
    },
    {
     "name": "stdout",
     "output_type": "stream",
     "text": [
      "[60]\tvalid_0's binary_logloss: 0.334671\n",
      "[70]\tvalid_0's binary_logloss: 0.331604\n",
      "[80]\tvalid_0's binary_logloss: 0.328916\n",
      "[90]\tvalid_0's binary_logloss: 0.328251\n",
      "[100]\tvalid_0's binary_logloss: 0.328232\n",
      "Did not meet early stopping. Best iteration is:\n",
      "[95]\tvalid_0's binary_logloss: 0.328082\n",
      "Training until validation scores don't improve for 10 rounds\n",
      "[10]\tvalid_0's binary_logloss: 0.433496\n",
      "[20]\tvalid_0's binary_logloss: 0.395427\n",
      "[30]\tvalid_0's binary_logloss: 0.3753\n",
      "[40]\tvalid_0's binary_logloss: 0.360058\n",
      "[50]\tvalid_0's binary_logloss: 0.351312\n",
      "[60]\tvalid_0's binary_logloss: 0.343824\n",
      "[70]\tvalid_0's binary_logloss: 0.339501\n",
      "[80]\tvalid_0's binary_logloss: 0.335066\n",
      "[90]\tvalid_0's binary_logloss: 0.332197\n",
      "[100]\tvalid_0's binary_logloss: 0.330027\n",
      "Did not meet early stopping. Best iteration is:\n",
      "[100]\tvalid_0's binary_logloss: 0.330027\n"
     ]
    },
    {
     "name": "stderr",
     "output_type": "stream",
     "text": [
      "[I 2025-02-08 20:28:46,555] Trial 9 finished with value: 0.849 and parameters: {'num_leaves': 56, 'max_depth': 3, 'learning_rate': 0.05688234287971654, 'min_child_samples': 41, 'subsample': 0.6733120157234902, 'colsample_bytree': 0.5130782765335978}. Best is trial 4 with value: 0.8733333333333333.\n"
     ]
    },
    {
     "name": "stdout",
     "output_type": "stream",
     "text": [
      "Training until validation scores don't improve for 10 rounds\n",
      "[10]\tvalid_0's binary_logloss: 0.459779\n",
      "[20]\tvalid_0's binary_logloss: 0.42872\n",
      "[30]\tvalid_0's binary_logloss: 0.406458\n",
      "[40]\tvalid_0's binary_logloss: 0.390338\n",
      "[50]\tvalid_0's binary_logloss: 0.377743\n",
      "[60]\tvalid_0's binary_logloss: 0.367375\n",
      "[70]\tvalid_0's binary_logloss: 0.358581\n",
      "[80]\tvalid_0's binary_logloss: 0.352168\n",
      "[90]\tvalid_0's binary_logloss: 0.347422\n",
      "[100]\tvalid_0's binary_logloss: 0.343552\n",
      "Did not meet early stopping. Best iteration is:\n",
      "[100]\tvalid_0's binary_logloss: 0.343552\n"
     ]
    },
    {
     "name": "stderr",
     "output_type": "stream",
     "text": [
      "[I 2025-02-08 20:28:46,951] Trial 10 finished with value: 0.8563333333333333 and parameters: {'num_leaves': 149, 'max_depth': 15, 'learning_rate': 0.01786826273426072, 'min_child_samples': 96, 'subsample': 0.5024240995061939, 'colsample_bytree': 0.9899316418403894}. Best is trial 4 with value: 0.8733333333333333.\n"
     ]
    },
    {
     "name": "stdout",
     "output_type": "stream",
     "text": [
      "Training until validation scores don't improve for 10 rounds\n",
      "[10]\tvalid_0's binary_logloss: 0.473156\n",
      "[20]\tvalid_0's binary_logloss: 0.447669\n",
      "[30]\tvalid_0's binary_logloss: 0.427898\n",
      "[40]\tvalid_0's binary_logloss: 0.412318\n",
      "[50]\tvalid_0's binary_logloss: 0.399802\n",
      "[60]\tvalid_0's binary_logloss: 0.38962"
     ]
    },
    {
     "name": "stderr",
     "output_type": "stream",
     "text": [
      "[I 2025-02-08 20:28:47,381] Trial 11 finished with value: 0.8563333333333333 and parameters: {'num_leaves': 150, 'max_depth': 15, 'learning_rate': 0.012105307727516284, 'min_child_samples': 96, 'subsample': 0.5004180084514833, 'colsample_bytree': 0.9882353914751002}. Best is trial 4 with value: 0.8733333333333333.\n"
     ]
    },
    {
     "name": "stdout",
     "output_type": "stream",
     "text": [
      "\n",
      "[70]\tvalid_0's binary_logloss: 0.380867\n",
      "[80]\tvalid_0's binary_logloss: 0.373316\n",
      "[90]\tvalid_0's binary_logloss: 0.366666\n",
      "[100]\tvalid_0's binary_logloss: 0.360464\n",
      "Did not meet early stopping. Best iteration is:\n",
      "[100]\tvalid_0's binary_logloss: 0.360464\n",
      "Training until validation scores don't improve for 10 rounds\n",
      "[10]\tvalid_0's binary_logloss: 0.466239\n",
      "[20]\tvalid_0's binary_logloss: 0.438412\n",
      "[30]\tvalid_0's binary_logloss: 0.418286\n",
      "[40]\tvalid_0's binary_logloss: 0.398957\n",
      "[50]\tvalid_0's binary_logloss: 0.38678\n",
      "[60]\tvalid_0's binary_logloss: 0.376337\n",
      "[70]\tvalid_0's binary_logloss: 0.368155\n",
      "[80]\tvalid_0's binary_logloss: 0.359187\n"
     ]
    },
    {
     "name": "stderr",
     "output_type": "stream",
     "text": [
      "[I 2025-02-08 20:28:47,721] Trial 12 finished with value: 0.873 and parameters: {'num_leaves': 150, 'max_depth': 14, 'learning_rate': 0.020955613554619074, 'min_child_samples': 98, 'subsample': 0.5713388760566425, 'colsample_bytree': 0.6280249020706474}. Best is trial 4 with value: 0.8733333333333333.\n"
     ]
    },
    {
     "name": "stdout",
     "output_type": "stream",
     "text": [
      "[90]\tvalid_0's binary_logloss: 0.353192\n",
      "[100]\tvalid_0's binary_logloss: 0.34848\n",
      "Did not meet early stopping. Best iteration is:\n",
      "[100]\tvalid_0's binary_logloss: 0.34848\n",
      "Training until validation scores don't improve for 10 rounds\n",
      "[10]\tvalid_0's binary_logloss: 0.462248\n",
      "[20]\tvalid_0's binary_logloss: 0.432534\n",
      "[30]\tvalid_0's binary_logloss: 0.411844\n",
      "[40]\tvalid_0's binary_logloss: 0.392011\n",
      "[50]\tvalid_0's binary_logloss: 0.379712\n",
      "[60]\tvalid_0's binary_logloss: 0.369371\n",
      "[70]\tvalid_0's binary_logloss: 0.361551\n",
      "[80]\tvalid_0's binary_logloss: 0.353058\n"
     ]
    },
    {
     "name": "stderr",
     "output_type": "stream",
     "text": [
      "[I 2025-02-08 20:28:48,154] Trial 13 finished with value: 0.872 and parameters: {'num_leaves': 131, 'max_depth': 10, 'learning_rate': 0.02339659043351734, 'min_child_samples': 82, 'subsample': 0.5931198199833378, 'colsample_bytree': 0.6394127723458541}. Best is trial 4 with value: 0.8733333333333333.\n"
     ]
    },
    {
     "name": "stdout",
     "output_type": "stream",
     "text": [
      "[90]\tvalid_0's binary_logloss: 0.347416\n",
      "[100]\tvalid_0's binary_logloss: 0.343177\n",
      "Did not meet early stopping. Best iteration is:\n",
      "[100]\tvalid_0's binary_logloss: 0.343177\n",
      "Training until validation scores don't improve for 10 rounds\n",
      "[10]\tvalid_0's binary_logloss: 0.395604\n",
      "[20]\tvalid_0's binary_logloss: 0.355859\n",
      "[30]\tvalid_0's binary_logloss: 0.340156\n",
      "[40]\tvalid_0's binary_logloss: 0.330136\n",
      "[50]\tvalid_0's binary_logloss: 0.327192\n",
      "[60]\tvalid_0's binary_logloss: 0.325695\n",
      "[70]\tvalid_0's binary_logloss: 0.324525\n",
      "[80]\tvalid_0's binary_logloss: 0.323437\n",
      "[90]\tvalid_0's binary_logloss: 0.323728\n",
      "Early stopping, best iteration is:\n",
      "[80]\tvalid_0's binary_logloss: 0.323437\n"
     ]
    },
    {
     "name": "stderr",
     "output_type": "stream",
     "text": [
      "[I 2025-02-08 20:28:48,497] Trial 14 finished with value: 0.8716666666666667 and parameters: {'num_leaves': 129, 'max_depth': 6, 'learning_rate': 0.08682477795771257, 'min_child_samples': 62, 'subsample': 0.5971907705893623, 'colsample_bytree': 0.6087538358786091}. Best is trial 4 with value: 0.8733333333333333.\n"
     ]
    },
    {
     "name": "stdout",
     "output_type": "stream",
     "text": [
      "Training until validation scores don't improve for 10 rounds\n",
      "[10]\tvalid_0's binary_logloss: 0.455546\n",
      "[20]\tvalid_0's binary_logloss: 0.423025\n",
      "[30]\tvalid_0's binary_logloss: 0.401443\n",
      "[40]\tvalid_0's binary_logloss: 0.381565\n",
      "[50]\tvalid_0's binary_logloss: 0.369833\n"
     ]
    },
    {
     "name": "stderr",
     "output_type": "stream",
     "text": [
      "[I 2025-02-08 20:28:48,927] Trial 15 finished with value: 0.8736666666666667 and parameters: {'num_leaves': 90, 'max_depth': 13, 'learning_rate': 0.02796556173073916, 'min_child_samples': 84, 'subsample': 0.5914556547363532, 'colsample_bytree': 0.5910196930700887}. Best is trial 15 with value: 0.8736666666666667.\n"
     ]
    },
    {
     "name": "stdout",
     "output_type": "stream",
     "text": [
      "[60]\tvalid_0's binary_logloss: 0.359765\n",
      "[70]\tvalid_0's binary_logloss: 0.352428\n",
      "[80]\tvalid_0's binary_logloss: 0.344803\n",
      "[90]\tvalid_0's binary_logloss: 0.340143\n",
      "[100]\tvalid_0's binary_logloss: 0.337054\n",
      "Did not meet early stopping. Best iteration is:\n",
      "[100]\tvalid_0's binary_logloss: 0.337054\n",
      "Training until validation scores don't improve for 10 rounds\n",
      "[10]\tvalid_0's binary_logloss: 0.395531\n",
      "[20]\tvalid_0's binary_logloss: 0.354227\n",
      "[30]\tvalid_0's binary_logloss: 0.338198\n",
      "[40]\tvalid_0's binary_logloss: 0.330827\n",
      "[50]\tvalid_0's binary_logloss: 0.327562\n",
      "[60]\tvalid_0's binary_logloss: 0.327693\n",
      "Early stopping, best iteration is:\n",
      "[52]\tvalid_0's binary_logloss: 0.327274\n"
     ]
    },
    {
     "name": "stderr",
     "output_type": "stream",
     "text": [
      "[I 2025-02-08 20:28:49,222] Trial 16 finished with value: 0.872 and parameters: {'num_leaves': 88, 'max_depth': 12, 'learning_rate': 0.069725342732223, 'min_child_samples': 82, 'subsample': 0.7361724742455349, 'colsample_bytree': 0.7780565988280261}. Best is trial 15 with value: 0.8736666666666667.\n"
     ]
    },
    {
     "name": "stdout",
     "output_type": "stream",
     "text": [
      "Training until validation scores don't improve for 10 rounds\n",
      "[10]\tvalid_0's binary_logloss: 0.432651\n",
      "[20]\tvalid_0's binary_logloss: 0.390982\n",
      "[30]\tvalid_0's binary_logloss: 0.370101\n",
      "[40]\tvalid_0's binary_logloss: 0.352766\n",
      "[50]\tvalid_0's binary_logloss: 0.344166\n",
      "[60]\tvalid_0's binary_logloss: 0.337689\n",
      "[70]\tvalid_0's binary_logloss: 0.333212\n",
      "[80]\tvalid_0's binary_logloss: 0.329512\n",
      "[90]\tvalid_0's binary_logloss: 0.327614\n",
      "[100]\tvalid_0's binary_logloss: 0.326682\n",
      "Did not meet early stopping. Best iteration is:\n",
      "[100]\tvalid_0's binary_logloss: 0.326682\n"
     ]
    },
    {
     "name": "stderr",
     "output_type": "stream",
     "text": [
      "[I 2025-02-08 20:28:49,661] Trial 17 finished with value: 0.8736666666666667 and parameters: {'num_leaves': 87, 'max_depth': 9, 'learning_rate': 0.0458164131936239, 'min_child_samples': 60, 'subsample': 0.6164282034551061, 'colsample_bytree': 0.5824175644394936}. Best is trial 15 with value: 0.8736666666666667.\n"
     ]
    },
    {
     "name": "stdout",
     "output_type": "stream",
     "text": [
      "Training until validation scores don't improve for 10 rounds\n",
      "[10]\tvalid_0's binary_logloss: 0.445687\n",
      "[20]\tvalid_0's binary_logloss: 0.409214\n",
      "[30]\tvalid_0's binary_logloss: 0.38732\n",
      "[40]\tvalid_0's binary_logloss: 0.367911\n",
      "[50]\tvalid_0's binary_logloss: 0.356885\n",
      "[60]\tvalid_0's binary_logloss: 0.348878\n",
      "[70]\tvalid_0's binary_logloss: 0.342444\n",
      "[80]\tvalid_0's binary_logloss: 0.336473\n",
      "[90]\tvalid_0's binary_logloss: 0.332981\n"
     ]
    },
    {
     "name": "stderr",
     "output_type": "stream",
     "text": [
      "[I 2025-02-08 20:28:50,147] Trial 18 finished with value: 0.8733333333333333 and parameters: {'num_leaves': 85, 'max_depth': 10, 'learning_rate': 0.03448075877975506, 'min_child_samples': 56, 'subsample': 0.9567990312391379, 'colsample_bytree': 0.5699525313458925}. Best is trial 15 with value: 0.8736666666666667.\n"
     ]
    },
    {
     "name": "stdout",
     "output_type": "stream",
     "text": [
      "[100]\tvalid_0's binary_logloss: 0.330881\n",
      "Did not meet early stopping. Best iteration is:\n",
      "[100]\tvalid_0's binary_logloss: 0.330881\n",
      "Training until validation scores don't improve for 10 rounds\n",
      "[10]\tvalid_0's binary_logloss: 0.449922\n",
      "[20]\tvalid_0's binary_logloss: 0.413764\n",
      "[30]\tvalid_0's binary_logloss: 0.392849\n",
      "[40]\tvalid_0's binary_logloss: 0.373919\n",
      "[50]\tvalid_0's binary_logloss: 0.362656\n",
      "[60]\tvalid_0's binary_logloss: 0.353835\n"
     ]
    },
    {
     "name": "stderr",
     "output_type": "stream",
     "text": [
      "[I 2025-02-08 20:28:50,734] Trial 19 finished with value: 0.8306666666666667 and parameters: {'num_leaves': 88, 'max_depth': 13, 'learning_rate': 0.03202930483495765, 'min_child_samples': 11, 'subsample': 0.7404019082327459, 'colsample_bytree': 0.5737611245485663}. Best is trial 15 with value: 0.8736666666666667.\n"
     ]
    },
    {
     "name": "stdout",
     "output_type": "stream",
     "text": [
      "[70]\tvalid_0's binary_logloss: 0.347528\n",
      "[80]\tvalid_0's binary_logloss: 0.341345\n",
      "[90]\tvalid_0's binary_logloss: 0.337678\n",
      "[100]\tvalid_0's binary_logloss: 0.334968\n",
      "Did not meet early stopping. Best iteration is:\n",
      "[100]\tvalid_0's binary_logloss: 0.334968\n",
      "Training until validation scores don't improve for 10 rounds\n",
      "[10]\tvalid_0's binary_logloss: 0.456499\n",
      "[20]\tvalid_0's binary_logloss: 0.424361\n",
      "[30]\tvalid_0's binary_logloss: 0.402799\n",
      "[40]\tvalid_0's binary_logloss: 0.382973\n",
      "[50]\tvalid_0's binary_logloss: 0.37104\n"
     ]
    },
    {
     "name": "stderr",
     "output_type": "stream",
     "text": [
      "[I 2025-02-08 20:28:51,164] Trial 20 finished with value: 0.8743333333333333 and parameters: {'num_leaves': 73, 'max_depth': 9, 'learning_rate': 0.02725631672558437, 'min_child_samples': 76, 'subsample': 0.623527934356535, 'colsample_bytree': 0.58342496856832}. Best is trial 20 with value: 0.8743333333333333.\n"
     ]
    },
    {
     "name": "stdout",
     "output_type": "stream",
     "text": [
      "[60]\tvalid_0's binary_logloss: 0.360861\n",
      "[70]\tvalid_0's binary_logloss: 0.353347\n",
      "[80]\tvalid_0's binary_logloss: 0.345693\n",
      "[90]\tvalid_0's binary_logloss: 0.340816\n",
      "[100]\tvalid_0's binary_logloss: 0.337688\n",
      "Did not meet early stopping. Best iteration is:\n",
      "[100]\tvalid_0's binary_logloss: 0.337688\n",
      "Training until validation scores don't improve for 10 rounds\n",
      "[10]\tvalid_0's binary_logloss: 0.431201\n",
      "[20]\tvalid_0's binary_logloss: 0.389801\n",
      "[30]\tvalid_0's binary_logloss: 0.368494\n",
      "[40]\tvalid_0's binary_logloss: 0.351174\n",
      "[50]\tvalid_0's binary_logloss: 0.342535\n",
      "[60]\tvalid_0's binary_logloss: 0.336761\n"
     ]
    },
    {
     "name": "stderr",
     "output_type": "stream",
     "text": [
      "[I 2025-02-08 20:28:51,524] Trial 21 finished with value: 0.8753333333333333 and parameters: {'num_leaves': 75, 'max_depth': 9, 'learning_rate': 0.04728923452292558, 'min_child_samples': 75, 'subsample': 0.6279748133999552, 'colsample_bytree': 0.5748630153653248}. Best is trial 21 with value: 0.8753333333333333.\n"
     ]
    },
    {
     "name": "stdout",
     "output_type": "stream",
     "text": [
      "[70]\tvalid_0's binary_logloss: 0.33219\n",
      "[80]\tvalid_0's binary_logloss: 0.328773\n",
      "[90]\tvalid_0's binary_logloss: 0.326949\n",
      "[100]\tvalid_0's binary_logloss: 0.326341\n",
      "Did not meet early stopping. Best iteration is:\n",
      "[100]\tvalid_0's binary_logloss: 0.326341\n",
      "Training until validation scores don't improve for 10 rounds\n",
      "[10]\tvalid_0's binary_logloss: 0.458077\n",
      "[20]\tvalid_0's binary_logloss: 0.42615\n",
      "[30]\tvalid_0's binary_logloss: 0.401052\n",
      "[40]\tvalid_0's binary_logloss: 0.383723\n",
      "[50]\tvalid_0's binary_logloss: 0.371217\n",
      "[60]\tvalid_0's binary_logloss: 0.360081\n",
      "[70]\tvalid_0's binary_logloss: 0.352004\n",
      "[80]\tvalid_0's binary_logloss: 0.344885\n",
      "[90]\tvalid_0's binary_logloss: 0.340177\n"
     ]
    },
    {
     "name": "stderr",
     "output_type": "stream",
     "text": [
      "[I 2025-02-08 20:28:51,886] Trial 22 finished with value: 0.7766666666666666 and parameters: {'num_leaves': 71, 'max_depth': 9, 'learning_rate': 0.02409755769403644, 'min_child_samples': 86, 'subsample': 0.5459390284640174, 'colsample_bytree': 0.6609077327483339}. Best is trial 21 with value: 0.8753333333333333.\n"
     ]
    },
    {
     "name": "stdout",
     "output_type": "stream",
     "text": [
      "[100]\tvalid_0's binary_logloss: 0.336616\n",
      "Did not meet early stopping. Best iteration is:\n",
      "[100]\tvalid_0's binary_logloss: 0.336616\n",
      "Training until validation scores don't improve for 10 rounds\n",
      "[10]\tvalid_0's binary_logloss: 0.471779\n",
      "[20]\tvalid_0's binary_logloss: 0.447112\n",
      "[30]\tvalid_0's binary_logloss: 0.428668\n",
      "[40]\tvalid_0's binary_logloss: 0.410458\n",
      "[50]\tvalid_0's binary_logloss: 0.398142\n",
      "[60]\tvalid_0's binary_logloss: 0.387319\n",
      "[70]\tvalid_0's binary_logloss: 0.378551\n",
      "[80]\tvalid_0's binary_logloss: 0.369599\n",
      "[90]\tvalid_0's binary_logloss: 0.362912\n"
     ]
    },
    {
     "name": "stderr",
     "output_type": "stream",
     "text": [
      "[I 2025-02-08 20:28:52,086] Trial 23 finished with value: 0.872 and parameters: {'num_leaves': 20, 'max_depth': 11, 'learning_rate': 0.017782986876661674, 'min_child_samples': 74, 'subsample': 0.7081182637866659, 'colsample_bytree': 0.556422259620346}. Best is trial 21 with value: 0.8753333333333333.\n"
     ]
    },
    {
     "name": "stdout",
     "output_type": "stream",
     "text": [
      "[100]\tvalid_0's binary_logloss: 0.357382\n",
      "Did not meet early stopping. Best iteration is:\n",
      "[100]\tvalid_0's binary_logloss: 0.357382\n",
      "Training until validation scores don't improve for 10 rounds\n",
      "[10]\tvalid_0's binary_logloss: 0.44694\n",
      "[20]\tvalid_0's binary_logloss: 0.410823\n",
      "[30]\tvalid_0's binary_logloss: 0.388626\n",
      "[40]\tvalid_0's binary_logloss: 0.368854\n",
      "[50]\tvalid_0's binary_logloss: 0.357871\n"
     ]
    },
    {
     "name": "stderr",
     "output_type": "stream",
     "text": [
      "[I 2025-02-08 20:28:52,412] Trial 24 finished with value: 0.8746666666666667 and parameters: {'num_leaves': 74, 'max_depth': 8, 'learning_rate': 0.03425655481677627, 'min_child_samples': 89, 'subsample': 0.6312541740095989, 'colsample_bytree': 0.6051599452279621}. Best is trial 21 with value: 0.8753333333333333.\n"
     ]
    },
    {
     "name": "stdout",
     "output_type": "stream",
     "text": [
      "[60]\tvalid_0's binary_logloss: 0.349108\n",
      "[70]\tvalid_0's binary_logloss: 0.342591\n",
      "[80]\tvalid_0's binary_logloss: 0.336728\n",
      "[90]\tvalid_0's binary_logloss: 0.332992\n",
      "[100]\tvalid_0's binary_logloss: 0.33062\n",
      "Did not meet early stopping. Best iteration is:\n",
      "[100]\tvalid_0's binary_logloss: 0.33062\n",
      "Training until validation scores don't improve for 10 rounds\n",
      "[10]\tvalid_0's binary_logloss: 0.431257\n",
      "[20]\tvalid_0's binary_logloss: 0.390003\n",
      "[30]\tvalid_0's binary_logloss: 0.365239\n",
      "[40]\tvalid_0's binary_logloss: 0.350713\n",
      "[50]\tvalid_0's binary_logloss: 0.341495\n",
      "[60]\tvalid_0's binary_logloss: 0.335469\n",
      "[70]\tvalid_0's binary_logloss: 0.33151\n",
      "[80]\tvalid_0's binary_logloss: 0.327737\n",
      "[90]\tvalid_0's binary_logloss: 0.32635\n",
      "[100]\tvalid_0's binary_logloss: 0.325342\n",
      "Did not meet early stopping. Best iteration is:\n",
      "[100]\tvalid_0's binary_logloss: 0.325342\n"
     ]
    },
    {
     "name": "stderr",
     "output_type": "stream",
     "text": [
      "[I 2025-02-08 20:28:52,701] Trial 25 finished with value: 0.828 and parameters: {'num_leaves': 43, 'max_depth': 8, 'learning_rate': 0.0437367581089793, 'min_child_samples': 76, 'subsample': 0.6395037282401348, 'colsample_bytree': 0.7461996566929374}. Best is trial 21 with value: 0.8753333333333333.\n",
      "[I 2025-02-08 20:28:52,881] Trial 26 finished with value: 0.8733333333333333 and parameters: {'num_leaves': 65, 'max_depth': 5, 'learning_rate': 0.06494064552286169, 'min_child_samples': 89, 'subsample': 0.8822185607822493, 'colsample_bytree': 0.6365799725923887}. Best is trial 21 with value: 0.8753333333333333.\n"
     ]
    },
    {
     "name": "stdout",
     "output_type": "stream",
     "text": [
      "Training until validation scores don't improve for 10 rounds\n",
      "[10]\tvalid_0's binary_logloss: 0.414729\n",
      "[20]\tvalid_0's binary_logloss: 0.375286\n",
      "[30]\tvalid_0's binary_logloss: 0.356019\n",
      "[40]\tvalid_0's binary_logloss: 0.341576\n",
      "[50]\tvalid_0's binary_logloss: 0.335195\n",
      "[60]\tvalid_0's binary_logloss: 0.330968\n",
      "[70]\tvalid_0's binary_logloss: 0.328105\n",
      "[80]\tvalid_0's binary_logloss: 0.325868\n",
      "[90]\tvalid_0's binary_logloss: 0.324779\n",
      "[100]\tvalid_0's binary_logloss: 0.324173\n",
      "Did not meet early stopping. Best iteration is:\n",
      "[99]\tvalid_0's binary_logloss: 0.324098\n",
      "Training until validation scores don't improve for 10 rounds\n",
      "[10]\tvalid_0's binary_logloss: 0.40817\n",
      "[20]\tvalid_0's binary_logloss: 0.364769\n",
      "[30]\tvalid_0's binary_logloss: 0.34792\n",
      "[40]\tvalid_0's binary_logloss: 0.336694\n",
      "[50]\tvalid_0's binary_logloss: 0.332745\n",
      "[60]\tvalid_0's binary_logloss: 0.33001\n",
      "[70]\tvalid_0's binary_logloss: 0.328398\n",
      "[80]\tvalid_0's binary_logloss: 0.326194\n",
      "[90]\tvalid_0's binary_logloss: 0.325212\n",
      "[100]\tvalid_0's binary_logloss: 0.325143\n",
      "Did not meet early stopping. Best iteration is:\n",
      "[95]\tvalid_0's binary_logloss: 0.324974\n"
     ]
    },
    {
     "name": "stderr",
     "output_type": "stream",
     "text": [
      "[I 2025-02-08 20:28:53,158] Trial 27 finished with value: 0.8723333333333333 and parameters: {'num_leaves': 74, 'max_depth': 8, 'learning_rate': 0.07903407247305554, 'min_child_samples': 93, 'subsample': 0.6293796095930653, 'colsample_bytree': 0.5427500735730961}. Best is trial 21 with value: 0.8753333333333333.\n"
     ]
    },
    {
     "name": "stdout",
     "output_type": "stream",
     "text": [
      "Training until validation scores don't improve for 10 rounds\n",
      "[10]\tvalid_0's binary_logloss: 0.473482\n",
      "[20]\tvalid_0's binary_logloss: 0.449423\n",
      "[30]\tvalid_0's binary_logloss: 0.428336\n",
      "[40]\tvalid_0's binary_logloss: 0.412334\n",
      "[50]\tvalid_0's binary_logloss: 0.400005\n",
      "[60]\tvalid_0's binary_logloss: 0.388571\n",
      "[70]\tvalid_0's binary_logloss: 0.378814\n"
     ]
    },
    {
     "name": "stderr",
     "output_type": "stream",
     "text": [
      "[I 2025-02-08 20:28:53,497] Trial 28 finished with value: 0.798 and parameters: {'num_leaves': 97, 'max_depth': 7, 'learning_rate': 0.015036772552550206, 'min_child_samples': 76, 'subsample': 0.7154311547847175, 'colsample_bytree': 0.7330263520316256}. Best is trial 21 with value: 0.8753333333333333.\n"
     ]
    },
    {
     "name": "stdout",
     "output_type": "stream",
     "text": [
      "[80]\tvalid_0's binary_logloss: 0.369447\n",
      "[90]\tvalid_0's binary_logloss: 0.362788\n",
      "[100]\tvalid_0's binary_logloss: 0.357349\n",
      "Did not meet early stopping. Best iteration is:\n",
      "[100]\tvalid_0's binary_logloss: 0.357349\n",
      "Training until validation scores don't improve for 10 rounds\n",
      "[10]\tvalid_0's binary_logloss: 0.435563\n",
      "[20]\tvalid_0's binary_logloss: 0.395001\n",
      "[30]\tvalid_0's binary_logloss: 0.369955\n",
      "[40]\tvalid_0's binary_logloss: 0.354206\n"
     ]
    },
    {
     "name": "stderr",
     "output_type": "stream",
     "text": [
      "[I 2025-02-08 20:28:53,795] Trial 29 finished with value: 0.8246666666666667 and parameters: {'num_leaves': 43, 'max_depth': 11, 'learning_rate': 0.04037293805980678, 'min_child_samples': 90, 'subsample': 0.5524603776891457, 'colsample_bytree': 0.6640869501191893}. Best is trial 21 with value: 0.8753333333333333.\n"
     ]
    },
    {
     "name": "stdout",
     "output_type": "stream",
     "text": [
      "[50]\tvalid_0's binary_logloss: 0.344381\n",
      "[60]\tvalid_0's binary_logloss: 0.337458\n",
      "[70]\tvalid_0's binary_logloss: 0.332858\n",
      "[80]\tvalid_0's binary_logloss: 0.328773\n",
      "[90]\tvalid_0's binary_logloss: 0.326881\n",
      "[100]\tvalid_0's binary_logloss: 0.325621\n",
      "Did not meet early stopping. Best iteration is:\n",
      "[100]\tvalid_0's binary_logloss: 0.325621\n",
      "Best parameters found: {'num_leaves': 75, 'max_depth': 9, 'learning_rate': 0.04728923452292558, 'min_child_samples': 75, 'subsample': 0.6279748133999552, 'colsample_bytree': 0.5748630153653248}\n",
      "Training until validation scores don't improve for 10 rounds\n",
      "[10]\tvalid_0's binary_logloss: 0.431201\n",
      "[20]\tvalid_0's binary_logloss: 0.389801\n",
      "[30]\tvalid_0's binary_logloss: 0.368494\n",
      "[40]\tvalid_0's binary_logloss: 0.351174\n",
      "[50]\tvalid_0's binary_logloss: 0.342535\n",
      "[60]\tvalid_0's binary_logloss: 0.336761\n",
      "[70]\tvalid_0's binary_logloss: 0.33219\n",
      "[80]\tvalid_0's binary_logloss: 0.328773\n",
      "[90]\tvalid_0's binary_logloss: 0.326949\n",
      "[100]\tvalid_0's binary_logloss: 0.326341\n",
      "Did not meet early stopping. Best iteration is:\n",
      "[100]\tvalid_0's binary_logloss: 0.326341\n",
      "Best Threshold: 0.5356\n",
      "Accuracy: 0.8753\n",
      "Classification Report:\n",
      "               precision    recall  f1-score   support\n",
      "\n",
      "           0       0.88      0.98      0.93      2389\n",
      "           1       0.85      0.47      0.60       611\n",
      "\n",
      "    accuracy                           0.88      3000\n",
      "   macro avg       0.87      0.72      0.77      3000\n",
      "weighted avg       0.87      0.88      0.86      3000\n",
      "\n"
     ]
    }
   ],
   "source": [
    "import pandas as pd\n",
    "import lightgbm as lgb\n",
    "import optuna\n",
    "from sklearn.model_selection import train_test_split\n",
    "from sklearn.metrics import accuracy_score, classification_report, precision_recall_curve\n",
    "\n",
    "\n",
    "# X, y 분리\n",
    "y = df['churn']  # 목표 변수\n",
    "X = df.drop(columns=['churn'])  # 특징 변수\n",
    "\n",
    "# 학습 및 테스트 데이터 분할\n",
    "X_train, X_test, y_train, y_test = train_test_split(X, y, test_size=0.3, random_state=42, stratify=y)\n",
    "\n",
    "# Optuna를 이용한 하이퍼파라미터 튜닝\n",
    "def objective(trial):\n",
    "    params = {\n",
    "        'objective': 'binary',\n",
    "        'metric': 'binary_logloss',\n",
    "        'verbosity': -1,\n",
    "        'num_leaves': trial.suggest_int('num_leaves', 20, 150),\n",
    "        'max_depth': trial.suggest_int('max_depth', 3, 15),\n",
    "        'learning_rate': trial.suggest_float('learning_rate', 0.01, 0.3, log=True),\n",
    "        'min_child_samples': trial.suggest_int('min_child_samples', 5, 100),\n",
    "        'subsample': trial.suggest_float('subsample', 0.5, 1.0),\n",
    "        'colsample_bytree': trial.suggest_float('colsample_bytree', 0.5, 1.0)\n",
    "    }\n",
    "    \n",
    "    train_data = lgb.Dataset(X_train, label=y_train)\n",
    "    valid_data = lgb.Dataset(X_test, label=y_test, reference=train_data)\n",
    "    \n",
    "    model = lgb.train(params, train_data, num_boost_round=100,\n",
    "                      valid_sets=[valid_data], \n",
    "                      callbacks=[lgb.early_stopping(10), lgb.log_evaluation(10)])\n",
    "    \n",
    "    y_pred_proba = model.predict(X_test)\n",
    "    precision, recall, thresholds = precision_recall_curve(y_test, y_pred_proba)\n",
    "    best_threshold = thresholds[(precision + recall).argmax()]  # 최적의 threshold 선택\n",
    "    \n",
    "    y_pred = [1 if x > best_threshold else 0 for x in y_pred_proba]\n",
    "    accuracy = accuracy_score(y_test, y_pred)\n",
    "    return accuracy\n",
    "\n",
    "# Optuna 실행\n",
    "study = optuna.create_study(direction='maximize')\n",
    "study.optimize(objective, n_trials=30)\n",
    "\n",
    "# 최적 하이퍼파라미터 출력\n",
    "print(\"Best parameters found:\", study.best_params)\n",
    "\n",
    "# 최적 하이퍼파라미터로 모델 학습\n",
    "best_params = study.best_params\n",
    "best_params.update({'objective': 'binary', 'metric': 'binary_logloss', 'verbosity': -1})\n",
    "\n",
    "train_data = lgb.Dataset(X_train, label=y_train)\n",
    "valid_data = lgb.Dataset(X_test, label=y_test, reference=train_data)\n",
    "\n",
    "model = lgb.train(best_params, train_data, num_boost_round=100,\n",
    "                  valid_sets=[valid_data], \n",
    "                  callbacks=[lgb.early_stopping(10), lgb.log_evaluation(10)])\n",
    "\n",
    "# 최적 모델 예측\n",
    "y_pred_proba = model.predict(X_test)\n",
    "precision, recall, thresholds = precision_recall_curve(y_test, y_pred_proba)\n",
    "best_threshold = thresholds[(precision + recall).argmax()]  # 최적 threshold 선택\n",
    "\n",
    "print(f'Best Threshold: {best_threshold:.4f}')\n",
    "\n",
    "y_pred = [1 if x > best_threshold else 0 for x in y_pred_proba]\n",
    "\n",
    "# 평가\n",
    "accuracy = accuracy_score(y_test, y_pred)\n",
    "report = classification_report(y_test, y_pred)\n",
    "\n",
    "print(f'Accuracy: {accuracy:.4f}')\n",
    "print('Classification Report:\\n', report)\n"
   ]
  },
  {
   "cell_type": "markdown",
   "metadata": {},
   "source": [
    "Precision과 Recall 균형 조정\n",
    "\n",
    "Precision 증가(0.80 → 0.84)\n",
    "Recall 감소(0.48 → 0.44)\n",
    "이탈 고객을 보다 정확하게 예측하지만, 일부를 놓칠 가능성이 있음\n",
    "비즈니스 목표에 따라 Threshold를 조정할 필요 있음!\n",
    "→ 이탈 고객 Recall을 높이고 싶다면 더 낮은 Threshold를 시도하는 것도 가능"
   ]
  },
  {
   "cell_type": "code",
   "execution_count": null,
   "metadata": {},
   "outputs": [],
   "source": []
  }
 ],
 "metadata": {
  "kernelspec": {
   "display_name": "psystudy_env",
   "language": "python",
   "name": "python3"
  },
  "language_info": {
   "codemirror_mode": {
    "name": "ipython",
    "version": 3
   },
   "file_extension": ".py",
   "mimetype": "text/x-python",
   "name": "python",
   "nbconvert_exporter": "python",
   "pygments_lexer": "ipython3",
   "version": "3.12.8"
  }
 },
 "nbformat": 4,
 "nbformat_minor": 2
}
