{
 "cells": [
  {
   "cell_type": "code",
   "execution_count": null,
   "metadata": {},
   "outputs": [],
   "source": [
    "import numpy as np\n",
    "import pandas as pd\n",
    "\n",
    "df=pd.read_csv(\"./data/Bank Customer Churn Prediction.csv\")"
   ]
  },
  {
   "cell_type": "code",
   "execution_count": null,
   "metadata": {},
   "outputs": [],
   "source": [
    "# 다시 파일 로드 및 전처리 진행\n",
    "\n",
    "# 필요한 라이브러리 불러오기\n",
    "import pandas as pd\n",
    "\n",
    "# 파일 경로\n",
    "file_path = \"/mnt/data/Bank Customer Churn Prediction.csv\"\n",
    "\n",
    "# 데이터 불러오기\n",
    "df = pd.read_csv(file_path)\n",
    "\n",
    "# 2) products_number를 범주형 변수로 변환\n",
    "df[\"products_category\"] = df[\"products_number\"].map({1: \"low\", 2: \"medium\", 3: \"high\", 4: \"high\"})\n",
    "\n",
    "# 3) age를 연령대 그룹화\n",
    "df[\"age_group\"] = pd.cut(df[\"age\"], bins=[18, 30, 50, 100], labels=[\"young\", \"middle_age\", \"senior\"])\n",
    "\n",
    "# 4) credit_score를 신용 등급으로 변환\n",
    "df[\"credit_score_group\"] = pd.cut(\n",
    "    df[\"credit_score\"], bins=[300, 580, 730, 850], labels=[\"low\", \"medium\", \"high\"]\n",
    ")\n",
    "\n",
    "# 변환된 데이터 확인\n",
    "import ace_tools as tools\n",
    "tools.display_dataframe_to_user(name=\"Transformed Data\", dataframe=df.head())\n"
   ]
  }
 ],
 "metadata": {
  "kernelspec": {
   "display_name": "psystudy_env",
   "language": "python",
   "name": "python3"
  },
  "language_info": {
   "name": "python",
   "version": "3.12.8"
  }
 },
 "nbformat": 4,
 "nbformat_minor": 2
}
