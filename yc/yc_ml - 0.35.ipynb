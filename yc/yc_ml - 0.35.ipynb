{
 "cells": [
  {
   "cell_type": "code",
   "execution_count": 1,
   "metadata": {},
   "outputs": [],
   "source": [
    "import numpy as np\n",
    "import pandas as pd"
   ]
  },
  {
   "cell_type": "code",
   "execution_count": 2,
   "metadata": {},
   "outputs": [],
   "source": [
    "df=pd.read_csv('./data/preprocessed_Bank_Customer_Churn_Prediction.csv')"
   ]
  },
  {
   "cell_type": "code",
   "execution_count": 3,
   "metadata": {},
   "outputs": [
    {
     "data": {
      "text/html": [
       "<div>\n",
       "<style scoped>\n",
       "    .dataframe tbody tr th:only-of-type {\n",
       "        vertical-align: middle;\n",
       "    }\n",
       "\n",
       "    .dataframe tbody tr th {\n",
       "        vertical-align: top;\n",
       "    }\n",
       "\n",
       "    .dataframe thead th {\n",
       "        text-align: right;\n",
       "    }\n",
       "</style>\n",
       "<table border=\"1\" class=\"dataframe\">\n",
       "  <thead>\n",
       "    <tr style=\"text-align: right;\">\n",
       "      <th></th>\n",
       "      <th>credit_score</th>\n",
       "      <th>country</th>\n",
       "      <th>gender</th>\n",
       "      <th>age</th>\n",
       "      <th>tenure</th>\n",
       "      <th>balance</th>\n",
       "      <th>products_number</th>\n",
       "      <th>credit_card</th>\n",
       "      <th>active_member</th>\n",
       "      <th>estimated_salary</th>\n",
       "      <th>churn</th>\n",
       "    </tr>\n",
       "  </thead>\n",
       "  <tbody>\n",
       "    <tr>\n",
       "      <th>0</th>\n",
       "      <td>619</td>\n",
       "      <td>0</td>\n",
       "      <td>1</td>\n",
       "      <td>42</td>\n",
       "      <td>2</td>\n",
       "      <td>0.00</td>\n",
       "      <td>1</td>\n",
       "      <td>1</td>\n",
       "      <td>1</td>\n",
       "      <td>101348.88</td>\n",
       "      <td>1</td>\n",
       "    </tr>\n",
       "    <tr>\n",
       "      <th>1</th>\n",
       "      <td>608</td>\n",
       "      <td>2</td>\n",
       "      <td>1</td>\n",
       "      <td>41</td>\n",
       "      <td>1</td>\n",
       "      <td>83807.86</td>\n",
       "      <td>1</td>\n",
       "      <td>0</td>\n",
       "      <td>1</td>\n",
       "      <td>112542.58</td>\n",
       "      <td>0</td>\n",
       "    </tr>\n",
       "    <tr>\n",
       "      <th>2</th>\n",
       "      <td>502</td>\n",
       "      <td>0</td>\n",
       "      <td>1</td>\n",
       "      <td>42</td>\n",
       "      <td>8</td>\n",
       "      <td>159660.80</td>\n",
       "      <td>3</td>\n",
       "      <td>1</td>\n",
       "      <td>0</td>\n",
       "      <td>113931.57</td>\n",
       "      <td>1</td>\n",
       "    </tr>\n",
       "    <tr>\n",
       "      <th>3</th>\n",
       "      <td>699</td>\n",
       "      <td>0</td>\n",
       "      <td>1</td>\n",
       "      <td>39</td>\n",
       "      <td>1</td>\n",
       "      <td>0.00</td>\n",
       "      <td>2</td>\n",
       "      <td>0</td>\n",
       "      <td>0</td>\n",
       "      <td>93826.63</td>\n",
       "      <td>0</td>\n",
       "    </tr>\n",
       "    <tr>\n",
       "      <th>4</th>\n",
       "      <td>850</td>\n",
       "      <td>2</td>\n",
       "      <td>1</td>\n",
       "      <td>43</td>\n",
       "      <td>2</td>\n",
       "      <td>125510.82</td>\n",
       "      <td>1</td>\n",
       "      <td>1</td>\n",
       "      <td>1</td>\n",
       "      <td>79084.10</td>\n",
       "      <td>0</td>\n",
       "    </tr>\n",
       "    <tr>\n",
       "      <th>...</th>\n",
       "      <td>...</td>\n",
       "      <td>...</td>\n",
       "      <td>...</td>\n",
       "      <td>...</td>\n",
       "      <td>...</td>\n",
       "      <td>...</td>\n",
       "      <td>...</td>\n",
       "      <td>...</td>\n",
       "      <td>...</td>\n",
       "      <td>...</td>\n",
       "      <td>...</td>\n",
       "    </tr>\n",
       "    <tr>\n",
       "      <th>9995</th>\n",
       "      <td>771</td>\n",
       "      <td>0</td>\n",
       "      <td>0</td>\n",
       "      <td>39</td>\n",
       "      <td>5</td>\n",
       "      <td>0.00</td>\n",
       "      <td>2</td>\n",
       "      <td>1</td>\n",
       "      <td>0</td>\n",
       "      <td>96270.64</td>\n",
       "      <td>0</td>\n",
       "    </tr>\n",
       "    <tr>\n",
       "      <th>9996</th>\n",
       "      <td>516</td>\n",
       "      <td>0</td>\n",
       "      <td>0</td>\n",
       "      <td>35</td>\n",
       "      <td>10</td>\n",
       "      <td>57369.61</td>\n",
       "      <td>1</td>\n",
       "      <td>1</td>\n",
       "      <td>1</td>\n",
       "      <td>101699.77</td>\n",
       "      <td>0</td>\n",
       "    </tr>\n",
       "    <tr>\n",
       "      <th>9997</th>\n",
       "      <td>709</td>\n",
       "      <td>0</td>\n",
       "      <td>1</td>\n",
       "      <td>36</td>\n",
       "      <td>7</td>\n",
       "      <td>0.00</td>\n",
       "      <td>1</td>\n",
       "      <td>0</td>\n",
       "      <td>1</td>\n",
       "      <td>42085.58</td>\n",
       "      <td>1</td>\n",
       "    </tr>\n",
       "    <tr>\n",
       "      <th>9998</th>\n",
       "      <td>772</td>\n",
       "      <td>1</td>\n",
       "      <td>0</td>\n",
       "      <td>42</td>\n",
       "      <td>3</td>\n",
       "      <td>75075.31</td>\n",
       "      <td>2</td>\n",
       "      <td>1</td>\n",
       "      <td>0</td>\n",
       "      <td>92888.52</td>\n",
       "      <td>1</td>\n",
       "    </tr>\n",
       "    <tr>\n",
       "      <th>9999</th>\n",
       "      <td>792</td>\n",
       "      <td>0</td>\n",
       "      <td>1</td>\n",
       "      <td>28</td>\n",
       "      <td>4</td>\n",
       "      <td>130142.79</td>\n",
       "      <td>1</td>\n",
       "      <td>1</td>\n",
       "      <td>0</td>\n",
       "      <td>38190.78</td>\n",
       "      <td>0</td>\n",
       "    </tr>\n",
       "  </tbody>\n",
       "</table>\n",
       "<p>10000 rows × 11 columns</p>\n",
       "</div>"
      ],
      "text/plain": [
       "      credit_score  country  gender  age  tenure    balance  products_number  \\\n",
       "0              619        0       1   42       2       0.00                1   \n",
       "1              608        2       1   41       1   83807.86                1   \n",
       "2              502        0       1   42       8  159660.80                3   \n",
       "3              699        0       1   39       1       0.00                2   \n",
       "4              850        2       1   43       2  125510.82                1   \n",
       "...            ...      ...     ...  ...     ...        ...              ...   \n",
       "9995           771        0       0   39       5       0.00                2   \n",
       "9996           516        0       0   35      10   57369.61                1   \n",
       "9997           709        0       1   36       7       0.00                1   \n",
       "9998           772        1       0   42       3   75075.31                2   \n",
       "9999           792        0       1   28       4  130142.79                1   \n",
       "\n",
       "      credit_card  active_member  estimated_salary  churn  \n",
       "0               1              1         101348.88      1  \n",
       "1               0              1         112542.58      0  \n",
       "2               1              0         113931.57      1  \n",
       "3               0              0          93826.63      0  \n",
       "4               1              1          79084.10      0  \n",
       "...           ...            ...               ...    ...  \n",
       "9995            1              0          96270.64      0  \n",
       "9996            1              1         101699.77      0  \n",
       "9997            0              1          42085.58      1  \n",
       "9998            1              0          92888.52      1  \n",
       "9999            1              0          38190.78      0  \n",
       "\n",
       "[10000 rows x 11 columns]"
      ]
     },
     "execution_count": 3,
     "metadata": {},
     "output_type": "execute_result"
    }
   ],
   "source": [
    "df\n"
   ]
  },
  {
   "cell_type": "markdown",
   "metadata": {},
   "source": [
    "### XGBOOST 사용"
   ]
  },
  {
   "cell_type": "code",
   "execution_count": 4,
   "metadata": {},
   "outputs": [
    {
     "name": "stdout",
     "output_type": "stream",
     "text": [
      "Accuracy: 0.8520\n",
      "Classification Report:\n",
      "               precision    recall  f1-score   support\n",
      "\n",
      "           0     0.8813    0.9408    0.9101      2787\n",
      "           1     0.6857    0.5049    0.5816       713\n",
      "\n",
      "    accuracy                         0.8520      3500\n",
      "   macro avg     0.7835    0.7229    0.7458      3500\n",
      "weighted avg     0.8415    0.8520    0.8432      3500\n",
      "\n"
     ]
    },
    {
     "name": "stderr",
     "output_type": "stream",
     "text": [
      "c:\\Users\\Playdata\\AppData\\Local\\anaconda3\\envs\\psystudy_env\\Lib\\site-packages\\xgboost\\core.py:158: UserWarning: [20:35:33] WARNING: C:\\buildkite-agent\\builds\\buildkite-windows-cpu-autoscaling-group-i-08cbc0333d8d4aae1-1\\xgboost\\xgboost-ci-windows\\src\\learner.cc:740: \n",
      "Parameters: { \"use_label_encoder\" } are not used.\n",
      "\n",
      "  warnings.warn(smsg, UserWarning)\n"
     ]
    }
   ],
   "source": [
    "import pandas as pd\n",
    "import xgboost as xgb\n",
    "from sklearn.model_selection import train_test_split\n",
    "from sklearn.metrics import accuracy_score, classification_report\n",
    "\n",
    "\n",
    "# X, y 분리\n",
    "y = df['churn']  # 목표 변수\n",
    "X = df.drop(columns=['churn'])  # 특징 변수\n",
    "\n",
    "# 학습 및 테스트 데이터 분할\n",
    "X_train, X_test, y_train, y_test = train_test_split(X, y, test_size=0.35, random_state=42, stratify=y)\n",
    "\n",
    "# XGBoost 모델 생성 및 학습\n",
    "model = xgb.XGBClassifier(\n",
    "    objective='binary:logistic', \n",
    "    eval_metric='logloss', \n",
    "    use_label_encoder=False, \n",
    "    random_state=42\n",
    ")\n",
    "model.fit(X_train, y_train)\n",
    "\n",
    "# 예측\n",
    "y_pred = model.predict(X_test)\n",
    "\n",
    "# 평가\n",
    "accuracy = accuracy_score(y_test, y_pred)\n",
    "report = classification_report(y_test, y_pred, digits=4)\n",
    "\n",
    "print(f'Accuracy: {accuracy:.4f}')\n",
    "print('Classification Report:\\n', report)\n"
   ]
  },
  {
   "cell_type": "code",
   "execution_count": 5,
   "metadata": {},
   "outputs": [
    {
     "name": "stderr",
     "output_type": "stream",
     "text": [
      "c:\\Users\\Playdata\\AppData\\Local\\anaconda3\\envs\\psystudy_env\\Lib\\site-packages\\xgboost\\core.py:158: UserWarning: [20:35:33] WARNING: C:\\buildkite-agent\\builds\\buildkite-windows-cpu-autoscaling-group-i-08cbc0333d8d4aae1-1\\xgboost\\xgboost-ci-windows\\src\\learner.cc:740: \n",
      "Parameters: { \"n_estimators\" } are not used.\n",
      "\n",
      "  warnings.warn(smsg, UserWarning)\n"
     ]
    },
    {
     "name": "stdout",
     "output_type": "stream",
     "text": [
      "Best n_estimators: 73\n",
      "Accuracy: 0.8643\n",
      "Classification Report:\n",
      "               precision    recall  f1-score   support\n",
      "\n",
      "           0     0.8790    0.9620    0.9186      2787\n",
      "           1     0.7644    0.4825    0.5916       713\n",
      "\n",
      "    accuracy                         0.8643      3500\n",
      "   macro avg     0.8217    0.7222    0.7551      3500\n",
      "weighted avg     0.8557    0.8643    0.8520      3500\n",
      "\n"
     ]
    }
   ],
   "source": [
    "import pandas as pd\n",
    "import xgboost as xgb\n",
    "from sklearn.model_selection import train_test_split, StratifiedKFold\n",
    "from sklearn.metrics import accuracy_score, classification_report\n",
    "\n",
    "# 데이터 준비\n",
    "y = df['churn']\n",
    "X = df.drop(columns=['churn'])\n",
    "\n",
    "# 학습 및 테스트 데이터 분할\n",
    "X_train, X_test, y_train, y_test = train_test_split(X, y, test_size=0.35, random_state=42, stratify=y)\n",
    "\n",
    "# 하이퍼파라미터 설정\n",
    "params = {\n",
    "    'objective': 'binary:logistic',\n",
    "    'eval_metric': 'logloss',\n",
    "    'random_state': 42,\n",
    "    'learning_rate': 0.1,\n",
    "    'max_depth': 5,\n",
    "    'subsample': 0.8,\n",
    "    'colsample_bytree': 0.8,\n",
    "    'n_estimators': 100\n",
    "}\n",
    "\n",
    "# ✅ XGBoost의 cv 기능 사용\n",
    "cv_results = xgb.cv(\n",
    "    params=params,\n",
    "    dtrain=xgb.DMatrix(X_train, label=y_train),\n",
    "    num_boost_round=100,\n",
    "    nfold=5,\n",
    "    stratified=True,\n",
    "    metrics='logloss',\n",
    "    early_stopping_rounds=10\n",
    ")\n",
    "\n",
    "# 최적 n_estimators 설정\n",
    "best_n_estimators = len(cv_results)\n",
    "params['n_estimators'] = best_n_estimators\n",
    "\n",
    "# 최적 모델 학습\n",
    "model = xgb.XGBClassifier(**params)\n",
    "model.fit(X_train, y_train)\n",
    "\n",
    "# 예측\n",
    "y_pred = model.predict(X_test)\n",
    "\n",
    "# 평가\n",
    "accuracy = accuracy_score(y_test, y_pred)\n",
    "report = classification_report(y_test, y_pred, digits=4)\n",
    "\n",
    "print(f'Best n_estimators: {best_n_estimators}')\n",
    "print(f'Accuracy: {accuracy:.4f}')\n",
    "print('Classification Report:\\n', report)\n"
   ]
  },
  {
   "cell_type": "markdown",
   "metadata": {},
   "source": [
    "### LGB사용"
   ]
  },
  {
   "cell_type": "code",
   "execution_count": 6,
   "metadata": {},
   "outputs": [
    {
     "name": "stdout",
     "output_type": "stream",
     "text": [
      "Training until validation scores don't improve for 10 rounds\n",
      "[10]\tvalid's binary_logloss: 0.369569\n",
      "[20]\tvalid's binary_logloss: 0.34421\n",
      "[30]\tvalid's binary_logloss: 0.336481\n",
      "[40]\tvalid's binary_logloss: 0.333423\n",
      "[50]\tvalid's binary_logloss: 0.3331\n",
      "[60]\tvalid's binary_logloss: 0.333744\n",
      "Early stopping, best iteration is:\n",
      "[55]\tvalid's binary_logloss: 0.332668\n",
      "Accuracy: 0.8634\n",
      "Classification Report:\n",
      "               precision    recall  f1-score   support\n",
      "\n",
      "           0     0.8824    0.9559    0.9177      2787\n",
      "           1     0.7443    0.5021    0.5997       713\n",
      "\n",
      "    accuracy                         0.8634      3500\n",
      "   macro avg     0.8133    0.7290    0.7587      3500\n",
      "weighted avg     0.8543    0.8634    0.8529      3500\n",
      "\n"
     ]
    }
   ],
   "source": [
    "import pandas as pd\n",
    "import lightgbm as lgb\n",
    "from sklearn.model_selection import train_test_split\n",
    "from sklearn.metrics import accuracy_score, classification_report\n",
    "\n",
    "\n",
    "# X, y 분리\n",
    "y = df['churn']  # 목표 변수\n",
    "X = df.drop(columns=['churn'])  # 특징 변수\n",
    "\n",
    "# 학습 및 테스트 데이터 분할\n",
    "X_train, X_test, y_train, y_test = train_test_split(X, y, test_size=0.35, random_state=42, stratify=y)\n",
    "\n",
    "# LightGBM 데이터셋 생성\n",
    "train_data = lgb.Dataset(X_train, label=y_train)\n",
    "valid_data = lgb.Dataset(X_test, label=y_test, reference=train_data)  # 검증 데이터 설정\n",
    "\n",
    "# LightGBM 모델 학습\n",
    "params = {\n",
    "    'objective': 'binary',\n",
    "    'metric': 'binary_logloss',\n",
    "    'verbosity': -1\n",
    "}\n",
    "\n",
    "# callbacks을 사용하여 early stopping 적용\n",
    "model = lgb.train(params, train_data, num_boost_round=100,\n",
    "                  valid_sets=[valid_data], valid_names=['valid'],\n",
    "                  callbacks=[lgb.early_stopping(10), lgb.log_evaluation(10)])\n",
    "\n",
    "# 예측\n",
    "y_pred = model.predict(X_test)\n",
    "y_pred = [1 if x > 0.5 else 0 for x in y_pred]\n",
    "\n",
    "# 평가\n",
    "accuracy = accuracy_score(y_test, y_pred)\n",
    "report = classification_report(y_test, y_pred, digits=4)\n",
    "\n",
    "\n",
    "print(f'Accuracy: {accuracy:.4f}')\n",
    "print('Classification Report:\\n', report)\n"
   ]
  },
  {
   "cell_type": "markdown",
   "metadata": {},
   "source": [
    "### LGB gridsearch사용"
   ]
  },
  {
   "cell_type": "code",
   "execution_count": 7,
   "metadata": {},
   "outputs": [
    {
     "name": "stdout",
     "output_type": "stream",
     "text": [
      "Fitting 3 folds for each of 729 candidates, totalling 2187 fits\n",
      "Best parameters found: {'colsample_bytree': 0.9, 'learning_rate': 0.1, 'max_depth': 3, 'min_child_samples': 20, 'num_leaves': 20, 'subsample': 0.7}\n",
      "Accuracy: 0.8651\n",
      "Classification Report:\n",
      "               precision    recall  f1-score   support\n",
      "\n",
      "           0     0.8779    0.9648    0.9193      2787\n",
      "           1     0.7757    0.4755    0.5896       713\n",
      "\n",
      "    accuracy                         0.8651      3500\n",
      "   macro avg     0.8268    0.7201    0.7544      3500\n",
      "weighted avg     0.8571    0.8651    0.8521      3500\n",
      "\n"
     ]
    }
   ],
   "source": [
    "import pandas as pd\n",
    "import lightgbm as lgb\n",
    "from sklearn.model_selection import train_test_split, GridSearchCV\n",
    "from sklearn.metrics import accuracy_score, classification_report\n",
    "\n",
    "\n",
    "# X, y 분리\n",
    "y = df['churn']  # 목표 변수\n",
    "X = df.drop(columns=['churn'])  # 특징 변수\n",
    "\n",
    "# 학습 및 테스트 데이터 분할\n",
    "X_train, X_test, y_train, y_test = train_test_split(X, y, test_size=0.35, random_state=42, stratify=y)\n",
    "\n",
    "# LightGBM 모델 객체 생성\n",
    "model = lgb.LGBMClassifier(objective='binary', metric='binary_logloss', verbosity=-1)\n",
    "\n",
    "# 하이퍼파라미터 검색 공간 정의\n",
    "param_grid = {\n",
    "    'num_leaves': [20, 31, 50],\n",
    "    'max_depth': [3, 5, 7],\n",
    "    'learning_rate': [0.01, 0.05, 0.1],\n",
    "    'min_child_samples': [10, 20, 50],\n",
    "    'subsample': [0.7, 0.8, 0.9],\n",
    "    'colsample_bytree': [0.7, 0.8, 0.9]\n",
    "}\n",
    "\n",
    "# Grid Search 수행\n",
    "grid_search = GridSearchCV(\n",
    "    estimator=model,\n",
    "    param_grid=param_grid,\n",
    "    scoring='accuracy',\n",
    "    cv=3,  # 3-폴드 교차검증\n",
    "    verbose=1,\n",
    "    n_jobs=-1\n",
    ")\n",
    "\n",
    "grid_search.fit(X_train, y_train)\n",
    "\n",
    "# 최적 하이퍼파라미터 출력\n",
    "print(\"Best parameters found:\", grid_search.best_params_)\n",
    "\n",
    "# 최적 하이퍼파라미터 적용하여 모델 재학습\n",
    "best_model = grid_search.best_estimator_\n",
    "\n",
    "# 예측\n",
    "y_pred = best_model.predict(X_test)\n",
    "\n",
    "# 평가\n",
    "accuracy = accuracy_score(y_test, y_pred)\n",
    "report = classification_report(y_test, y_pred,digits=4)\n",
    "\n",
    "print(f'Accuracy: {accuracy:.4f}')\n",
    "print('Classification Report:\\n', report)\n"
   ]
  },
  {
   "cell_type": "markdown",
   "metadata": {},
   "source": [
    "---"
   ]
  },
  {
   "cell_type": "markdown",
   "metadata": {},
   "source": [
    "# optuna 사용\n"
   ]
  },
  {
   "cell_type": "code",
   "execution_count": 8,
   "metadata": {},
   "outputs": [
    {
     "name": "stderr",
     "output_type": "stream",
     "text": [
      "[I 2025-02-08 20:38:53,170] A new study created in memory with name: no-name-4d58d944-59d1-46f4-aaf5-25fbd3d30ea4\n"
     ]
    },
    {
     "name": "stdout",
     "output_type": "stream",
     "text": [
      "Training until validation scores don't improve for 10 rounds"
     ]
    },
    {
     "name": "stderr",
     "output_type": "stream",
     "text": [
      "C:\\Users\\Playdata\\AppData\\Local\\Temp\\ipykernel_18140\\3189017698.py:24: FutureWarning: suggest_loguniform has been deprecated in v3.0.0. This feature will be removed in v6.0.0. See https://github.com/optuna/optuna/releases/tag/v3.0.0. Use suggest_float(..., log=True) instead.\n",
      "  'learning_rate': trial.suggest_loguniform('learning_rate', 0.01, 0.3),\n",
      "C:\\Users\\Playdata\\AppData\\Local\\Temp\\ipykernel_18140\\3189017698.py:26: FutureWarning: suggest_uniform has been deprecated in v3.0.0. This feature will be removed in v6.0.0. See https://github.com/optuna/optuna/releases/tag/v3.0.0. Use suggest_float instead.\n",
      "  'subsample': trial.suggest_uniform('subsample', 0.5, 1.0),\n",
      "C:\\Users\\Playdata\\AppData\\Local\\Temp\\ipykernel_18140\\3189017698.py:27: FutureWarning: suggest_uniform has been deprecated in v3.0.0. This feature will be removed in v6.0.0. See https://github.com/optuna/optuna/releases/tag/v3.0.0. Use suggest_float instead.\n",
      "  'colsample_bytree': trial.suggest_uniform('colsample_bytree', 0.5, 1.0)\n",
      "[I 2025-02-08 20:38:53,316] Trial 0 finished with value: 0.8622857142857143 and parameters: {'num_leaves': 129, 'max_depth': 6, 'learning_rate': 0.059360214512262595, 'min_child_samples': 65, 'subsample': 0.8075073384567252, 'colsample_bytree': 0.9444809381507159}. Best is trial 0 with value: 0.8622857142857143.\n",
      "C:\\Users\\Playdata\\AppData\\Local\\Temp\\ipykernel_18140\\3189017698.py:24: FutureWarning: suggest_loguniform has been deprecated in v3.0.0. This feature will be removed in v6.0.0. See https://github.com/optuna/optuna/releases/tag/v3.0.0. Use suggest_float(..., log=True) instead.\n",
      "  'learning_rate': trial.suggest_loguniform('learning_rate', 0.01, 0.3),\n",
      "C:\\Users\\Playdata\\AppData\\Local\\Temp\\ipykernel_18140\\3189017698.py:26: FutureWarning: suggest_uniform has been deprecated in v3.0.0. This feature will be removed in v6.0.0. See https://github.com/optuna/optuna/releases/tag/v3.0.0. Use suggest_float instead.\n",
      "  'subsample': trial.suggest_uniform('subsample', 0.5, 1.0),\n",
      "C:\\Users\\Playdata\\AppData\\Local\\Temp\\ipykernel_18140\\3189017698.py:27: FutureWarning: suggest_uniform has been deprecated in v3.0.0. This feature will be removed in v6.0.0. See https://github.com/optuna/optuna/releases/tag/v3.0.0. Use suggest_float instead.\n",
      "  'colsample_bytree': trial.suggest_uniform('colsample_bytree', 0.5, 1.0)\n",
      "[I 2025-02-08 20:38:53,355] Trial 1 finished with value: 0.8625714285714285 and parameters: {'num_leaves': 100, 'max_depth': 3, 'learning_rate': 0.26014962300486466, 'min_child_samples': 83, 'subsample': 0.7429829581375647, 'colsample_bytree': 0.9150504995372748}. Best is trial 1 with value: 0.8625714285714285.\n",
      "C:\\Users\\Playdata\\AppData\\Local\\Temp\\ipykernel_18140\\3189017698.py:24: FutureWarning: suggest_loguniform has been deprecated in v3.0.0. This feature will be removed in v6.0.0. See https://github.com/optuna/optuna/releases/tag/v3.0.0. Use suggest_float(..., log=True) instead.\n",
      "  'learning_rate': trial.suggest_loguniform('learning_rate', 0.01, 0.3),\n",
      "C:\\Users\\Playdata\\AppData\\Local\\Temp\\ipykernel_18140\\3189017698.py:26: FutureWarning: suggest_uniform has been deprecated in v3.0.0. This feature will be removed in v6.0.0. See https://github.com/optuna/optuna/releases/tag/v3.0.0. Use suggest_float instead.\n",
      "  'subsample': trial.suggest_uniform('subsample', 0.5, 1.0),\n",
      "C:\\Users\\Playdata\\AppData\\Local\\Temp\\ipykernel_18140\\3189017698.py:27: FutureWarning: suggest_uniform has been deprecated in v3.0.0. This feature will be removed in v6.0.0. See https://github.com/optuna/optuna/releases/tag/v3.0.0. Use suggest_float instead.\n",
      "  'colsample_bytree': trial.suggest_uniform('colsample_bytree', 0.5, 1.0)\n",
      "[I 2025-02-08 20:38:53,388] Trial 2 finished with value: 0.8637142857142858 and parameters: {'num_leaves': 36, 'max_depth': 5, 'learning_rate': 0.24008263989103165, 'min_child_samples': 78, 'subsample': 0.6622085451537614, 'colsample_bytree': 0.9024671566146257}. Best is trial 2 with value: 0.8637142857142858.\n"
     ]
    },
    {
     "name": "stdout",
     "output_type": "stream",
     "text": [
      "\n",
      "[10]\tvalid_0's binary_logloss: 0.405879\n",
      "[20]\tvalid_0's binary_logloss: 0.36831\n",
      "[30]\tvalid_0's binary_logloss: 0.351333\n",
      "[40]\tvalid_0's binary_logloss: 0.341761\n",
      "[50]\tvalid_0's binary_logloss: 0.337051\n",
      "[60]\tvalid_0's binary_logloss: 0.334523\n",
      "[70]\tvalid_0's binary_logloss: 0.332716\n",
      "[80]\tvalid_0's binary_logloss: 0.332041\n",
      "[90]\tvalid_0's binary_logloss: 0.332037\n",
      "Early stopping, best iteration is:\n",
      "[89]\tvalid_0's binary_logloss: 0.331811\n",
      "Training until validation scores don't improve for 10 rounds\n",
      "[10]\tvalid_0's binary_logloss: 0.355473\n",
      "[20]\tvalid_0's binary_logloss: 0.337543\n",
      "[30]\tvalid_0's binary_logloss: 0.335504\n",
      "[40]\tvalid_0's binary_logloss: 0.331929\n",
      "[50]\tvalid_0's binary_logloss: 0.332144\n",
      "Early stopping, best iteration is:\n",
      "[43]\tvalid_0's binary_logloss: 0.331433\n",
      "Training until validation scores don't improve for 10 rounds\n",
      "[10]\tvalid_0's binary_logloss: 0.345473\n",
      "[20]\tvalid_0's binary_logloss: 0.333187\n",
      "[30]\tvalid_0's binary_logloss: 0.335882\n",
      "Early stopping, best iteration is:\n",
      "[20]\tvalid_0's binary_logloss: 0.333187\n"
     ]
    },
    {
     "name": "stderr",
     "output_type": "stream",
     "text": [
      "C:\\Users\\Playdata\\AppData\\Local\\Temp\\ipykernel_18140\\3189017698.py:24: FutureWarning: suggest_loguniform has been deprecated in v3.0.0. This feature will be removed in v6.0.0. See https://github.com/optuna/optuna/releases/tag/v3.0.0. Use suggest_float(..., log=True) instead.\n",
      "  'learning_rate': trial.suggest_loguniform('learning_rate', 0.01, 0.3),\n",
      "C:\\Users\\Playdata\\AppData\\Local\\Temp\\ipykernel_18140\\3189017698.py:26: FutureWarning: suggest_uniform has been deprecated in v3.0.0. This feature will be removed in v6.0.0. See https://github.com/optuna/optuna/releases/tag/v3.0.0. Use suggest_float instead.\n",
      "  'subsample': trial.suggest_uniform('subsample', 0.5, 1.0),\n",
      "C:\\Users\\Playdata\\AppData\\Local\\Temp\\ipykernel_18140\\3189017698.py:27: FutureWarning: suggest_uniform has been deprecated in v3.0.0. This feature will be removed in v6.0.0. See https://github.com/optuna/optuna/releases/tag/v3.0.0. Use suggest_float instead.\n",
      "  'colsample_bytree': trial.suggest_uniform('colsample_bytree', 0.5, 1.0)\n"
     ]
    },
    {
     "name": "stdout",
     "output_type": "stream",
     "text": [
      "Training until validation scores don't improve for 10 rounds\n",
      "[10]\tvalid_0's binary_logloss: 0.457521\n",
      "[20]\tvalid_0's binary_logloss: 0.424746\n",
      "[30]\tvalid_0's binary_logloss: 0.40203\n",
      "[40]\tvalid_0's binary_logloss: 0.386714\n",
      "[50]\tvalid_0's binary_logloss: 0.375589\n",
      "[60]\tvalid_0's binary_logloss: 0.366433\n",
      "[70]\tvalid_0's binary_logloss: 0.35943\n",
      "[80]\tvalid_0's binary_logloss: 0.353715\n",
      "[90]\tvalid_0's binary_logloss: 0.350618\n",
      "[100]\tvalid_0's binary_logloss: 0.348526\n",
      "Did not meet early stopping. Best iteration is:\n",
      "[100]\tvalid_0's binary_logloss: 0.348526\n"
     ]
    },
    {
     "name": "stderr",
     "output_type": "stream",
     "text": [
      "[I 2025-02-08 20:38:53,820] Trial 3 finished with value: 0.8588571428571429 and parameters: {'num_leaves': 133, 'max_depth': 15, 'learning_rate': 0.020340784122069053, 'min_child_samples': 20, 'subsample': 0.6456516470166345, 'colsample_bytree': 0.8455501471055434}. Best is trial 2 with value: 0.8637142857142858.\n",
      "C:\\Users\\Playdata\\AppData\\Local\\Temp\\ipykernel_18140\\3189017698.py:24: FutureWarning: suggest_loguniform has been deprecated in v3.0.0. This feature will be removed in v6.0.0. See https://github.com/optuna/optuna/releases/tag/v3.0.0. Use suggest_float(..., log=True) instead.\n",
      "  'learning_rate': trial.suggest_loguniform('learning_rate', 0.01, 0.3),\n",
      "C:\\Users\\Playdata\\AppData\\Local\\Temp\\ipykernel_18140\\3189017698.py:26: FutureWarning: suggest_uniform has been deprecated in v3.0.0. This feature will be removed in v6.0.0. See https://github.com/optuna/optuna/releases/tag/v3.0.0. Use suggest_float instead.\n",
      "  'subsample': trial.suggest_uniform('subsample', 0.5, 1.0),\n",
      "C:\\Users\\Playdata\\AppData\\Local\\Temp\\ipykernel_18140\\3189017698.py:27: FutureWarning: suggest_uniform has been deprecated in v3.0.0. This feature will be removed in v6.0.0. See https://github.com/optuna/optuna/releases/tag/v3.0.0. Use suggest_float instead.\n",
      "  'colsample_bytree': trial.suggest_uniform('colsample_bytree', 0.5, 1.0)\n",
      "[I 2025-02-08 20:38:53,903] Trial 4 finished with value: 0.8597142857142858 and parameters: {'num_leaves': 67, 'max_depth': 10, 'learning_rate': 0.15751492383492335, 'min_child_samples': 16, 'subsample': 0.6310183947212908, 'colsample_bytree': 0.9169945315775081}. Best is trial 2 with value: 0.8637142857142858.\n",
      "C:\\Users\\Playdata\\AppData\\Local\\Temp\\ipykernel_18140\\3189017698.py:24: FutureWarning: suggest_loguniform has been deprecated in v3.0.0. This feature will be removed in v6.0.0. See https://github.com/optuna/optuna/releases/tag/v3.0.0. Use suggest_float(..., log=True) instead.\n",
      "  'learning_rate': trial.suggest_loguniform('learning_rate', 0.01, 0.3),\n",
      "C:\\Users\\Playdata\\AppData\\Local\\Temp\\ipykernel_18140\\3189017698.py:26: FutureWarning: suggest_uniform has been deprecated in v3.0.0. This feature will be removed in v6.0.0. See https://github.com/optuna/optuna/releases/tag/v3.0.0. Use suggest_float instead.\n",
      "  'subsample': trial.suggest_uniform('subsample', 0.5, 1.0),\n",
      "C:\\Users\\Playdata\\AppData\\Local\\Temp\\ipykernel_18140\\3189017698.py:27: FutureWarning: suggest_uniform has been deprecated in v3.0.0. This feature will be removed in v6.0.0. See https://github.com/optuna/optuna/releases/tag/v3.0.0. Use suggest_float instead.\n",
      "  'colsample_bytree': trial.suggest_uniform('colsample_bytree', 0.5, 1.0)\n",
      "[I 2025-02-08 20:38:53,971] Trial 5 finished with value: 0.8622857142857143 and parameters: {'num_leaves': 93, 'max_depth': 6, 'learning_rate': 0.20548828932739635, 'min_child_samples': 59, 'subsample': 0.9946087151496238, 'colsample_bytree': 0.5184518335451194}. Best is trial 2 with value: 0.8637142857142858.\n",
      "C:\\Users\\Playdata\\AppData\\Local\\Temp\\ipykernel_18140\\3189017698.py:24: FutureWarning: suggest_loguniform has been deprecated in v3.0.0. This feature will be removed in v6.0.0. See https://github.com/optuna/optuna/releases/tag/v3.0.0. Use suggest_float(..., log=True) instead.\n",
      "  'learning_rate': trial.suggest_loguniform('learning_rate', 0.01, 0.3),\n",
      "C:\\Users\\Playdata\\AppData\\Local\\Temp\\ipykernel_18140\\3189017698.py:26: FutureWarning: suggest_uniform has been deprecated in v3.0.0. This feature will be removed in v6.0.0. See https://github.com/optuna/optuna/releases/tag/v3.0.0. Use suggest_float instead.\n",
      "  'subsample': trial.suggest_uniform('subsample', 0.5, 1.0),\n",
      "C:\\Users\\Playdata\\AppData\\Local\\Temp\\ipykernel_18140\\3189017698.py:27: FutureWarning: suggest_uniform has been deprecated in v3.0.0. This feature will be removed in v6.0.0. See https://github.com/optuna/optuna/releases/tag/v3.0.0. Use suggest_float instead.\n",
      "  'colsample_bytree': trial.suggest_uniform('colsample_bytree', 0.5, 1.0)\n",
      "[I 2025-02-08 20:38:54,012] Trial 6 finished with value: 0.8637142857142858 and parameters: {'num_leaves': 26, 'max_depth': 8, 'learning_rate': 0.2366087267823465, 'min_child_samples': 95, 'subsample': 0.9739240582497496, 'colsample_bytree': 0.5194085016700207}. Best is trial 2 with value: 0.8637142857142858.\n"
     ]
    },
    {
     "name": "stdout",
     "output_type": "stream",
     "text": [
      "Training until validation scores don't improve for 10 rounds\n",
      "[10]\tvalid_0's binary_logloss: 0.35356\n",
      "[20]\tvalid_0's binary_logloss: 0.342717\n",
      "Early stopping, best iteration is:\n",
      "[18]\tvalid_0's binary_logloss: 0.342535\n",
      "Training until validation scores don't improve for 10 rounds\n",
      "[10]\tvalid_0's binary_logloss: 0.361969\n",
      "[20]\tvalid_0's binary_logloss: 0.339291\n",
      "[30]\tvalid_0's binary_logloss: 0.336713\n",
      "[40]\tvalid_0's binary_logloss: 0.335932\n",
      "Early stopping, best iteration is:\n",
      "[36]\tvalid_0's binary_logloss: 0.335635\n",
      "Training until validation scores don't improve for 10 rounds\n",
      "[10]\tvalid_0's binary_logloss: 0.357064\n",
      "[20]\tvalid_0's binary_logloss: 0.334572\n",
      "[30]\tvalid_0's binary_logloss: 0.334304\n",
      "Early stopping, best iteration is:\n",
      "[21]\tvalid_0's binary_logloss: 0.332487\n"
     ]
    },
    {
     "name": "stderr",
     "output_type": "stream",
     "text": [
      "C:\\Users\\Playdata\\AppData\\Local\\Temp\\ipykernel_18140\\3189017698.py:24: FutureWarning: suggest_loguniform has been deprecated in v3.0.0. This feature will be removed in v6.0.0. See https://github.com/optuna/optuna/releases/tag/v3.0.0. Use suggest_float(..., log=True) instead.\n",
      "  'learning_rate': trial.suggest_loguniform('learning_rate', 0.01, 0.3),\n",
      "C:\\Users\\Playdata\\AppData\\Local\\Temp\\ipykernel_18140\\3189017698.py:26: FutureWarning: suggest_uniform has been deprecated in v3.0.0. This feature will be removed in v6.0.0. See https://github.com/optuna/optuna/releases/tag/v3.0.0. Use suggest_float instead.\n",
      "  'subsample': trial.suggest_uniform('subsample', 0.5, 1.0),\n",
      "C:\\Users\\Playdata\\AppData\\Local\\Temp\\ipykernel_18140\\3189017698.py:27: FutureWarning: suggest_uniform has been deprecated in v3.0.0. This feature will be removed in v6.0.0. See https://github.com/optuna/optuna/releases/tag/v3.0.0. Use suggest_float instead.\n",
      "  'colsample_bytree': trial.suggest_uniform('colsample_bytree', 0.5, 1.0)\n",
      "[I 2025-02-08 20:38:54,147] Trial 7 finished with value: 0.8622857142857143 and parameters: {'num_leaves': 33, 'max_depth': 6, 'learning_rate': 0.03961836515757595, 'min_child_samples': 49, 'subsample': 0.6373904085890272, 'colsample_bytree': 0.785994416252042}. Best is trial 2 with value: 0.8637142857142858.\n",
      "C:\\Users\\Playdata\\AppData\\Local\\Temp\\ipykernel_18140\\3189017698.py:24: FutureWarning: suggest_loguniform has been deprecated in v3.0.0. This feature will be removed in v6.0.0. See https://github.com/optuna/optuna/releases/tag/v3.0.0. Use suggest_float(..., log=True) instead.\n",
      "  'learning_rate': trial.suggest_loguniform('learning_rate', 0.01, 0.3),\n",
      "C:\\Users\\Playdata\\AppData\\Local\\Temp\\ipykernel_18140\\3189017698.py:26: FutureWarning: suggest_uniform has been deprecated in v3.0.0. This feature will be removed in v6.0.0. See https://github.com/optuna/optuna/releases/tag/v3.0.0. Use suggest_float instead.\n",
      "  'subsample': trial.suggest_uniform('subsample', 0.5, 1.0),\n",
      "C:\\Users\\Playdata\\AppData\\Local\\Temp\\ipykernel_18140\\3189017698.py:27: FutureWarning: suggest_uniform has been deprecated in v3.0.0. This feature will be removed in v6.0.0. See https://github.com/optuna/optuna/releases/tag/v3.0.0. Use suggest_float instead.\n",
      "  'colsample_bytree': trial.suggest_uniform('colsample_bytree', 0.5, 1.0)\n"
     ]
    },
    {
     "name": "stdout",
     "output_type": "stream",
     "text": [
      "Training until validation scores don't improve for 10 rounds\n",
      "[10]\tvalid_0's binary_logloss: 0.430747\n",
      "[20]\tvalid_0's binary_logloss: 0.391656\n",
      "[30]\tvalid_0's binary_logloss: 0.369844\n",
      "[40]\tvalid_0's binary_logloss: 0.356717\n",
      "[50]\tvalid_0's binary_logloss: 0.348113\n",
      "[60]\tvalid_0's binary_logloss: 0.343123\n",
      "[70]\tvalid_0's binary_logloss: 0.339203\n",
      "[80]\tvalid_0's binary_logloss: 0.33627\n",
      "[90]\tvalid_0's binary_logloss: 0.335046\n",
      "[100]\tvalid_0's binary_logloss: 0.333984\n",
      "Did not meet early stopping. Best iteration is:\n",
      "[100]\tvalid_0's binary_logloss: 0.333984\n",
      "Training until validation scores don't improve for 10 rounds\n",
      "[10]\tvalid_0's binary_logloss: 0.394678\n",
      "[20]\tvalid_0's binary_logloss: 0.359255\n",
      "[30]\tvalid_0's binary_logloss: 0.34565\n",
      "[40]\tvalid_0's binary_logloss: 0.337356\n",
      "[50]\tvalid_0's binary_logloss: 0.335412\n",
      "[60]\tvalid_0's binary_logloss: 0.334053\n",
      "[70]\tvalid_0's binary_logloss: 0.332985\n",
      "[80]\tvalid_0's binary_logloss: 0.332455\n",
      "[90]\tvalid_0's binary_logloss: 0.332656\n",
      "Early stopping, best iteration is:\n",
      "[82]\tvalid_0's binary_logloss: 0.332196\n"
     ]
    },
    {
     "name": "stderr",
     "output_type": "stream",
     "text": [
      "[I 2025-02-08 20:38:54,238] Trial 8 finished with value: 0.8674285714285714 and parameters: {'num_leaves': 64, 'max_depth': 5, 'learning_rate': 0.0966491662744071, 'min_child_samples': 67, 'subsample': 0.9293142345856503, 'colsample_bytree': 0.580409628431882}. Best is trial 8 with value: 0.8674285714285714.\n",
      "C:\\Users\\Playdata\\AppData\\Local\\Temp\\ipykernel_18140\\3189017698.py:24: FutureWarning: suggest_loguniform has been deprecated in v3.0.0. This feature will be removed in v6.0.0. See https://github.com/optuna/optuna/releases/tag/v3.0.0. Use suggest_float(..., log=True) instead.\n",
      "  'learning_rate': trial.suggest_loguniform('learning_rate', 0.01, 0.3),\n",
      "C:\\Users\\Playdata\\AppData\\Local\\Temp\\ipykernel_18140\\3189017698.py:26: FutureWarning: suggest_uniform has been deprecated in v3.0.0. This feature will be removed in v6.0.0. See https://github.com/optuna/optuna/releases/tag/v3.0.0. Use suggest_float instead.\n",
      "  'subsample': trial.suggest_uniform('subsample', 0.5, 1.0),\n",
      "C:\\Users\\Playdata\\AppData\\Local\\Temp\\ipykernel_18140\\3189017698.py:27: FutureWarning: suggest_uniform has been deprecated in v3.0.0. This feature will be removed in v6.0.0. See https://github.com/optuna/optuna/releases/tag/v3.0.0. Use suggest_float instead.\n",
      "  'colsample_bytree': trial.suggest_uniform('colsample_bytree', 0.5, 1.0)\n"
     ]
    },
    {
     "name": "stdout",
     "output_type": "stream",
     "text": [
      "Training until validation scores don't improve for 10 rounds\n",
      "[10]\tvalid_0's binary_logloss: 0.424047\n",
      "[20]\tvalid_0's binary_logloss: 0.384146\n",
      "[30]\tvalid_0's binary_logloss: 0.365821\n",
      "[40]\tvalid_0's binary_logloss: 0.35139\n",
      "[50]\tvalid_0's binary_logloss: 0.345046\n",
      "[60]\tvalid_0's binary_logloss: 0.341442\n",
      "[70]\tvalid_0's binary_logloss: 0.339449\n",
      "[80]\tvalid_0's binary_logloss: 0.337548\n",
      "[90]\tvalid_0's binary_logloss: 0.337054\n",
      "[100]\tvalid_0's binary_logloss: 0.337342\n",
      "Did not meet early stopping. Best iteration is:\n",
      "[91]\tvalid_0's binary_logloss: 0.336934\n"
     ]
    },
    {
     "name": "stderr",
     "output_type": "stream",
     "text": [
      "[I 2025-02-08 20:38:54,455] Trial 9 finished with value: 0.8645714285714285 and parameters: {'num_leaves': 96, 'max_depth': 9, 'learning_rate': 0.05468386457268789, 'min_child_samples': 39, 'subsample': 0.9346969599539163, 'colsample_bytree': 0.6058029097481594}. Best is trial 8 with value: 0.8674285714285714.\n",
      "C:\\Users\\Playdata\\AppData\\Local\\Temp\\ipykernel_18140\\3189017698.py:24: FutureWarning: suggest_loguniform has been deprecated in v3.0.0. This feature will be removed in v6.0.0. See https://github.com/optuna/optuna/releases/tag/v3.0.0. Use suggest_float(..., log=True) instead.\n",
      "  'learning_rate': trial.suggest_loguniform('learning_rate', 0.01, 0.3),\n",
      "C:\\Users\\Playdata\\AppData\\Local\\Temp\\ipykernel_18140\\3189017698.py:26: FutureWarning: suggest_uniform has been deprecated in v3.0.0. This feature will be removed in v6.0.0. See https://github.com/optuna/optuna/releases/tag/v3.0.0. Use suggest_float instead.\n",
      "  'subsample': trial.suggest_uniform('subsample', 0.5, 1.0),\n",
      "C:\\Users\\Playdata\\AppData\\Local\\Temp\\ipykernel_18140\\3189017698.py:27: FutureWarning: suggest_uniform has been deprecated in v3.0.0. This feature will be removed in v6.0.0. See https://github.com/optuna/optuna/releases/tag/v3.0.0. Use suggest_float instead.\n",
      "  'colsample_bytree': trial.suggest_uniform('colsample_bytree', 0.5, 1.0)\n",
      "[I 2025-02-08 20:38:54,622] Trial 10 finished with value: 0.8622857142857143 and parameters: {'num_leaves': 64, 'max_depth': 12, 'learning_rate': 0.10110082324870522, 'min_child_samples': 36, 'subsample': 0.5234313951351363, 'colsample_bytree': 0.6628470380057411}. Best is trial 8 with value: 0.8674285714285714.\n",
      "C:\\Users\\Playdata\\AppData\\Local\\Temp\\ipykernel_18140\\3189017698.py:24: FutureWarning: suggest_loguniform has been deprecated in v3.0.0. This feature will be removed in v6.0.0. See https://github.com/optuna/optuna/releases/tag/v3.0.0. Use suggest_float(..., log=True) instead.\n",
      "  'learning_rate': trial.suggest_loguniform('learning_rate', 0.01, 0.3),\n",
      "C:\\Users\\Playdata\\AppData\\Local\\Temp\\ipykernel_18140\\3189017698.py:26: FutureWarning: suggest_uniform has been deprecated in v3.0.0. This feature will be removed in v6.0.0. See https://github.com/optuna/optuna/releases/tag/v3.0.0. Use suggest_float instead.\n",
      "  'subsample': trial.suggest_uniform('subsample', 0.5, 1.0),\n",
      "C:\\Users\\Playdata\\AppData\\Local\\Temp\\ipykernel_18140\\3189017698.py:27: FutureWarning: suggest_uniform has been deprecated in v3.0.0. This feature will be removed in v6.0.0. See https://github.com/optuna/optuna/releases/tag/v3.0.0. Use suggest_float instead.\n",
      "  'colsample_bytree': trial.suggest_uniform('colsample_bytree', 0.5, 1.0)\n"
     ]
    },
    {
     "name": "stdout",
     "output_type": "stream",
     "text": [
      "Training until validation scores don't improve for 10 rounds\n",
      "[10]\tvalid_0's binary_logloss: 0.384937\n",
      "[20]\tvalid_0's binary_logloss: 0.348664\n",
      "[30]\tvalid_0's binary_logloss: 0.340015\n",
      "[40]\tvalid_0's binary_logloss: 0.338545\n",
      "Early stopping, best iteration is:\n",
      "[35]\tvalid_0's binary_logloss: 0.338113\n",
      "Training until validation scores don't improve for 10 rounds\n",
      "[10]\tvalid_0's binary_logloss: 0.415811\n",
      "[20]\tvalid_0's binary_logloss: 0.375913\n"
     ]
    },
    {
     "name": "stderr",
     "output_type": "stream",
     "text": [
      "[I 2025-02-08 20:38:54,854] Trial 11 finished with value: 0.866 and parameters: {'num_leaves': 65, 'max_depth': 10, 'learning_rate': 0.06415700292716744, 'min_child_samples': 35, 'subsample': 0.8853119548255823, 'colsample_bytree': 0.6359104788774864}. Best is trial 8 with value: 0.8674285714285714.\n"
     ]
    },
    {
     "name": "stdout",
     "output_type": "stream",
     "text": [
      "[30]\tvalid_0's binary_logloss: 0.358529\n",
      "[40]\tvalid_0's binary_logloss: 0.345795\n",
      "[50]\tvalid_0's binary_logloss: 0.341742\n",
      "[60]\tvalid_0's binary_logloss: 0.339482\n",
      "[70]\tvalid_0's binary_logloss: 0.338135\n",
      "[80]\tvalid_0's binary_logloss: 0.337574\n",
      "[90]\tvalid_0's binary_logloss: 0.337604\n",
      "Early stopping, best iteration is:\n",
      "[85]\tvalid_0's binary_logloss: 0.337239\n",
      "Training until validation scores don't improve for 10 rounds\n",
      "[10]\tvalid_0's binary_logloss: 0.397056\n",
      "[20]\tvalid_0's binary_logloss: 0.360698\n"
     ]
    },
    {
     "name": "stderr",
     "output_type": "stream",
     "text": [
      "C:\\Users\\Playdata\\AppData\\Local\\Temp\\ipykernel_18140\\3189017698.py:24: FutureWarning: suggest_loguniform has been deprecated in v3.0.0. This feature will be removed in v6.0.0. See https://github.com/optuna/optuna/releases/tag/v3.0.0. Use suggest_float(..., log=True) instead.\n",
      "  'learning_rate': trial.suggest_loguniform('learning_rate', 0.01, 0.3),\n",
      "C:\\Users\\Playdata\\AppData\\Local\\Temp\\ipykernel_18140\\3189017698.py:26: FutureWarning: suggest_uniform has been deprecated in v3.0.0. This feature will be removed in v6.0.0. See https://github.com/optuna/optuna/releases/tag/v3.0.0. Use suggest_float instead.\n",
      "  'subsample': trial.suggest_uniform('subsample', 0.5, 1.0),\n",
      "C:\\Users\\Playdata\\AppData\\Local\\Temp\\ipykernel_18140\\3189017698.py:27: FutureWarning: suggest_uniform has been deprecated in v3.0.0. This feature will be removed in v6.0.0. See https://github.com/optuna/optuna/releases/tag/v3.0.0. Use suggest_float instead.\n",
      "  'colsample_bytree': trial.suggest_uniform('colsample_bytree', 0.5, 1.0)\n",
      "[I 2025-02-08 20:38:55,028] Trial 12 finished with value: 0.8628571428571429 and parameters: {'num_leaves': 58, 'max_depth': 12, 'learning_rate': 0.09181076003274437, 'min_child_samples': 36, 'subsample': 0.8799066005010527, 'colsample_bytree': 0.6454262902710266}. Best is trial 8 with value: 0.8674285714285714.\n",
      "C:\\Users\\Playdata\\AppData\\Local\\Temp\\ipykernel_18140\\3189017698.py:24: FutureWarning: suggest_loguniform has been deprecated in v3.0.0. This feature will be removed in v6.0.0. See https://github.com/optuna/optuna/releases/tag/v3.0.0. Use suggest_float(..., log=True) instead.\n",
      "  'learning_rate': trial.suggest_loguniform('learning_rate', 0.01, 0.3),\n",
      "C:\\Users\\Playdata\\AppData\\Local\\Temp\\ipykernel_18140\\3189017698.py:26: FutureWarning: suggest_uniform has been deprecated in v3.0.0. This feature will be removed in v6.0.0. See https://github.com/optuna/optuna/releases/tag/v3.0.0. Use suggest_float instead.\n",
      "  'subsample': trial.suggest_uniform('subsample', 0.5, 1.0),\n",
      "C:\\Users\\Playdata\\AppData\\Local\\Temp\\ipykernel_18140\\3189017698.py:27: FutureWarning: suggest_uniform has been deprecated in v3.0.0. This feature will be removed in v6.0.0. See https://github.com/optuna/optuna/releases/tag/v3.0.0. Use suggest_float instead.\n",
      "  'colsample_bytree': trial.suggest_uniform('colsample_bytree', 0.5, 1.0)\n",
      "[I 2025-02-08 20:38:55,141] Trial 13 finished with value: 0.8628571428571429 and parameters: {'num_leaves': 75, 'max_depth': 3, 'learning_rate': 0.02604350031895589, 'min_child_samples': 6, 'subsample': 0.8716568242826014, 'colsample_bytree': 0.7101973666420853}. Best is trial 8 with value: 0.8674285714285714.\n"
     ]
    },
    {
     "name": "stdout",
     "output_type": "stream",
     "text": [
      "[30]\tvalid_0's binary_logloss: 0.348443\n",
      "[40]\tvalid_0's binary_logloss: 0.341357\n",
      "[50]\tvalid_0's binary_logloss: 0.341175\n",
      "[60]\tvalid_0's binary_logloss: 0.341223\n",
      "Early stopping, best iteration is:\n",
      "[52]\tvalid_0's binary_logloss: 0.340522\n",
      "Training until validation scores don't improve for 10 rounds\n",
      "[10]\tvalid_0's binary_logloss: 0.461848\n",
      "[20]\tvalid_0's binary_logloss: 0.434544\n",
      "[30]\tvalid_0's binary_logloss: 0.413384\n",
      "[40]\tvalid_0's binary_logloss: 0.398208\n",
      "[50]\tvalid_0's binary_logloss: 0.387235\n",
      "[60]\tvalid_0's binary_logloss: 0.378191\n",
      "[70]\tvalid_0's binary_logloss: 0.371097\n",
      "[80]\tvalid_0's binary_logloss: 0.365397\n",
      "[90]\tvalid_0's binary_logloss: 0.360884\n",
      "[100]\tvalid_0's binary_logloss: 0.356732\n",
      "Did not meet early stopping. Best iteration is:\n",
      "[100]\tvalid_0's binary_logloss: 0.356732\n"
     ]
    },
    {
     "name": "stderr",
     "output_type": "stream",
     "text": [
      "C:\\Users\\Playdata\\AppData\\Local\\Temp\\ipykernel_18140\\3189017698.py:24: FutureWarning: suggest_loguniform has been deprecated in v3.0.0. This feature will be removed in v6.0.0. See https://github.com/optuna/optuna/releases/tag/v3.0.0. Use suggest_float(..., log=True) instead.\n",
      "  'learning_rate': trial.suggest_loguniform('learning_rate', 0.01, 0.3),\n",
      "C:\\Users\\Playdata\\AppData\\Local\\Temp\\ipykernel_18140\\3189017698.py:26: FutureWarning: suggest_uniform has been deprecated in v3.0.0. This feature will be removed in v6.0.0. See https://github.com/optuna/optuna/releases/tag/v3.0.0. Use suggest_float instead.\n",
      "  'subsample': trial.suggest_uniform('subsample', 0.5, 1.0),\n",
      "C:\\Users\\Playdata\\AppData\\Local\\Temp\\ipykernel_18140\\3189017698.py:27: FutureWarning: suggest_uniform has been deprecated in v3.0.0. This feature will be removed in v6.0.0. See https://github.com/optuna/optuna/releases/tag/v3.0.0. Use suggest_float instead.\n",
      "  'colsample_bytree': trial.suggest_uniform('colsample_bytree', 0.5, 1.0)\n",
      "[I 2025-02-08 20:38:55,369] Trial 14 finished with value: 0.8354285714285714 and parameters: {'num_leaves': 51, 'max_depth': 11, 'learning_rate': 0.012028642769410673, 'min_child_samples': 69, 'subsample': 0.8652760215472044, 'colsample_bytree': 0.5723881620473353}. Best is trial 8 with value: 0.8674285714285714.\n"
     ]
    },
    {
     "name": "stdout",
     "output_type": "stream",
     "text": [
      "Training until validation scores don't improve for 10 rounds\n",
      "[10]\tvalid_0's binary_logloss: 0.481462\n",
      "[20]\tvalid_0's binary_logloss: 0.46254\n",
      "[30]\tvalid_0's binary_logloss: 0.447675\n",
      "[40]\tvalid_0's binary_logloss: 0.432402\n",
      "[50]\tvalid_0's binary_logloss: 0.421494\n",
      "[60]\tvalid_0's binary_logloss: 0.411571\n",
      "[70]\tvalid_0's binary_logloss: 0.403417\n",
      "[80]\tvalid_0's binary_logloss: 0.394444\n",
      "[90]\tvalid_0's binary_logloss: 0.387711\n",
      "[100]\tvalid_0's binary_logloss: 0.382031\n",
      "Did not meet early stopping. Best iteration is:\n",
      "[100]\tvalid_0's binary_logloss: 0.382031\n"
     ]
    },
    {
     "name": "stderr",
     "output_type": "stream",
     "text": [
      "C:\\Users\\Playdata\\AppData\\Local\\Temp\\ipykernel_18140\\3189017698.py:24: FutureWarning: suggest_loguniform has been deprecated in v3.0.0. This feature will be removed in v6.0.0. See https://github.com/optuna/optuna/releases/tag/v3.0.0. Use suggest_float(..., log=True) instead.\n",
      "  'learning_rate': trial.suggest_loguniform('learning_rate', 0.01, 0.3),\n",
      "C:\\Users\\Playdata\\AppData\\Local\\Temp\\ipykernel_18140\\3189017698.py:26: FutureWarning: suggest_uniform has been deprecated in v3.0.0. This feature will be removed in v6.0.0. See https://github.com/optuna/optuna/releases/tag/v3.0.0. Use suggest_float instead.\n",
      "  'subsample': trial.suggest_uniform('subsample', 0.5, 1.0),\n",
      "C:\\Users\\Playdata\\AppData\\Local\\Temp\\ipykernel_18140\\3189017698.py:27: FutureWarning: suggest_uniform has been deprecated in v3.0.0. This feature will be removed in v6.0.0. See https://github.com/optuna/optuna/releases/tag/v3.0.0. Use suggest_float instead.\n",
      "  'colsample_bytree': trial.suggest_uniform('colsample_bytree', 0.5, 1.0)\n",
      "[I 2025-02-08 20:38:55,485] Trial 15 finished with value: 0.8651428571428571 and parameters: {'num_leaves': 113, 'max_depth': 8, 'learning_rate': 0.10823679739322449, 'min_child_samples': 48, 'subsample': 0.7662458490129367, 'colsample_bytree': 0.7400011368360279}. Best is trial 8 with value: 0.8674285714285714.\n",
      "C:\\Users\\Playdata\\AppData\\Local\\Temp\\ipykernel_18140\\3189017698.py:24: FutureWarning: suggest_loguniform has been deprecated in v3.0.0. This feature will be removed in v6.0.0. See https://github.com/optuna/optuna/releases/tag/v3.0.0. Use suggest_float(..., log=True) instead.\n",
      "  'learning_rate': trial.suggest_loguniform('learning_rate', 0.01, 0.3),\n",
      "C:\\Users\\Playdata\\AppData\\Local\\Temp\\ipykernel_18140\\3189017698.py:26: FutureWarning: suggest_uniform has been deprecated in v3.0.0. This feature will be removed in v6.0.0. See https://github.com/optuna/optuna/releases/tag/v3.0.0. Use suggest_float instead.\n",
      "  'subsample': trial.suggest_uniform('subsample', 0.5, 1.0),\n",
      "C:\\Users\\Playdata\\AppData\\Local\\Temp\\ipykernel_18140\\3189017698.py:27: FutureWarning: suggest_uniform has been deprecated in v3.0.0. This feature will be removed in v6.0.0. See https://github.com/optuna/optuna/releases/tag/v3.0.0. Use suggest_float instead.\n",
      "  'colsample_bytree': trial.suggest_uniform('colsample_bytree', 0.5, 1.0)\n"
     ]
    },
    {
     "name": "stdout",
     "output_type": "stream",
     "text": [
      "Training until validation scores don't improve for 10 rounds\n",
      "[10]\tvalid_0's binary_logloss: 0.380282\n",
      "[20]\tvalid_0's binary_logloss: 0.346348\n",
      "[30]\tvalid_0's binary_logloss: 0.337124\n",
      "[40]\tvalid_0's binary_logloss: 0.335155\n",
      "Early stopping, best iteration is:\n",
      "[35]\tvalid_0's binary_logloss: 0.33489\n",
      "Training until validation scores don't improve for 10 rounds\n",
      "[10]\tvalid_0's binary_logloss: 0.413433\n",
      "[20]\tvalid_0's binary_logloss: 0.373065\n",
      "[30]\tvalid_0's binary_logloss: 0.356857\n"
     ]
    },
    {
     "name": "stderr",
     "output_type": "stream",
     "text": [
      "[I 2025-02-08 20:38:55,685] Trial 16 finished with value: 0.8637142857142858 and parameters: {'num_leaves': 48, 'max_depth': 15, 'learning_rate': 0.06880812555988482, 'min_child_samples': 30, 'subsample': 0.9227792883397609, 'colsample_bytree': 0.5836208293290792}. Best is trial 8 with value: 0.8674285714285714.\n",
      "C:\\Users\\Playdata\\AppData\\Local\\Temp\\ipykernel_18140\\3189017698.py:24: FutureWarning: suggest_loguniform has been deprecated in v3.0.0. This feature will be removed in v6.0.0. See https://github.com/optuna/optuna/releases/tag/v3.0.0. Use suggest_float(..., log=True) instead.\n",
      "  'learning_rate': trial.suggest_loguniform('learning_rate', 0.01, 0.3),\n"
     ]
    },
    {
     "name": "stdout",
     "output_type": "stream",
     "text": [
      "[40]\tvalid_0's binary_logloss: 0.345283\n",
      "[50]\tvalid_0's binary_logloss: 0.341568\n",
      "[60]\tvalid_0's binary_logloss: 0.339459\n",
      "[70]\tvalid_0's binary_logloss: 0.338301\n",
      "[80]\tvalid_0's binary_logloss: 0.338048\n",
      "Early stopping, best iteration is:\n",
      "[77]\tvalid_0's binary_logloss: 0.337983\n",
      "Training until validation scores don't improve for 10 rounds\n",
      "[10]\tvalid_0's binary_logloss: 0.440125\n",
      "[20]\tvalid_0's binary_logloss: 0.40106\n",
      "[30]\tvalid_0's binary_logloss: 0.376724\n"
     ]
    },
    {
     "name": "stderr",
     "output_type": "stream",
     "text": [
      "C:\\Users\\Playdata\\AppData\\Local\\Temp\\ipykernel_18140\\3189017698.py:26: FutureWarning: suggest_uniform has been deprecated in v3.0.0. This feature will be removed in v6.0.0. See https://github.com/optuna/optuna/releases/tag/v3.0.0. Use suggest_float instead.\n",
      "  'subsample': trial.suggest_uniform('subsample', 0.5, 1.0),\n",
      "C:\\Users\\Playdata\\AppData\\Local\\Temp\\ipykernel_18140\\3189017698.py:27: FutureWarning: suggest_uniform has been deprecated in v3.0.0. This feature will be removed in v6.0.0. See https://github.com/optuna/optuna/releases/tag/v3.0.0. Use suggest_float instead.\n",
      "  'colsample_bytree': trial.suggest_uniform('colsample_bytree', 0.5, 1.0)\n",
      "[I 2025-02-08 20:38:55,994] Trial 17 finished with value: 0.8671428571428571 and parameters: {'num_leaves': 79, 'max_depth': 13, 'learning_rate': 0.03793179301030435, 'min_child_samples': 98, 'subsample': 0.8122080101723397, 'colsample_bytree': 0.6752935623027962}. Best is trial 8 with value: 0.8674285714285714.\n"
     ]
    },
    {
     "name": "stdout",
     "output_type": "stream",
     "text": [
      "[40]\tvalid_0's binary_logloss: 0.361306\n",
      "[50]\tvalid_0's binary_logloss: 0.351622\n",
      "[60]\tvalid_0's binary_logloss: 0.344879\n",
      "[70]\tvalid_0's binary_logloss: 0.340167\n",
      "[80]\tvalid_0's binary_logloss: 0.335799\n",
      "[90]\tvalid_0's binary_logloss: 0.33364\n",
      "[100]\tvalid_0's binary_logloss: 0.333109\n",
      "Did not meet early stopping. Best iteration is:\n",
      "[99]\tvalid_0's binary_logloss: 0.332986\n"
     ]
    },
    {
     "name": "stderr",
     "output_type": "stream",
     "text": [
      "C:\\Users\\Playdata\\AppData\\Local\\Temp\\ipykernel_18140\\3189017698.py:24: FutureWarning: suggest_loguniform has been deprecated in v3.0.0. This feature will be removed in v6.0.0. See https://github.com/optuna/optuna/releases/tag/v3.0.0. Use suggest_float(..., log=True) instead.\n",
      "  'learning_rate': trial.suggest_loguniform('learning_rate', 0.01, 0.3),\n",
      "C:\\Users\\Playdata\\AppData\\Local\\Temp\\ipykernel_18140\\3189017698.py:26: FutureWarning: suggest_uniform has been deprecated in v3.0.0. This feature will be removed in v6.0.0. See https://github.com/optuna/optuna/releases/tag/v3.0.0. Use suggest_float instead.\n",
      "  'subsample': trial.suggest_uniform('subsample', 0.5, 1.0),\n",
      "C:\\Users\\Playdata\\AppData\\Local\\Temp\\ipykernel_18140\\3189017698.py:27: FutureWarning: suggest_uniform has been deprecated in v3.0.0. This feature will be removed in v6.0.0. See https://github.com/optuna/optuna/releases/tag/v3.0.0. Use suggest_float instead.\n",
      "  'colsample_bytree': trial.suggest_uniform('colsample_bytree', 0.5, 1.0)\n",
      "[I 2025-02-08 20:38:56,219] Trial 18 finished with value: 0.8642857142857143 and parameters: {'num_leaves': 80, 'max_depth': 13, 'learning_rate': 0.039253136390432, 'min_child_samples': 99, 'subsample': 0.811758842746008, 'colsample_bytree': 0.80207061810154}. Best is trial 8 with value: 0.8674285714285714.\n"
     ]
    },
    {
     "name": "stdout",
     "output_type": "stream",
     "text": [
      "Training until validation scores don't improve for 10 rounds\n",
      "[10]\tvalid_0's binary_logloss: 0.431401\n",
      "[20]\tvalid_0's binary_logloss: 0.391375\n",
      "[30]\tvalid_0's binary_logloss: 0.369327\n",
      "[40]\tvalid_0's binary_logloss: 0.355458\n",
      "[50]\tvalid_0's binary_logloss: 0.34703\n",
      "[60]\tvalid_0's binary_logloss: 0.342001\n",
      "[70]\tvalid_0's binary_logloss: 0.338415\n",
      "[80]\tvalid_0's binary_logloss: 0.335797\n",
      "[90]\tvalid_0's binary_logloss: 0.334824\n",
      "[100]\tvalid_0's binary_logloss: 0.334217\n",
      "Did not meet early stopping. Best iteration is:\n",
      "[100]\tvalid_0's binary_logloss: 0.334217\n"
     ]
    },
    {
     "name": "stderr",
     "output_type": "stream",
     "text": [
      "C:\\Users\\Playdata\\AppData\\Local\\Temp\\ipykernel_18140\\3189017698.py:24: FutureWarning: suggest_loguniform has been deprecated in v3.0.0. This feature will be removed in v6.0.0. See https://github.com/optuna/optuna/releases/tag/v3.0.0. Use suggest_float(..., log=True) instead.\n",
      "  'learning_rate': trial.suggest_loguniform('learning_rate', 0.01, 0.3),\n",
      "C:\\Users\\Playdata\\AppData\\Local\\Temp\\ipykernel_18140\\3189017698.py:26: FutureWarning: suggest_uniform has been deprecated in v3.0.0. This feature will be removed in v6.0.0. See https://github.com/optuna/optuna/releases/tag/v3.0.0. Use suggest_float instead.\n",
      "  'subsample': trial.suggest_uniform('subsample', 0.5, 1.0),\n",
      "C:\\Users\\Playdata\\AppData\\Local\\Temp\\ipykernel_18140\\3189017698.py:27: FutureWarning: suggest_uniform has been deprecated in v3.0.0. This feature will be removed in v6.0.0. See https://github.com/optuna/optuna/releases/tag/v3.0.0. Use suggest_float instead.\n",
      "  'colsample_bytree': trial.suggest_uniform('colsample_bytree', 0.5, 1.0)\n",
      "[I 2025-02-08 20:38:56,421] Trial 19 finished with value: 0.8665714285714285 and parameters: {'num_leaves': 110, 'max_depth': 14, 'learning_rate': 0.024790720299843964, 'min_child_samples': 89, 'subsample': 0.736943054875829, 'colsample_bytree': 0.7139485393634813}. Best is trial 8 with value: 0.8674285714285714.\n"
     ]
    },
    {
     "name": "stdout",
     "output_type": "stream",
     "text": [
      "Training until validation scores don't improve for 10 rounds\n",
      "[10]\tvalid_0's binary_logloss: 0.45798\n",
      "[20]\tvalid_0's binary_logloss: 0.426217\n",
      "[30]\tvalid_0's binary_logloss: 0.402008\n",
      "[40]\tvalid_0's binary_logloss: 0.385225\n",
      "[50]\tvalid_0's binary_logloss: 0.373109\n",
      "[60]\tvalid_0's binary_logloss: 0.363038\n",
      "[70]\tvalid_0's binary_logloss: 0.35569\n",
      "[80]\tvalid_0's binary_logloss: 0.349171\n",
      "[90]\tvalid_0's binary_logloss: 0.345059\n",
      "[100]\tvalid_0's binary_logloss: 0.342171\n",
      "Did not meet early stopping. Best iteration is:\n",
      "[100]\tvalid_0's binary_logloss: 0.342171\n"
     ]
    },
    {
     "name": "stderr",
     "output_type": "stream",
     "text": [
      "C:\\Users\\Playdata\\AppData\\Local\\Temp\\ipykernel_18140\\3189017698.py:24: FutureWarning: suggest_loguniform has been deprecated in v3.0.0. This feature will be removed in v6.0.0. See https://github.com/optuna/optuna/releases/tag/v3.0.0. Use suggest_float(..., log=True) instead.\n",
      "  'learning_rate': trial.suggest_loguniform('learning_rate', 0.01, 0.3),\n",
      "C:\\Users\\Playdata\\AppData\\Local\\Temp\\ipykernel_18140\\3189017698.py:26: FutureWarning: suggest_uniform has been deprecated in v3.0.0. This feature will be removed in v6.0.0. See https://github.com/optuna/optuna/releases/tag/v3.0.0. Use suggest_float instead.\n",
      "  'subsample': trial.suggest_uniform('subsample', 0.5, 1.0),\n",
      "C:\\Users\\Playdata\\AppData\\Local\\Temp\\ipykernel_18140\\3189017698.py:27: FutureWarning: suggest_uniform has been deprecated in v3.0.0. This feature will be removed in v6.0.0. See https://github.com/optuna/optuna/releases/tag/v3.0.0. Use suggest_float instead.\n",
      "  'colsample_bytree': trial.suggest_uniform('colsample_bytree', 0.5, 1.0)\n",
      "[I 2025-02-08 20:38:56,545] Trial 20 finished with value: 0.8294285714285714 and parameters: {'num_leaves': 83, 'max_depth': 4, 'learning_rate': 0.010180648416111665, 'min_child_samples': 77, 'subsample': 0.8258154849391415, 'colsample_bytree': 0.6832432237813676}. Best is trial 8 with value: 0.8674285714285714.\n",
      "C:\\Users\\Playdata\\AppData\\Local\\Temp\\ipykernel_18140\\3189017698.py:24: FutureWarning: suggest_loguniform has been deprecated in v3.0.0. This feature will be removed in v6.0.0. See https://github.com/optuna/optuna/releases/tag/v3.0.0. Use suggest_float(..., log=True) instead.\n",
      "  'learning_rate': trial.suggest_loguniform('learning_rate', 0.01, 0.3),\n",
      "C:\\Users\\Playdata\\AppData\\Local\\Temp\\ipykernel_18140\\3189017698.py:26: FutureWarning: suggest_uniform has been deprecated in v3.0.0. This feature will be removed in v6.0.0. See https://github.com/optuna/optuna/releases/tag/v3.0.0. Use suggest_float instead.\n",
      "  'subsample': trial.suggest_uniform('subsample', 0.5, 1.0),\n",
      "C:\\Users\\Playdata\\AppData\\Local\\Temp\\ipykernel_18140\\3189017698.py:27: FutureWarning: suggest_uniform has been deprecated in v3.0.0. This feature will be removed in v6.0.0. See https://github.com/optuna/optuna/releases/tag/v3.0.0. Use suggest_float instead.\n",
      "  'colsample_bytree': trial.suggest_uniform('colsample_bytree', 0.5, 1.0)\n"
     ]
    },
    {
     "name": "stdout",
     "output_type": "stream",
     "text": [
      "Training until validation scores don't improve for 10 rounds\n",
      "[10]\tvalid_0's binary_logloss: 0.484775\n",
      "[20]\tvalid_0's binary_logloss: 0.46856\n",
      "[30]\tvalid_0's binary_logloss: 0.453025\n",
      "[40]\tvalid_0's binary_logloss: 0.440404\n",
      "[50]\tvalid_0's binary_logloss: 0.430198\n",
      "[60]\tvalid_0's binary_logloss: 0.420351\n",
      "[70]\tvalid_0's binary_logloss: 0.411834\n",
      "[80]\tvalid_0's binary_logloss: 0.40416\n",
      "[90]\tvalid_0's binary_logloss: 0.397742\n",
      "[100]\tvalid_0's binary_logloss: 0.391948\n",
      "Did not meet early stopping. Best iteration is:\n",
      "[100]\tvalid_0's binary_logloss: 0.391948\n",
      "Training until validation scores don't improve for 10 rounds\n",
      "[10]\tvalid_0's binary_logloss: 0.468355\n",
      "[20]\tvalid_0's binary_logloss: 0.441462\n",
      "[30]\tvalid_0's binary_logloss: 0.419013\n",
      "[40]\tvalid_0's binary_logloss: 0.402825\n",
      "[50]\tvalid_0's binary_logloss: 0.390872\n"
     ]
    },
    {
     "name": "stderr",
     "output_type": "stream",
     "text": [
      "[I 2025-02-08 20:38:56,764] Trial 21 finished with value: 0.866 and parameters: {'num_leaves': 111, 'max_depth': 14, 'learning_rate': 0.01827490646408815, 'min_child_samples': 88, 'subsample': 0.7100063666780903, 'colsample_bytree': 0.7206903473675005}. Best is trial 8 with value: 0.8674285714285714.\n"
     ]
    },
    {
     "name": "stdout",
     "output_type": "stream",
     "text": [
      "[60]\tvalid_0's binary_logloss: 0.379704\n",
      "[70]\tvalid_0's binary_logloss: 0.370806\n",
      "[80]\tvalid_0's binary_logloss: 0.362692\n",
      "[90]\tvalid_0's binary_logloss: 0.357203\n",
      "[100]\tvalid_0's binary_logloss: 0.352903\n",
      "Did not meet early stopping. Best iteration is:\n",
      "[100]\tvalid_0's binary_logloss: 0.352903\n",
      "Training until validation scores don't improve for 10 rounds\n",
      "[10]\tvalid_0's binary_logloss: 0.438766\n",
      "[20]\tvalid_0's binary_logloss: 0.399953\n",
      "[30]\tvalid_0's binary_logloss: 0.377832\n"
     ]
    },
    {
     "name": "stderr",
     "output_type": "stream",
     "text": [
      "C:\\Users\\Playdata\\AppData\\Local\\Temp\\ipykernel_18140\\3189017698.py:24: FutureWarning: suggest_loguniform has been deprecated in v3.0.0. This feature will be removed in v6.0.0. See https://github.com/optuna/optuna/releases/tag/v3.0.0. Use suggest_float(..., log=True) instead.\n",
      "  'learning_rate': trial.suggest_loguniform('learning_rate', 0.01, 0.3),\n",
      "C:\\Users\\Playdata\\AppData\\Local\\Temp\\ipykernel_18140\\3189017698.py:26: FutureWarning: suggest_uniform has been deprecated in v3.0.0. This feature will be removed in v6.0.0. See https://github.com/optuna/optuna/releases/tag/v3.0.0. Use suggest_float instead.\n",
      "  'subsample': trial.suggest_uniform('subsample', 0.5, 1.0),\n",
      "C:\\Users\\Playdata\\AppData\\Local\\Temp\\ipykernel_18140\\3189017698.py:27: FutureWarning: suggest_uniform has been deprecated in v3.0.0. This feature will be removed in v6.0.0. See https://github.com/optuna/optuna/releases/tag/v3.0.0. Use suggest_float instead.\n",
      "  'colsample_bytree': trial.suggest_uniform('colsample_bytree', 0.5, 1.0)\n",
      "[I 2025-02-08 20:38:57,061] Trial 22 finished with value: 0.8665714285714285 and parameters: {'num_leaves': 148, 'max_depth': 13, 'learning_rate': 0.03395142742873335, 'min_child_samples': 91, 'subsample': 0.7114017827211616, 'colsample_bytree': 0.772672414716173}. Best is trial 8 with value: 0.8674285714285714.\n"
     ]
    },
    {
     "name": "stdout",
     "output_type": "stream",
     "text": [
      "[40]\tvalid_0's binary_logloss: 0.362636\n",
      "[50]\tvalid_0's binary_logloss: 0.352825\n",
      "[60]\tvalid_0's binary_logloss: 0.346143\n",
      "[70]\tvalid_0's binary_logloss: 0.340959\n",
      "[80]\tvalid_0's binary_logloss: 0.336924\n",
      "[90]\tvalid_0's binary_logloss: 0.334835\n",
      "[100]\tvalid_0's binary_logloss: 0.334103\n",
      "Did not meet early stopping. Best iteration is:\n",
      "[98]\tvalid_0's binary_logloss: 0.334095\n",
      "Training until validation scores don't improve for 10 rounds\n"
     ]
    },
    {
     "name": "stderr",
     "output_type": "stream",
     "text": [
      "C:\\Users\\Playdata\\AppData\\Local\\Temp\\ipykernel_18140\\3189017698.py:24: FutureWarning: suggest_loguniform has been deprecated in v3.0.0. This feature will be removed in v6.0.0. See https://github.com/optuna/optuna/releases/tag/v3.0.0. Use suggest_float(..., log=True) instead.\n",
      "  'learning_rate': trial.suggest_loguniform('learning_rate', 0.01, 0.3),\n",
      "C:\\Users\\Playdata\\AppData\\Local\\Temp\\ipykernel_18140\\3189017698.py:26: FutureWarning: suggest_uniform has been deprecated in v3.0.0. This feature will be removed in v6.0.0. See https://github.com/optuna/optuna/releases/tag/v3.0.0. Use suggest_float instead.\n",
      "  'subsample': trial.suggest_uniform('subsample', 0.5, 1.0),\n",
      "C:\\Users\\Playdata\\AppData\\Local\\Temp\\ipykernel_18140\\3189017698.py:27: FutureWarning: suggest_uniform has been deprecated in v3.0.0. This feature will be removed in v6.0.0. See https://github.com/optuna/optuna/releases/tag/v3.0.0. Use suggest_float instead.\n",
      "  'colsample_bytree': trial.suggest_uniform('colsample_bytree', 0.5, 1.0)\n"
     ]
    },
    {
     "name": "stdout",
     "output_type": "stream",
     "text": [
      "[10]\tvalid_0's binary_logloss: 0.458726\n",
      "[20]\tvalid_0's binary_logloss: 0.427809\n",
      "[30]\tvalid_0's binary_logloss: 0.40709\n",
      "[40]\tvalid_0's binary_logloss: 0.387874\n",
      "[50]\tvalid_0's binary_logloss: 0.376577\n",
      "[60]\tvalid_0's binary_logloss: 0.367122\n",
      "[70]\tvalid_0's binary_logloss: 0.360046\n",
      "[80]\tvalid_0's binary_logloss: 0.352819\n"
     ]
    },
    {
     "name": "stderr",
     "output_type": "stream",
     "text": [
      "[I 2025-02-08 20:38:57,367] Trial 23 finished with value: 0.8674285714285714 and parameters: {'num_leaves': 107, 'max_depth': 14, 'learning_rate': 0.026731400312485665, 'min_child_samples': 100, 'subsample': 0.5572743417154318, 'colsample_bytree': 0.5586339243699602}. Best is trial 8 with value: 0.8674285714285714.\n"
     ]
    },
    {
     "name": "stdout",
     "output_type": "stream",
     "text": [
      "[90]\tvalid_0's binary_logloss: 0.34807\n",
      "[100]\tvalid_0's binary_logloss: 0.344933\n",
      "Did not meet early stopping. Best iteration is:\n",
      "[100]\tvalid_0's binary_logloss: 0.344933\n",
      "Training until validation scores don't improve for 10 rounds\n",
      "[10]\tvalid_0's binary_logloss: 0.436547\n",
      "[20]\tvalid_0's binary_logloss: 0.396426\n",
      "[30]\tvalid_0's binary_logloss: 0.376166\n",
      "[40]\tvalid_0's binary_logloss: 0.360789\n",
      "[50]\tvalid_0's binary_logloss: 0.35294\n",
      "[60]\tvalid_0's binary_logloss: 0.346394\n",
      "[70]\tvalid_0's binary_logloss: 0.343251\n",
      "[80]\tvalid_0's binary_logloss: 0.339425\n"
     ]
    },
    {
     "name": "stderr",
     "output_type": "stream",
     "text": [
      "C:\\Users\\Playdata\\AppData\\Local\\Temp\\ipykernel_18140\\3189017698.py:24: FutureWarning: suggest_loguniform has been deprecated in v3.0.0. This feature will be removed in v6.0.0. See https://github.com/optuna/optuna/releases/tag/v3.0.0. Use suggest_float(..., log=True) instead.\n",
      "  'learning_rate': trial.suggest_loguniform('learning_rate', 0.01, 0.3),\n",
      "C:\\Users\\Playdata\\AppData\\Local\\Temp\\ipykernel_18140\\3189017698.py:26: FutureWarning: suggest_uniform has been deprecated in v3.0.0. This feature will be removed in v6.0.0. See https://github.com/optuna/optuna/releases/tag/v3.0.0. Use suggest_float instead.\n",
      "  'subsample': trial.suggest_uniform('subsample', 0.5, 1.0),\n",
      "C:\\Users\\Playdata\\AppData\\Local\\Temp\\ipykernel_18140\\3189017698.py:27: FutureWarning: suggest_uniform has been deprecated in v3.0.0. This feature will be removed in v6.0.0. See https://github.com/optuna/optuna/releases/tag/v3.0.0. Use suggest_float instead.\n",
      "  'colsample_bytree': trial.suggest_uniform('colsample_bytree', 0.5, 1.0)\n",
      "[I 2025-02-08 20:38:57,584] Trial 24 finished with value: 0.8668571428571429 and parameters: {'num_leaves': 123, 'max_depth': 12, 'learning_rate': 0.049222017349490346, 'min_child_samples': 99, 'subsample': 0.5340859881086392, 'colsample_bytree': 0.5499175347146317}. Best is trial 8 with value: 0.8674285714285714.\n",
      "C:\\Users\\Playdata\\AppData\\Local\\Temp\\ipykernel_18140\\3189017698.py:24: FutureWarning: suggest_loguniform has been deprecated in v3.0.0. This feature will be removed in v6.0.0. See https://github.com/optuna/optuna/releases/tag/v3.0.0. Use suggest_float(..., log=True) instead.\n",
      "  'learning_rate': trial.suggest_loguniform('learning_rate', 0.01, 0.3),\n",
      "C:\\Users\\Playdata\\AppData\\Local\\Temp\\ipykernel_18140\\3189017698.py:26: FutureWarning: suggest_uniform has been deprecated in v3.0.0. This feature will be removed in v6.0.0. See https://github.com/optuna/optuna/releases/tag/v3.0.0. Use suggest_float instead.\n",
      "  'subsample': trial.suggest_uniform('subsample', 0.5, 1.0),\n",
      "C:\\Users\\Playdata\\AppData\\Local\\Temp\\ipykernel_18140\\3189017698.py:27: FutureWarning: suggest_uniform has been deprecated in v3.0.0. This feature will be removed in v6.0.0. See https://github.com/optuna/optuna/releases/tag/v3.0.0. Use suggest_float instead.\n",
      "  'colsample_bytree': trial.suggest_uniform('colsample_bytree', 0.5, 1.0)\n",
      "[I 2025-02-08 20:38:57,699] Trial 25 finished with value: 0.8651428571428571 and parameters: {'num_leaves': 91, 'max_depth': 8, 'learning_rate': 0.1481910148727758, 'min_child_samples': 71, 'subsample': 0.5767186743599759, 'colsample_bytree': 0.595918678098913}. Best is trial 8 with value: 0.8674285714285714.\n"
     ]
    },
    {
     "name": "stdout",
     "output_type": "stream",
     "text": [
      "[90]\tvalid_0's binary_logloss: 0.336984\n",
      "[100]\tvalid_0's binary_logloss: 0.336219\n",
      "Did not meet early stopping. Best iteration is:\n",
      "[99]\tvalid_0's binary_logloss: 0.336196\n",
      "Training until validation scores don't improve for 10 rounds\n",
      "[10]\tvalid_0's binary_logloss: 0.368473\n",
      "[20]\tvalid_0's binary_logloss: 0.340261\n",
      "[30]\tvalid_0's binary_logloss: 0.335266\n",
      "[40]\tvalid_0's binary_logloss: 0.334747\n",
      "Early stopping, best iteration is:\n",
      "[36]\tvalid_0's binary_logloss: 0.333819\n",
      "Training until validation scores don't improve for 10 rounds\n",
      "[10]\tvalid_0's binary_logloss: 0.458108\n"
     ]
    },
    {
     "name": "stderr",
     "output_type": "stream",
     "text": [
      "C:\\Users\\Playdata\\AppData\\Local\\Temp\\ipykernel_18140\\3189017698.py:24: FutureWarning: suggest_loguniform has been deprecated in v3.0.0. This feature will be removed in v6.0.0. See https://github.com/optuna/optuna/releases/tag/v3.0.0. Use suggest_float(..., log=True) instead.\n",
      "  'learning_rate': trial.suggest_loguniform('learning_rate', 0.01, 0.3),\n",
      "C:\\Users\\Playdata\\AppData\\Local\\Temp\\ipykernel_18140\\3189017698.py:26: FutureWarning: suggest_uniform has been deprecated in v3.0.0. This feature will be removed in v6.0.0. See https://github.com/optuna/optuna/releases/tag/v3.0.0. Use suggest_float instead.\n",
      "  'subsample': trial.suggest_uniform('subsample', 0.5, 1.0),\n",
      "C:\\Users\\Playdata\\AppData\\Local\\Temp\\ipykernel_18140\\3189017698.py:27: FutureWarning: suggest_uniform has been deprecated in v3.0.0. This feature will be removed in v6.0.0. See https://github.com/optuna/optuna/releases/tag/v3.0.0. Use suggest_float instead.\n",
      "  'colsample_bytree': trial.suggest_uniform('colsample_bytree', 0.5, 1.0)\n"
     ]
    },
    {
     "name": "stdout",
     "output_type": "stream",
     "text": [
      "[20]\tvalid_0's binary_logloss: 0.425469\n",
      "[30]\tvalid_0's binary_logloss: 0.405115\n",
      "[40]\tvalid_0's binary_logloss: 0.387676\n",
      "[50]\tvalid_0's binary_logloss: 0.376902\n",
      "[60]\tvalid_0's binary_logloss: 0.366948\n",
      "[70]\tvalid_0's binary_logloss: 0.361474\n",
      "[80]\tvalid_0's binary_logloss: 0.354436\n",
      "[90]\tvalid_0's binary_logloss: 0.349416\n",
      "[100]\tvalid_0's binary_logloss: 0.346691\n",
      "Did not meet early stopping. Best iteration is:\n",
      "[100]\tvalid_0's binary_logloss: 0.346691\n"
     ]
    },
    {
     "name": "stderr",
     "output_type": "stream",
     "text": [
      "[I 2025-02-08 20:38:57,984] Trial 26 finished with value: 0.8677142857142857 and parameters: {'num_leaves': 78, 'max_depth': 14, 'learning_rate': 0.029762822926400263, 'min_child_samples': 82, 'subsample': 0.5786780038956784, 'colsample_bytree': 0.5449888601139455}. Best is trial 26 with value: 0.8677142857142857.\n",
      "C:\\Users\\Playdata\\AppData\\Local\\Temp\\ipykernel_18140\\3189017698.py:24: FutureWarning: suggest_loguniform has been deprecated in v3.0.0. This feature will be removed in v6.0.0. See https://github.com/optuna/optuna/releases/tag/v3.0.0. Use suggest_float(..., log=True) instead.\n",
      "  'learning_rate': trial.suggest_loguniform('learning_rate', 0.01, 0.3),\n",
      "C:\\Users\\Playdata\\AppData\\Local\\Temp\\ipykernel_18140\\3189017698.py:26: FutureWarning: suggest_uniform has been deprecated in v3.0.0. This feature will be removed in v6.0.0. See https://github.com/optuna/optuna/releases/tag/v3.0.0. Use suggest_float instead.\n",
      "  'subsample': trial.suggest_uniform('subsample', 0.5, 1.0),\n",
      "C:\\Users\\Playdata\\AppData\\Local\\Temp\\ipykernel_18140\\3189017698.py:27: FutureWarning: suggest_uniform has been deprecated in v3.0.0. This feature will be removed in v6.0.0. See https://github.com/optuna/optuna/releases/tag/v3.0.0. Use suggest_float instead.\n",
      "  'colsample_bytree': trial.suggest_uniform('colsample_bytree', 0.5, 1.0)\n"
     ]
    },
    {
     "name": "stdout",
     "output_type": "stream",
     "text": [
      "Training until validation scores don't improve for 10 rounds\n",
      "[10]\tvalid_0's binary_logloss: 0.477887\n",
      "[20]\tvalid_0's binary_logloss: 0.455352\n",
      "[30]\tvalid_0's binary_logloss: 0.439191\n",
      "[40]\tvalid_0's binary_logloss: 0.423244\n",
      "[50]\tvalid_0's binary_logloss: 0.412745\n",
      "[60]\tvalid_0's binary_logloss: 0.401547\n",
      "[70]\tvalid_0's binary_logloss: 0.394709\n",
      "[80]\tvalid_0's binary_logloss: 0.385743\n",
      "[90]\tvalid_0's binary_logloss: 0.379271\n"
     ]
    },
    {
     "name": "stderr",
     "output_type": "stream",
     "text": [
      "[I 2025-02-08 20:38:58,284] Trial 27 finished with value: 0.846 and parameters: {'num_leaves': 102, 'max_depth': 14, 'learning_rate': 0.015540582678389623, 'min_child_samples': 57, 'subsample': 0.5842287112018226, 'colsample_bytree': 0.5423908938251035}. Best is trial 26 with value: 0.8677142857142857.\n",
      "C:\\Users\\Playdata\\AppData\\Local\\Temp\\ipykernel_18140\\3189017698.py:24: FutureWarning: suggest_loguniform has been deprecated in v3.0.0. This feature will be removed in v6.0.0. See https://github.com/optuna/optuna/releases/tag/v3.0.0. Use suggest_float(..., log=True) instead.\n",
      "  'learning_rate': trial.suggest_loguniform('learning_rate', 0.01, 0.3),\n",
      "C:\\Users\\Playdata\\AppData\\Local\\Temp\\ipykernel_18140\\3189017698.py:26: FutureWarning: suggest_uniform has been deprecated in v3.0.0. This feature will be removed in v6.0.0. See https://github.com/optuna/optuna/releases/tag/v3.0.0. Use suggest_float instead.\n",
      "  'subsample': trial.suggest_uniform('subsample', 0.5, 1.0),\n",
      "C:\\Users\\Playdata\\AppData\\Local\\Temp\\ipykernel_18140\\3189017698.py:27: FutureWarning: suggest_uniform has been deprecated in v3.0.0. This feature will be removed in v6.0.0. See https://github.com/optuna/optuna/releases/tag/v3.0.0. Use suggest_float instead.\n",
      "  'colsample_bytree': trial.suggest_uniform('colsample_bytree', 0.5, 1.0)\n",
      "[I 2025-02-08 20:38:58,452] Trial 28 finished with value: 0.8682857142857143 and parameters: {'num_leaves': 44, 'max_depth': 7, 'learning_rate': 0.02621764072268792, 'min_child_samples': 81, 'subsample': 0.5586478288101614, 'colsample_bytree': 0.621088134499706}. Best is trial 28 with value: 0.8682857142857143.\n"
     ]
    },
    {
     "name": "stdout",
     "output_type": "stream",
     "text": [
      "[100]\tvalid_0's binary_logloss: 0.374102\n",
      "Did not meet early stopping. Best iteration is:\n",
      "[100]\tvalid_0's binary_logloss: 0.374102\n",
      "Training until validation scores don't improve for 10 rounds\n",
      "[10]\tvalid_0's binary_logloss: 0.459251\n",
      "[20]\tvalid_0's binary_logloss: 0.428903\n",
      "[30]\tvalid_0's binary_logloss: 0.408198\n",
      "[40]\tvalid_0's binary_logloss: 0.389153\n",
      "[50]\tvalid_0's binary_logloss: 0.377679\n",
      "[60]\tvalid_0's binary_logloss: 0.368255\n",
      "[70]\tvalid_0's binary_logloss: 0.361221\n",
      "[80]\tvalid_0's binary_logloss: 0.354228\n",
      "[90]\tvalid_0's binary_logloss: 0.349357\n",
      "[100]\tvalid_0's binary_logloss: 0.346292\n",
      "Did not meet early stopping. Best iteration is:\n",
      "[100]\tvalid_0's binary_logloss: 0.346292\n"
     ]
    },
    {
     "name": "stderr",
     "output_type": "stream",
     "text": [
      "C:\\Users\\Playdata\\AppData\\Local\\Temp\\ipykernel_18140\\3189017698.py:24: FutureWarning: suggest_loguniform has been deprecated in v3.0.0. This feature will be removed in v6.0.0. See https://github.com/optuna/optuna/releases/tag/v3.0.0. Use suggest_float(..., log=True) instead.\n",
      "  'learning_rate': trial.suggest_loguniform('learning_rate', 0.01, 0.3),\n",
      "C:\\Users\\Playdata\\AppData\\Local\\Temp\\ipykernel_18140\\3189017698.py:26: FutureWarning: suggest_uniform has been deprecated in v3.0.0. This feature will be removed in v6.0.0. See https://github.com/optuna/optuna/releases/tag/v3.0.0. Use suggest_float instead.\n",
      "  'subsample': trial.suggest_uniform('subsample', 0.5, 1.0),\n",
      "C:\\Users\\Playdata\\AppData\\Local\\Temp\\ipykernel_18140\\3189017698.py:27: FutureWarning: suggest_uniform has been deprecated in v3.0.0. This feature will be removed in v6.0.0. See https://github.com/optuna/optuna/releases/tag/v3.0.0. Use suggest_float instead.\n",
      "  'colsample_bytree': trial.suggest_uniform('colsample_bytree', 0.5, 1.0)\n",
      "[I 2025-02-08 20:38:58,608] Trial 29 finished with value: 0.866 and parameters: {'num_leaves': 47, 'max_depth': 7, 'learning_rate': 0.08619762676411409, 'min_child_samples': 63, 'subsample': 0.6026980817544916, 'colsample_bytree': 0.5016108947408859}. Best is trial 28 with value: 0.8682857142857143.\n"
     ]
    },
    {
     "name": "stdout",
     "output_type": "stream",
     "text": [
      "Training until validation scores don't improve for 10 rounds\n",
      "[10]\tvalid_0's binary_logloss: 0.406236\n",
      "[20]\tvalid_0's binary_logloss: 0.365687\n",
      "[30]\tvalid_0's binary_logloss: 0.351779\n",
      "[40]\tvalid_0's binary_logloss: 0.343164\n",
      "[50]\tvalid_0's binary_logloss: 0.33982\n",
      "[60]\tvalid_0's binary_logloss: 0.337939\n",
      "[70]\tvalid_0's binary_logloss: 0.337754\n",
      "Early stopping, best iteration is:\n",
      "[68]\tvalid_0's binary_logloss: 0.337173\n",
      "Best parameters found: {'num_leaves': 44, 'max_depth': 7, 'learning_rate': 0.02621764072268792, 'min_child_samples': 81, 'subsample': 0.5586478288101614, 'colsample_bytree': 0.621088134499706}\n",
      "Training until validation scores don't improve for 10 rounds\n",
      "[10]\tvalid_0's binary_logloss: 0.459251\n",
      "[20]\tvalid_0's binary_logloss: 0.428903\n",
      "[30]\tvalid_0's binary_logloss: 0.408198\n",
      "[40]\tvalid_0's binary_logloss: 0.389153\n",
      "[50]\tvalid_0's binary_logloss: 0.377679\n",
      "[60]\tvalid_0's binary_logloss: 0.368255\n",
      "[70]\tvalid_0's binary_logloss: 0.361221\n",
      "[80]\tvalid_0's binary_logloss: 0.354228\n",
      "[90]\tvalid_0's binary_logloss: 0.349357\n",
      "[100]\tvalid_0's binary_logloss: 0.346292\n",
      "Did not meet early stopping. Best iteration is:\n",
      "[100]\tvalid_0's binary_logloss: 0.346292\n",
      "Accuracy: 0.8683\n",
      "Classification Report:\n",
      "               precision    recall  f1-score   support\n",
      "\n",
      "           0       0.87      0.98      0.92      2787\n",
      "           1       0.82      0.45      0.58       713\n",
      "\n",
      "    accuracy                           0.87      3500\n",
      "   macro avg       0.85      0.71      0.75      3500\n",
      "weighted avg       0.86      0.87      0.85      3500\n",
      "\n"
     ]
    }
   ],
   "source": [
    "import pandas as pd\n",
    "import lightgbm as lgb\n",
    "import optuna\n",
    "from sklearn.model_selection import train_test_split\n",
    "from sklearn.metrics import accuracy_score, classification_report\n",
    "\n",
    "\n",
    "\n",
    "# X, y 분리\n",
    "y = df['churn']  # 목표 변수\n",
    "X = df.drop(columns=['churn'])  # 특징 변수\n",
    "\n",
    "# 학습 및 테스트 데이터 분할\n",
    "X_train, X_test, y_train, y_test = train_test_split(X, y, test_size=0.35, random_state=42, stratify=y)\n",
    "\n",
    "# Optuna를 이용한 하이퍼파라미터 튜닝\n",
    "def objective(trial):\n",
    "    params = {\n",
    "        'objective': 'binary',\n",
    "        'metric': 'binary_logloss',\n",
    "        'verbosity': -1,\n",
    "        'num_leaves': trial.suggest_int('num_leaves', 20, 150),\n",
    "        'max_depth': trial.suggest_int('max_depth', 3, 15),\n",
    "        'learning_rate': trial.suggest_loguniform('learning_rate', 0.01, 0.3),\n",
    "        'min_child_samples': trial.suggest_int('min_child_samples', 5, 100),\n",
    "        'subsample': trial.suggest_uniform('subsample', 0.5, 1.0),\n",
    "        'colsample_bytree': trial.suggest_uniform('colsample_bytree', 0.5, 1.0)\n",
    "    }\n",
    "    \n",
    "    train_data = lgb.Dataset(X_train, label=y_train)\n",
    "    valid_data = lgb.Dataset(X_test, label=y_test, reference=train_data)\n",
    "    \n",
    "    model = lgb.train(params, train_data, num_boost_round=100,\n",
    "                      valid_sets=[valid_data], \n",
    "                      callbacks=[lgb.early_stopping(10), lgb.log_evaluation(10)])\n",
    "    \n",
    "    y_pred = model.predict(X_test)\n",
    "    y_pred = [1 if x > 0.5 else 0 for x in y_pred]\n",
    "    accuracy = accuracy_score(y_test, y_pred)\n",
    "    return accuracy\n",
    "\n",
    "# Optuna 실행\n",
    "study = optuna.create_study(direction='maximize')\n",
    "study.optimize(objective, n_trials=30)\n",
    "\n",
    "# 최적 하이퍼파라미터 출력\n",
    "print(\"Best parameters found:\", study.best_params)\n",
    "\n",
    "# 최적 하이퍼파라미터로 모델 학습\n",
    "best_params = study.best_params\n",
    "best_params.update({'objective': 'binary', 'metric': 'binary_logloss', 'verbosity': -1})\n",
    "\n",
    "train_data = lgb.Dataset(X_train, label=y_train)\n",
    "valid_data = lgb.Dataset(X_test, label=y_test, reference=train_data)\n",
    "\n",
    "model = lgb.train(best_params, train_data, num_boost_round=100,\n",
    "                  valid_sets=[valid_data], \n",
    "                  callbacks=[lgb.early_stopping(10), lgb.log_evaluation(10)])\n",
    "\n",
    "# 최적 모델 예측\n",
    "y_pred = model.predict(X_test)\n",
    "y_pred = [1 if x > 0.5 else 0 for x in y_pred]\n",
    "\n",
    "# 평가\n",
    "accuracy = accuracy_score(y_test, y_pred)\n",
    "report = classification_report(y_test, y_pred)\n",
    "\n",
    "print(f'Accuracy: {accuracy:.4f}')\n",
    "print('Classification Report:\\n', report)\n"
   ]
  },
  {
   "cell_type": "code",
   "execution_count": 9,
   "metadata": {},
   "outputs": [
    {
     "name": "stderr",
     "output_type": "stream",
     "text": [
      "[I 2025-02-08 20:38:58,818] A new study created in memory with name: no-name-76c03788-e975-4a8d-be97-d16bc9e0489b\n"
     ]
    },
    {
     "name": "stdout",
     "output_type": "stream",
     "text": [
      "Training until validation scores don't improve for 10 rounds\n",
      "[10]\tvalid_0's binary_logloss: 0.371672\n",
      "[20]\tvalid_0's binary_logloss: 0.34107\n",
      "[30]\tvalid_0's binary_logloss: 0.335414\n"
     ]
    },
    {
     "name": "stderr",
     "output_type": "stream",
     "text": [
      "[I 2025-02-08 20:38:58,937] Trial 0 finished with value: 0.79 and parameters: {'num_leaves': 52, 'max_depth': 14, 'learning_rate': 0.13156384122674317, 'min_child_samples': 78, 'subsample': 0.8742318605350777, 'colsample_bytree': 0.6702172595944933}. Best is trial 0 with value: 0.79.\n"
     ]
    },
    {
     "name": "stdout",
     "output_type": "stream",
     "text": [
      "[40]\tvalid_0's binary_logloss: 0.337333\n",
      "Early stopping, best iteration is:\n",
      "[34]\tvalid_0's binary_logloss: 0.33507\n",
      "Training until validation scores don't improve for 10 rounds\n",
      "[10]\tvalid_0's binary_logloss: 0.476114\n",
      "[20]\tvalid_0's binary_logloss: 0.452793\n",
      "[30]\tvalid_0's binary_logloss: 0.43474\n",
      "[40]\tvalid_0's binary_logloss: 0.419687\n",
      "[50]\tvalid_0's binary_logloss: 0.407498\n",
      "[60]\tvalid_0's binary_logloss: 0.39763\n",
      "[70]\tvalid_0's binary_logloss: 0.38922\n"
     ]
    },
    {
     "name": "stderr",
     "output_type": "stream",
     "text": [
      "[I 2025-02-08 20:38:59,219] Trial 1 finished with value: 0.758 and parameters: {'num_leaves': 149, 'max_depth': 10, 'learning_rate': 0.010970977337149948, 'min_child_samples': 88, 'subsample': 0.5216977061809234, 'colsample_bytree': 0.9531785211453723}. Best is trial 0 with value: 0.79.\n"
     ]
    },
    {
     "name": "stdout",
     "output_type": "stream",
     "text": [
      "[80]\tvalid_0's binary_logloss: 0.38157\n",
      "[90]\tvalid_0's binary_logloss: 0.375\n",
      "[100]\tvalid_0's binary_logloss: 0.369268\n",
      "Did not meet early stopping. Best iteration is:\n",
      "[100]\tvalid_0's binary_logloss: 0.369268\n",
      "Training until validation scores don't improve for 10 rounds\n",
      "[10]\tvalid_0's binary_logloss: 0.412193\n",
      "[20]\tvalid_0's binary_logloss: 0.3723\n",
      "[30]\tvalid_0's binary_logloss: 0.35522\n",
      "[40]\tvalid_0's binary_logloss: 0.343398\n",
      "[50]\tvalid_0's binary_logloss: 0.339459\n",
      "[60]\tvalid_0's binary_logloss: 0.336688\n"
     ]
    },
    {
     "name": "stderr",
     "output_type": "stream",
     "text": [
      "[I 2025-02-08 20:38:59,384] Trial 2 finished with value: 0.8682857142857143 and parameters: {'num_leaves': 66, 'max_depth': 9, 'learning_rate': 0.0688218824734827, 'min_child_samples': 92, 'subsample': 0.5470653330329711, 'colsample_bytree': 0.625762875563758}. Best is trial 2 with value: 0.8682857142857143.\n",
      "[I 2025-02-08 20:38:59,450] Trial 3 finished with value: 0.7731428571428571 and parameters: {'num_leaves': 111, 'max_depth': 3, 'learning_rate': 0.07019707358938054, 'min_child_samples': 87, 'subsample': 0.996195285148721, 'colsample_bytree': 0.5269637659516007}. Best is trial 2 with value: 0.8682857142857143.\n"
     ]
    },
    {
     "name": "stdout",
     "output_type": "stream",
     "text": [
      "[70]\tvalid_0's binary_logloss: 0.334427\n",
      "[80]\tvalid_0's binary_logloss: 0.333606\n",
      "[90]\tvalid_0's binary_logloss: 0.333546\n",
      "Early stopping, best iteration is:\n",
      "[84]\tvalid_0's binary_logloss: 0.333403\n",
      "Training until validation scores don't improve for 10 rounds\n",
      "[10]\tvalid_0's binary_logloss: 0.424435\n",
      "[20]\tvalid_0's binary_logloss: 0.387303\n",
      "[30]\tvalid_0's binary_logloss: 0.370256\n",
      "[40]\tvalid_0's binary_logloss: 0.357475\n",
      "[50]\tvalid_0's binary_logloss: 0.350607\n",
      "[60]\tvalid_0's binary_logloss: 0.345336\n",
      "[70]\tvalid_0's binary_logloss: 0.341801\n",
      "[80]\tvalid_0's binary_logloss: 0.33876\n",
      "[90]\tvalid_0's binary_logloss: 0.336792\n",
      "[100]\tvalid_0's binary_logloss: 0.335671\n",
      "Did not meet early stopping. Best iteration is:\n",
      "[100]\tvalid_0's binary_logloss: 0.335671\n",
      "Training until validation scores don't improve for 10 rounds\n",
      "[10]\tvalid_0's binary_logloss: 0.402832\n",
      "[20]\tvalid_0's binary_logloss: 0.373099\n",
      "[30]\tvalid_0's binary_logloss: 0.357018\n",
      "[40]\tvalid_0's binary_logloss: 0.348064\n",
      "[50]\tvalid_0's binary_logloss: 0.342533\n"
     ]
    },
    {
     "name": "stderr",
     "output_type": "stream",
     "text": [
      "[I 2025-02-08 20:38:59,516] Trial 4 finished with value: 0.8048571428571428 and parameters: {'num_leaves': 123, 'max_depth': 3, 'learning_rate': 0.08332361147662261, 'min_child_samples': 84, 'subsample': 0.7284779605526698, 'colsample_bytree': 0.909110688316643}. Best is trial 2 with value: 0.8682857142857143.\n"
     ]
    },
    {
     "name": "stdout",
     "output_type": "stream",
     "text": [
      "[60]\tvalid_0's binary_logloss: 0.339232\n",
      "[70]\tvalid_0's binary_logloss: 0.336805\n",
      "[80]\tvalid_0's binary_logloss: 0.335237\n",
      "[90]\tvalid_0's binary_logloss: 0.33429\n",
      "[100]\tvalid_0's binary_logloss: 0.333791\n",
      "Did not meet early stopping. Best iteration is:\n",
      "[98]\tvalid_0's binary_logloss: 0.33371\n",
      "Training until validation scores don't improve for 10 rounds\n",
      "[10]\tvalid_0's binary_logloss: 0.470694\n",
      "[20]\tvalid_0's binary_logloss: 0.443714\n",
      "[30]\tvalid_0's binary_logloss: 0.423312\n",
      "[40]\tvalid_0's binary_logloss: 0.40797\n",
      "[50]\tvalid_0's binary_logloss: 0.395838\n",
      "[60]\tvalid_0's binary_logloss: 0.385103\n",
      "[70]\tvalid_0's binary_logloss: 0.376093\n",
      "[80]\tvalid_0's binary_logloss: 0.368439\n",
      "[90]\tvalid_0's binary_logloss: 0.362777\n",
      "[100]\tvalid_0's binary_logloss: 0.358537\n",
      "Did not meet early stopping. Best iteration is:\n",
      "[100]\tvalid_0's binary_logloss: 0.358537\n"
     ]
    },
    {
     "name": "stderr",
     "output_type": "stream",
     "text": [
      "[I 2025-02-08 20:38:59,949] Trial 5 finished with value: 0.766 and parameters: {'num_leaves': 135, 'max_depth': 15, 'learning_rate': 0.014294000859999344, 'min_child_samples': 47, 'subsample': 0.6401168678248483, 'colsample_bytree': 0.7906027758110866}. Best is trial 2 with value: 0.8682857142857143.\n"
     ]
    },
    {
     "name": "stdout",
     "output_type": "stream",
     "text": [
      "Training until validation scores don't improve for 10 rounds\n",
      "[10]\tvalid_0's binary_logloss: 0.4773\n",
      "[20]\tvalid_0's binary_logloss: 0.455405\n",
      "[30]\tvalid_0's binary_logloss: 0.435953\n",
      "[40]\tvalid_0's binary_logloss: 0.420813\n",
      "[50]\tvalid_0's binary_logloss: 0.409211\n",
      "[60]\tvalid_0's binary_logloss: 0.398179\n",
      "[70]\tvalid_0's binary_logloss: 0.38887\n",
      "[80]\tvalid_0's binary_logloss: 0.379931\n",
      "[90]\tvalid_0's binary_logloss: 0.37351\n",
      "[100]\tvalid_0's binary_logloss: 0.36804\n",
      "Did not meet early stopping. Best iteration is:\n",
      "[100]\tvalid_0's binary_logloss: 0.36804\n"
     ]
    },
    {
     "name": "stderr",
     "output_type": "stream",
     "text": [
      "[I 2025-02-08 20:39:00,195] Trial 6 finished with value: 0.8002857142857143 and parameters: {'num_leaves': 92, 'max_depth': 9, 'learning_rate': 0.013063976158509535, 'min_child_samples': 61, 'subsample': 0.6276980760780295, 'colsample_bytree': 0.6984707564354204}. Best is trial 2 with value: 0.8682857142857143.\n"
     ]
    },
    {
     "name": "stdout",
     "output_type": "stream",
     "text": [
      "Training until validation scores don't improve for 10 rounds\n",
      "[10]\tvalid_0's binary_logloss: 0.478364\n",
      "[20]\tvalid_0's binary_logloss: 0.456881\n",
      "[30]\tvalid_0's binary_logloss: 0.438265\n",
      "[40]\tvalid_0's binary_logloss: 0.423205\n",
      "[50]\tvalid_0's binary_logloss: 0.411654\n",
      "[60]\tvalid_0's binary_logloss: 0.400412\n",
      "[70]\tvalid_0's binary_logloss: 0.391409\n",
      "[80]\tvalid_0's binary_logloss: 0.382413\n",
      "[90]\tvalid_0's binary_logloss: 0.375931\n",
      "[100]\tvalid_0's binary_logloss: 0.37047\n",
      "Did not meet early stopping. Best iteration is:\n",
      "[100]\tvalid_0's binary_logloss: 0.37047\n"
     ]
    },
    {
     "name": "stderr",
     "output_type": "stream",
     "text": [
      "[I 2025-02-08 20:39:00,337] Trial 7 finished with value: 0.762 and parameters: {'num_leaves': 46, 'max_depth': 14, 'learning_rate': 0.012053346264994845, 'min_child_samples': 23, 'subsample': 0.519161958708187, 'colsample_bytree': 0.7105155721098452}. Best is trial 2 with value: 0.8682857142857143.\n"
     ]
    },
    {
     "name": "stdout",
     "output_type": "stream",
     "text": [
      "Training until validation scores don't improve for 10 rounds\n",
      "[10]\tvalid_0's binary_logloss: 0.484943\n",
      "[20]\tvalid_0's binary_logloss: 0.468188\n",
      "[30]\tvalid_0's binary_logloss: 0.454521\n"
     ]
    },
    {
     "name": "stderr",
     "output_type": "stream",
     "text": [
      "[I 2025-02-08 20:39:00,457] Trial 8 finished with value: 0.7668571428571429 and parameters: {'num_leaves': 32, 'max_depth': 12, 'learning_rate': 0.010284574718150846, 'min_child_samples': 93, 'subsample': 0.9942625856514163, 'colsample_bytree': 0.5614169931371484}. Best is trial 2 with value: 0.8682857142857143.\n",
      "[I 2025-02-08 20:39:00,515] Trial 9 finished with value: 0.8065714285714286 and parameters: {'num_leaves': 57, 'max_depth': 13, 'learning_rate': 0.1683478334364704, 'min_child_samples': 73, 'subsample': 0.6384117643505182, 'colsample_bytree': 0.6333196988649914}. Best is trial 2 with value: 0.8682857142857143.\n"
     ]
    },
    {
     "name": "stdout",
     "output_type": "stream",
     "text": [
      "[40]\tvalid_0's binary_logloss: 0.44031\n",
      "[50]\tvalid_0's binary_logloss: 0.429971\n",
      "[60]\tvalid_0's binary_logloss: 0.420374\n",
      "[70]\tvalid_0's binary_logloss: 0.412462\n",
      "[80]\tvalid_0's binary_logloss: 0.403725\n",
      "[90]\tvalid_0's binary_logloss: 0.396786\n",
      "[100]\tvalid_0's binary_logloss: 0.390869\n",
      "Did not meet early stopping. Best iteration is:\n",
      "[100]\tvalid_0's binary_logloss: 0.390869\n",
      "Training until validation scores don't improve for 10 rounds\n",
      "[10]\tvalid_0's binary_logloss: 0.362392\n",
      "[20]\tvalid_0's binary_logloss: 0.337476\n",
      "[30]\tvalid_0's binary_logloss: 0.337333\n",
      "Early stopping, best iteration is:\n",
      "[21]\tvalid_0's binary_logloss: 0.336178\n",
      "Training until validation scores don't improve for 10 rounds\n",
      "[10]\tvalid_0's binary_logloss: 0.447249\n",
      "[20]\tvalid_0's binary_logloss: 0.411725\n",
      "[30]\tvalid_0's binary_logloss: 0.388978\n"
     ]
    },
    {
     "name": "stderr",
     "output_type": "stream",
     "text": [
      "[I 2025-02-08 20:39:00,686] Trial 10 finished with value: 0.7708571428571429 and parameters: {'num_leaves': 76, 'max_depth': 6, 'learning_rate': 0.027476510538002243, 'min_child_samples': 5, 'subsample': 0.8005032162789669, 'colsample_bytree': 0.832368273314293}. Best is trial 2 with value: 0.8682857142857143.\n"
     ]
    },
    {
     "name": "stdout",
     "output_type": "stream",
     "text": [
      "[40]\tvalid_0's binary_logloss: 0.374371\n",
      "[50]\tvalid_0's binary_logloss: 0.363387\n",
      "[60]\tvalid_0's binary_logloss: 0.356086\n",
      "[70]\tvalid_0's binary_logloss: 0.350302\n",
      "[80]\tvalid_0's binary_logloss: 0.345662\n",
      "[90]\tvalid_0's binary_logloss: 0.342414\n",
      "[100]\tvalid_0's binary_logloss: 0.340679\n",
      "Did not meet early stopping. Best iteration is:\n",
      "[100]\tvalid_0's binary_logloss: 0.340679\n",
      "Training until validation scores don't improve for 10 rounds\n",
      "[10]\tvalid_0's binary_logloss: 0.356804\n",
      "[20]\tvalid_0's binary_logloss: 0.336875\n",
      "[30]\tvalid_0's binary_logloss: 0.337119\n",
      "Early stopping, best iteration is:\n",
      "[21]\tvalid_0's binary_logloss: 0.336003\n"
     ]
    },
    {
     "name": "stderr",
     "output_type": "stream",
     "text": [
      "[I 2025-02-08 20:39:00,773] Trial 11 finished with value: 0.8665714285714285 and parameters: {'num_leaves': 74, 'max_depth': 9, 'learning_rate': 0.19788368106879758, 'min_child_samples': 67, 'subsample': 0.6222411164103248, 'colsample_bytree': 0.6155274310382248}. Best is trial 2 with value: 0.8682857142857143.\n",
      "[I 2025-02-08 20:39:00,881] Trial 12 finished with value: 0.8682857142857143 and parameters: {'num_leaves': 81, 'max_depth': 8, 'learning_rate': 0.2908608696119383, 'min_child_samples': 57, 'subsample': 0.5833000906690028, 'colsample_bytree': 0.6020708668792245}. Best is trial 2 with value: 0.8682857142857143.\n",
      "[I 2025-02-08 20:39:00,969] Trial 13 finished with value: 0.7597142857142857 and parameters: {'num_leaves': 96, 'max_depth': 7, 'learning_rate': 0.2870130098468431, 'min_child_samples': 45, 'subsample': 0.5039225573396329, 'colsample_bytree': 0.5017780775962044}. Best is trial 2 with value: 0.8682857142857143.\n"
     ]
    },
    {
     "name": "stdout",
     "output_type": "stream",
     "text": [
      "Training until validation scores don't improve for 10 rounds\n",
      "[10]\tvalid_0's binary_logloss: 0.344056\n",
      "[20]\tvalid_0's binary_logloss: 0.335836\n",
      "[30]\tvalid_0's binary_logloss: 0.340957\n",
      "Early stopping, best iteration is:\n",
      "[21]\tvalid_0's binary_logloss: 0.334864\n",
      "Training until validation scores don't improve for 10 rounds\n",
      "[10]\tvalid_0's binary_logloss: 0.357024\n",
      "[20]\tvalid_0's binary_logloss: 0.341294\n",
      "Early stopping, best iteration is:\n",
      "[19]\tvalid_0's binary_logloss: 0.341212\n",
      "Training until validation scores don't improve for 10 rounds\n",
      "[10]\tvalid_0's binary_logloss: 0.453219\n",
      "[20]\tvalid_0's binary_logloss: 0.420816\n"
     ]
    },
    {
     "name": "stderr",
     "output_type": "stream",
     "text": [
      "[I 2025-02-08 20:39:01,112] Trial 14 finished with value: 0.7617142857142857 and parameters: {'num_leaves': 66, 'max_depth': 6, 'learning_rate': 0.030848903622257996, 'min_child_samples': 99, 'subsample': 0.5772343457082345, 'colsample_bytree': 0.5892213165998581}. Best is trial 2 with value: 0.8682857142857143.\n"
     ]
    },
    {
     "name": "stdout",
     "output_type": "stream",
     "text": [
      "[30]\tvalid_0's binary_logloss: 0.399998\n",
      "[40]\tvalid_0's binary_logloss: 0.381003\n",
      "[50]\tvalid_0's binary_logloss: 0.369796\n",
      "[60]\tvalid_0's binary_logloss: 0.361093\n",
      "[70]\tvalid_0's binary_logloss: 0.354557\n",
      "[80]\tvalid_0's binary_logloss: 0.348444\n",
      "[90]\tvalid_0's binary_logloss: 0.344381\n",
      "[100]\tvalid_0's binary_logloss: 0.341782\n",
      "Did not meet early stopping. Best iteration is:\n",
      "[100]\tvalid_0's binary_logloss: 0.341782\n",
      "Training until validation scores don't improve for 10 rounds\n",
      "[10]\tvalid_0's binary_logloss: 0.427038\n",
      "[20]\tvalid_0's binary_logloss: 0.386644\n",
      "[30]\tvalid_0's binary_logloss: 0.363905\n",
      "[40]\tvalid_0's binary_logloss: 0.35108\n",
      "[50]\tvalid_0's binary_logloss: 0.343626\n",
      "[60]\tvalid_0's binary_logloss: 0.338419\n",
      "[70]\tvalid_0's binary_logloss: 0.335681\n",
      "[80]\tvalid_0's binary_logloss: 0.333408\n",
      "[90]\tvalid_0's binary_logloss: 0.331765\n"
     ]
    },
    {
     "name": "stderr",
     "output_type": "stream",
     "text": [
      "[I 2025-02-08 20:39:01,271] Trial 15 finished with value: 0.8091428571428572 and parameters: {'num_leaves': 31, 'max_depth': 11, 'learning_rate': 0.04748483918284853, 'min_child_samples': 32, 'subsample': 0.719376673284163, 'colsample_bytree': 0.7468765164748263}. Best is trial 2 with value: 0.8682857142857143.\n",
      "[I 2025-02-08 20:39:01,434] Trial 16 finished with value: 0.8171428571428572 and parameters: {'num_leaves': 104, 'max_depth': 8, 'learning_rate': 0.10188726296143012, 'min_child_samples': 60, 'subsample': 0.5747747159598251, 'colsample_bytree': 0.6541016772650498}. Best is trial 2 with value: 0.8682857142857143.\n"
     ]
    },
    {
     "name": "stdout",
     "output_type": "stream",
     "text": [
      "[100]\tvalid_0's binary_logloss: 0.331648\n",
      "Did not meet early stopping. Best iteration is:\n",
      "[98]\tvalid_0's binary_logloss: 0.331481\n",
      "Training until validation scores don't improve for 10 rounds\n",
      "[10]\tvalid_0's binary_logloss: 0.384116\n",
      "[20]\tvalid_0's binary_logloss: 0.348567\n",
      "[30]\tvalid_0's binary_logloss: 0.338425\n",
      "[40]\tvalid_0's binary_logloss: 0.336026\n",
      "[50]\tvalid_0's binary_logloss: 0.335497\n",
      "[60]\tvalid_0's binary_logloss: 0.334816\n",
      "[70]\tvalid_0's binary_logloss: 0.336052\n",
      "Early stopping, best iteration is:\n",
      "[60]\tvalid_0's binary_logloss: 0.334816\n"
     ]
    },
    {
     "name": "stderr",
     "output_type": "stream",
     "text": [
      "[I 2025-02-08 20:39:01,528] Trial 17 finished with value: 0.7328571428571429 and parameters: {'num_leaves': 81, 'max_depth': 6, 'learning_rate': 0.28640111044646277, 'min_child_samples': 35, 'subsample': 0.6769273886015423, 'colsample_bytree': 0.5716803800953635}. Best is trial 2 with value: 0.8682857142857143.\n"
     ]
    },
    {
     "name": "stdout",
     "output_type": "stream",
     "text": [
      "Training until validation scores don't improve for 10 rounds\n",
      "[10]\tvalid_0's binary_logloss: 0.34555\n",
      "[20]\tvalid_0's binary_logloss: 0.335598\n",
      "[30]\tvalid_0's binary_logloss: 0.341941\n",
      "Early stopping, best iteration is:\n",
      "[20]\tvalid_0's binary_logloss: 0.335598\n",
      "Training until validation scores don't improve for 10 rounds\n",
      "[10]\tvalid_0's binary_logloss: 0.427079\n",
      "[20]\tvalid_0's binary_logloss: 0.386915\n",
      "[30]\tvalid_0's binary_logloss: 0.365944\n",
      "[40]\tvalid_0's binary_logloss: 0.353707\n"
     ]
    },
    {
     "name": "stderr",
     "output_type": "stream",
     "text": [
      "[I 2025-02-08 20:39:01,828] Trial 18 finished with value: 0.7714285714285715 and parameters: {'num_leaves': 63, 'max_depth': 11, 'learning_rate': 0.04033992623368144, 'min_child_samples': 14, 'subsample': 0.8112415284257772, 'colsample_bytree': 0.8199477480766523}. Best is trial 2 with value: 0.8682857142857143.\n"
     ]
    },
    {
     "name": "stdout",
     "output_type": "stream",
     "text": [
      "[50]\tvalid_0's binary_logloss: 0.347499\n",
      "[60]\tvalid_0's binary_logloss: 0.3437\n",
      "[70]\tvalid_0's binary_logloss: 0.340738\n",
      "[80]\tvalid_0's binary_logloss: 0.338396\n",
      "[90]\tvalid_0's binary_logloss: 0.338277\n",
      "[100]\tvalid_0's binary_logloss: 0.338883\n",
      "Did not meet early stopping. Best iteration is:\n",
      "[91]\tvalid_0's binary_logloss: 0.338173\n",
      "Training until validation scores don't improve for 10 rounds\n",
      "[10]\tvalid_0's binary_logloss: 0.412641\n",
      "[20]\tvalid_0's binary_logloss: 0.37367\n",
      "[30]\tvalid_0's binary_logloss: 0.354414\n",
      "[40]\tvalid_0's binary_logloss: 0.344239\n",
      "[50]\tvalid_0's binary_logloss: 0.338753\n",
      "[60]\tvalid_0's binary_logloss: 0.335478\n"
     ]
    },
    {
     "name": "stderr",
     "output_type": "stream",
     "text": [
      "[I 2025-02-08 20:39:01,964] Trial 19 finished with value: 0.7757142857142857 and parameters: {'num_leaves': 43, 'max_depth': 5, 'learning_rate': 0.06410754851041421, 'min_child_samples': 51, 'subsample': 0.5759304749507445, 'colsample_bytree': 0.7223153179507895}. Best is trial 2 with value: 0.8682857142857143.\n"
     ]
    },
    {
     "name": "stdout",
     "output_type": "stream",
     "text": [
      "[70]\tvalid_0's binary_logloss: 0.333897\n",
      "[80]\tvalid_0's binary_logloss: 0.33198\n",
      "[90]\tvalid_0's binary_logloss: 0.331281\n",
      "[100]\tvalid_0's binary_logloss: 0.331178\n",
      "Did not meet early stopping. Best iteration is:\n",
      "[100]\tvalid_0's binary_logloss: 0.331178\n",
      "Training until validation scores don't improve for 10 rounds\n",
      "[10]\tvalid_0's binary_logloss: 0.471173\n",
      "[20]\tvalid_0's binary_logloss: 0.444564\n",
      "[30]\tvalid_0's binary_logloss: 0.426505\n",
      "[40]\tvalid_0's binary_logloss: 0.40969\n",
      "[50]\tvalid_0's binary_logloss: 0.398563\n",
      "[60]\tvalid_0's binary_logloss: 0.387513\n",
      "[70]\tvalid_0's binary_logloss: 0.381028\n",
      "[80]\tvalid_0's binary_logloss: 0.372571\n",
      "[90]\tvalid_0's binary_logloss: 0.366219\n",
      "[100]\tvalid_0's binary_logloss: 0.361697\n",
      "Did not meet early stopping. Best iteration is:\n",
      "[100]\tvalid_0's binary_logloss: 0.361697\n"
     ]
    },
    {
     "name": "stderr",
     "output_type": "stream",
     "text": [
      "[I 2025-02-08 20:39:02,159] Trial 20 finished with value: 0.8691428571428571 and parameters: {'num_leaves': 88, 'max_depth': 8, 'learning_rate': 0.02015953109992848, 'min_child_samples': 75, 'subsample': 0.6842691627142414, 'colsample_bytree': 0.5383316557129085}. Best is trial 20 with value: 0.8691428571428571.\n"
     ]
    },
    {
     "name": "stdout",
     "output_type": "stream",
     "text": [
      "Training until validation scores don't improve for 10 rounds\n",
      "[10]\tvalid_0's binary_logloss: 0.472714\n",
      "[20]\tvalid_0's binary_logloss: 0.446922\n",
      "[30]\tvalid_0's binary_logloss: 0.429151\n",
      "[40]\tvalid_0's binary_logloss: 0.412569\n",
      "[50]\tvalid_0's binary_logloss: 0.40146\n",
      "[60]\tvalid_0's binary_logloss: 0.390539\n",
      "[70]\tvalid_0's binary_logloss: 0.383784\n",
      "[80]\tvalid_0's binary_logloss: 0.375242\n",
      "[90]\tvalid_0's binary_logloss: 0.368716\n",
      "[100]\tvalid_0's binary_logloss: 0.364184\n",
      "Did not meet early stopping. Best iteration is:\n",
      "[100]\tvalid_0's binary_logloss: 0.364184\n"
     ]
    },
    {
     "name": "stderr",
     "output_type": "stream",
     "text": [
      "[I 2025-02-08 20:39:02,410] Trial 21 finished with value: 0.8691428571428571 and parameters: {'num_leaves': 88, 'max_depth': 8, 'learning_rate': 0.01916824387149847, 'min_child_samples': 77, 'subsample': 0.6874608637036669, 'colsample_bytree': 0.5465819345858118}. Best is trial 20 with value: 0.8691428571428571.\n"
     ]
    },
    {
     "name": "stdout",
     "output_type": "stream",
     "text": [
      "Training until validation scores don't improve for 10 rounds\n",
      "[10]\tvalid_0's binary_logloss: 0.464067\n",
      "[20]\tvalid_0's binary_logloss: 0.434118\n",
      "[30]\tvalid_0's binary_logloss: 0.414659\n",
      "[40]\tvalid_0's binary_logloss: 0.397392\n",
      "[50]\tvalid_0's binary_logloss: 0.386175\n",
      "[60]\tvalid_0's binary_logloss: 0.375445\n",
      "[70]\tvalid_0's binary_logloss: 0.369305\n",
      "[80]\tvalid_0's binary_logloss: 0.361699\n",
      "[90]\tvalid_0's binary_logloss: 0.35624\n",
      "[100]\tvalid_0's binary_logloss: 0.352469\n",
      "Did not meet early stopping. Best iteration is:\n",
      "[100]\tvalid_0's binary_logloss: 0.352469\n"
     ]
    },
    {
     "name": "stderr",
     "output_type": "stream",
     "text": [
      "[I 2025-02-08 20:39:02,647] Trial 22 finished with value: 0.8688571428571429 and parameters: {'num_leaves': 92, 'max_depth': 9, 'learning_rate': 0.02509462615448957, 'min_child_samples': 76, 'subsample': 0.7896736741734319, 'colsample_bytree': 0.5389840641720571}. Best is trial 20 with value: 0.8691428571428571.\n",
      "[I 2025-02-08 20:39:02,838] Trial 23 finished with value: 0.8691428571428571 and parameters: {'num_leaves': 112, 'max_depth': 8, 'learning_rate': 0.018918923197947378, 'min_child_samples': 74, 'subsample': 0.7810916761991575, 'colsample_bytree': 0.5387903461372777}. Best is trial 20 with value: 0.8691428571428571.\n"
     ]
    },
    {
     "name": "stdout",
     "output_type": "stream",
     "text": [
      "Training until validation scores don't improve for 10 rounds\n",
      "[10]\tvalid_0's binary_logloss: 0.472959\n",
      "[20]\tvalid_0's binary_logloss: 0.447364\n",
      "[30]\tvalid_0's binary_logloss: 0.429671\n",
      "[40]\tvalid_0's binary_logloss: 0.413115\n",
      "[50]\tvalid_0's binary_logloss: 0.401999\n",
      "[60]\tvalid_0's binary_logloss: 0.390978\n",
      "[70]\tvalid_0's binary_logloss: 0.384332\n",
      "[80]\tvalid_0's binary_logloss: 0.375801\n",
      "[90]\tvalid_0's binary_logloss: 0.3693\n",
      "[100]\tvalid_0's binary_logloss: 0.364668\n",
      "Did not meet early stopping. Best iteration is:\n",
      "[100]\tvalid_0's binary_logloss: 0.364668\n",
      "Training until validation scores don't improve for 10 rounds\n",
      "[10]\tvalid_0's binary_logloss: 0.474415\n"
     ]
    },
    {
     "name": "stderr",
     "output_type": "stream",
     "text": [
      "[I 2025-02-08 20:39:03,081] Trial 24 finished with value: 0.8688571428571429 and parameters: {'num_leaves': 116, 'max_depth': 7, 'learning_rate': 0.018018222987562678, 'min_child_samples': 71, 'subsample': 0.6883428351440108, 'colsample_bytree': 0.5007638008860537}. Best is trial 20 with value: 0.8691428571428571.\n"
     ]
    },
    {
     "name": "stdout",
     "output_type": "stream",
     "text": [
      "[20]\tvalid_0's binary_logloss: 0.449803\n",
      "[30]\tvalid_0's binary_logloss: 0.432652\n",
      "[40]\tvalid_0's binary_logloss: 0.416357\n",
      "[50]\tvalid_0's binary_logloss: 0.405304\n",
      "[60]\tvalid_0's binary_logloss: 0.394319\n",
      "[70]\tvalid_0's binary_logloss: 0.387479\n",
      "[80]\tvalid_0's binary_logloss: 0.378803\n",
      "[90]\tvalid_0's binary_logloss: 0.372113\n",
      "[100]\tvalid_0's binary_logloss: 0.367353\n",
      "Did not meet early stopping. Best iteration is:\n",
      "[100]\tvalid_0's binary_logloss: 0.367353\n"
     ]
    },
    {
     "name": "stderr",
     "output_type": "stream",
     "text": [
      "[I 2025-02-08 20:39:03,223] Trial 25 finished with value: 0.8048571428571428 and parameters: {'num_leaves': 129, 'max_depth': 5, 'learning_rate': 0.020279720258954553, 'min_child_samples': 81, 'subsample': 0.8648750977560031, 'colsample_bytree': 0.5471457538101787}. Best is trial 20 with value: 0.8691428571428571.\n"
     ]
    },
    {
     "name": "stdout",
     "output_type": "stream",
     "text": [
      "Training until validation scores don't improve for 10 rounds\n",
      "[10]\tvalid_0's binary_logloss: 0.471653\n",
      "[20]\tvalid_0's binary_logloss: 0.445787\n",
      "[30]\tvalid_0's binary_logloss: 0.427983\n",
      "[40]\tvalid_0's binary_logloss: 0.411528\n",
      "[50]\tvalid_0's binary_logloss: 0.400228\n",
      "[60]\tvalid_0's binary_logloss: 0.389042\n",
      "[70]\tvalid_0's binary_logloss: 0.382274\n",
      "[80]\tvalid_0's binary_logloss: 0.373812\n",
      "[90]\tvalid_0's binary_logloss: 0.367389\n",
      "[100]\tvalid_0's binary_logloss: 0.362645\n",
      "Did not meet early stopping. Best iteration is:\n",
      "[100]\tvalid_0's binary_logloss: 0.362645\n",
      "Training until validation scores don't improve for 10 rounds\n",
      "[10]\tvalid_0's binary_logloss: 0.471147\n",
      "[20]\tvalid_0's binary_logloss: 0.446362\n",
      "[30]\tvalid_0's binary_logloss: 0.428171\n",
      "[40]\tvalid_0's binary_logloss: 0.410738\n"
     ]
    },
    {
     "name": "stderr",
     "output_type": "stream",
     "text": [
      "[I 2025-02-08 20:39:03,476] Trial 26 finished with value: 0.8102857142857143 and parameters: {'num_leaves': 102, 'max_depth': 8, 'learning_rate': 0.01806943145856022, 'min_child_samples': 64, 'subsample': 0.764082774303608, 'colsample_bytree': 0.5641246443658536}. Best is trial 20 with value: 0.8691428571428571.\n"
     ]
    },
    {
     "name": "stdout",
     "output_type": "stream",
     "text": [
      "[50]\tvalid_0's binary_logloss: 0.398851\n",
      "[60]\tvalid_0's binary_logloss: 0.38864\n",
      "[70]\tvalid_0's binary_logloss: 0.380649\n",
      "[80]\tvalid_0's binary_logloss: 0.372244\n",
      "[90]\tvalid_0's binary_logloss: 0.366226\n",
      "[100]\tvalid_0's binary_logloss: 0.361558\n",
      "Did not meet early stopping. Best iteration is:\n",
      "[100]\tvalid_0's binary_logloss: 0.361558\n",
      "Training until validation scores don't improve for 10 rounds\n",
      "[10]\tvalid_0's binary_logloss: 0.440651\n",
      "[20]\tvalid_0's binary_logloss: 0.40167\n"
     ]
    },
    {
     "name": "stderr",
     "output_type": "stream",
     "text": [
      "[I 2025-02-08 20:39:03,661] Trial 27 finished with value: 0.7977142857142857 and parameters: {'num_leaves': 106, 'max_depth': 10, 'learning_rate': 0.037458130264859356, 'min_child_samples': 99, 'subsample': 0.841823844831269, 'colsample_bytree': 0.6739520189422327}. Best is trial 20 with value: 0.8691428571428571.\n"
     ]
    },
    {
     "name": "stdout",
     "output_type": "stream",
     "text": [
      "[30]\tvalid_0's binary_logloss: 0.377187\n",
      "[40]\tvalid_0's binary_logloss: 0.361843\n",
      "[50]\tvalid_0's binary_logloss: 0.35219\n",
      "[60]\tvalid_0's binary_logloss: 0.345092\n",
      "[70]\tvalid_0's binary_logloss: 0.340381\n",
      "[80]\tvalid_0's binary_logloss: 0.335867\n",
      "[90]\tvalid_0's binary_logloss: 0.334054\n",
      "[100]\tvalid_0's binary_logloss: 0.333232\n",
      "Did not meet early stopping. Best iteration is:\n",
      "[100]\tvalid_0's binary_logloss: 0.333232\n",
      "Training until validation scores don't improve for 10 rounds\n",
      "[10]\tvalid_0's binary_logloss: 0.466615\n",
      "[20]\tvalid_0's binary_logloss: 0.438285\n",
      "[30]\tvalid_0's binary_logloss: 0.419496\n",
      "[40]\tvalid_0's binary_logloss: 0.402527\n",
      "[50]\tvalid_0's binary_logloss: 0.391082\n"
     ]
    },
    {
     "name": "stderr",
     "output_type": "stream",
     "text": [
      "[I 2025-02-08 20:39:03,820] Trial 28 finished with value: 0.868 and parameters: {'num_leaves': 87, 'max_depth': 5, 'learning_rate': 0.023834120605813875, 'min_child_samples': 73, 'subsample': 0.9233391711145824, 'colsample_bytree': 0.5034615458480549}. Best is trial 20 with value: 0.8691428571428571.\n"
     ]
    },
    {
     "name": "stdout",
     "output_type": "stream",
     "text": [
      "[60]\tvalid_0's binary_logloss: 0.380002\n",
      "[70]\tvalid_0's binary_logloss: 0.37345\n",
      "[80]\tvalid_0's binary_logloss: 0.365541\n",
      "[90]\tvalid_0's binary_logloss: 0.359539\n",
      "[100]\tvalid_0's binary_logloss: 0.355382\n",
      "Did not meet early stopping. Best iteration is:\n",
      "[100]\tvalid_0's binary_logloss: 0.355382\n",
      "Training until validation scores don't improve for 10 rounds\n",
      "[10]\tvalid_0's binary_logloss: 0.473134\n",
      "[20]\tvalid_0's binary_logloss: 0.448846\n",
      "[30]\tvalid_0's binary_logloss: 0.427898\n",
      "[40]\tvalid_0's binary_logloss: 0.412332\n",
      "[50]\tvalid_0's binary_logloss: 0.400491\n",
      "[60]\tvalid_0's binary_logloss: 0.389769\n",
      "[70]\tvalid_0's binary_logloss: 0.38053\n"
     ]
    },
    {
     "name": "stderr",
     "output_type": "stream",
     "text": [
      "[I 2025-02-08 20:39:04,013] Trial 29 finished with value: 0.7951428571428572 and parameters: {'num_leaves': 116, 'max_depth': 7, 'learning_rate': 0.015596101682981074, 'min_child_samples': 78, 'subsample': 0.6922678696789265, 'colsample_bytree': 0.6667067229068658}. Best is trial 20 with value: 0.8691428571428571.\n"
     ]
    },
    {
     "name": "stdout",
     "output_type": "stream",
     "text": [
      "[80]\tvalid_0's binary_logloss: 0.371975\n",
      "[90]\tvalid_0's binary_logloss: 0.365795\n",
      "[100]\tvalid_0's binary_logloss: 0.360828\n",
      "Did not meet early stopping. Best iteration is:\n",
      "[100]\tvalid_0's binary_logloss: 0.360828\n",
      "Best parameters found: {'num_leaves': 88, 'max_depth': 8, 'learning_rate': 0.02015953109992848, 'min_child_samples': 75, 'subsample': 0.6842691627142414, 'colsample_bytree': 0.5383316557129085}\n",
      "Training until validation scores don't improve for 10 rounds\n",
      "[10]\tvalid_0's binary_logloss: 0.471173\n",
      "[20]\tvalid_0's binary_logloss: 0.444564\n",
      "[30]\tvalid_0's binary_logloss: 0.426505\n",
      "[40]\tvalid_0's binary_logloss: 0.40969\n",
      "[50]\tvalid_0's binary_logloss: 0.398563\n",
      "[60]\tvalid_0's binary_logloss: 0.387513\n",
      "[70]\tvalid_0's binary_logloss: 0.381028\n",
      "[80]\tvalid_0's binary_logloss: 0.372571\n",
      "[90]\tvalid_0's binary_logloss: 0.366219\n",
      "[100]\tvalid_0's binary_logloss: 0.361697\n",
      "Did not meet early stopping. Best iteration is:\n",
      "[100]\tvalid_0's binary_logloss: 0.361697\n",
      "Best Threshold: 0.4494\n",
      "Accuracy: 0.8691\n",
      "Classification Report:\n",
      "               precision    recall  f1-score   support\n",
      "\n",
      "           0       0.87      0.98      0.92      2787\n",
      "           1       0.83      0.45      0.58       713\n",
      "\n",
      "    accuracy                           0.87      3500\n",
      "   macro avg       0.85      0.71      0.75      3500\n",
      "weighted avg       0.86      0.87      0.85      3500\n",
      "\n"
     ]
    }
   ],
   "source": [
    "import pandas as pd\n",
    "import lightgbm as lgb\n",
    "import optuna\n",
    "from sklearn.model_selection import train_test_split\n",
    "from sklearn.metrics import accuracy_score, classification_report, precision_recall_curve\n",
    "\n",
    "\n",
    "# X, y 분리\n",
    "y = df['churn']  # 목표 변수\n",
    "X = df.drop(columns=['churn'])  # 특징 변수\n",
    "\n",
    "# 학습 및 테스트 데이터 분할\n",
    "X_train, X_test, y_train, y_test = train_test_split(X, y, test_size=0.35, random_state=42, stratify=y)\n",
    "\n",
    "# Optuna를 이용한 하이퍼파라미터 튜닝\n",
    "def objective(trial):\n",
    "    params = {\n",
    "        'objective': 'binary',\n",
    "        'metric': 'binary_logloss',\n",
    "        'verbosity': -1,\n",
    "        'num_leaves': trial.suggest_int('num_leaves', 20, 150),\n",
    "        'max_depth': trial.suggest_int('max_depth', 3, 15),\n",
    "        'learning_rate': trial.suggest_float('learning_rate', 0.01, 0.3, log=True),\n",
    "        'min_child_samples': trial.suggest_int('min_child_samples', 5, 100),\n",
    "        'subsample': trial.suggest_float('subsample', 0.5, 1.0),\n",
    "        'colsample_bytree': trial.suggest_float('colsample_bytree', 0.5, 1.0)\n",
    "    }\n",
    "    \n",
    "    train_data = lgb.Dataset(X_train, label=y_train)\n",
    "    valid_data = lgb.Dataset(X_test, label=y_test, reference=train_data)\n",
    "    \n",
    "    model = lgb.train(params, train_data, num_boost_round=100,\n",
    "                      valid_sets=[valid_data], \n",
    "                      callbacks=[lgb.early_stopping(10), lgb.log_evaluation(10)])\n",
    "    \n",
    "    y_pred_proba = model.predict(X_test)\n",
    "    precision, recall, thresholds = precision_recall_curve(y_test, y_pred_proba)\n",
    "    best_threshold = thresholds[(precision + recall).argmax()]  # 최적의 threshold 선택\n",
    "    \n",
    "    y_pred = [1 if x > best_threshold else 0 for x in y_pred_proba]\n",
    "    accuracy = accuracy_score(y_test, y_pred)\n",
    "    return accuracy\n",
    "\n",
    "# Optuna 실행\n",
    "study = optuna.create_study(direction='maximize')\n",
    "study.optimize(objective, n_trials=30)\n",
    "\n",
    "# 최적 하이퍼파라미터 출력\n",
    "print(\"Best parameters found:\", study.best_params)\n",
    "\n",
    "# 최적 하이퍼파라미터로 모델 학습\n",
    "best_params = study.best_params\n",
    "best_params.update({'objective': 'binary', 'metric': 'binary_logloss', 'verbosity': -1})\n",
    "\n",
    "train_data = lgb.Dataset(X_train, label=y_train)\n",
    "valid_data = lgb.Dataset(X_test, label=y_test, reference=train_data)\n",
    "\n",
    "model = lgb.train(best_params, train_data, num_boost_round=100,\n",
    "                  valid_sets=[valid_data], \n",
    "                  callbacks=[lgb.early_stopping(10), lgb.log_evaluation(10)])\n",
    "\n",
    "# 최적 모델 예측\n",
    "y_pred_proba = model.predict(X_test)\n",
    "precision, recall, thresholds = precision_recall_curve(y_test, y_pred_proba)\n",
    "best_threshold = thresholds[(precision + recall).argmax()]  # 최적 threshold 선택\n",
    "\n",
    "print(f'Best Threshold: {best_threshold:.4f}')\n",
    "\n",
    "y_pred = [1 if x > best_threshold else 0 for x in y_pred_proba]\n",
    "\n",
    "# 평가\n",
    "accuracy = accuracy_score(y_test, y_pred)\n",
    "report = classification_report(y_test, y_pred)\n",
    "\n",
    "print(f'Accuracy: {accuracy:.4f}')\n",
    "print('Classification Report:\\n', report)\n"
   ]
  },
  {
   "cell_type": "markdown",
   "metadata": {},
   "source": [
    "Precision과 Recall 균형 조정\n",
    "\n",
    "Precision 증가(0.80 → 0.84)\n",
    "Recall 감소(0.48 → 0.44)\n",
    "이탈 고객을 보다 정확하게 예측하지만, 일부를 놓칠 가능성이 있음\n",
    "비즈니스 목표에 따라 Threshold를 조정할 필요 있음!\n",
    "→ 이탈 고객 Recall을 높이고 싶다면 더 낮은 Threshold를 시도하는 것도 가능"
   ]
  },
  {
   "cell_type": "code",
   "execution_count": null,
   "metadata": {},
   "outputs": [],
   "source": []
  }
 ],
 "metadata": {
  "kernelspec": {
   "display_name": "psystudy_env",
   "language": "python",
   "name": "python3"
  },
  "language_info": {
   "codemirror_mode": {
    "name": "ipython",
    "version": 3
   },
   "file_extension": ".py",
   "mimetype": "text/x-python",
   "name": "python",
   "nbconvert_exporter": "python",
   "pygments_lexer": "ipython3",
   "version": "3.12.8"
  }
 },
 "nbformat": 4,
 "nbformat_minor": 2
}
