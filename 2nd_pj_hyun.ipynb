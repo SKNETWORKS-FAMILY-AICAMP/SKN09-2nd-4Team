{
 "cells": [
  {
   "cell_type": "markdown",
   "metadata": {},
   "source": [
    "# 주제선정: ABC 다국적 은행의 가입고객 이탈예측"
   ]
  },
  {
   "cell_type": "code",
   "execution_count": null,
   "metadata": {},
   "outputs": [
    {
     "data": {
      "text/html": [
       "<div>\n",
       "<style scoped>\n",
       "    .dataframe tbody tr th:only-of-type {\n",
       "        vertical-align: middle;\n",
       "    }\n",
       "\n",
       "    .dataframe tbody tr th {\n",
       "        vertical-align: top;\n",
       "    }\n",
       "\n",
       "    .dataframe thead th {\n",
       "        text-align: right;\n",
       "    }\n",
       "</style>\n",
       "<table border=\"1\" class=\"dataframe\">\n",
       "  <thead>\n",
       "    <tr style=\"text-align: right;\">\n",
       "      <th></th>\n",
       "      <th>customer_id</th>\n",
       "      <th>credit_score</th>\n",
       "      <th>country</th>\n",
       "      <th>gender</th>\n",
       "      <th>age</th>\n",
       "      <th>tenure</th>\n",
       "      <th>balance</th>\n",
       "      <th>products_number</th>\n",
       "      <th>credit_card</th>\n",
       "      <th>active_member</th>\n",
       "      <th>estimated_salary</th>\n",
       "      <th>churn</th>\n",
       "    </tr>\n",
       "  </thead>\n",
       "  <tbody>\n",
       "    <tr>\n",
       "      <th>0</th>\n",
       "      <td>15634602</td>\n",
       "      <td>619</td>\n",
       "      <td>France</td>\n",
       "      <td>Female</td>\n",
       "      <td>42</td>\n",
       "      <td>2</td>\n",
       "      <td>0.00</td>\n",
       "      <td>1</td>\n",
       "      <td>1</td>\n",
       "      <td>1</td>\n",
       "      <td>101348.88</td>\n",
       "      <td>1</td>\n",
       "    </tr>\n",
       "    <tr>\n",
       "      <th>1</th>\n",
       "      <td>15647311</td>\n",
       "      <td>608</td>\n",
       "      <td>Spain</td>\n",
       "      <td>Female</td>\n",
       "      <td>41</td>\n",
       "      <td>1</td>\n",
       "      <td>83807.86</td>\n",
       "      <td>1</td>\n",
       "      <td>0</td>\n",
       "      <td>1</td>\n",
       "      <td>112542.58</td>\n",
       "      <td>0</td>\n",
       "    </tr>\n",
       "    <tr>\n",
       "      <th>2</th>\n",
       "      <td>15619304</td>\n",
       "      <td>502</td>\n",
       "      <td>France</td>\n",
       "      <td>Female</td>\n",
       "      <td>42</td>\n",
       "      <td>8</td>\n",
       "      <td>159660.80</td>\n",
       "      <td>3</td>\n",
       "      <td>1</td>\n",
       "      <td>0</td>\n",
       "      <td>113931.57</td>\n",
       "      <td>1</td>\n",
       "    </tr>\n",
       "    <tr>\n",
       "      <th>3</th>\n",
       "      <td>15701354</td>\n",
       "      <td>699</td>\n",
       "      <td>France</td>\n",
       "      <td>Female</td>\n",
       "      <td>39</td>\n",
       "      <td>1</td>\n",
       "      <td>0.00</td>\n",
       "      <td>2</td>\n",
       "      <td>0</td>\n",
       "      <td>0</td>\n",
       "      <td>93826.63</td>\n",
       "      <td>0</td>\n",
       "    </tr>\n",
       "    <tr>\n",
       "      <th>4</th>\n",
       "      <td>15737888</td>\n",
       "      <td>850</td>\n",
       "      <td>Spain</td>\n",
       "      <td>Female</td>\n",
       "      <td>43</td>\n",
       "      <td>2</td>\n",
       "      <td>125510.82</td>\n",
       "      <td>1</td>\n",
       "      <td>1</td>\n",
       "      <td>1</td>\n",
       "      <td>79084.10</td>\n",
       "      <td>0</td>\n",
       "    </tr>\n",
       "    <tr>\n",
       "      <th>...</th>\n",
       "      <td>...</td>\n",
       "      <td>...</td>\n",
       "      <td>...</td>\n",
       "      <td>...</td>\n",
       "      <td>...</td>\n",
       "      <td>...</td>\n",
       "      <td>...</td>\n",
       "      <td>...</td>\n",
       "      <td>...</td>\n",
       "      <td>...</td>\n",
       "      <td>...</td>\n",
       "      <td>...</td>\n",
       "    </tr>\n",
       "    <tr>\n",
       "      <th>9995</th>\n",
       "      <td>15606229</td>\n",
       "      <td>771</td>\n",
       "      <td>France</td>\n",
       "      <td>Male</td>\n",
       "      <td>39</td>\n",
       "      <td>5</td>\n",
       "      <td>0.00</td>\n",
       "      <td>2</td>\n",
       "      <td>1</td>\n",
       "      <td>0</td>\n",
       "      <td>96270.64</td>\n",
       "      <td>0</td>\n",
       "    </tr>\n",
       "    <tr>\n",
       "      <th>9996</th>\n",
       "      <td>15569892</td>\n",
       "      <td>516</td>\n",
       "      <td>France</td>\n",
       "      <td>Male</td>\n",
       "      <td>35</td>\n",
       "      <td>10</td>\n",
       "      <td>57369.61</td>\n",
       "      <td>1</td>\n",
       "      <td>1</td>\n",
       "      <td>1</td>\n",
       "      <td>101699.77</td>\n",
       "      <td>0</td>\n",
       "    </tr>\n",
       "    <tr>\n",
       "      <th>9997</th>\n",
       "      <td>15584532</td>\n",
       "      <td>709</td>\n",
       "      <td>France</td>\n",
       "      <td>Female</td>\n",
       "      <td>36</td>\n",
       "      <td>7</td>\n",
       "      <td>0.00</td>\n",
       "      <td>1</td>\n",
       "      <td>0</td>\n",
       "      <td>1</td>\n",
       "      <td>42085.58</td>\n",
       "      <td>1</td>\n",
       "    </tr>\n",
       "    <tr>\n",
       "      <th>9998</th>\n",
       "      <td>15682355</td>\n",
       "      <td>772</td>\n",
       "      <td>Germany</td>\n",
       "      <td>Male</td>\n",
       "      <td>42</td>\n",
       "      <td>3</td>\n",
       "      <td>75075.31</td>\n",
       "      <td>2</td>\n",
       "      <td>1</td>\n",
       "      <td>0</td>\n",
       "      <td>92888.52</td>\n",
       "      <td>1</td>\n",
       "    </tr>\n",
       "    <tr>\n",
       "      <th>9999</th>\n",
       "      <td>15628319</td>\n",
       "      <td>792</td>\n",
       "      <td>France</td>\n",
       "      <td>Female</td>\n",
       "      <td>28</td>\n",
       "      <td>4</td>\n",
       "      <td>130142.79</td>\n",
       "      <td>1</td>\n",
       "      <td>1</td>\n",
       "      <td>0</td>\n",
       "      <td>38190.78</td>\n",
       "      <td>0</td>\n",
       "    </tr>\n",
       "  </tbody>\n",
       "</table>\n",
       "<p>10000 rows × 12 columns</p>\n",
       "</div>"
      ],
      "text/plain": [
       "      customer_id  credit_score  country  gender  age  tenure    balance  \\\n",
       "0        15634602           619   France  Female   42       2       0.00   \n",
       "1        15647311           608    Spain  Female   41       1   83807.86   \n",
       "2        15619304           502   France  Female   42       8  159660.80   \n",
       "3        15701354           699   France  Female   39       1       0.00   \n",
       "4        15737888           850    Spain  Female   43       2  125510.82   \n",
       "...           ...           ...      ...     ...  ...     ...        ...   \n",
       "9995     15606229           771   France    Male   39       5       0.00   \n",
       "9996     15569892           516   France    Male   35      10   57369.61   \n",
       "9997     15584532           709   France  Female   36       7       0.00   \n",
       "9998     15682355           772  Germany    Male   42       3   75075.31   \n",
       "9999     15628319           792   France  Female   28       4  130142.79   \n",
       "\n",
       "      products_number  credit_card  active_member  estimated_salary  churn  \n",
       "0                   1            1              1         101348.88      1  \n",
       "1                   1            0              1         112542.58      0  \n",
       "2                   3            1              0         113931.57      1  \n",
       "3                   2            0              0          93826.63      0  \n",
       "4                   1            1              1          79084.10      0  \n",
       "...               ...          ...            ...               ...    ...  \n",
       "9995                2            1              0          96270.64      0  \n",
       "9996                1            1              1         101699.77      0  \n",
       "9997                1            0              1          42085.58      1  \n",
       "9998                2            1              0          92888.52      1  \n",
       "9999                1            1              0          38190.78      0  \n",
       "\n",
       "[10000 rows x 12 columns]"
      ]
     },
     "execution_count": 194,
     "metadata": {},
     "output_type": "execute_result"
    }
   ],
   "source": [
    "import numpy as np\n",
    "import pandas as pd\n",
    "import matplotlib.pyplot as plt\n",
    "import seaborn as sns\n",
    "\n",
    "df = pd.read_csv('./data/Bank Customer Churn Prediction.csv')\n",
    "df"
   ]
  },
  {
   "cell_type": "markdown",
   "metadata": {},
   "source": [
    "1. customer_id (고객 ID):\n",
    "\n",
    "- 역할: 각 고객을 고유하게 식별하는 ID입니다.\n",
    "- 분석: 모델 학습에 직접 사용되지는 않지만, 고객별 분석이나 결과 확인 시 유용하게 사용됩니다. 중복된 ID는 없는지 확인해야 합니다.\n",
    "- 이탈 예측 영향: 직접적인 영향은 없지만, 다른 정보와 결합하여 고객 세분화 등에 활용될 수 있습니다.\n",
    "\n",
    "2. credit_score (신용 점수):\n",
    "\n",
    "- 역할: 고객의 신용도를 나타내는 점수입니다.\n",
    "- 분석: 신용 점수가 낮을수록 대출 상환 능력이 낮아 이탈할 가능성이 높을 수 있습니다.\n",
    "- 이탈 예측 영향: 중요한 예측 변수 중 하나입니다. 일반적으로 신용 점수가 낮을수록 이탈률이 높아지는 경향이 있습니다.\n",
    "\n",
    "3. country (국가):\n",
    "\n",
    "- 역할: 고객의 거주 국가입니다.\n",
    "- 분석: 국가별 경제 상황, 문화적 요인, 은행 서비스 이용 패턴 등이 이탈에 영향을 미칠 수 있습니다.\n",
    "- 이탈 예측 영향: 국가별 이탈률 차이를 분석하여 특정 국가 고객에게 맞춤형 전략을 수립할 수 있습니다.\n",
    "\n",
    "4. gender (성별):\n",
    "\n",
    "- 역할: 고객의 성별입니다.\n",
    "- 분석: 성별에 따른 금융 상품 선호도, 은행 이용 패턴 등이 다를 수 있습니다.\n",
    "- 이탈 예측 영향: 성별별 이탈률 차이를 분석하여 특정 성별 고객에게 맞는 마케팅 전략을 수립할 수 있습니다.\n",
    "\n",
    "5. age (나이):\n",
    "\n",
    "- 역할: 고객의 나이입니다.\n",
    "- 분석: 연령대별 금융 상품 이용 패턴, 라이프스타일 등이 다르기 때문에 이탈에 영향을 미칠 수 있습니다.\n",
    "- 이탈 예측 영향: 특정 연령대에서 이탈률이 높다면 해당 연령대를 위한 맞춤형 서비스를 제공할 수 있습니다.\n",
    "\n",
    "6. tenure (가입 기간):\n",
    "\n",
    "- 역할: 고객이 은행에 가입한 기간 (년)입니다.\n",
    "- 분석: 일반적으로 가입 기간이 짧은 고객이 이탈할 가능성이 높습니다. 장기 고객은 은행 서비스에 익숙하고 혜택을 누리고 있을 가능성이 높기 때문입니다.\n",
    "- 이탈 예측 영향: 중요한 예측 변수 중 하나입니다.\n",
    "\n",
    "7. balance (잔액):\n",
    "\n",
    "- 역할: 고객의 계좌 잔액입니다.\n",
    "- 분석: 잔액이 적거나 없을 경우 은행 서비스 이용 필요성이 줄어들어 이탈 가능성이 높아질 수 있습니다.\n",
    "- 이탈 예측 영향: 중요한 예측 변수 중 하나입니다.\n",
    "\n",
    "8. products_number (상품 수):\n",
    "\n",
    "- 역할: 고객이 이용하는 은행 상품의 개수입니다.\n",
    "- 분석: 이용하는 상품 수가 많을수록 은행과의 관계가 깊어 이탈 가능성이 낮아질 수 있습니다.\n",
    "- 이탈 예측 영향: 중요한 예측 변수 중 하나입니다.\n",
    "\n",
    "9. credit_card (신용카드 보유 여부):\n",
    "\n",
    "- 역할: 고객의 신용카드 보유 여부 (Yes/No 또는 1/0)입니다.\n",
    "- 분석: 신용카드 보유 고객은 은행 서비스 이용률이 높고, 다양한 금융 상품을 이용할 가능성이 높아 이탈률이 낮을 수 있습니다.\n",
    "- 이탈 예측 영향: 이탈 예측에 영향을 미칠 수 있는 변수입니다.\n",
    "\n",
    "10. active_member (활동 고객 여부):\n",
    "\n",
    "- 역할: 고객의 활동 여부 (Yes/No 또는 1/0)입니다.\n",
    "- 분석: 활동 고객은 은행 서비스를 꾸준히 이용하고 있으므로 이탈 가능성이 낮습니다.\n",
    "- 이탈 예측 영향: 매우 중요한 예측 변수입니다.\n",
    "\n",
    "11. estimated_salary (추정 연봉):\n",
    "\n",
    "- 역할: 고객의 추정 연봉입니다.\n",
    "- 분석: 연봉이 높을수록 은행의 VIP 고객일 가능성이 높아 이탈률이 낮을 수 있습니다.\n",
    "- 이탈 예측 영향: 이탈 예측에 영향을 미칠 수 있는 변수입니다.\n",
    "\n",
    "12. churn (이탈 여부):\n",
    "\n",
    "- 역할: 고객의 이탈 여부 (Yes/No 또는 1/0)입니다. Target 변수입니다.\n",
    "- 분석: 모델 학습을 통해 이탈 가능성이 높은 고객을 예측하는 것이 목표입니다.\n",
    "- 이탈 예측 영향: 모델의 성능을 평가하는 기준이 됩니다."
   ]
  },
  {
   "cell_type": "markdown",
   "metadata": {},
   "source": [
    "---"
   ]
  },
  {
   "cell_type": "markdown",
   "metadata": {},
   "source": [
    "### 기본 전처리"
   ]
  },
  {
   "cell_type": "code",
   "execution_count": 195,
   "metadata": {},
   "outputs": [
    {
     "data": {
      "text/plain": [
       "customer_id         0\n",
       "credit_score        0\n",
       "country             0\n",
       "gender              0\n",
       "age                 0\n",
       "tenure              0\n",
       "balance             0\n",
       "products_number     0\n",
       "credit_card         0\n",
       "active_member       0\n",
       "estimated_salary    0\n",
       "churn               0\n",
       "dtype: int64"
      ]
     },
     "execution_count": 195,
     "metadata": {},
     "output_type": "execute_result"
    }
   ],
   "source": [
    "df.isna().sum()"
   ]
  },
  {
   "cell_type": "code",
   "execution_count": 196,
   "metadata": {},
   "outputs": [
    {
     "name": "stdout",
     "output_type": "stream",
     "text": [
      "<class 'pandas.core.frame.DataFrame'>\n",
      "RangeIndex: 10000 entries, 0 to 9999\n",
      "Data columns (total 12 columns):\n",
      " #   Column            Non-Null Count  Dtype  \n",
      "---  ------            --------------  -----  \n",
      " 0   customer_id       10000 non-null  int64  \n",
      " 1   credit_score      10000 non-null  int64  \n",
      " 2   country           10000 non-null  object \n",
      " 3   gender            10000 non-null  object \n",
      " 4   age               10000 non-null  int64  \n",
      " 5   tenure            10000 non-null  int64  \n",
      " 6   balance           10000 non-null  float64\n",
      " 7   products_number   10000 non-null  int64  \n",
      " 8   credit_card       10000 non-null  int64  \n",
      " 9   active_member     10000 non-null  int64  \n",
      " 10  estimated_salary  10000 non-null  float64\n",
      " 11  churn             10000 non-null  int64  \n",
      "dtypes: float64(2), int64(8), object(2)\n",
      "memory usage: 937.6+ KB\n"
     ]
    }
   ],
   "source": [
    "df.info()"
   ]
  },
  {
   "cell_type": "markdown",
   "metadata": {},
   "source": [
    "---"
   ]
  },
  {
   "cell_type": "markdown",
   "metadata": {},
   "source": [
    "1. customer_id (고객 ID):\n",
    "\n",
    "- 역할: 각 고객을 고유하게 식별하는 ID입니다.\n",
    "- 분석: 모델 학습에 직접 사용되지는 않지만, 고객별 분석이나 결과 확인 시 유용하게 사용됩니다. 중복된 ID는 없는지 확인해야 합니다.\n",
    "- 이탈 예측 영향: 직접적인 영향은 없지만, 다른 정보와 결합하여 고객 세분화 등에 활용될 수 있습니다."
   ]
  },
  {
   "cell_type": "code",
   "execution_count": 197,
   "metadata": {},
   "outputs": [
    {
     "data": {
      "text/plain": [
       "np.int64(0)"
      ]
     },
     "execution_count": 197,
     "metadata": {},
     "output_type": "execute_result"
    }
   ],
   "source": [
    "# 'customer_id' 열에서 중복된 값이 있는지 확인\n",
    "duplicated_customer_id = df['customer_id'].duplicated()\n",
    "duplicated_customer_id.sum()"
   ]
  },
  {
   "cell_type": "markdown",
   "metadata": {},
   "source": [
    "---"
   ]
  },
  {
   "cell_type": "markdown",
   "metadata": {},
   "source": [
    "### dtype: 문자형"
   ]
  },
  {
   "cell_type": "code",
   "execution_count": 198,
   "metadata": {},
   "outputs": [
    {
     "data": {
      "text/html": [
       "<div>\n",
       "<style scoped>\n",
       "    .dataframe tbody tr th:only-of-type {\n",
       "        vertical-align: middle;\n",
       "    }\n",
       "\n",
       "    .dataframe tbody tr th {\n",
       "        vertical-align: top;\n",
       "    }\n",
       "\n",
       "    .dataframe thead th {\n",
       "        text-align: right;\n",
       "    }\n",
       "</style>\n",
       "<table border=\"1\" class=\"dataframe\">\n",
       "  <thead>\n",
       "    <tr style=\"text-align: right;\">\n",
       "      <th></th>\n",
       "      <th>country</th>\n",
       "      <th>gender</th>\n",
       "    </tr>\n",
       "  </thead>\n",
       "  <tbody>\n",
       "    <tr>\n",
       "      <th>0</th>\n",
       "      <td>France</td>\n",
       "      <td>Female</td>\n",
       "    </tr>\n",
       "    <tr>\n",
       "      <th>1</th>\n",
       "      <td>Spain</td>\n",
       "      <td>Female</td>\n",
       "    </tr>\n",
       "    <tr>\n",
       "      <th>2</th>\n",
       "      <td>France</td>\n",
       "      <td>Female</td>\n",
       "    </tr>\n",
       "    <tr>\n",
       "      <th>3</th>\n",
       "      <td>France</td>\n",
       "      <td>Female</td>\n",
       "    </tr>\n",
       "    <tr>\n",
       "      <th>4</th>\n",
       "      <td>Spain</td>\n",
       "      <td>Female</td>\n",
       "    </tr>\n",
       "    <tr>\n",
       "      <th>...</th>\n",
       "      <td>...</td>\n",
       "      <td>...</td>\n",
       "    </tr>\n",
       "    <tr>\n",
       "      <th>9995</th>\n",
       "      <td>France</td>\n",
       "      <td>Male</td>\n",
       "    </tr>\n",
       "    <tr>\n",
       "      <th>9996</th>\n",
       "      <td>France</td>\n",
       "      <td>Male</td>\n",
       "    </tr>\n",
       "    <tr>\n",
       "      <th>9997</th>\n",
       "      <td>France</td>\n",
       "      <td>Female</td>\n",
       "    </tr>\n",
       "    <tr>\n",
       "      <th>9998</th>\n",
       "      <td>Germany</td>\n",
       "      <td>Male</td>\n",
       "    </tr>\n",
       "    <tr>\n",
       "      <th>9999</th>\n",
       "      <td>France</td>\n",
       "      <td>Female</td>\n",
       "    </tr>\n",
       "  </tbody>\n",
       "</table>\n",
       "<p>10000 rows × 2 columns</p>\n",
       "</div>"
      ],
      "text/plain": [
       "      country  gender\n",
       "0      France  Female\n",
       "1       Spain  Female\n",
       "2      France  Female\n",
       "3      France  Female\n",
       "4       Spain  Female\n",
       "...       ...     ...\n",
       "9995   France    Male\n",
       "9996   France    Male\n",
       "9997   France  Female\n",
       "9998  Germany    Male\n",
       "9999   France  Female\n",
       "\n",
       "[10000 rows x 2 columns]"
      ]
     },
     "execution_count": 198,
     "metadata": {},
     "output_type": "execute_result"
    }
   ],
   "source": [
    "yes_obj_df = df.select_dtypes(include=['object'])\n",
    "yes_obj_df"
   ]
  },
  {
   "cell_type": "markdown",
   "metadata": {},
   "source": [
    "3. country (국가):\n",
    "\n",
    "- 역할: 고객의 거주 국가입니다.\n",
    "- 분석: 국가별 경제 상황, 문화적 요인, 은행 서비스 이용 패턴 등이 이탈에 영향을 미칠 수 있습니다.\n",
    "- 이탈 예측 영향: 국가별 이탈률 차이를 분석하여 특정 국가 고객에게 맞춤형 전략을 수립할 수 있습니다."
   ]
  },
  {
   "cell_type": "code",
   "execution_count": 199,
   "metadata": {},
   "outputs": [
    {
     "data": {
      "text/plain": [
       "array(['France', 'Spain', 'Germany'], dtype=object)"
      ]
     },
     "execution_count": 199,
     "metadata": {},
     "output_type": "execute_result"
    }
   ],
   "source": [
    "yes_obj_df['country'].unique()"
   ]
  },
  {
   "cell_type": "markdown",
   "metadata": {},
   "source": [
    "4. gender (성별):\n",
    "\n",
    "- 역할: 고객의 성별입니다.\n",
    "- 분석: 성별에 따른 금융 상품 선호도, 은행 이용 패턴 등이 다를 수 있습니다.\n",
    "- 이탈 예측 영향: 성별별 이탈률 차이를 분석하여 특정 성별 고객에게 맞는 마케팅 전략을 수립할 수 있습니다."
   ]
  },
  {
   "cell_type": "code",
   "execution_count": 200,
   "metadata": {},
   "outputs": [
    {
     "data": {
      "text/plain": [
       "array(['Female', 'Male'], dtype=object)"
      ]
     },
     "execution_count": 200,
     "metadata": {},
     "output_type": "execute_result"
    }
   ],
   "source": [
    "yes_obj_df['gender'].unique()"
   ]
  },
  {
   "cell_type": "markdown",
   "metadata": {},
   "source": [
    "---"
   ]
  },
  {
   "cell_type": "markdown",
   "metadata": {},
   "source": [
    "### dtype: 숫자형"
   ]
  },
  {
   "cell_type": "code",
   "execution_count": 201,
   "metadata": {},
   "outputs": [
    {
     "data": {
      "text/html": [
       "<div>\n",
       "<style scoped>\n",
       "    .dataframe tbody tr th:only-of-type {\n",
       "        vertical-align: middle;\n",
       "    }\n",
       "\n",
       "    .dataframe tbody tr th {\n",
       "        vertical-align: top;\n",
       "    }\n",
       "\n",
       "    .dataframe thead th {\n",
       "        text-align: right;\n",
       "    }\n",
       "</style>\n",
       "<table border=\"1\" class=\"dataframe\">\n",
       "  <thead>\n",
       "    <tr style=\"text-align: right;\">\n",
       "      <th></th>\n",
       "      <th>customer_id</th>\n",
       "      <th>credit_score</th>\n",
       "      <th>age</th>\n",
       "      <th>tenure</th>\n",
       "      <th>balance</th>\n",
       "      <th>products_number</th>\n",
       "      <th>credit_card</th>\n",
       "      <th>active_member</th>\n",
       "      <th>estimated_salary</th>\n",
       "      <th>churn</th>\n",
       "    </tr>\n",
       "  </thead>\n",
       "  <tbody>\n",
       "    <tr>\n",
       "      <th>0</th>\n",
       "      <td>15634602</td>\n",
       "      <td>619</td>\n",
       "      <td>42</td>\n",
       "      <td>2</td>\n",
       "      <td>0.00</td>\n",
       "      <td>1</td>\n",
       "      <td>1</td>\n",
       "      <td>1</td>\n",
       "      <td>101348.88</td>\n",
       "      <td>1</td>\n",
       "    </tr>\n",
       "    <tr>\n",
       "      <th>1</th>\n",
       "      <td>15647311</td>\n",
       "      <td>608</td>\n",
       "      <td>41</td>\n",
       "      <td>1</td>\n",
       "      <td>83807.86</td>\n",
       "      <td>1</td>\n",
       "      <td>0</td>\n",
       "      <td>1</td>\n",
       "      <td>112542.58</td>\n",
       "      <td>0</td>\n",
       "    </tr>\n",
       "    <tr>\n",
       "      <th>2</th>\n",
       "      <td>15619304</td>\n",
       "      <td>502</td>\n",
       "      <td>42</td>\n",
       "      <td>8</td>\n",
       "      <td>159660.80</td>\n",
       "      <td>3</td>\n",
       "      <td>1</td>\n",
       "      <td>0</td>\n",
       "      <td>113931.57</td>\n",
       "      <td>1</td>\n",
       "    </tr>\n",
       "    <tr>\n",
       "      <th>3</th>\n",
       "      <td>15701354</td>\n",
       "      <td>699</td>\n",
       "      <td>39</td>\n",
       "      <td>1</td>\n",
       "      <td>0.00</td>\n",
       "      <td>2</td>\n",
       "      <td>0</td>\n",
       "      <td>0</td>\n",
       "      <td>93826.63</td>\n",
       "      <td>0</td>\n",
       "    </tr>\n",
       "    <tr>\n",
       "      <th>4</th>\n",
       "      <td>15737888</td>\n",
       "      <td>850</td>\n",
       "      <td>43</td>\n",
       "      <td>2</td>\n",
       "      <td>125510.82</td>\n",
       "      <td>1</td>\n",
       "      <td>1</td>\n",
       "      <td>1</td>\n",
       "      <td>79084.10</td>\n",
       "      <td>0</td>\n",
       "    </tr>\n",
       "    <tr>\n",
       "      <th>...</th>\n",
       "      <td>...</td>\n",
       "      <td>...</td>\n",
       "      <td>...</td>\n",
       "      <td>...</td>\n",
       "      <td>...</td>\n",
       "      <td>...</td>\n",
       "      <td>...</td>\n",
       "      <td>...</td>\n",
       "      <td>...</td>\n",
       "      <td>...</td>\n",
       "    </tr>\n",
       "    <tr>\n",
       "      <th>9995</th>\n",
       "      <td>15606229</td>\n",
       "      <td>771</td>\n",
       "      <td>39</td>\n",
       "      <td>5</td>\n",
       "      <td>0.00</td>\n",
       "      <td>2</td>\n",
       "      <td>1</td>\n",
       "      <td>0</td>\n",
       "      <td>96270.64</td>\n",
       "      <td>0</td>\n",
       "    </tr>\n",
       "    <tr>\n",
       "      <th>9996</th>\n",
       "      <td>15569892</td>\n",
       "      <td>516</td>\n",
       "      <td>35</td>\n",
       "      <td>10</td>\n",
       "      <td>57369.61</td>\n",
       "      <td>1</td>\n",
       "      <td>1</td>\n",
       "      <td>1</td>\n",
       "      <td>101699.77</td>\n",
       "      <td>0</td>\n",
       "    </tr>\n",
       "    <tr>\n",
       "      <th>9997</th>\n",
       "      <td>15584532</td>\n",
       "      <td>709</td>\n",
       "      <td>36</td>\n",
       "      <td>7</td>\n",
       "      <td>0.00</td>\n",
       "      <td>1</td>\n",
       "      <td>0</td>\n",
       "      <td>1</td>\n",
       "      <td>42085.58</td>\n",
       "      <td>1</td>\n",
       "    </tr>\n",
       "    <tr>\n",
       "      <th>9998</th>\n",
       "      <td>15682355</td>\n",
       "      <td>772</td>\n",
       "      <td>42</td>\n",
       "      <td>3</td>\n",
       "      <td>75075.31</td>\n",
       "      <td>2</td>\n",
       "      <td>1</td>\n",
       "      <td>0</td>\n",
       "      <td>92888.52</td>\n",
       "      <td>1</td>\n",
       "    </tr>\n",
       "    <tr>\n",
       "      <th>9999</th>\n",
       "      <td>15628319</td>\n",
       "      <td>792</td>\n",
       "      <td>28</td>\n",
       "      <td>4</td>\n",
       "      <td>130142.79</td>\n",
       "      <td>1</td>\n",
       "      <td>1</td>\n",
       "      <td>0</td>\n",
       "      <td>38190.78</td>\n",
       "      <td>0</td>\n",
       "    </tr>\n",
       "  </tbody>\n",
       "</table>\n",
       "<p>10000 rows × 10 columns</p>\n",
       "</div>"
      ],
      "text/plain": [
       "      customer_id  credit_score  age  tenure    balance  products_number  \\\n",
       "0        15634602           619   42       2       0.00                1   \n",
       "1        15647311           608   41       1   83807.86                1   \n",
       "2        15619304           502   42       8  159660.80                3   \n",
       "3        15701354           699   39       1       0.00                2   \n",
       "4        15737888           850   43       2  125510.82                1   \n",
       "...           ...           ...  ...     ...        ...              ...   \n",
       "9995     15606229           771   39       5       0.00                2   \n",
       "9996     15569892           516   35      10   57369.61                1   \n",
       "9997     15584532           709   36       7       0.00                1   \n",
       "9998     15682355           772   42       3   75075.31                2   \n",
       "9999     15628319           792   28       4  130142.79                1   \n",
       "\n",
       "      credit_card  active_member  estimated_salary  churn  \n",
       "0               1              1         101348.88      1  \n",
       "1               0              1         112542.58      0  \n",
       "2               1              0         113931.57      1  \n",
       "3               0              0          93826.63      0  \n",
       "4               1              1          79084.10      0  \n",
       "...           ...            ...               ...    ...  \n",
       "9995            1              0          96270.64      0  \n",
       "9996            1              1         101699.77      0  \n",
       "9997            0              1          42085.58      1  \n",
       "9998            1              0          92888.52      1  \n",
       "9999            1              0          38190.78      0  \n",
       "\n",
       "[10000 rows x 10 columns]"
      ]
     },
     "execution_count": 201,
     "metadata": {},
     "output_type": "execute_result"
    }
   ],
   "source": [
    "no_obj_df = df.select_dtypes(exclude=['object'])\n",
    "no_obj_df"
   ]
  },
  {
   "cell_type": "markdown",
   "metadata": {},
   "source": [
    "2. credit_score (신용 점수):\n",
    "\n",
    "- 역할: 고객의 신용도를 나타내는 점수입니다.\n",
    "- 분석: 신용 점수가 낮을수록 대출 상환 능력이 낮아 이탈할 가능성이 높을 수 있습니다.\n",
    "- 이탈 예측 영향: 중요한 예측 변수 중 하나입니다. 일반적으로 신용 점수가 낮을수록 이탈률이 높아지는 경향이 있습니다."
   ]
  },
  {
   "cell_type": "code",
   "execution_count": 202,
   "metadata": {},
   "outputs": [
    {
     "data": {
      "text/plain": [
       "(np.int64(350), np.int64(850), np.float64(650.5288))"
      ]
     },
     "execution_count": 202,
     "metadata": {},
     "output_type": "execute_result"
    }
   ],
   "source": [
    "# credit_score\n",
    "# df['credit_score'].min(), df['credit_score'].max(), df['credit_score'].mean()\n",
    "no_obj_df.iloc[:, 1].min(), no_obj_df.iloc[:, 1].max(), no_obj_df.iloc[:, 1].mean()"
   ]
  },
  {
   "cell_type": "markdown",
   "metadata": {},
   "source": [
    "5. age (나이):\n",
    "\n",
    "- 역할: 고객의 나이입니다.\n",
    "- 분석: 연령대별 금융 상품 이용 패턴, 라이프스타일 등이 다르기 때문에 이탈에 영향을 미칠 수 있습니다.\n",
    "- 이탈 예측 영향: 특정 연령대에서 이탈률이 높다면 해당 연령대를 위한 맞춤형 서비스를 제공할 수 있습니다."
   ]
  },
  {
   "cell_type": "code",
   "execution_count": 203,
   "metadata": {},
   "outputs": [
    {
     "data": {
      "text/plain": [
       "(np.int64(18), np.int64(92), np.float64(38.9218))"
      ]
     },
     "execution_count": 203,
     "metadata": {},
     "output_type": "execute_result"
    }
   ],
   "source": [
    "# age\n",
    "no_obj_df.iloc[:, 2].min(), no_obj_df.iloc[:, 2].max(), no_obj_df.iloc[:, 2].mean()"
   ]
  },
  {
   "cell_type": "markdown",
   "metadata": {},
   "source": [
    "6. tenure (가입 기간):\n",
    "\n",
    "- 역할: 고객이 은행에 가입한 기간 (년)입니다.\n",
    "- 분석: 일반적으로 가입 기간이 짧은 고객이 이탈할 가능성이 높습니다. 장기 고객은 은행 서비스에 익숙하고 혜택을 누리고 있을 가능성이 높기 때문입니다.\n",
    "- 이탈 예측 영향: 중요한 예측 변수 중 하나입니다."
   ]
  },
  {
   "cell_type": "code",
   "execution_count": 204,
   "metadata": {},
   "outputs": [
    {
     "data": {
      "text/plain": [
       "(np.int64(0), np.int64(10), np.float64(5.0128))"
      ]
     },
     "execution_count": 204,
     "metadata": {},
     "output_type": "execute_result"
    }
   ],
   "source": [
    "# tenure\n",
    "no_obj_df.iloc[:, 3].min(), no_obj_df.iloc[:, 3].max(), no_obj_df.iloc[:, 3].mean()"
   ]
  },
  {
   "cell_type": "markdown",
   "metadata": {},
   "source": [
    "7. balance (잔액):\n",
    "\n",
    "- 역할: 고객의 계좌 잔액입니다.\n",
    "- 분석: 잔액이 적거나 없을 경우 은행 서비스 이용 필요성이 줄어들어 이탈 가능성이 높아질 수 있습니다.\n",
    "- 이탈 예측 영향: 중요한 예측 변수 중 하나입니다."
   ]
  },
  {
   "cell_type": "code",
   "execution_count": 205,
   "metadata": {},
   "outputs": [
    {
     "data": {
      "text/plain": [
       "(np.float64(0.0), np.float64(250898.09), np.float64(76485.889288))"
      ]
     },
     "execution_count": 205,
     "metadata": {},
     "output_type": "execute_result"
    }
   ],
   "source": [
    "# balance\n",
    "no_obj_df.iloc[:, 4].min(), no_obj_df.iloc[:, 4].max(), no_obj_df.iloc[:, 4].mean()"
   ]
  },
  {
   "cell_type": "markdown",
   "metadata": {},
   "source": [
    "8. products_number (상품 수):\n",
    "\n",
    "- 역할: 고객이 이용하는 은행 상품의 개수입니다.\n",
    "- 분석: 이용하는 상품 수가 많을수록 은행과의 관계가 깊어 이탈 가능성이 낮아질 수 있습니다.\n",
    "- 이탈 예측 영향: 중요한 예측 변수 중 하나입니다."
   ]
  },
  {
   "cell_type": "code",
   "execution_count": 206,
   "metadata": {},
   "outputs": [
    {
     "data": {
      "text/plain": [
       "(np.int64(1), np.int64(4), np.float64(1.5302))"
      ]
     },
     "execution_count": 206,
     "metadata": {},
     "output_type": "execute_result"
    }
   ],
   "source": [
    "# products_number\n",
    "no_obj_df.iloc[:, 5].min(), no_obj_df.iloc[:, 5].max(), no_obj_df.iloc[:, 5].mean()"
   ]
  },
  {
   "cell_type": "markdown",
   "metadata": {},
   "source": [
    "9. credit_card (신용카드 보유 여부):\n",
    "\n",
    "- 역할: 고객의 신용카드 보유 여부 (Yes/No 또는 1/0)입니다.\n",
    "- 분석: 신용카드 보유 고객은 은행 서비스 이용률이 높고, 다양한 금융 상품을 이용할 가능성이 높아 이탈률이 낮을 수 있습니다.\n",
    "- 이탈 예측 영향: 이탈 예측에 영향을 미칠 수 있는 변수입니다."
   ]
  },
  {
   "cell_type": "code",
   "execution_count": 207,
   "metadata": {},
   "outputs": [
    {
     "data": {
      "text/plain": [
       "(np.int64(0), np.int64(1), np.float64(0.7055))"
      ]
     },
     "execution_count": 207,
     "metadata": {},
     "output_type": "execute_result"
    }
   ],
   "source": [
    "# credit_card\n",
    "no_obj_df.iloc[:, 6].min(), no_obj_df.iloc[:, 6].max(), no_obj_df.iloc[:, 6].mean()"
   ]
  },
  {
   "cell_type": "markdown",
   "metadata": {},
   "source": [
    "10. active_member (활동 고객 여부):\n",
    "\n",
    "- 역할: 고객의 활동 여부 (Yes/No 또는 1/0)입니다.\n",
    "- 분석: 활동 고객은 은행 서비스를 꾸준히 이용하고 있으므로 이탈 가능성이 낮습니다.\n",
    "- 이탈 예측 영향: 매우 중요한 예측 변수입니다."
   ]
  },
  {
   "cell_type": "code",
   "execution_count": 208,
   "metadata": {},
   "outputs": [
    {
     "data": {
      "text/plain": [
       "(np.int64(0), np.int64(1), np.float64(0.5151))"
      ]
     },
     "execution_count": 208,
     "metadata": {},
     "output_type": "execute_result"
    }
   ],
   "source": [
    "# active_member\n",
    "no_obj_df.iloc[:, 7].min(), no_obj_df.iloc[:, 7].max(), no_obj_df.iloc[:, 7].mean()"
   ]
  },
  {
   "cell_type": "markdown",
   "metadata": {},
   "source": [
    "11. estimated_salary (추정 연봉):\n",
    "\n",
    "- 역할: 고객의 추정 연봉입니다.\n",
    "- 분석: 연봉이 높을수록 은행의 VIP 고객일 가능성이 높아 이탈률이 낮을 수 있습니다.\n",
    "- 이탈 예측 영향: 이탈 예측에 영향을 미칠 수 있는 변수입니다."
   ]
  },
  {
   "cell_type": "code",
   "execution_count": 209,
   "metadata": {},
   "outputs": [
    {
     "data": {
      "text/plain": [
       "(np.float64(11.58), np.float64(199992.48), np.float64(100090.239881))"
      ]
     },
     "execution_count": 209,
     "metadata": {},
     "output_type": "execute_result"
    }
   ],
   "source": [
    "# estimated_salary\n",
    "no_obj_df.iloc[:, 8].min(), no_obj_df.iloc[:, 8].max(), no_obj_df.iloc[:, 8].mean()"
   ]
  },
  {
   "cell_type": "markdown",
   "metadata": {},
   "source": [
    "12. churn (이탈 여부):\n",
    "\n",
    "- 역할: 고객의 이탈 여부 (Yes/No 또는 1/0)입니다. Target 변수입니다.\n",
    "- 분석: 모델 학습을 통해 이탈 가능성이 높은 고객을 예측하는 것이 목표입니다.\n",
    "- 이탈 예측 영향: 모델의 성능을 평가하는 기준이 됩니다."
   ]
  },
  {
   "cell_type": "code",
   "execution_count": 210,
   "metadata": {},
   "outputs": [
    {
     "data": {
      "text/plain": [
       "(np.int64(0), np.int64(1), np.float64(0.2037))"
      ]
     },
     "execution_count": 210,
     "metadata": {},
     "output_type": "execute_result"
    }
   ],
   "source": [
    "# churn\n",
    "no_obj_df.iloc[:, 9].min(), no_obj_df.iloc[:, 9].max(), no_obj_df.iloc[:, 9].mean()"
   ]
  },
  {
   "cell_type": "markdown",
   "metadata": {},
   "source": [
    "---"
   ]
  },
  {
   "cell_type": "markdown",
   "metadata": {},
   "source": [
    "### dtype: 숫자형 (시각화)"
   ]
  },
  {
   "cell_type": "code",
   "execution_count": 211,
   "metadata": {},
   "outputs": [
    {
     "data": {
      "image/png": "[encoded data removed]",
      "text/plain": [
       "<Figure size 1600x800 with 9 Axes>"
      ]
     },
     "metadata": {},
     "output_type": "display_data"
    }
   ],
   "source": [
    "# customer_id 열 제외\n",
    "only_count_df = no_obj_df.drop('customer_id', axis=1)\n",
    "\n",
    "# subplot 생성 (3행 3열)\n",
    "fig, axes = plt.subplots(3, 3, figsize=(16, 8))\n",
    "\n",
    "# 각 subplot에 boxplot 그리기\n",
    "cols = only_count_df.columns\n",
    "k = 0  # subplot index\n",
    "for i in range(3):\n",
    "    for j in range(3):\n",
    "        if k < len(cols): # 모든 column을 plot했는지 확인\n",
    "          ax = axes[i, j]\n",
    "          ax.boxplot(only_count_df[cols[k]], zorder=5)\n",
    "          ax.set_title(cols[k])\n",
    "          k += 1 # 다음 column index로 이동\n",
    "\n",
    "# subplot 간 간격 조절\n",
    "plt.tight_layout()\n",
    "\n",
    "# 그래프 출력\n",
    "plt.show()"
   ]
  },
  {
   "cell_type": "markdown",
   "metadata": {},
   "source": [
    "---"
   ]
  },
  {
   "cell_type": "markdown",
   "metadata": {},
   "source": [
    "### 심화 전처리"
   ]
  },
  {
   "cell_type": "code",
   "execution_count": 212,
   "metadata": {},
   "outputs": [
    {
     "data": {
      "text/plain": [
       "churn  active_member\n",
       "0      1                4416\n",
       "       0                3547\n",
       "1      0                1302\n",
       "       1                 735\n",
       "Name: count, dtype: int64"
      ]
     },
     "execution_count": 212,
     "metadata": {},
     "output_type": "execute_result"
    }
   ],
   "source": [
    "    # churn     active\n",
    "# 0   비이탈     비활동\n",
    "# 1    이탈       활동\n",
    "\n",
    "# 비이탈_비활동 -> 휴면고객\n",
    "# 비이탈_활동 -> 활동고객\n",
    "# 이탈_비활동 -> 완전이탈고객\n",
    "# 이탈_활동 -> 최근이탈이거나, 복귀고객이거나\n",
    "\n",
    "churn_active = df.groupby('churn')['active_member'].value_counts()\n",
    "churn_active"
   ]
  },
  {
   "cell_type": "code",
   "execution_count": null,
   "metadata": {},
   "outputs": [
    {
     "ename": "AttributeError",
     "evalue": "'numpy.int64' object has no attribute 'plot'",
     "output_type": "error",
     "traceback": [
      "\u001b[1;31m---------------------------------------------------------------------------\u001b[0m",
      "\u001b[1;31mAttributeError\u001b[0m                            Traceback (most recent call last)",
      "Cell \u001b[1;32mIn[214], line 9\u001b[0m\n\u001b[0;32m      7\u001b[0m \u001b[38;5;66;03m# Plot data for each country\u001b[39;00m\n\u001b[0;32m      8\u001b[0m \u001b[38;5;28;01mfor\u001b[39;00m i, country \u001b[38;5;129;01min\u001b[39;00m \u001b[38;5;28menumerate\u001b[39m(country_gender_df\u001b[38;5;241m.\u001b[39mindex):\n\u001b[1;32m----> 9\u001b[0m     \u001b[43mcountry_gender_df\u001b[49m\u001b[38;5;241;43m.\u001b[39;49m\u001b[43mloc\u001b[49m\u001b[43m[\u001b[49m\u001b[43mcountry\u001b[49m\u001b[43m]\u001b[49m\u001b[38;5;241;43m.\u001b[39;49m\u001b[43mplot\u001b[49m(kind\u001b[38;5;241m=\u001b[39m\u001b[38;5;124m'\u001b[39m\u001b[38;5;124mbar\u001b[39m\u001b[38;5;124m'\u001b[39m, ax\u001b[38;5;241m=\u001b[39maxes[i])\n\u001b[0;32m     10\u001b[0m     axes[i]\u001b[38;5;241m.\u001b[39mset_title(country)\n\u001b[0;32m     11\u001b[0m     axes[i]\u001b[38;5;241m.\u001b[39mset_xlabel(\u001b[38;5;124m'\u001b[39m\u001b[38;5;124mcountry\u001b[39m\u001b[38;5;124m'\u001b[39m)\n",
      "\u001b[1;31mAttributeError\u001b[0m: 'numpy.int64' object has no attribute 'plot'"
     ]
    },
    {
     "data": {
      "image/png": "[encoded data removed]",
      "text/plain": [
       "<Figure size 1500x500 with 3 Axes>"
      ]
     },
     "metadata": {},
     "output_type": "display_data"
    }
   ],
   "source": [
    "country_gender_df = df.groupby('country')['gender'].value_counts()\n",
    "country_gender_df\n",
    "\n",
    "# Create subplots\n",
    "fig, axes = plt.subplots(1, 3, figsize=(15, 5))\n",
    "\n",
    "plt.subplots(1, 3, 1)\n",
    "\n",
    "plt.subplot\n",
    "\n",
    "# Plot data for each country\n",
    "for i, country in enumerate(country_gender_df.index):\n",
    "    country_gender_df.loc[country].plot(kind='bar', ax=axes[i])\n",
    "    axes[i].set_title(country)\n",
    "    axes[i].set_xlabel('country')\n",
    "    axes[i].set_ylabel('gender')\n",
    "\n",
    "# Adjust layout and display plot\n",
    "plt.tight_layout()\n",
    "plt.show()"
   ]
  }
 ],
 "metadata": {
  "kernelspec": {
   "display_name": "pystudy_env",
   "language": "python",
   "name": "python3"
  },
  "language_info": {
   "codemirror_mode": {
    "name": "ipython",
    "version": 3
   },
   "file_extension": ".py",
   "mimetype": "text/x-python",
   "name": "python",
   "nbconvert_exporter": "python",
   "pygments_lexer": "ipython3",
   "version": "3.12.8"
  }
 },
 "nbformat": 4,
 "nbformat_minor": 2
}
